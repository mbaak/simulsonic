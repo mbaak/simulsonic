{
 "cells": [
  {
   "cell_type": "markdown",
   "metadata": {},
   "source": [
    "### This notebook is used to perform gridsearch on asia dataset"
   ]
  },
  {
   "cell_type": "code",
   "execution_count": null,
   "metadata": {},
   "outputs": [],
   "source": [
    "%load_ext autoreload\n",
    "%autoreload 2"
   ]
  },
  {
   "cell_type": "code",
   "execution_count": null,
   "metadata": {},
   "outputs": [],
   "source": [
    "import numpy as np\n",
    "import pandas as pd\n",
    "from sdgym import benchmark\n",
    "from sdgym import load_dataset\n",
    "from xgboost import XGBClassifier\n",
    "from sklearn.neural_network import MLPClassifier\n",
    "from synthsonic.models.kde_copula_nn_pdf import KDECopulaNNPdf\n",
    "from synthsonic.models.categorical_utils import categorical_round, vec_translate, categorical_frequency_mapping, \\\n",
    "            categorical_frequency_inverse_mapping, encode_one_hot, decode_one_hot\n",
    "from timeit import default_timer as timer\n",
    "%matplotlib inline"
   ]
  },
  {
   "cell_type": "code",
   "execution_count": null,
   "metadata": {},
   "outputs": [],
   "source": [
    "from functools import partial"
   ]
  },
  {
   "cell_type": "markdown",
   "metadata": {},
   "source": [
    "### Gaussian Mixtures datasets"
   ]
  },
  {
   "cell_type": "code",
   "execution_count": null,
   "metadata": {},
   "outputs": [],
   "source": [
    "def KDECopulaNNPdf_RoundCategorical(real_data, categorical_columns, ordinal_columns, times=None):\n",
    "    # Max's kde copula model with default parameters\n",
    "    start = timer()\n",
    "    all_features = list(range(real_data.shape[1]))\n",
    "    numerical_features = list(set(all_features) - set(categorical_columns + ordinal_columns))\n",
    "    data = np.float64(real_data)\n",
    "    \n",
    "    n_samples = data.shape[0]\n",
    "    n_features = data.shape[1]\n",
    "    \n",
    "    kde = KDECopulaNNPdf(use_KDE=False, clf=MLPClassifier(alpha=0.1, random_state=0, max_iter=1000, early_stopping=True))\n",
    "    kde = kde.fit(data)\n",
    "    \n",
    "    X_gen, sample_weight = kde.sample(n_samples)\n",
    "    \n",
    "    X_gen[:, categorical_columns+ordinal_columns] = np.round(X_gen[:, categorical_columns+ordinal_columns])\n",
    "    X_gen = np.float32(X_gen)\n",
    "    end = timer()\n",
    "    exec_time = end - start\n",
    "    if isinstance(times, list):\n",
    "        times.append(exec_time)\n",
    "    return X_gen"
   ]
  },
  {
   "cell_type": "code",
   "execution_count": null,
   "metadata": {},
   "outputs": [],
   "source": [
    "grid_times = []\n",
    "grid_thing = partial(KDECopulaNNPdf_RoundCategorical, times=grid_times)\n",
    "grid_thing.__name__ = KDECopulaNNPdf_RoundCategorical.__name__\n",
    "grid_scores = benchmark(synthesizers=[grid_thing], datasets=['grid'])\n",
    "grid_scores.drop(columns=['timestamp'], inplace=True)\n",
    "exec_time = ['N/A'] * 9 + [round(np.mean(grid_times), 2)]\n",
    "grid_scores['grid/exec_time(s)'] = exec_time"
   ]
  },
  {
   "cell_type": "code",
   "execution_count": null,
   "metadata": {},
   "outputs": [],
   "source": [
    "def KDECopulaNNPdf_RoundCategorical(real_data, categorical_columns, ordinal_columns, times=None):\n",
    "    # Max's kde copula model with default parameters\n",
    "    start = timer()\n",
    "    all_features = list(range(real_data.shape[1]))\n",
    "    numerical_features = list(set(all_features) - set(categorical_columns + ordinal_columns))\n",
    "    data = np.float64(real_data)\n",
    "    \n",
    "    n_samples = data.shape[0]\n",
    "    n_features = data.shape[1]\n",
    "    \n",
    "    kde = KDECopulaNNPdf(use_KDE=False, clf=XGBClassifier(n_estimators=50, reg_lambda=1, gamma=0, max_depth=2))\n",
    "    kde = kde.fit(data)\n",
    "    \n",
    "    X_gen, sample_weight = kde.sample(n_samples)\n",
    "    \n",
    "    X_gen[:, categorical_columns+ordinal_columns] = np.round(X_gen[:, categorical_columns+ordinal_columns])\n",
    "    X_gen = np.float32(X_gen)\n",
    "    end = timer()\n",
    "    exec_time = end - start\n",
    "    if isinstance(times, list):\n",
    "        times.append(exec_time)\n",
    "    return X_gen"
   ]
  },
  {
   "cell_type": "code",
   "execution_count": null,
   "metadata": {},
   "outputs": [],
   "source": [
    "gridr_times = []\n",
    "gridr_thing = partial(KDECopulaNNPdf_RoundCategorical, times=gridr_times)\n",
    "gridr_thing.__name__ = KDECopulaNNPdf_RoundCategorical.__name__\n",
    "gridr_scores = benchmark(synthesizers=[gridr_thing], datasets=['gridr'])\n",
    "gridr_scores.drop(columns=['timestamp'], inplace=True)\n",
    "exec_time = ['N/A'] * 9 + [round(np.mean(gridr_times), 2)]\n",
    "gridr_scores['gridr/exec_time(s)'] = exec_time"
   ]
  },
  {
   "cell_type": "code",
   "execution_count": null,
   "metadata": {},
   "outputs": [],
   "source": [
    "def KDECopulaNNPdf_RoundCategorical(real_data, categorical_columns, ordinal_columns, times=None):\n",
    "    # Max's kde copula model with default parameters\n",
    "    start = timer()\n",
    "    all_features = list(range(real_data.shape[1]))\n",
    "    numerical_features = list(set(all_features) - set(categorical_columns + ordinal_columns))\n",
    "    data = np.float64(real_data)\n",
    "    \n",
    "    n_samples = data.shape[0]\n",
    "    n_features = data.shape[1]\n",
    "    \n",
    "    kde = KDECopulaNNPdf(use_KDE=False, clf=XGBClassifier(n_estimators=50, reg_lambda=1, gamma=0, max_depth=2))\n",
    "    kde = kde.fit(data)\n",
    "    \n",
    "    X_gen, sample_weight = kde.sample(n_samples)\n",
    "    \n",
    "    X_gen[:, categorical_columns+ordinal_columns] = np.round(X_gen[:, categorical_columns+ordinal_columns])\n",
    "    X_gen = np.float32(X_gen)\n",
    "    end = timer()\n",
    "    exec_time = end - start\n",
    "    if isinstance(times, list):\n",
    "        times.append(exec_time)\n",
    "    return X_gen"
   ]
  },
  {
   "cell_type": "code",
   "execution_count": null,
   "metadata": {},
   "outputs": [],
   "source": [
    "ring_times = []\n",
    "ring_thing = partial(KDECopulaNNPdf_RoundCategorical, times=ring_times)\n",
    "ring_thing.__name__ = KDECopulaNNPdf_RoundCategorical.__name__\n",
    "ring_scores = benchmark(synthesizers=[ring_thing], datasets=['ring'])\n",
    "ring_scores.drop(columns=['timestamp'], inplace=True)\n",
    "exec_time = ['N/A'] * 9 + [round(np.mean(ring_times), 2)]\n",
    "ring_scores['ring/exec_time(s)'] = exec_time"
   ]
  },
  {
   "cell_type": "code",
   "execution_count": null,
   "metadata": {},
   "outputs": [],
   "source": [
    "gm_scores = pd.concat([grid_scores, gridr_scores, ring_scores], axis=1)\n",
    "gm_scores"
   ]
  },
  {
   "cell_type": "markdown",
   "metadata": {},
   "source": [
    "### Bayesian Networks datasets"
   ]
  },
  {
   "cell_type": "code",
   "execution_count": null,
   "metadata": {},
   "outputs": [],
   "source": [
    "def KDECopulaNNPdf_RoundCategorical(real_data, categorical_columns, ordinal_columns, times=None):\n",
    "    # Max's kde copula model with default parameters\n",
    "    start = timer()\n",
    "    all_features = list(range(real_data.shape[1]))\n",
    "    numerical_features = list(set(all_features) - set(categorical_columns + ordinal_columns))\n",
    "    data = np.float64(real_data)\n",
    "    \n",
    "    n_samples = data.shape[0]\n",
    "    n_features = data.shape[1]\n",
    "    \n",
    "    kde = KDECopulaNNPdf(use_KDE=False, clf=MLPClassifier(hidden_layer_sizes=(100,), alpha=0.05, \\\n",
    "                                            max_iter=500, early_stopping=True, random_state=0))\n",
    "    kde = kde.fit(data)\n",
    "    \n",
    "    X_gen, sample_weight = kde.sample(n_samples)\n",
    "    \n",
    "    X_gen[:, categorical_columns+ordinal_columns] = np.round(X_gen[:, categorical_columns+ordinal_columns])\n",
    "    X_gen = np.float32(X_gen)\n",
    "    end = timer()\n",
    "    exec_time = end - start\n",
    "    if isinstance(times, list):\n",
    "        times.append(exec_time)\n",
    "    return X_gen"
   ]
  },
  {
   "cell_type": "code",
   "execution_count": null,
   "metadata": {},
   "outputs": [],
   "source": [
    "asia_times = []\n",
    "asia_thing = partial(KDECopulaNNPdf_RoundCategorical, times=asia_times)\n",
    "asia_thing.__name__ = KDECopulaNNPdf_RoundCategorical.__name__\n",
    "asia_scores = benchmark(synthesizers=[asia_thing], datasets=['asia'])\n",
    "asia_scores.drop(columns=['timestamp'], inplace=True)\n",
    "exec_time = ['N/A'] * 9 + [round(np.mean(asia_times), 2)]\n",
    "asia_scores['asia/exec_time(s)'] = exec_time"
   ]
  },
  {
   "cell_type": "code",
   "execution_count": null,
   "metadata": {},
   "outputs": [],
   "source": [
    "def KDECopulaNNPdf_RoundCategorical(real_data, categorical_columns, ordinal_columns, times=None):\n",
    "    # Max's kde copula model with default parameters\n",
    "    start = timer()\n",
    "    all_features = list(range(real_data.shape[1]))\n",
    "    numerical_features = list(set(all_features) - set(categorical_columns + ordinal_columns))\n",
    "    data = np.float64(real_data)\n",
    "    \n",
    "    n_samples = data.shape[0]\n",
    "    n_features = data.shape[1]\n",
    "    \n",
    "    kde = KDECopulaNNPdf(force_uncorrelated=True, use_KDE=False, clf=XGBClassifier(max_depth=3))\n",
    "    kde = kde.fit(data)\n",
    "    \n",
    "    X_gen, sample_weight = kde.sample(n_samples)\n",
    "    \n",
    "    X_gen[:, categorical_columns+ordinal_columns] = np.round(X_gen[:, categorical_columns+ordinal_columns])\n",
    "    X_gen = np.float32(X_gen)\n",
    "    end = timer()\n",
    "    exec_time = end - start\n",
    "    if isinstance(times, list):\n",
    "        times.append(exec_time)\n",
    "    return X_gen"
   ]
  },
  {
   "cell_type": "code",
   "execution_count": null,
   "metadata": {},
   "outputs": [],
   "source": [
    "alarm_times = []\n",
    "alarm_thing = partial(KDECopulaNNPdf_RoundCategorical, times=alarm_times)\n",
    "alarm_thing.__name__ = KDECopulaNNPdf_RoundCategorical.__name__\n",
    "alarm_scores = benchmark(synthesizers=[alarm_thing], datasets=['alarm'])\n",
    "alarm_scores.drop(columns=['timestamp'], inplace=True)\n",
    "exec_time = ['N/A'] * 9 + [round(np.mean(alarm_times), 2)]\n",
    "alarm_scores['alarm/exec_time(s)'] = exec_time"
   ]
  },
  {
   "cell_type": "code",
   "execution_count": null,
   "metadata": {},
   "outputs": [],
   "source": [
    "# To do - was unable to do gridsearch for child and insurance datasets\n",
    "def KDECopulaNNPdf_RoundCategorical(real_data, categorical_columns, ordinal_columns, times=None):\n",
    "    # Max's kde copula model with default parameters\n",
    "    start = timer()\n",
    "    all_features = list(range(real_data.shape[1]))\n",
    "    numerical_features = list(set(all_features) - set(categorical_columns + ordinal_columns))\n",
    "    data = np.float64(real_data)\n",
    "    \n",
    "    n_samples = data.shape[0]\n",
    "    n_features = data.shape[1]\n",
    "    \n",
    "    kde = KDECopulaNNPdf(use_KDE=False, clf=MLPClassifier(random_state=0, max_iter=500, early_stopping=True))\n",
    "    kde = kde.fit(data)\n",
    "    \n",
    "    X_gen, sample_weight = kde.sample(n_samples)\n",
    "    \n",
    "    X_gen[:, categorical_columns+ordinal_columns] = np.round(X_gen[:, categorical_columns+ordinal_columns])\n",
    "    X_gen = np.float32(X_gen)\n",
    "    end = timer()\n",
    "    exec_time = end - start\n",
    "    if isinstance(times, list):\n",
    "        times.append(exec_time)\n",
    "    return X_gen"
   ]
  },
  {
   "cell_type": "code",
   "execution_count": null,
   "metadata": {},
   "outputs": [],
   "source": [
    "child_times = []\n",
    "child_thing = partial(KDECopulaNNPdf_RoundCategorical, times=child_times)\n",
    "child_thing.__name__ = KDECopulaNNPdf_RoundCategorical.__name__\n",
    "child_scores = benchmark(synthesizers=[child_thing], datasets=['child'])\n",
    "child_scores.drop(columns=['timestamp'], inplace=True)\n",
    "exec_time = ['N/A'] * 9 + [round(np.mean(child_times), 2)]\n",
    "child_scores['child/exec_time(s)'] = exec_time"
   ]
  },
  {
   "cell_type": "code",
   "execution_count": null,
   "metadata": {},
   "outputs": [],
   "source": [
    "insurance_times = []\n",
    "insurance_thing = partial(KDECopulaNNPdf_RoundCategorical, times=insurance_times)\n",
    "insurance_thing.__name__ = KDECopulaNNPdf_RoundCategorical.__name__\n",
    "insurance_scores = benchmark(synthesizers=[insurance_thing], datasets=['insurance'])\n",
    "insurance_scores.drop(columns=['timestamp'], inplace=True)\n",
    "exec_time = ['N/A'] * 9 + [round(np.mean(insurance_times), 2)]\n",
    "insurance_scores['insurance/exec_time(s)'] = exec_time"
   ]
  },
  {
   "cell_type": "code",
   "execution_count": null,
   "metadata": {},
   "outputs": [],
   "source": [
    "bn_scores = pd.concat([asia_scores, alarm_scores, child_scores, insurance_scores], axis=1)\n",
    "bn_scores\n",
    "#bn_scores.loc[:, ~bn_scores.columns.str.endswith('syn_likelihood')]"
   ]
  },
  {
   "cell_type": "markdown",
   "metadata": {},
   "source": [
    "### Real world datasets"
   ]
  },
  {
   "cell_type": "code",
   "execution_count": null,
   "metadata": {},
   "outputs": [],
   "source": [
    "def KDECopulaNNPdf_RoundCategorical(real_data, categorical_columns, ordinal_columns, times=None):\n",
    "    # Max's kde copula model with default parameters\n",
    "    start = timer()\n",
    "    all_features = list(range(real_data.shape[1]))\n",
    "    numerical_features = list(set(all_features) - set(categorical_columns + ordinal_columns))\n",
    "    data = np.float64(real_data)\n",
    "    \n",
    "    n_samples = data.shape[0]\n",
    "    n_features = data.shape[1]\n",
    "    \n",
    "    kde = KDECopulaNNPdf(use_KDE=False, clf=XGBClassifier(random_state=0, n_estimators=100, reg_lambda=1, gamma=0, max_depth=3))\n",
    "    kde = kde.fit(data)\n",
    "    \n",
    "    X_gen, sample_weight = kde.sample(n_samples)\n",
    "    \n",
    "    X_gen[:, categorical_columns+ordinal_columns] = np.round(X_gen[:, categorical_columns+ordinal_columns])\n",
    "    X_gen = np.float32(X_gen)\n",
    "    end = timer()\n",
    "    exec_time = end - start\n",
    "    if isinstance(times, list):\n",
    "        times.append(exec_time)\n",
    "    return X_gen"
   ]
  },
  {
   "cell_type": "code",
   "execution_count": null,
   "metadata": {},
   "outputs": [],
   "source": [
    "adult_times = []\n",
    "adult_thing = partial(KDECopulaNNPdf_RoundCategorical, times=adult_times)\n",
    "adult_thing.__name__ = KDECopulaNNPdf_RoundCategorical.__name__\n",
    "adult_scores = benchmark(synthesizers=[adult_thing], datasets=['adult'])\n",
    "adult_scores.drop(columns=['timestamp'], inplace=True)\n",
    "exec_time = ['N/A'] * 9 + [round(np.mean(adult_times), 2)]\n",
    "adult_scores['adult/exec_time(s)'] = exec_time"
   ]
  },
  {
   "cell_type": "code",
   "execution_count": null,
   "metadata": {},
   "outputs": [],
   "source": [
    "def KDECopulaNNPdf_RoundCategorical(real_data, categorical_columns, ordinal_columns, times=None):\n",
    "    # Max's kde copula model with default parameters\n",
    "    start = timer()\n",
    "    all_features = list(range(real_data.shape[1]))\n",
    "    numerical_features = list(set(all_features) - set(categorical_columns + ordinal_columns))\n",
    "    data = np.float64(real_data)\n",
    "    \n",
    "    n_samples = data.shape[0]\n",
    "    n_features = data.shape[1]\n",
    "    \n",
    "    kde = KDECopulaNNPdf(force_uncorrelated=False, use_KDE=False, n_nonlinear_vars=36, clf=XGBClassifier(max_depth=3, n_estimators=250))\n",
    "    kde = kde.fit(data)\n",
    "    \n",
    "    X_gen, sample_weight = kde.sample(n_samples)\n",
    "    \n",
    "    X_gen[:, categorical_columns+ordinal_columns] = np.round(X_gen[:, categorical_columns+ordinal_columns])\n",
    "    X_gen = np.float32(X_gen)\n",
    "    end = timer()\n",
    "    exec_time = end - start\n",
    "    if isinstance(times, list):\n",
    "        times.append(exec_time)\n",
    "    return X_gen"
   ]
  },
  {
   "cell_type": "code",
   "execution_count": null,
   "metadata": {},
   "outputs": [],
   "source": [
    "intrusion_times = []\n",
    "intrusion_thing = partial(KDECopulaNNPdf_RoundCategorical, times=intrusion_times)\n",
    "intrusion_thing.__name__ = KDECopulaNNPdf_RoundCategorical.__name__\n",
    "intrusion_scores = benchmark(synthesizers=[intrusion_thing], datasets=['intrusion'])\n",
    "intrusion_scores.drop(columns=['timestamp'], inplace=True)\n",
    "exec_time = ['N/A'] * 9 + [round(np.mean(intrusion_times), 2)]\n",
    "intrusion_scores['intrusion/exec_time(s)'] = exec_time"
   ]
  },
  {
   "cell_type": "code",
   "execution_count": null,
   "metadata": {},
   "outputs": [],
   "source": [
    "def KDECopulaNNPdf_RoundCategorical(real_data, categorical_columns, ordinal_columns, times=None):\n",
    "    # Max's kde copula model with default parameters\n",
    "    start = timer()\n",
    "    all_features = list(range(real_data.shape[1]))\n",
    "    numerical_features = list(set(all_features) - set(categorical_columns + ordinal_columns))\n",
    "    data = np.float64(real_data)\n",
    "    \n",
    "    n_samples = data.shape[0]\n",
    "    n_features = data.shape[1]\n",
    "    \n",
    "    kde = KDECopulaNNPdf(use_KDE=False, clf=MLPClassifier(random_state=0, max_iter=500, early_stopping=True))\n",
    "    kde = kde.fit(data)\n",
    "    \n",
    "    X_gen, sample_weight = kde.sample(n_samples)\n",
    "    \n",
    "    X_gen[:, categorical_columns+ordinal_columns] = np.round(X_gen[:, categorical_columns+ordinal_columns])\n",
    "    X_gen = np.float32(X_gen)\n",
    "    end = timer()\n",
    "    exec_time = end - start\n",
    "    if isinstance(times, list):\n",
    "        times.append(exec_time)\n",
    "    return X_gen"
   ]
  },
  {
   "cell_type": "code",
   "execution_count": null,
   "metadata": {},
   "outputs": [],
   "source": [
    "census_times = []\n",
    "census_thing = partial(KDECopulaNNPdf_RoundCategorical, times=census_times)\n",
    "census_thing.__name__ = KDECopulaNNPdf_RoundCategorical.__name__\n",
    "census_scores = benchmark(synthesizers=[census_thing], datasets=['census'])\n",
    "census_scores.drop(columns=['timestamp'], inplace=True)\n",
    "exec_time = ['N/A'] * 9 + [round(np.mean(census_times), 2)]\n",
    "census_scores['intrusion/exec_time(s)'] = exec_time"
   ]
  },
  {
   "cell_type": "code",
   "execution_count": null,
   "metadata": {},
   "outputs": [],
   "source": [
    "rw_scores = pd.concat([adult_scores, intrusion_scores, census_scores], axis=1)\n",
    "rw_scores"
   ]
  },
  {
   "cell_type": "code",
   "execution_count": null,
   "metadata": {},
   "outputs": [],
   "source": []
  }
 ],
 "metadata": {
  "kernelspec": {
   "display_name": "Python 3",
   "language": "python",
   "name": "python3"
  },
  "language_info": {
   "codemirror_mode": {
    "name": "ipython",
    "version": 3
   },
   "file_extension": ".py",
   "mimetype": "text/x-python",
   "name": "python",
   "nbconvert_exporter": "python",
   "pygments_lexer": "ipython3",
   "version": "3.8.5"
  }
 },
 "nbformat": 4,
 "nbformat_minor": 4
}
