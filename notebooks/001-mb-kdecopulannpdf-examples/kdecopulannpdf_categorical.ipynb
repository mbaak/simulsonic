{
 "cells": [
  {
   "cell_type": "code",
   "execution_count": null,
   "metadata": {},
   "outputs": [],
   "source": [
    "%load_ext autoreload\n",
    "%autoreload 2"
   ]
  },
  {
   "cell_type": "code",
   "execution_count": null,
   "metadata": {},
   "outputs": [],
   "source": [
    "import numpy as np\n",
    "import pandas as pd\n",
    "from sdgym import benchmark\n",
    "from sdgym import load_dataset\n",
    "from xgboost import XGBClassifier\n",
    "from sklearn.neural_network import MLPClassifier\n",
    "from synthsonic.models.kde_copula_nn_pdf import KDECopulaNNPdf\n",
    "from synthsonic.models.categorical_utils import categorical_round, vec_translate, categorical_frequency_mapping, \\\n",
    "            categorical_frequency_inverse_mapping, encode_one_hot, decode_one_hot"
   ]
  },
  {
   "cell_type": "code",
   "execution_count": null,
   "metadata": {},
   "outputs": [],
   "source": [
    "def KDECopulaNNPdf_woKDE_OneHotEncoded(real_data, categorical_columns, ordinal_columns):\n",
    "    \n",
    "    all_features = list(range(real_data.shape[1]))\n",
    "    numerical_features = list(set(all_features) - set(categorical_columns+ordinal_columns))\n",
    "    \n",
    "    ## One hot encode the categorical features\n",
    "    unique_values, ohe = encode_one_hot(real_data, categorical_columns)\n",
    "    categorical_np = np.array(ohe)\n",
    "    \n",
    "    n_samples = real_data.shape[0]\n",
    "    n_features = real_data.shape[1]\n",
    "    \n",
    "    ## Append the categorical one hot encoded data to numerical and ordinal\n",
    "    data = np.float64(np.hstack((real_data[:, numerical_features+ordinal_columns], categorical_np)))\n",
    "\n",
    "    kde = KDECopulaNNPdf(use_KDE=False, clf=MLPClassifier(random_state=0, max_iter=500, early_stopping=True))\n",
    "    kde = kde.fit(data)\n",
    "    X_gen, sample_weight = kde.sample(n_samples)\n",
    "    X_gen = np.float32(X_gen)\n",
    "    \n",
    "    \n",
    "    X_final = decode_one_hot(X_gen, categorical_columns, unique_values, n_features)\n",
    "    X_final[:, numerical_features+ordinal_columns] = X_gen[:, numerical_features+ordinal_columns]\n",
    "    print(X_final.shape)\n",
    "    return X_final\n",
    "    "
   ]
  },
  {
   "cell_type": "raw",
   "metadata": {},
   "source": [
    "df, categorical_columns, ordinal_columns = load_dataset('adult')\n",
    "X_gen = KDECopulaNNPdf_woKDE_OneHotEncoded(df, categorical_columns, ordinal_columns)"
   ]
  },
  {
   "cell_type": "code",
   "execution_count": null,
   "metadata": {},
   "outputs": [],
   "source": [
    "scores = benchmark(synthesizers=[KDECopulaNNPdf_woKDE_OneHotEncoded],  datasets=['adult'])\n",
    "scores"
   ]
  },
  {
   "cell_type": "code",
   "execution_count": null,
   "metadata": {},
   "outputs": [],
   "source": [
    "def KDECopulaNNPdf_woKDE_FreqMapping(real_data, categorical_columns, ordinal_columns):\n",
    "    \n",
    "    all_features = list(range(real_data.shape[1]))\n",
    "    numerical_features = list(set(all_features) - set(categorical_columns+ordinal_columns))\n",
    "    data = np.float64(real_data)\n",
    "    \n",
    "    n_samples = data.shape[0]\n",
    "    n_features = data.shape[1]\n",
    "    \n",
    "    data, inv_mappings = categorical_frequency_mapping(data, categorical_columns)\n",
    "\n",
    "    kde = KDECopulaNNPdf(use_KDE=False, clf=MLPClassifier(random_state=0, max_iter=500, early_stopping=True))\n",
    "    kde = kde.fit(data)\n",
    "    X_gen, sample_weight = kde.sample(n_samples)\n",
    "    \n",
    "    X_gen[:, categorical_columns] = np.round(X_gen[:, categorical_columns])\n",
    "    X_final = categorical_frequency_inverse_mapping(X_gen, categorical_columns, inv_mappings)\n",
    "    return X_final"
   ]
  },
  {
   "cell_type": "code",
   "execution_count": null,
   "metadata": {},
   "outputs": [],
   "source": [
    "df, categorical_columns, ordinal_columns = load_dataset('adult')\n",
    "X_gen = KDECopulaNNPdf_woKDE_FreqMapping(df, categorical_columns, ordinal_columns)"
   ]
  },
  {
   "cell_type": "code",
   "execution_count": null,
   "metadata": {},
   "outputs": [],
   "source": [
    "scores = benchmark(synthesizers=[KDECopulaNNPdf_woKDE_FreqMapping],  datasets=['adult'])\n",
    "scores"
   ]
  },
  {
   "cell_type": "code",
   "execution_count": null,
   "metadata": {},
   "outputs": [],
   "source": []
  }
 ],
 "metadata": {
  "kernelspec": {
   "display_name": "Python 3",
   "language": "python",
   "name": "python3"
  },
  "language_info": {
   "codemirror_mode": {
    "name": "ipython",
    "version": 3
   },
   "file_extension": ".py",
   "mimetype": "text/x-python",
   "name": "python",
   "nbconvert_exporter": "python",
   "pygments_lexer": "ipython3",
   "version": "3.8.5"
  }
 },
 "nbformat": 4,
 "nbformat_minor": 4
}
