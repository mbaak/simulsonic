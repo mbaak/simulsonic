{
 "cells": [
  {
   "cell_type": "markdown",
   "metadata": {},
   "source": [
    "### This notebook is used to perform gridsearch on asia dataset"
   ]
  },
  {
   "cell_type": "code",
   "execution_count": null,
   "metadata": {},
   "outputs": [],
   "source": [
    "%load_ext autoreload\n",
    "%autoreload 2"
   ]
  },
  {
   "cell_type": "code",
   "execution_count": null,
   "metadata": {},
   "outputs": [],
   "source": [
    "import numpy as np\n",
    "import pandas as pd\n",
    "from sdgym import benchmark\n",
    "from sdgym import load_dataset\n",
    "from xgboost import XGBClassifier\n",
    "from sklearn.neural_network import MLPClassifier\n",
    "from synthsonic.models.kde_copula_nn_pdf import KDECopulaNNPdf\n",
    "from synthsonic.models.categorical_utils import categorical_round, vec_translate, categorical_frequency_mapping, \\\n",
    "            categorical_frequency_inverse_mapping, encode_one_hot, decode_one_hot\n",
    "from pandas_profiling import ProfileReport\n",
    "%matplotlib inline"
   ]
  },
  {
   "cell_type": "markdown",
   "metadata": {},
   "source": [
    "### EDA"
   ]
  },
  {
   "cell_type": "code",
   "execution_count": null,
   "metadata": {},
   "outputs": [],
   "source": [
    "df, categorical_columns, ordinal_columns = load_dataset('asia')\n",
    "explore_df = pd.DataFrame(df)\n",
    "profile = ProfileReport(explore_df, title=\"EDA for asia dataset\")\n",
    "profile"
   ]
  },
  {
   "cell_type": "markdown",
   "metadata": {},
   "source": [
    "### Observations:\n",
    "* All 8 features in this dataset are categorical, so it's worth trying all the categorical encoding strategies\n",
    "    * Consider categorical as ordinal\n",
    "    * One hot encode categorical features\n",
    "    * Frequency mapping"
   ]
  },
  {
   "cell_type": "markdown",
   "metadata": {},
   "source": [
    "### MLP classifier"
   ]
  },
  {
   "cell_type": "code",
   "execution_count": null,
   "metadata": {},
   "outputs": [],
   "source": [
    "def KDECopulaNNPdf_RoundCategorical(real_data, categorical_columns, ordinal_columns):\n",
    "    # Max's kde copula model with default parameters\n",
    "    \n",
    "    all_features = list(range(real_data.shape[1]))\n",
    "    numerical_features = list(set(all_features) - set(categorical_columns + ordinal_columns))\n",
    "    data = np.float64(real_data)\n",
    "    \n",
    "    n_samples = data.shape[0]\n",
    "    n_features = data.shape[1]\n",
    "    #print(data.shape)\n",
    "    \n",
    "    kde = KDECopulaNNPdf(use_KDE=False, clf=MLPClassifier(random_state=0, max_iter=500, early_stopping=True))\n",
    "    kde = kde.fit(data)\n",
    "    \n",
    "    X_gen, sample_weight = kde.sample(n_samples)\n",
    "    \n",
    "    X_gen[:, categorical_columns+ordinal_columns] = np.round(X_gen[:, categorical_columns+ordinal_columns])\n",
    "    X_gen = np.float32(X_gen)\n",
    "    return X_gen\n",
    "\n",
    "def KDECopulaNNPdf_woKDE_OneHotEncoded(real_data, categorical_columns, ordinal_columns):\n",
    "    \n",
    "    all_features = list(range(real_data.shape[1]))\n",
    "    numerical_features = list(set(all_features) - set(categorical_columns+ordinal_columns))\n",
    "    \n",
    "    ## One hot encode the categorical features\n",
    "    unique_values, ohe = encode_one_hot(real_data, categorical_columns)\n",
    "    categorical_np = np.array(ohe)\n",
    "    \n",
    "    n_samples = real_data.shape[0]\n",
    "    n_features = real_data.shape[1]\n",
    "    \n",
    "    ## Append the categorical one hot encoded data to numerical and ordinal\n",
    "    data = np.float64(np.hstack((real_data[:, numerical_features+ordinal_columns], categorical_np)))\n",
    "\n",
    "    kde = KDECopulaNNPdf(use_KDE=False, clf=MLPClassifier(random_state=0, max_iter=500, early_stopping=True))\n",
    "    kde = kde.fit(data)\n",
    "    X_gen, sample_weight = kde.sample(n_samples)\n",
    "    X_gen = np.float32(X_gen)\n",
    "    \n",
    "    \n",
    "    X_final = decode_one_hot(X_gen, categorical_columns, unique_values, n_features)\n",
    "    X_final[:, numerical_features+ordinal_columns] = X_gen[:, numerical_features+ordinal_columns]\n",
    "    print(X_final.shape)\n",
    "    return X_final\n",
    "    \n",
    "def KDECopulaNNPdf_woKDE_FreqMapping(real_data, categorical_columns, ordinal_columns):\n",
    "    \n",
    "    all_features = list(range(real_data.shape[1]))\n",
    "    numerical_features = list(set(all_features) - set(categorical_columns+ordinal_columns))\n",
    "    data = np.float64(real_data)\n",
    "    \n",
    "    n_samples = data.shape[0]\n",
    "    n_features = data.shape[1]\n",
    "    \n",
    "    data, inv_mappings = categorical_frequency_mapping(data, categorical_columns)\n",
    "\n",
    "    kde = KDECopulaNNPdf(use_KDE=False, clf=MLPClassifier(random_state=0, max_iter=500, early_stopping=True))\n",
    "    kde = kde.fit(data)\n",
    "    X_gen, sample_weight = kde.sample(n_samples)\n",
    "    \n",
    "    X_gen[:, categorical_columns] = np.round(X_gen[:, categorical_columns])\n",
    "    X_final = categorical_frequency_inverse_mapping(X_gen, categorical_columns, inv_mappings)\n",
    "    return X_final"
   ]
  },
  {
   "cell_type": "code",
   "execution_count": null,
   "metadata": {},
   "outputs": [],
   "source": [
    "asia_scores_mlp = benchmark(synthesizers=[KDECopulaNNPdf_RoundCategorical,\n",
    "                                         KDECopulaNNPdf_woKDE_OneHotEncoded,\n",
    "                                         KDECopulaNNPdf_woKDE_FreqMapping], datasets=['asia'])\n",
    "asia_scores_mlp"
   ]
  },
  {
   "cell_type": "code",
   "execution_count": null,
   "metadata": {},
   "outputs": [],
   "source": [
    "def KDECopulaNNPdf_RoundCategorical(real_data, categorical_columns, ordinal_columns):\n",
    "    # Max's kde copula model with default parameters\n",
    "    \n",
    "    all_features = list(range(real_data.shape[1]))\n",
    "    numerical_features = list(set(all_features) - set(categorical_columns + ordinal_columns))\n",
    "    data = np.float64(real_data)\n",
    "    \n",
    "    n_samples = data.shape[0]\n",
    "    n_features = data.shape[1]\n",
    "    \n",
    "    kde = KDECopulaNNPdf(use_KDE=False, clf=XGBClassifier(random_state=42, max_depth=6, alpha=0.2, subsample=0.5))\n",
    "    kde = kde.fit(data)\n",
    "    \n",
    "    X_gen, sample_weight = kde.sample(n_samples)\n",
    "    \n",
    "    X_gen[:, categorical_columns+ordinal_columns] = np.round(X_gen[:, categorical_columns+ordinal_columns])\n",
    "    X_gen = np.float32(X_gen)\n",
    "    return X_gen\n",
    "\n",
    "def KDECopulaNNPdf_woKDE_OneHotEncoded(real_data, categorical_columns, ordinal_columns):\n",
    "    \n",
    "    all_features = list(range(real_data.shape[1]))\n",
    "    numerical_features = list(set(all_features) - set(categorical_columns+ordinal_columns))\n",
    "    \n",
    "    ## One hot encode the categorical features\n",
    "    unique_values, ohe = encode_one_hot(real_data, categorical_columns)\n",
    "    categorical_np = np.array(ohe)\n",
    "    \n",
    "    n_samples = real_data.shape[0]\n",
    "    n_features = real_data.shape[1]\n",
    "    \n",
    "    ## Append the categorical one hot encoded data to numerical and ordinal\n",
    "    data = np.float64(np.hstack((real_data[:, numerical_features+ordinal_columns], categorical_np)))\n",
    "\n",
    "    kde = KDECopulaNNPdf(use_KDE=False, clf=XGBClassifier(random_state=42, max_depth=6, alpha=0.2, subsample=0.5))\n",
    "    kde = kde.fit(data)\n",
    "    X_gen, sample_weight = kde.sample(n_samples)\n",
    "    X_gen = np.float32(X_gen)\n",
    "    \n",
    "    \n",
    "    X_final = decode_one_hot(X_gen, categorical_columns, unique_values, n_features)\n",
    "    X_final[:, numerical_features+ordinal_columns] = X_gen[:, numerical_features+ordinal_columns]\n",
    "    print(X_final.shape)\n",
    "    return X_final\n",
    "    \n",
    "def KDECopulaNNPdf_woKDE_FreqMapping(real_data, categorical_columns, ordinal_columns):\n",
    "    \n",
    "    all_features = list(range(real_data.shape[1]))\n",
    "    numerical_features = list(set(all_features) - set(categorical_columns+ordinal_columns))\n",
    "    data = np.float64(real_data)\n",
    "    \n",
    "    n_samples = data.shape[0]\n",
    "    n_features = data.shape[1]\n",
    "    \n",
    "    data, inv_mappings = categorical_frequency_mapping(data, categorical_columns)\n",
    "\n",
    "    kde = KDECopulaNNPdf(use_KDE=False, clf=XGBClassifier(random_state=42, max_depth=6, alpha=0.2, subsample=0.5))\n",
    "    kde = kde.fit(data)\n",
    "    X_gen, sample_weight = kde.sample(n_samples)\n",
    "    \n",
    "    X_gen[:, categorical_columns] = np.round(X_gen[:, categorical_columns])\n",
    "    X_final = categorical_frequency_inverse_mapping(X_gen, categorical_columns, inv_mappings)\n",
    "    return X_final"
   ]
  },
  {
   "cell_type": "code",
   "execution_count": null,
   "metadata": {},
   "outputs": [],
   "source": [
    "asia_scores_xgboost = benchmark(synthesizers=[KDECopulaNNPdf_RoundCategorical,\n",
    "                                         KDECopulaNNPdf_woKDE_OneHotEncoded,\n",
    "                                         KDECopulaNNPdf_woKDE_FreqMapping], datasets=['asia'])\n",
    "asia_scores_xgboost"
   ]
  },
  {
   "cell_type": "code",
   "execution_count": null,
   "metadata": {},
   "outputs": [],
   "source": [
    "asia_scores_mlp['Classifier'] = 'MLP'\n",
    "asia_scores_xgboost['Classifier'] = 'XGBoost'\n",
    "asia_scores_mlp.iloc[0:9]['Classifier'] = 'N/A'"
   ]
  },
  {
   "cell_type": "code",
   "execution_count": null,
   "metadata": {},
   "outputs": [],
   "source": [
    "asia_scores = asia_scores_mlp.reset_index().append(asia_scores_xgboost.reset_index().iloc[-3:], ignore_index=True)\n",
    "asia_scores"
   ]
  },
  {
   "cell_type": "markdown",
   "metadata": {},
   "source": [
    "### Grid search"
   ]
  },
  {
   "cell_type": "code",
   "execution_count": null,
   "metadata": {},
   "outputs": [],
   "source": [
    "data = np.float64(df)"
   ]
  },
  {
   "cell_type": "code",
   "execution_count": null,
   "metadata": {},
   "outputs": [],
   "source": [
    "kde = KDECopulaNNPdf(use_KDE=False, clf=MLPClassifier())\n",
    "kde.get_params().keys()"
   ]
  },
  {
   "cell_type": "code",
   "execution_count": null,
   "metadata": {},
   "outputs": [],
   "source": [
    "# then for the grid search do this, where all classifier options now have a prefix clf__:\n",
    "from sklearn.model_selection import GridSearchCV\n",
    "parameters = {\n",
    "    'clf__alpha': 10.0 ** -np.arange(1, 3),\n",
    "    'clf__hidden_layer_sizes': [(10,),(20,),(50,),(100,)],\n",
    "    'clf__activation': ['tanh', 'relu'],\n",
    "    'clf__solver': ['sgd', 'adam'],\n",
    "    'clf__alpha': [0.0001, 0.05],\n",
    "    'clf__learning_rate': ['constant','adaptive'],\n",
    "}\n",
    "\n",
    "grid = GridSearchCV(KDECopulaNNPdf(use_KDE=False), parameters, cv=5)\n",
    "grid.fit(data)\n",
    "print (grid.best_params_)"
   ]
  },
  {
   "cell_type": "code",
   "execution_count": null,
   "metadata": {},
   "outputs": [],
   "source": [
    "print (grid.best_params_)"
   ]
  },
  {
   "cell_type": "code",
   "execution_count": null,
   "metadata": {},
   "outputs": [],
   "source": [
    "def KDECopulaNNPdf_RoundCategorical(real_data, categorical_columns, ordinal_columns):\n",
    "    # Max's kde copula model with default parameters\n",
    "    \n",
    "    all_features = list(range(real_data.shape[1]))\n",
    "    numerical_features = list(set(all_features) - set(categorical_columns + ordinal_columns))\n",
    "    data = np.float64(real_data)\n",
    "    \n",
    "    n_samples = data.shape[0]\n",
    "    n_features = data.shape[1]\n",
    "    #print(data.shape)\n",
    "    \n",
    "    kde = KDECopulaNNPdf(clf=MLPClassifier(hidden_layer_sizes=(100,), alpha=0.05,\n",
    "                                            max_iter=500, early_stopping=True, random_state=1), use_KDE=False)\n",
    "    kde = kde.fit(data)\n",
    "    \n",
    "    X_gen, sample_weight = kde.sample(n_samples)\n",
    "    \n",
    "    X_gen[:, categorical_columns+ordinal_columns] = np.round(X_gen[:, categorical_columns+ordinal_columns])\n",
    "    X_gen = np.float32(X_gen)\n",
    "    return X_gen"
   ]
  },
  {
   "cell_type": "code",
   "execution_count": null,
   "metadata": {},
   "outputs": [],
   "source": [
    "asia_scores = benchmark(synthesizers=[KDECopulaNNPdf_RoundCategorical], datasets=['asia'])\n",
    "asia_scores"
   ]
  },
  {
   "cell_type": "code",
   "execution_count": null,
   "metadata": {},
   "outputs": [],
   "source": [
    "asia_scores.sort_values('asia/test_likelihood')"
   ]
  },
  {
   "cell_type": "markdown",
   "metadata": {},
   "source": [
    "* With use_KDE=False, modifying the classification model or tuning the hyper-parameters don't make a difference."
   ]
  },
  {
   "cell_type": "code",
   "execution_count": null,
   "metadata": {},
   "outputs": [],
   "source": []
  }
 ],
 "metadata": {
  "kernelspec": {
   "display_name": "Python 3",
   "language": "python",
   "name": "python3"
  },
  "language_info": {
   "codemirror_mode": {
    "name": "ipython",
    "version": 3
   },
   "file_extension": ".py",
   "mimetype": "text/x-python",
   "name": "python",
   "nbconvert_exporter": "python",
   "pygments_lexer": "ipython3",
   "version": "3.8.5"
  }
 },
 "nbformat": 4,
 "nbformat_minor": 4
}
