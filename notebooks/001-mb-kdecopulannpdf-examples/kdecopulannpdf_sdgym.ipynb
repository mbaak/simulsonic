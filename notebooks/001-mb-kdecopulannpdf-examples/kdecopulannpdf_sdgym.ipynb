{
 "cells": [
  {
   "cell_type": "markdown",
   "metadata": {},
   "source": [
    "### This notebook is used to run kdecopulannpdf with the lastest version of sdgym"
   ]
  },
  {
   "cell_type": "code",
   "execution_count": 1,
   "metadata": {},
   "outputs": [],
   "source": [
    "%load_ext autoreload\n",
    "%autoreload 2\n",
    "import warnings\n",
    "warnings.filterwarnings('ignore')"
   ]
  },
  {
   "cell_type": "code",
   "execution_count": 2,
   "metadata": {},
   "outputs": [],
   "source": [
    "import numpy as np\n",
    "import pandas as pd\n",
    "import sdgym\n",
    "from xgboost import XGBClassifier\n",
    "from sklearn.neural_network import MLPClassifier\n",
    "from synthsonic.models.kde_copula_nn_pdf import KDECopulaNNPdf\n",
    "from synthsonic.models.categorical_utils import categorical_round, vec_translate, categorical_frequency_mapping, \\\n",
    "            categorical_frequency_inverse_mapping, encode_one_hot, decode_one_hot\n",
    "%matplotlib inline"
   ]
  },
  {
   "cell_type": "markdown",
   "metadata": {},
   "source": [
    "### Gaussian Mixtures datasets"
   ]
  },
  {
   "cell_type": "code",
   "execution_count": 3,
   "metadata": {},
   "outputs": [],
   "source": [
    "def KDECopulaNNPdf_Synthesizer(real_data, metadata):\n",
    "    # Max's kde copula model with default parameters\n",
    "    table_name = metadata.get_tables()[0]\n",
    "    data = real_data[table_name]\n",
    "    \n",
    "    n_samples = data.shape[0]\n",
    "    n_features = data.shape[1]\n",
    "    \n",
    "    kde = KDECopulaNNPdf(use_KDE=False, clf=MLPClassifier(alpha=0.1, random_state=0, max_iter=1000, early_stopping=True))\n",
    "    kde = kde.fit(data)\n",
    "    \n",
    "    X_gen, sample_weight = kde.sample(n_samples)\n",
    "    X_sample = pd.DataFrame(X_gen, columns = data.columns)\n",
    "    return {table_name: X_sample}"
   ]
  },
  {
   "cell_type": "code",
   "execution_count": 4,
   "metadata": {},
   "outputs": [
    {
     "name": "stdout",
     "output_type": "stream",
     "text": [
      "Transforming variables.\n",
      "Fitting and calibrating classifier.\n",
      "Model = rho: 0.5, number of selected non-linear variables: 2\n",
      "Transforming variables.\n",
      "Fitting and calibrating classifier.\n",
      "Model = rho: 0.5, number of selected non-linear variables: 2\n",
      "Transforming variables.\n",
      "Fitting and calibrating classifier.\n",
      "Model = rho: 0.5, number of selected non-linear variables: 2\n"
     ]
    },
    {
     "data": {
      "text/html": [
       "<div>\n",
       "<style scoped>\n",
       "    .dataframe tbody tr th:only-of-type {\n",
       "        vertical-align: middle;\n",
       "    }\n",
       "\n",
       "    .dataframe tbody tr th {\n",
       "        vertical-align: top;\n",
       "    }\n",
       "\n",
       "    .dataframe thead th {\n",
       "        text-align: right;\n",
       "    }\n",
       "</style>\n",
       "<table border=\"1\" class=\"dataframe\">\n",
       "  <thead>\n",
       "    <tr style=\"text-align: right;\">\n",
       "      <th></th>\n",
       "      <th>synthesizer</th>\n",
       "      <th>dataset</th>\n",
       "      <th>modality</th>\n",
       "      <th>iteration</th>\n",
       "      <th>metric</th>\n",
       "      <th>error</th>\n",
       "      <th>score</th>\n",
       "      <th>metric_time</th>\n",
       "      <th>model_time</th>\n",
       "      <th>run_id</th>\n",
       "    </tr>\n",
       "  </thead>\n",
       "  <tbody>\n",
       "    <tr>\n",
       "      <th>0</th>\n",
       "      <td>KDECopulaNNPdf_Synthesizer</td>\n",
       "      <td>grid</td>\n",
       "      <td>single-table</td>\n",
       "      <td>0</td>\n",
       "      <td>GMLogLikelihood(10)</td>\n",
       "      <td>None</td>\n",
       "      <td>-4.296911</td>\n",
       "      <td>0.722022</td>\n",
       "      <td>4.352649</td>\n",
       "      <td>b92f1aa1-5</td>\n",
       "    </tr>\n",
       "    <tr>\n",
       "      <th>1</th>\n",
       "      <td>KDECopulaNNPdf_Synthesizer</td>\n",
       "      <td>grid</td>\n",
       "      <td>single-table</td>\n",
       "      <td>0</td>\n",
       "      <td>GMLogLikelihood(30)</td>\n",
       "      <td>None</td>\n",
       "      <td>-254.649952</td>\n",
       "      <td>2.935338</td>\n",
       "      <td>4.352649</td>\n",
       "      <td>b92f1aa1-5</td>\n",
       "    </tr>\n",
       "    <tr>\n",
       "      <th>0</th>\n",
       "      <td>KDECopulaNNPdf_Synthesizer</td>\n",
       "      <td>gridr</td>\n",
       "      <td>single-table</td>\n",
       "      <td>0</td>\n",
       "      <td>GMLogLikelihood(10)</td>\n",
       "      <td>None</td>\n",
       "      <td>-3.110074</td>\n",
       "      <td>1.293673</td>\n",
       "      <td>3.282227</td>\n",
       "      <td>b92f1aa1-5</td>\n",
       "    </tr>\n",
       "    <tr>\n",
       "      <th>1</th>\n",
       "      <td>KDECopulaNNPdf_Synthesizer</td>\n",
       "      <td>gridr</td>\n",
       "      <td>single-table</td>\n",
       "      <td>0</td>\n",
       "      <td>GMLogLikelihood(30)</td>\n",
       "      <td>None</td>\n",
       "      <td>0.708003</td>\n",
       "      <td>2.588842</td>\n",
       "      <td>3.282227</td>\n",
       "      <td>b92f1aa1-5</td>\n",
       "    </tr>\n",
       "    <tr>\n",
       "      <th>0</th>\n",
       "      <td>KDECopulaNNPdf_Synthesizer</td>\n",
       "      <td>ring</td>\n",
       "      <td>single-table</td>\n",
       "      <td>0</td>\n",
       "      <td>GMLogLikelihood(10)</td>\n",
       "      <td>None</td>\n",
       "      <td>-308.185113</td>\n",
       "      <td>0.385797</td>\n",
       "      <td>3.152590</td>\n",
       "      <td>b92f1aa1-5</td>\n",
       "    </tr>\n",
       "    <tr>\n",
       "      <th>1</th>\n",
       "      <td>KDECopulaNNPdf_Synthesizer</td>\n",
       "      <td>ring</td>\n",
       "      <td>single-table</td>\n",
       "      <td>0</td>\n",
       "      <td>GMLogLikelihood(30)</td>\n",
       "      <td>None</td>\n",
       "      <td>-308.185113</td>\n",
       "      <td>0.961468</td>\n",
       "      <td>3.152590</td>\n",
       "      <td>b92f1aa1-5</td>\n",
       "    </tr>\n",
       "  </tbody>\n",
       "</table>\n",
       "</div>"
      ],
      "text/plain": [
       "                  synthesizer dataset      modality  iteration  \\\n",
       "0  KDECopulaNNPdf_Synthesizer    grid  single-table          0   \n",
       "1  KDECopulaNNPdf_Synthesizer    grid  single-table          0   \n",
       "0  KDECopulaNNPdf_Synthesizer   gridr  single-table          0   \n",
       "1  KDECopulaNNPdf_Synthesizer   gridr  single-table          0   \n",
       "0  KDECopulaNNPdf_Synthesizer    ring  single-table          0   \n",
       "1  KDECopulaNNPdf_Synthesizer    ring  single-table          0   \n",
       "\n",
       "                metric error       score  metric_time  model_time      run_id  \n",
       "0  GMLogLikelihood(10)  None   -4.296911     0.722022    4.352649  b92f1aa1-5  \n",
       "1  GMLogLikelihood(30)  None -254.649952     2.935338    4.352649  b92f1aa1-5  \n",
       "0  GMLogLikelihood(10)  None   -3.110074     1.293673    3.282227  b92f1aa1-5  \n",
       "1  GMLogLikelihood(30)  None    0.708003     2.588842    3.282227  b92f1aa1-5  \n",
       "0  GMLogLikelihood(10)  None -308.185113     0.385797    3.152590  b92f1aa1-5  \n",
       "1  GMLogLikelihood(30)  None -308.185113     0.961468    3.152590  b92f1aa1-5  "
      ]
     },
     "execution_count": 4,
     "metadata": {},
     "output_type": "execute_result"
    }
   ],
   "source": [
    "gm_scores = sdgym.run(synthesizers=KDECopulaNNPdf_Synthesizer, datasets=['grid', 'gridr', 'ring'])\n",
    "gm_scores"
   ]
  },
  {
   "cell_type": "code",
   "execution_count": null,
   "metadata": {},
   "outputs": [],
   "source": []
  }
 ],
 "metadata": {
  "kernelspec": {
   "display_name": "Python 3",
   "language": "python",
   "name": "python3"
  },
  "language_info": {
   "codemirror_mode": {
    "name": "ipython",
    "version": 3
   },
   "file_extension": ".py",
   "mimetype": "text/x-python",
   "name": "python",
   "nbconvert_exporter": "python",
   "pygments_lexer": "ipython3",
   "version": "3.8.5"
  }
 },
 "nbformat": 4,
 "nbformat_minor": 4
}
