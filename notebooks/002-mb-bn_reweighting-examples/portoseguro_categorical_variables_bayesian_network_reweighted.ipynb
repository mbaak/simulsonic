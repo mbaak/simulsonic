{
 "cells": [
  {
   "cell_type": "code",
   "execution_count": 1,
   "metadata": {},
   "outputs": [],
   "source": [
    "import xgboost as xgb"
   ]
  },
  {
   "cell_type": "code",
   "execution_count": 2,
   "metadata": {},
   "outputs": [],
   "source": [
    "from sdgym import load_dataset"
   ]
  },
  {
   "cell_type": "code",
   "execution_count": 3,
   "metadata": {},
   "outputs": [],
   "source": [
    "import numpy as np\n",
    "import pandas as pd\n",
    "import matplotlib.pyplot as plt\n",
    "import networkx as nx"
   ]
  },
  {
   "cell_type": "code",
   "execution_count": 4,
   "metadata": {},
   "outputs": [],
   "source": [
    "from synthsonic.models.kde_utils import kde_smooth_peaks_1dim, kde_smooth_peaks\n",
    "from sklearn.model_selection import train_test_split"
   ]
  },
  {
   "cell_type": "code",
   "execution_count": 5,
   "metadata": {},
   "outputs": [],
   "source": [
    "%matplotlib inline"
   ]
  },
  {
   "cell_type": "code",
   "execution_count": 6,
   "metadata": {},
   "outputs": [],
   "source": [
    "data = pd.read_csv('train.csv')"
   ]
  },
  {
   "cell_type": "code",
   "execution_count": 7,
   "metadata": {},
   "outputs": [],
   "source": [
    "categorical_columns = ['ps_ind_01', 'ps_ind_02_cat', 'ps_ind_03',\n",
    "       'ps_ind_04_cat', 'ps_ind_05_cat', 'ps_ind_06_bin', 'ps_ind_07_bin',\n",
    "       'ps_ind_08_bin', 'ps_ind_09_bin', 'ps_ind_10_bin', 'ps_ind_11_bin',\n",
    "       'ps_ind_12_bin', 'ps_ind_13_bin', 'ps_ind_14', 'ps_ind_15',\n",
    "       'ps_ind_16_bin', 'ps_ind_17_bin', 'ps_ind_18_bin', 'ps_car_01_cat', 'ps_car_02_cat',\n",
    "       'ps_car_03_cat', 'ps_car_04_cat', 'ps_car_05_cat', 'ps_car_06_cat',\n",
    "       'ps_car_07_cat', 'ps_car_08_cat', 'ps_car_09_cat', 'ps_car_10_cat',\n",
    "       'ps_car_11_cat', 'ps_car_11', 'ps_calc_04',\n",
    "       'ps_calc_05', 'ps_calc_06', 'ps_calc_07', 'ps_calc_08', 'ps_calc_09',\n",
    "       'ps_calc_10', 'ps_calc_11', 'ps_calc_12', 'ps_calc_13', 'ps_calc_14',\n",
    "       'ps_calc_15_bin', 'ps_calc_16_bin', 'ps_calc_17_bin', 'ps_calc_18_bin',\n",
    "       'ps_calc_19_bin', 'ps_calc_20_bin']"
   ]
  },
  {
   "cell_type": "code",
   "execution_count": 8,
   "metadata": {},
   "outputs": [],
   "source": [
    "df = data[categorical_columns]"
   ]
  },
  {
   "cell_type": "code",
   "execution_count": null,
   "metadata": {},
   "outputs": [],
   "source": []
  },
  {
   "cell_type": "code",
   "execution_count": 9,
   "metadata": {},
   "outputs": [],
   "source": [
    "import pgmpy"
   ]
  },
  {
   "cell_type": "code",
   "execution_count": 10,
   "metadata": {},
   "outputs": [],
   "source": [
    "from pgmpy.models import BayesianModel\n",
    "from pgmpy.estimators import TreeSearch"
   ]
  },
  {
   "cell_type": "code",
   "execution_count": 11,
   "metadata": {},
   "outputs": [],
   "source": [
    "from pgmpy.estimators import HillClimbSearch, BicScore, ExhaustiveSearch, PC"
   ]
  },
  {
   "cell_type": "code",
   "execution_count": null,
   "metadata": {},
   "outputs": [],
   "source": []
  },
  {
   "cell_type": "code",
   "execution_count": 20,
   "metadata": {},
   "outputs": [
    {
     "name": "stderr",
     "output_type": "stream",
     "text": [
      "\n",
      "  0%|          | 0/1035.0 [00:00<?, ?it/s]\u001b[A\n",
      "Building tree:   0%|          | 0/1035.0 [00:00<?, ?it/s]\u001b[A\n",
      "Building tree:   2%|▏         | 24/1035.0 [00:00<00:15, 67.35it/s]\u001b[A\n",
      "Building tree:   3%|▎         | 36/1035.0 [00:00<00:21, 47.45it/s]\u001b[A\n",
      "Building tree:   5%|▍         | 48/1035.0 [00:01<00:25, 38.33it/s]\u001b[A\n",
      "Building tree:   6%|▌         | 60/1035.0 [00:01<00:27, 35.34it/s]\u001b[A\n",
      "Building tree:   7%|▋         | 72/1035.0 [00:02<00:28, 33.39it/s]\u001b[A\n",
      "Building tree:   8%|▊         | 84/1035.0 [00:02<00:30, 31.40it/s]\u001b[A\n",
      "Building tree:   9%|▉         | 96/1035.0 [00:02<00:31, 29.38it/s]\u001b[A\n",
      "Building tree:  10%|▉         | 99/1035.0 [00:03<00:32, 28.37it/s]\u001b[A\n",
      "Building tree:  10%|█         | 108/1035.0 [00:03<00:31, 29.43it/s]\u001b[A\n",
      "Building tree:  12%|█▏        | 120/1035.0 [00:03<00:29, 31.30it/s]\u001b[A\n",
      "Building tree:  13%|█▎        | 132/1035.0 [00:04<00:28, 31.14it/s]\u001b[A\n",
      "Building tree:  13%|█▎        | 136/1035.0 [00:04<00:26, 33.35it/s]\u001b[A\n",
      "Building tree:  14%|█▎        | 140/1035.0 [00:04<00:30, 29.32it/s]\u001b[A\n",
      "Building tree:  14%|█▍        | 144/1035.0 [00:04<00:33, 26.61it/s]\u001b[A\n",
      "Building tree:  14%|█▍        | 147/1035.0 [00:04<00:39, 22.61it/s]\u001b[A\n",
      "Building tree:  14%|█▍        | 150/1035.0 [00:04<00:38, 22.94it/s]\u001b[A\n",
      "Building tree:  16%|█▌        | 168/1035.0 [00:05<00:32, 26.64it/s]\u001b[A\n",
      "Building tree:  17%|█▋        | 180/1035.0 [00:05<00:31, 27.16it/s]\u001b[A\n",
      "Building tree:  19%|█▊        | 192/1035.0 [00:06<00:29, 28.59it/s]\u001b[A\n",
      "Building tree:  20%|█▉        | 204/1035.0 [00:06<00:26, 30.87it/s]\u001b[A\n",
      "Building tree:  21%|██        | 216/1035.0 [00:06<00:25, 31.62it/s]\u001b[A\n",
      "Building tree:  22%|██▏       | 228/1035.0 [00:07<00:26, 30.57it/s]\u001b[A\n",
      "Building tree:  23%|██▎       | 240/1035.0 [00:07<00:25, 31.64it/s]\u001b[A\n",
      "Building tree:  24%|██▎       | 244/1035.0 [00:07<00:24, 31.66it/s]\u001b[A\n",
      "Building tree:  24%|██▍       | 248/1035.0 [00:07<00:23, 33.12it/s]\u001b[A\n",
      "Building tree:  24%|██▍       | 252/1035.0 [00:07<00:24, 31.74it/s]\u001b[A\n",
      "Building tree:  26%|██▌       | 264/1035.0 [00:08<00:25, 30.00it/s]\u001b[A\n",
      "Building tree:  26%|██▌       | 268/1035.0 [00:08<00:23, 32.00it/s]\u001b[A\n",
      "Building tree:  26%|██▋       | 272/1035.0 [00:08<00:25, 30.28it/s]\u001b[A\n",
      "Building tree:  27%|██▋       | 276/1035.0 [00:08<00:25, 29.86it/s]\u001b[A\n",
      "Building tree:  28%|██▊       | 288/1035.0 [00:09<00:24, 30.97it/s]\u001b[A\n",
      "Building tree:  29%|██▉       | 300/1035.0 [00:09<00:22, 32.12it/s]\u001b[A\n",
      "Building tree:  30%|███       | 312/1035.0 [00:09<00:22, 31.45it/s]\u001b[A\n",
      "Building tree:  31%|███▏      | 324/1035.0 [00:10<00:21, 33.24it/s]\u001b[A\n",
      "Building tree:  32%|███▏      | 328/1035.0 [00:10<00:20, 34.57it/s]\u001b[A\n",
      "Building tree:  32%|███▏      | 336/1035.0 [00:10<00:21, 32.83it/s]\u001b[A\n",
      "Building tree:  33%|███▎      | 340/1035.0 [00:10<00:20, 34.13it/s]\u001b[A\n",
      "Building tree:  34%|███▎      | 348/1035.0 [00:10<00:22, 31.06it/s]\u001b[A\n",
      "Building tree:  34%|███▍      | 352/1035.0 [00:11<00:21, 31.11it/s]\u001b[A\n",
      "Building tree:  34%|███▍      | 356/1035.0 [00:11<00:22, 30.85it/s]\u001b[A\n",
      "Building tree:  35%|███▍      | 360/1035.0 [00:11<00:20, 32.36it/s]\u001b[A\n",
      "Building tree:  36%|███▌      | 372/1035.0 [00:11<00:19, 33.75it/s]\u001b[A\n",
      "Building tree:  37%|███▋      | 384/1035.0 [00:12<00:20, 31.61it/s]\u001b[A\n",
      "Building tree:  38%|███▊      | 396/1035.0 [00:12<00:19, 33.15it/s]\u001b[A\n",
      "Building tree:  39%|███▉      | 408/1035.0 [00:12<00:19, 32.97it/s]\u001b[A\n",
      "Building tree:  40%|███▉      | 412/1035.0 [00:12<00:19, 32.01it/s]\u001b[A\n",
      "Building tree:  40%|████      | 416/1035.0 [00:13<00:21, 28.79it/s]\u001b[A\n",
      "Building tree:  40%|████      | 419/1035.0 [00:13<00:22, 26.78it/s]\u001b[A\n",
      "Building tree:  42%|████▏     | 432/1035.0 [00:13<00:20, 28.92it/s]\u001b[A\n",
      "Building tree:  43%|████▎     | 444/1035.0 [00:13<00:19, 30.84it/s]\u001b[A\n",
      "Building tree:  44%|████▍     | 456/1035.0 [00:14<00:19, 29.34it/s]\u001b[A\n",
      "Building tree:  45%|████▌     | 468/1035.0 [00:14<00:18, 30.85it/s]\u001b[A\n",
      "Building tree:  46%|████▋     | 480/1035.0 [00:15<00:18, 29.58it/s]\u001b[A\n",
      "Building tree:  48%|████▊     | 492/1035.0 [00:15<00:17, 30.70it/s]\u001b[A\n",
      "Building tree:  48%|████▊     | 496/1035.0 [00:15<00:19, 27.06it/s]\u001b[A\n",
      "Building tree:  49%|████▊     | 504/1035.0 [00:15<00:16, 32.39it/s]\u001b[A\n",
      "Building tree:  49%|████▉     | 508/1035.0 [00:15<00:16, 32.54it/s]\u001b[A\n",
      "Building tree:  50%|████▉     | 516/1035.0 [00:16<00:15, 32.92it/s]\u001b[A\n",
      "Building tree:  51%|█████     | 528/1035.0 [00:16<00:15, 33.11it/s]\u001b[A\n",
      "Building tree:  52%|█████▏    | 540/1035.0 [00:16<00:16, 29.81it/s]\u001b[A\n",
      "Building tree:  53%|█████▎    | 544/1035.0 [00:17<00:15, 32.02it/s]\u001b[A\n",
      "Building tree:  53%|█████▎    | 552/1035.0 [00:17<00:18, 25.78it/s]\u001b[A\n",
      "Building tree:  54%|█████▍    | 564/1035.0 [00:17<00:16, 28.70it/s]\u001b[A\n",
      "Building tree:  56%|█████▌    | 576/1035.0 [00:18<00:16, 28.59it/s]\u001b[A\n",
      "Building tree:  56%|█████▌    | 580/1035.0 [00:18<00:14, 31.18it/s]\u001b[A\n",
      "Building tree:  57%|█████▋    | 588/1035.0 [00:18<00:15, 27.97it/s]\u001b[A\n",
      "Building tree:  57%|█████▋    | 592/1035.0 [00:18<00:16, 27.07it/s]\u001b[A\n",
      "Building tree:  58%|█████▊    | 600/1035.0 [00:19<00:15, 27.70it/s]\u001b[A\n",
      "Building tree:  59%|█████▉    | 612/1035.0 [00:19<00:15, 26.66it/s]\u001b[A\n",
      "Building tree:  60%|██████    | 624/1035.0 [00:19<00:13, 29.40it/s]\u001b[A\n",
      "Building tree:  61%|██████▏   | 636/1035.0 [00:20<00:14, 28.28it/s]\u001b[A\n",
      "Building tree:  63%|██████▎   | 648/1035.0 [00:20<00:13, 29.65it/s]\u001b[A\n",
      "Building tree:  64%|██████▍   | 660/1035.0 [00:21<00:12, 29.53it/s]\u001b[A\n",
      "Building tree:  65%|██████▍   | 672/1035.0 [00:21<00:13, 27.38it/s]\u001b[A\n",
      "Building tree:  65%|██████▌   | 675/1035.0 [00:21<00:13, 26.41it/s]\u001b[A\n",
      "Building tree:  66%|██████▌   | 684/1035.0 [00:22<00:12, 28.52it/s]\u001b[A\n",
      "Building tree:  67%|██████▋   | 696/1035.0 [00:22<00:11, 29.34it/s]\u001b[A\n",
      "Building tree:  68%|██████▊   | 708/1035.0 [00:22<00:10, 29.86it/s]\u001b[A\n",
      "Building tree:  69%|██████▉   | 712/1035.0 [00:22<00:10, 31.53it/s]\u001b[A\n",
      "Building tree:  70%|██████▉   | 720/1035.0 [00:23<00:11, 28.42it/s]\u001b[A\n",
      "Building tree:  71%|███████   | 732/1035.0 [00:23<00:10, 29.33it/s]\u001b[A\n",
      "Building tree:  72%|███████▏  | 744/1035.0 [00:24<00:09, 30.47it/s]\u001b[A\n",
      "Building tree:  73%|███████▎  | 756/1035.0 [00:24<00:09, 30.79it/s]\u001b[A\n",
      "Building tree:  74%|███████▍  | 768/1035.0 [00:24<00:09, 29.48it/s]\u001b[A\n",
      "Building tree:  74%|███████▍  | 771/1035.0 [00:24<00:09, 28.08it/s]\u001b[A\n",
      "Building tree:  75%|███████▌  | 780/1035.0 [00:25<00:08, 30.96it/s]\u001b[A\n",
      "Building tree:  77%|███████▋  | 792/1035.0 [00:25<00:08, 27.29it/s]\u001b[A\n",
      "Building tree:  78%|███████▊  | 804/1035.0 [00:26<00:08, 27.79it/s]\u001b[A\n",
      "Building tree:  78%|███████▊  | 807/1035.0 [00:26<00:08, 26.26it/s]\u001b[A\n",
      "Building tree:  78%|███████▊  | 810/1035.0 [00:26<00:09, 24.31it/s]\u001b[A\n",
      "Building tree:  79%|███████▉  | 816/1035.0 [00:26<00:08, 26.18it/s]\u001b[A\n",
      "Building tree:  79%|███████▉  | 819/1035.0 [00:26<00:08, 26.92it/s]\u001b[A\n",
      "Building tree:  80%|████████  | 828/1035.0 [00:27<00:07, 28.57it/s]\u001b[A\n",
      "Building tree:  81%|████████  | 840/1035.0 [00:27<00:07, 27.66it/s]\u001b[A\n",
      "Building tree:  82%|████████▏ | 852/1035.0 [00:27<00:06, 28.22it/s]\u001b[A\n",
      "Building tree:  83%|████████▎ | 864/1035.0 [00:28<00:05, 29.24it/s]\u001b[A\n",
      "Building tree:  85%|████████▍ | 876/1035.0 [00:28<00:05, 29.12it/s]\u001b[A\n",
      "Building tree:  86%|████████▌ | 888/1035.0 [00:29<00:05, 28.71it/s]\u001b[A\n",
      "Building tree:  87%|████████▋ | 900/1035.0 [00:29<00:04, 28.31it/s]\u001b[A\n",
      "Building tree:  88%|████████▊ | 912/1035.0 [00:29<00:04, 28.63it/s]\u001b[A\n",
      "Building tree:  89%|████████▉ | 924/1035.0 [00:30<00:03, 29.21it/s]\u001b[A\n",
      "Building tree:  90%|█████████ | 936/1035.0 [00:30<00:03, 29.04it/s]\u001b[A\n",
      "Building tree:  91%|█████████ | 939/1035.0 [00:30<00:03, 27.54it/s]\u001b[A\n",
      "Building tree:  92%|█████████▏| 948/1035.0 [00:31<00:02, 29.67it/s]\u001b[A\n",
      "Building tree:  93%|█████████▎| 960/1035.0 [00:31<00:02, 28.24it/s]\u001b[A\n",
      "Building tree:  94%|█████████▍| 972/1035.0 [00:32<00:02, 28.55it/s]\u001b[A\n",
      "Building tree:  95%|█████████▌| 984/1035.0 [00:32<00:01, 28.42it/s]\u001b[A\n",
      "Building tree:  96%|█████████▌| 996/1035.0 [00:32<00:01, 28.49it/s]\u001b[A\n",
      "Building tree:  97%|█████████▋| 999/1035.0 [00:33<00:01, 27.48it/s]\u001b[A\n",
      "Building tree:  97%|█████████▋| 1008/1035.0 [00:33<00:00, 28.62it/s]\u001b[A\n",
      "Building tree:  99%|█████████▊| 1020/1035.0 [00:33<00:00, 28.43it/s]\u001b[A\n",
      "Building tree: 100%|██████████| 1035/1035.0 [00:34<00:00, 30.30it/s]\u001b[A\n"
     ]
    }
   ],
   "source": [
    "if True:\n",
    "    # learn graph structure \n",
    "    est = TreeSearch(df, root_node=df.columns[0])\n",
    "    dag = est.estimate(class_node='ps_ind_02_cat', estimator_type=\"tan\") "
   ]
  },
  {
   "cell_type": "code",
   "execution_count": 13,
   "metadata": {},
   "outputs": [],
   "source": [
    "if False:\n",
    "    # alternative graph structure \n",
    "    est2 = TreeSearch(df, root_node=df.columns[0])\n",
    "    dag = est2.estimate(estimator_type=\"chow-liu\")"
   ]
  },
  {
   "cell_type": "code",
   "execution_count": 16,
   "metadata": {},
   "outputs": [],
   "source": [
    "if False:\n",
    "    est = HillClimbSearch(df, use_cache=True)\n",
    "    dag = est.estimate(start_dag=dag)"
   ]
  },
  {
   "cell_type": "code",
   "execution_count": 17,
   "metadata": {},
   "outputs": [
    {
     "name": "stderr",
     "output_type": "stream",
     "text": [
      "Working for n conditional variables: 0:   0%|          | 0/5 [00:00<?, ?it/s]"
     ]
    },
    {
     "ename": "KeyboardInterrupt",
     "evalue": "",
     "output_type": "error",
     "traceback": [
      "\u001b[0;31m---------------------------------------------------------------------------\u001b[0m",
      "\u001b[0;31mKeyboardInterrupt\u001b[0m                         Traceback (most recent call last)",
      "\u001b[0;32m<ipython-input-17-1b7400f81a00>\u001b[0m in \u001b[0;36m<module>\u001b[0;34m\u001b[0m\n\u001b[1;32m      1\u001b[0m \u001b[0;32mif\u001b[0m \u001b[0;32mTrue\u001b[0m\u001b[0;34m:\u001b[0m\u001b[0;34m\u001b[0m\u001b[0;34m\u001b[0m\u001b[0m\n\u001b[1;32m      2\u001b[0m     \u001b[0mest\u001b[0m \u001b[0;34m=\u001b[0m \u001b[0mPC\u001b[0m\u001b[0;34m(\u001b[0m\u001b[0mdf\u001b[0m\u001b[0;34m)\u001b[0m\u001b[0;34m\u001b[0m\u001b[0;34m\u001b[0m\u001b[0m\n\u001b[0;32m----> 3\u001b[0;31m     \u001b[0mdag\u001b[0m \u001b[0;34m=\u001b[0m \u001b[0mest\u001b[0m\u001b[0;34m.\u001b[0m\u001b[0mestimate\u001b[0m\u001b[0;34m(\u001b[0m\u001b[0mstart_dag\u001b[0m\u001b[0;34m=\u001b[0m\u001b[0mdag\u001b[0m\u001b[0;34m)\u001b[0m\u001b[0;34m\u001b[0m\u001b[0;34m\u001b[0m\u001b[0m\n\u001b[0m",
      "\u001b[0;32m~/Projects/pgmpy/pgmpy/estimators/PC.py\u001b[0m in \u001b[0;36mestimate\u001b[0;34m(self, variant, ci_test, max_cond_vars, return_type, significance_level, n_jobs, show_progress, **kwargs)\u001b[0m\n\u001b[1;32m    167\u001b[0m \u001b[0;34m\u001b[0m\u001b[0m\n\u001b[1;32m    168\u001b[0m         \u001b[0;31m# Step 1: Run the PC algorithm to build the skeleton and get the separating sets.\u001b[0m\u001b[0;34m\u001b[0m\u001b[0;34m\u001b[0m\u001b[0;34m\u001b[0m\u001b[0m\n\u001b[0;32m--> 169\u001b[0;31m         skel, separating_sets = self.build_skeleton(\n\u001b[0m\u001b[1;32m    170\u001b[0m             \u001b[0mci_test\u001b[0m\u001b[0;34m=\u001b[0m\u001b[0mci_test\u001b[0m\u001b[0;34m,\u001b[0m\u001b[0;34m\u001b[0m\u001b[0;34m\u001b[0m\u001b[0m\n\u001b[1;32m    171\u001b[0m             \u001b[0mmax_cond_vars\u001b[0m\u001b[0;34m=\u001b[0m\u001b[0mmax_cond_vars\u001b[0m\u001b[0;34m,\u001b[0m\u001b[0;34m\u001b[0m\u001b[0;34m\u001b[0m\u001b[0m\n",
      "\u001b[0;32m~/Projects/pgmpy/pgmpy/estimators/PC.py\u001b[0m in \u001b[0;36mbuild_skeleton\u001b[0;34m(self, ci_test, max_cond_vars, significance_level, variant, n_jobs, show_progress, **kwargs)\u001b[0m\n\u001b[1;32m    318\u001b[0m                         \u001b[0;31m# If a conditioning set exists remove the edge, store the\u001b[0m\u001b[0;34m\u001b[0m\u001b[0;34m\u001b[0m\u001b[0;34m\u001b[0m\u001b[0m\n\u001b[1;32m    319\u001b[0m                         \u001b[0;31m# separating set and move on to finding conditioning set for next edge.\u001b[0m\u001b[0;34m\u001b[0m\u001b[0;34m\u001b[0m\u001b[0;34m\u001b[0m\u001b[0m\n\u001b[0;32m--> 320\u001b[0;31m                         if ci_test(\n\u001b[0m\u001b[1;32m    321\u001b[0m                             \u001b[0mu\u001b[0m\u001b[0;34m,\u001b[0m\u001b[0;34m\u001b[0m\u001b[0;34m\u001b[0m\u001b[0m\n\u001b[1;32m    322\u001b[0m                             \u001b[0mv\u001b[0m\u001b[0;34m,\u001b[0m\u001b[0;34m\u001b[0m\u001b[0;34m\u001b[0m\u001b[0m\n",
      "\u001b[0;32m~/Projects/pgmpy/pgmpy/estimators/CITests.py\u001b[0m in \u001b[0;36mchi_square\u001b[0;34m(X, Y, Z, data, boolean, **kwargs)\u001b[0m\n\u001b[1;32m    103\u001b[0m     \u001b[0;32mFalse\u001b[0m\u001b[0;34m\u001b[0m\u001b[0;34m\u001b[0m\u001b[0m\n\u001b[1;32m    104\u001b[0m     \"\"\"\n\u001b[0;32m--> 105\u001b[0;31m     return power_divergence(\n\u001b[0m\u001b[1;32m    106\u001b[0m         \u001b[0mX\u001b[0m\u001b[0;34m=\u001b[0m\u001b[0mX\u001b[0m\u001b[0;34m,\u001b[0m \u001b[0mY\u001b[0m\u001b[0;34m=\u001b[0m\u001b[0mY\u001b[0m\u001b[0;34m,\u001b[0m \u001b[0mZ\u001b[0m\u001b[0;34m=\u001b[0m\u001b[0mZ\u001b[0m\u001b[0;34m,\u001b[0m \u001b[0mdata\u001b[0m\u001b[0;34m=\u001b[0m\u001b[0mdata\u001b[0m\u001b[0;34m,\u001b[0m \u001b[0mboolean\u001b[0m\u001b[0;34m=\u001b[0m\u001b[0mboolean\u001b[0m\u001b[0;34m,\u001b[0m \u001b[0mlambda_\u001b[0m\u001b[0;34m=\u001b[0m\u001b[0;34m\"pearson\"\u001b[0m\u001b[0;34m,\u001b[0m \u001b[0;34m**\u001b[0m\u001b[0mkwargs\u001b[0m\u001b[0;34m\u001b[0m\u001b[0;34m\u001b[0m\u001b[0m\n\u001b[1;32m    107\u001b[0m     )\n",
      "\u001b[0;32m~/Projects/pgmpy/pgmpy/estimators/CITests.py\u001b[0m in \u001b[0;36mpower_divergence\u001b[0;34m(X, Y, Z, data, boolean, lambda_, **kwargs)\u001b[0m\n\u001b[1;32m    617\u001b[0m     \u001b[0;32mif\u001b[0m \u001b[0mlen\u001b[0m\u001b[0;34m(\u001b[0m\u001b[0mZ\u001b[0m\u001b[0;34m)\u001b[0m \u001b[0;34m==\u001b[0m \u001b[0;36m0\u001b[0m\u001b[0;34m:\u001b[0m\u001b[0;34m\u001b[0m\u001b[0;34m\u001b[0m\u001b[0m\n\u001b[1;32m    618\u001b[0m         chi, p_value, dof, expected = stats.chi2_contingency(\n\u001b[0;32m--> 619\u001b[0;31m             \u001b[0mdata\u001b[0m\u001b[0;34m.\u001b[0m\u001b[0mgroupby\u001b[0m\u001b[0;34m(\u001b[0m\u001b[0;34m[\u001b[0m\u001b[0mX\u001b[0m\u001b[0;34m,\u001b[0m \u001b[0mY\u001b[0m\u001b[0;34m]\u001b[0m\u001b[0;34m)\u001b[0m\u001b[0;34m.\u001b[0m\u001b[0msize\u001b[0m\u001b[0;34m(\u001b[0m\u001b[0;34m)\u001b[0m\u001b[0;34m.\u001b[0m\u001b[0munstack\u001b[0m\u001b[0;34m(\u001b[0m\u001b[0mY\u001b[0m\u001b[0;34m,\u001b[0m \u001b[0mfill_value\u001b[0m\u001b[0;34m=\u001b[0m\u001b[0;36m0\u001b[0m\u001b[0;34m)\u001b[0m\u001b[0;34m,\u001b[0m \u001b[0mlambda_\u001b[0m\u001b[0;34m=\u001b[0m\u001b[0mlambda_\u001b[0m\u001b[0;34m\u001b[0m\u001b[0;34m\u001b[0m\u001b[0m\n\u001b[0m\u001b[1;32m    620\u001b[0m         )\n\u001b[1;32m    621\u001b[0m \u001b[0;34m\u001b[0m\u001b[0m\n",
      "\u001b[0;32m~/opt/miniconda3/lib/python3.8/site-packages/pandas/core/groupby/groupby.py\u001b[0m in \u001b[0;36msize\u001b[0;34m(self)\u001b[0m\n\u001b[1;32m   1524\u001b[0m             \u001b[0;32mor\u001b[0m \u001b[0ma\u001b[0m \u001b[0mDataFrame\u001b[0m \u001b[0;32mif\u001b[0m \u001b[0mas_index\u001b[0m \u001b[0;32mis\u001b[0m \u001b[0;32mFalse\u001b[0m\u001b[0;34m.\u001b[0m\u001b[0;34m\u001b[0m\u001b[0;34m\u001b[0m\u001b[0m\n\u001b[1;32m   1525\u001b[0m         \"\"\"\n\u001b[0;32m-> 1526\u001b[0;31m         \u001b[0mresult\u001b[0m \u001b[0;34m=\u001b[0m \u001b[0mself\u001b[0m\u001b[0;34m.\u001b[0m\u001b[0mgrouper\u001b[0m\u001b[0;34m.\u001b[0m\u001b[0msize\u001b[0m\u001b[0;34m(\u001b[0m\u001b[0;34m)\u001b[0m\u001b[0;34m\u001b[0m\u001b[0;34m\u001b[0m\u001b[0m\n\u001b[0m\u001b[1;32m   1527\u001b[0m \u001b[0;34m\u001b[0m\u001b[0m\n\u001b[1;32m   1528\u001b[0m         \u001b[0;31m# GH28330 preserve subclassed Series/DataFrames through calls\u001b[0m\u001b[0;34m\u001b[0m\u001b[0;34m\u001b[0m\u001b[0;34m\u001b[0m\u001b[0m\n",
      "\u001b[0;32m~/opt/miniconda3/lib/python3.8/site-packages/pandas/core/groupby/ops.py\u001b[0m in \u001b[0;36msize\u001b[0;34m(self)\u001b[0m\n\u001b[1;32m    244\u001b[0m         \u001b[0mCompute\u001b[0m \u001b[0mgroup\u001b[0m \u001b[0msizes\u001b[0m\u001b[0;34m.\u001b[0m\u001b[0;34m\u001b[0m\u001b[0;34m\u001b[0m\u001b[0m\n\u001b[1;32m    245\u001b[0m         \"\"\"\n\u001b[0;32m--> 246\u001b[0;31m         \u001b[0mids\u001b[0m\u001b[0;34m,\u001b[0m \u001b[0m_\u001b[0m\u001b[0;34m,\u001b[0m \u001b[0mngroup\u001b[0m \u001b[0;34m=\u001b[0m \u001b[0mself\u001b[0m\u001b[0;34m.\u001b[0m\u001b[0mgroup_info\u001b[0m\u001b[0;34m\u001b[0m\u001b[0;34m\u001b[0m\u001b[0m\n\u001b[0m\u001b[1;32m    247\u001b[0m         \u001b[0mids\u001b[0m \u001b[0;34m=\u001b[0m \u001b[0mensure_platform_int\u001b[0m\u001b[0;34m(\u001b[0m\u001b[0mids\u001b[0m\u001b[0;34m)\u001b[0m\u001b[0;34m\u001b[0m\u001b[0;34m\u001b[0m\u001b[0m\n\u001b[1;32m    248\u001b[0m         \u001b[0;32mif\u001b[0m \u001b[0mngroup\u001b[0m\u001b[0;34m:\u001b[0m\u001b[0;34m\u001b[0m\u001b[0;34m\u001b[0m\u001b[0m\n",
      "\u001b[0;32mpandas/_libs/properties.pyx\u001b[0m in \u001b[0;36mpandas._libs.properties.CachedProperty.__get__\u001b[0;34m()\u001b[0m\n",
      "\u001b[0;32m~/opt/miniconda3/lib/python3.8/site-packages/pandas/core/groupby/ops.py\u001b[0m in \u001b[0;36mgroup_info\u001b[0;34m(self)\u001b[0m\n\u001b[1;32m    269\u001b[0m     \u001b[0;34m@\u001b[0m\u001b[0mcache_readonly\u001b[0m\u001b[0;34m\u001b[0m\u001b[0;34m\u001b[0m\u001b[0m\n\u001b[1;32m    270\u001b[0m     \u001b[0;32mdef\u001b[0m \u001b[0mgroup_info\u001b[0m\u001b[0;34m(\u001b[0m\u001b[0mself\u001b[0m\u001b[0;34m)\u001b[0m\u001b[0;34m:\u001b[0m\u001b[0;34m\u001b[0m\u001b[0;34m\u001b[0m\u001b[0m\n\u001b[0;32m--> 271\u001b[0;31m         \u001b[0mcomp_ids\u001b[0m\u001b[0;34m,\u001b[0m \u001b[0mobs_group_ids\u001b[0m \u001b[0;34m=\u001b[0m \u001b[0mself\u001b[0m\u001b[0;34m.\u001b[0m\u001b[0m_get_compressed_codes\u001b[0m\u001b[0;34m(\u001b[0m\u001b[0;34m)\u001b[0m\u001b[0;34m\u001b[0m\u001b[0;34m\u001b[0m\u001b[0m\n\u001b[0m\u001b[1;32m    272\u001b[0m \u001b[0;34m\u001b[0m\u001b[0m\n\u001b[1;32m    273\u001b[0m         \u001b[0mngroups\u001b[0m \u001b[0;34m=\u001b[0m \u001b[0mlen\u001b[0m\u001b[0;34m(\u001b[0m\u001b[0mobs_group_ids\u001b[0m\u001b[0;34m)\u001b[0m\u001b[0;34m\u001b[0m\u001b[0;34m\u001b[0m\u001b[0m\n",
      "\u001b[0;32m~/opt/miniconda3/lib/python3.8/site-packages/pandas/core/groupby/ops.py\u001b[0m in \u001b[0;36m_get_compressed_codes\u001b[0;34m(self)\u001b[0m\n\u001b[1;32m    287\u001b[0m         \u001b[0mall_codes\u001b[0m \u001b[0;34m=\u001b[0m \u001b[0mself\u001b[0m\u001b[0;34m.\u001b[0m\u001b[0mcodes\u001b[0m\u001b[0;34m\u001b[0m\u001b[0;34m\u001b[0m\u001b[0m\n\u001b[1;32m    288\u001b[0m         \u001b[0;32mif\u001b[0m \u001b[0mlen\u001b[0m\u001b[0;34m(\u001b[0m\u001b[0mall_codes\u001b[0m\u001b[0;34m)\u001b[0m \u001b[0;34m>\u001b[0m \u001b[0;36m1\u001b[0m\u001b[0;34m:\u001b[0m\u001b[0;34m\u001b[0m\u001b[0;34m\u001b[0m\u001b[0m\n\u001b[0;32m--> 289\u001b[0;31m             \u001b[0mgroup_index\u001b[0m \u001b[0;34m=\u001b[0m \u001b[0mget_group_index\u001b[0m\u001b[0;34m(\u001b[0m\u001b[0mall_codes\u001b[0m\u001b[0;34m,\u001b[0m \u001b[0mself\u001b[0m\u001b[0;34m.\u001b[0m\u001b[0mshape\u001b[0m\u001b[0;34m,\u001b[0m \u001b[0msort\u001b[0m\u001b[0;34m=\u001b[0m\u001b[0;32mTrue\u001b[0m\u001b[0;34m,\u001b[0m \u001b[0mxnull\u001b[0m\u001b[0;34m=\u001b[0m\u001b[0;32mTrue\u001b[0m\u001b[0;34m)\u001b[0m\u001b[0;34m\u001b[0m\u001b[0;34m\u001b[0m\u001b[0m\n\u001b[0m\u001b[1;32m    290\u001b[0m             \u001b[0;32mreturn\u001b[0m \u001b[0mcompress_group_index\u001b[0m\u001b[0;34m(\u001b[0m\u001b[0mgroup_index\u001b[0m\u001b[0;34m,\u001b[0m \u001b[0msort\u001b[0m\u001b[0;34m=\u001b[0m\u001b[0mself\u001b[0m\u001b[0;34m.\u001b[0m\u001b[0msort\u001b[0m\u001b[0;34m)\u001b[0m\u001b[0;34m\u001b[0m\u001b[0;34m\u001b[0m\u001b[0m\n\u001b[1;32m    291\u001b[0m \u001b[0;34m\u001b[0m\u001b[0m\n",
      "\u001b[0;32m~/opt/miniconda3/lib/python3.8/site-packages/pandas/core/sorting.py\u001b[0m in \u001b[0;36mget_group_index\u001b[0;34m(labels, shape, sort, xnull)\u001b[0m\n\u001b[1;32m     89\u001b[0m             \u001b[0;32melse\u001b[0m\u001b[0;34m:\u001b[0m\u001b[0;34m\u001b[0m\u001b[0;34m\u001b[0m\u001b[0m\n\u001b[1;32m     90\u001b[0m                 \u001b[0mstride\u001b[0m \u001b[0;34m//=\u001b[0m \u001b[0mshape\u001b[0m\u001b[0;34m[\u001b[0m\u001b[0mi\u001b[0m\u001b[0;34m]\u001b[0m\u001b[0;34m\u001b[0m\u001b[0;34m\u001b[0m\u001b[0m\n\u001b[0;32m---> 91\u001b[0;31m             \u001b[0mout\u001b[0m \u001b[0;34m+=\u001b[0m \u001b[0mlabels\u001b[0m\u001b[0;34m[\u001b[0m\u001b[0mi\u001b[0m\u001b[0;34m]\u001b[0m \u001b[0;34m*\u001b[0m \u001b[0mstride\u001b[0m\u001b[0;34m\u001b[0m\u001b[0;34m\u001b[0m\u001b[0m\n\u001b[0m\u001b[1;32m     92\u001b[0m \u001b[0;34m\u001b[0m\u001b[0m\n\u001b[1;32m     93\u001b[0m         \u001b[0;32mif\u001b[0m \u001b[0mxnull\u001b[0m\u001b[0;34m:\u001b[0m  \u001b[0;31m# exclude nulls\u001b[0m\u001b[0;34m\u001b[0m\u001b[0;34m\u001b[0m\u001b[0m\n",
      "\u001b[0;31mKeyboardInterrupt\u001b[0m: "
     ]
    }
   ],
   "source": [
    "if True:\n",
    "    est = PC(df)\n",
    "    dag = est.estimate(start_dag=dag)"
   ]
  },
  {
   "cell_type": "code",
   "execution_count": 19,
   "metadata": {},
   "outputs": [
    {
     "data": {
      "image/png": "[encoded data removed]",
      "text/plain": [
       "<Figure size 432x288 with 1 Axes>"
      ]
     },
     "metadata": {},
     "output_type": "display_data"
    }
   ],
   "source": [
    "nx.draw(dag, with_labels=True, arrowsize=30, node_size=800, alpha=0.3, font_weight='bold')\n",
    "plt.show()"
   ]
  },
  {
   "cell_type": "code",
   "execution_count": null,
   "metadata": {},
   "outputs": [],
   "source": []
  },
  {
   "cell_type": "code",
   "execution_count": 16,
   "metadata": {},
   "outputs": [],
   "source": [
    "edges = dag.edges()"
   ]
  },
  {
   "cell_type": "code",
   "execution_count": 17,
   "metadata": {},
   "outputs": [
    {
     "data": {
      "text/plain": [
       "OutEdgeView([('ps_ind_01', 'ps_car_05_cat'), ('ps_ind_01', 'ps_ind_03'), ('ps_car_05_cat', 'ps_car_03_cat'), ('ps_car_05_cat', 'ps_car_01_cat'), ('ps_ind_03', 'ps_ind_05_cat'), ('ps_ind_03', 'ps_ind_15'), ('ps_car_03_cat', 'ps_car_08_cat'), ('ps_car_03_cat', 'ps_ind_14'), ('ps_car_01_cat', 'ps_car_09_cat'), ('ps_ind_05_cat', 'ps_car_07_cat'), ('ps_ind_15', 'ps_ind_18_bin'), ('ps_car_08_cat', 'ps_car_11_cat'), ('ps_ind_14', 'ps_ind_12_bin'), ('ps_ind_14', 'ps_ind_11_bin'), ('ps_ind_14', 'ps_ind_13_bin'), ('ps_ind_14', 'ps_ind_10_bin'), ('ps_ind_18_bin', 'ps_ind_16_bin'), ('ps_car_11_cat', 'ps_car_06_cat'), ('ps_car_11_cat', 'ps_car_11'), ('ps_car_11_cat', 'ps_car_04_cat'), ('ps_car_11_cat', 'ps_car_02_cat'), ('ps_car_11_cat', 'ps_ind_06_bin'), ('ps_car_11_cat', 'ps_car_10_cat'), ('ps_car_11_cat', 'ps_calc_10'), ('ps_car_11_cat', 'ps_calc_14'), ('ps_car_11_cat', 'ps_calc_11'), ('ps_car_11_cat', 'ps_calc_13'), ('ps_car_11_cat', 'ps_calc_08'), ('ps_car_11_cat', 'ps_calc_12'), ('ps_car_11_cat', 'ps_calc_07'), ('ps_car_11_cat', 'ps_calc_06'), ('ps_car_11_cat', 'ps_calc_09'), ('ps_car_11_cat', 'ps_calc_05'), ('ps_car_11_cat', 'ps_calc_04'), ('ps_car_11_cat', 'ps_calc_17_bin'), ('ps_car_11_cat', 'ps_calc_16_bin'), ('ps_car_11_cat', 'ps_calc_19_bin'), ('ps_car_11_cat', 'ps_calc_15_bin'), ('ps_car_11_cat', 'ps_calc_18_bin'), ('ps_car_11_cat', 'ps_calc_20_bin'), ('ps_ind_16_bin', 'ps_ind_17_bin'), ('ps_ind_06_bin', 'ps_ind_07_bin'), ('ps_ind_06_bin', 'ps_ind_09_bin'), ('ps_ind_06_bin', 'ps_ind_08_bin'), ('ps_ind_07_bin', 'ps_ind_04_cat'), ('ps_ind_02_cat', 'ps_ind_01'), ('ps_ind_02_cat', 'ps_ind_03'), ('ps_ind_02_cat', 'ps_ind_04_cat'), ('ps_ind_02_cat', 'ps_ind_05_cat'), ('ps_ind_02_cat', 'ps_ind_06_bin'), ('ps_ind_02_cat', 'ps_ind_07_bin'), ('ps_ind_02_cat', 'ps_ind_08_bin'), ('ps_ind_02_cat', 'ps_ind_09_bin'), ('ps_ind_02_cat', 'ps_ind_10_bin'), ('ps_ind_02_cat', 'ps_ind_11_bin'), ('ps_ind_02_cat', 'ps_ind_12_bin'), ('ps_ind_02_cat', 'ps_ind_13_bin'), ('ps_ind_02_cat', 'ps_ind_14'), ('ps_ind_02_cat', 'ps_ind_15'), ('ps_ind_02_cat', 'ps_ind_16_bin'), ('ps_ind_02_cat', 'ps_ind_17_bin'), ('ps_ind_02_cat', 'ps_ind_18_bin'), ('ps_ind_02_cat', 'ps_car_01_cat'), ('ps_ind_02_cat', 'ps_car_02_cat'), ('ps_ind_02_cat', 'ps_car_03_cat'), ('ps_ind_02_cat', 'ps_car_04_cat'), ('ps_ind_02_cat', 'ps_car_05_cat'), ('ps_ind_02_cat', 'ps_car_06_cat'), ('ps_ind_02_cat', 'ps_car_07_cat'), ('ps_ind_02_cat', 'ps_car_08_cat'), ('ps_ind_02_cat', 'ps_car_09_cat'), ('ps_ind_02_cat', 'ps_car_10_cat'), ('ps_ind_02_cat', 'ps_car_11_cat'), ('ps_ind_02_cat', 'ps_car_11'), ('ps_ind_02_cat', 'ps_calc_04'), ('ps_ind_02_cat', 'ps_calc_05'), ('ps_ind_02_cat', 'ps_calc_06'), ('ps_ind_02_cat', 'ps_calc_07'), ('ps_ind_02_cat', 'ps_calc_08'), ('ps_ind_02_cat', 'ps_calc_09'), ('ps_ind_02_cat', 'ps_calc_10'), ('ps_ind_02_cat', 'ps_calc_11'), ('ps_ind_02_cat', 'ps_calc_12'), ('ps_ind_02_cat', 'ps_calc_13'), ('ps_ind_02_cat', 'ps_calc_14'), ('ps_ind_02_cat', 'ps_calc_15_bin'), ('ps_ind_02_cat', 'ps_calc_16_bin'), ('ps_ind_02_cat', 'ps_calc_17_bin'), ('ps_ind_02_cat', 'ps_calc_18_bin'), ('ps_ind_02_cat', 'ps_calc_19_bin'), ('ps_ind_02_cat', 'ps_calc_20_bin')])"
      ]
     },
     "execution_count": 17,
     "metadata": {},
     "output_type": "execute_result"
    }
   ],
   "source": [
    "edges"
   ]
  },
  {
   "cell_type": "code",
   "execution_count": 18,
   "metadata": {},
   "outputs": [],
   "source": [
    "from pgmpy.estimators import BayesianEstimator\n",
    "\n",
    "# there are many choices of parametrization, here is one example\n",
    "model = BayesianModel(dag.edges())\n",
    "model.fit(df, estimator=BayesianEstimator, prior_type='dirichlet', pseudo_counts=0.1)\n"
   ]
  },
  {
   "cell_type": "code",
   "execution_count": 19,
   "metadata": {},
   "outputs": [
    {
     "data": {
      "text/plain": [
       "595212"
      ]
     },
     "execution_count": 19,
     "metadata": {},
     "output_type": "execute_result"
    }
   ],
   "source": [
    "len(df)"
   ]
  },
  {
   "cell_type": "code",
   "execution_count": 20,
   "metadata": {},
   "outputs": [],
   "source": [
    "columns = sorted(df.columns)"
   ]
  },
  {
   "cell_type": "code",
   "execution_count": null,
   "metadata": {},
   "outputs": [],
   "source": []
  },
  {
   "cell_type": "code",
   "execution_count": 21,
   "metadata": {},
   "outputs": [],
   "source": [
    "data = df[columns].values"
   ]
  },
  {
   "cell_type": "code",
   "execution_count": 22,
   "metadata": {},
   "outputs": [],
   "source": [
    "# set up train-test sample.\n",
    "# the test sample is used to calibrate the output of the classifier"
   ]
  },
  {
   "cell_type": "code",
   "execution_count": 23,
   "metadata": {},
   "outputs": [],
   "source": [
    "X1_train, X1_test, y1_train, y1_test = train_test_split(data, np.ones(data.shape[0]), test_size=0.35,\n",
    "                                                        random_state=0)\n",
    "\n"
   ]
  },
  {
   "cell_type": "code",
   "execution_count": 24,
   "metadata": {},
   "outputs": [
    {
     "data": {
      "text/plain": [
       "(386887, 47)"
      ]
     },
     "execution_count": 24,
     "metadata": {},
     "output_type": "execute_result"
    }
   ],
   "source": [
    "X1_train.shape"
   ]
  },
  {
   "cell_type": "code",
   "execution_count": null,
   "metadata": {},
   "outputs": [],
   "source": []
  },
  {
   "cell_type": "code",
   "execution_count": 25,
   "metadata": {},
   "outputs": [],
   "source": [
    "from sklearn.neural_network import MLPClassifier\n",
    "import xgboost as xgb\n",
    "from sklearn.svm import SVC\n",
    "from sklearn.ensemble import RandomForestClassifier"
   ]
  },
  {
   "cell_type": "code",
   "execution_count": 26,
   "metadata": {},
   "outputs": [],
   "source": [
    "from sklearn.linear_model import LogisticRegression"
   ]
  },
  {
   "cell_type": "code",
   "execution_count": 27,
   "metadata": {},
   "outputs": [],
   "source": [
    "clf=MLPClassifier(random_state=0, max_iter=1000, early_stopping=True)"
   ]
  },
  {
   "cell_type": "code",
   "execution_count": 63,
   "metadata": {},
   "outputs": [],
   "source": [
    "clf = xgb.XGBClassifier(max_depth=2)\n",
    "\n",
    "if True:\n",
    "    clf = xgb.XGBClassifier(\n",
    "        n_estimators=250,\n",
    "        reg_lambda=1,\n",
    "        gamma=0,\n",
    "        max_depth=9\n",
    "    )"
   ]
  },
  {
   "cell_type": "code",
   "execution_count": 85,
   "metadata": {},
   "outputs": [],
   "source": [
    "clf = SVC(probability=True)"
   ]
  },
  {
   "cell_type": "code",
   "execution_count": 88,
   "metadata": {},
   "outputs": [],
   "source": [
    "clf = LogisticRegression()"
   ]
  },
  {
   "cell_type": "code",
   "execution_count": 29,
   "metadata": {},
   "outputs": [],
   "source": [
    "import inspect"
   ]
  },
  {
   "cell_type": "code",
   "execution_count": 30,
   "metadata": {},
   "outputs": [],
   "source": [
    "argspecs = inspect.getfullargspec(clf.fit)"
   ]
  },
  {
   "cell_type": "code",
   "execution_count": 31,
   "metadata": {},
   "outputs": [],
   "source": [
    "support_weight = 'sample_weight' in argspecs.args"
   ]
  },
  {
   "cell_type": "code",
   "execution_count": 32,
   "metadata": {},
   "outputs": [],
   "source": [
    "n_one = len(X1_train)\n",
    "n_zero = n_one"
   ]
  },
  {
   "cell_type": "code",
   "execution_count": null,
   "metadata": {},
   "outputs": [],
   "source": []
  },
  {
   "cell_type": "code",
   "execution_count": 33,
   "metadata": {},
   "outputs": [
    {
     "name": "stderr",
     "output_type": "stream",
     "text": [
      "Generating for node: ps_ind_01:   0%|          | 0/47 [00:00<?, ?it/s]    /Users/maxbaak/Projects/pgmpy/pgmpy/factors/discrete/DiscreteFactor.py:517: UserWarning: Found unknown state name. Trying to switch to using all state names as state numbers\n",
      "  warn(\n",
      "Generating for node: ps_car_06_cat: 100%|██████████| 47/47 [02:19<00:00,  2.96s/it] \n"
     ]
    }
   ],
   "source": [
    "from pgmpy.sampling import BayesianModelSampling\n",
    "\n",
    "# sample data from BN\n",
    "\n",
    "#np.random.seed(seed)\n",
    "\n",
    "inference = BayesianModelSampling(model)\n",
    "df_data = inference.forward_sample(size=n_zero, return_type='dataframe')\n",
    "\n",
    "#df_data.columns = [int(c) for c in df_data.columns]"
   ]
  },
  {
   "cell_type": "code",
   "execution_count": 34,
   "metadata": {},
   "outputs": [],
   "source": [
    "X0_train = df_data[columns].values"
   ]
  },
  {
   "cell_type": "code",
   "execution_count": 35,
   "metadata": {},
   "outputs": [
    {
     "data": {
      "text/plain": [
       "array([[2, 1, 8, ..., 1, 0, 0],\n",
       "       [5, 1, 7, ..., 1, 0, 0],\n",
       "       [4, 1, 7, ..., 1, 0, 0],\n",
       "       ...,\n",
       "       [3, 6, 7, ..., 1, 0, 0],\n",
       "       [1, 4, 8, ..., 0, 0, 0],\n",
       "       [1, 2, 6, ..., 0, 0, 1]])"
      ]
     },
     "execution_count": 35,
     "metadata": {},
     "output_type": "execute_result"
    }
   ],
   "source": [
    "X0_train"
   ]
  },
  {
   "cell_type": "code",
   "execution_count": 36,
   "metadata": {},
   "outputs": [
    {
     "data": {
      "text/plain": [
       "array([[2, 4, 6, ..., 0, 1, 0],\n",
       "       [2, 2, 8, ..., 1, 0, 0],\n",
       "       [1, 4, 7, ..., 1, 0, 0],\n",
       "       ...,\n",
       "       [4, 3, 4, ..., 0, 0, 1],\n",
       "       [3, 0, 8, ..., 1, 0, 0],\n",
       "       [1, 1, 6, ..., 0, 0, 1]])"
      ]
     },
     "execution_count": 36,
     "metadata": {},
     "output_type": "execute_result"
    }
   ],
   "source": [
    "X1_train"
   ]
  },
  {
   "cell_type": "code",
   "execution_count": null,
   "metadata": {},
   "outputs": [],
   "source": []
  },
  {
   "cell_type": "code",
   "execution_count": 37,
   "metadata": {},
   "outputs": [],
   "source": [
    "zeros = np.zeros(n_zero)\n",
    "ones = np.ones(n_one)\n",
    "\n",
    "yy = np.concatenate([zeros, ones], axis = 0)\n",
    "XX = np.concatenate([X0_train, X1_train], axis = 0)"
   ]
  },
  {
   "cell_type": "code",
   "execution_count": 64,
   "metadata": {},
   "outputs": [
    {
     "name": "stderr",
     "output_type": "stream",
     "text": [
      "/Users/maxbaak/opt/miniconda3/lib/python3.8/site-packages/xgboost/sklearn.py:888: UserWarning: The use of label encoder in XGBClassifier is deprecated and will be removed in a future release. To remove this warning, do the following: 1) Pass option use_label_encoder=False when constructing XGBClassifier object; and 2) Encode your labels (y) as integers starting with 0, i.e. 0, 1, 2, ..., [num_class - 1].\n",
      "  warnings.warn(label_encoder_deprecation_msg, UserWarning)\n"
     ]
    },
    {
     "name": "stdout",
     "output_type": "stream",
     "text": [
      "[16:10:37] WARNING: /Users/travis/build/dmlc/xgboost/src/learner.cc:1061: Starting in XGBoost 1.3.0, the default evaluation metric used with the objective 'binary:logistic' was changed from 'error' to 'logloss'. Explicitly set eval_metric if you'd like to restore the old behavior.\n"
     ]
    }
   ],
   "source": [
    "clf = clf.fit(XX, yy)"
   ]
  },
  {
   "cell_type": "code",
   "execution_count": 39,
   "metadata": {},
   "outputs": [],
   "source": [
    "# calibrate the probabilities, using the test sample and a new null sample"
   ]
  },
  {
   "cell_type": "code",
   "execution_count": 40,
   "metadata": {},
   "outputs": [
    {
     "name": "stderr",
     "output_type": "stream",
     "text": [
      "Generating for node: ps_car_06_cat: 100%|██████████| 47/47 [03:01<00:00,  3.86s/it] \n"
     ]
    }
   ],
   "source": [
    "df_data = inference.forward_sample(size=500000, return_type='dataframe', seed=10)\n",
    "\n",
    "if False:\n",
    "    df_data.columns = [int(c) for c in df_data.columns]\n",
    "    X = df_data[sorted(df_data.columns)].values\n",
    "X0_test = df_data[columns].values"
   ]
  },
  {
   "cell_type": "code",
   "execution_count": 148,
   "metadata": {},
   "outputs": [],
   "source": [
    "p0 = clf.predict_proba(X0_test)[:, 1]\n",
    "p2 = clf.predict_proba(X1_test)[:, 1]"
   ]
  },
  {
   "cell_type": "code",
   "execution_count": 149,
   "metadata": {},
   "outputs": [
    {
     "data": {
      "text/plain": [
       "(500000, 208325)"
      ]
     },
     "execution_count": 149,
     "metadata": {},
     "output_type": "execute_result"
    }
   ],
   "source": [
    "len(p0), len(p2)"
   ]
  },
  {
   "cell_type": "code",
   "execution_count": null,
   "metadata": {},
   "outputs": [],
   "source": []
  },
  {
   "cell_type": "code",
   "execution_count": 150,
   "metadata": {},
   "outputs": [
    {
     "data": {
      "image/png": "[encoded data removed]",
      "text/plain": [
       "<Figure size 864x504 with 1 Axes>"
      ]
     },
     "metadata": {
      "needs_background": "light"
     },
     "output_type": "display_data"
    }
   ],
   "source": [
    "nbins = 200\n",
    "plt.figure(figsize=(12,7))\n",
    "plt.hist(p0, bins=nbins, range=(0,1), alpha=0.5, log=True, density=True) \n",
    "plt.hist(p2, bins=nbins, range=(0,1), alpha=0.5, log=True, density=True); \n"
   ]
  },
  {
   "cell_type": "code",
   "execution_count": 153,
   "metadata": {},
   "outputs": [
    {
     "data": {
      "text/plain": [
       "array([2.11797854e+07, 1.35031292e+04, 3.09811347e+03, 1.58141144e+03,\n",
       "       6.34198930e+02, 3.85676400e+02, 2.67326418e+02, 3.51988827e+02,\n",
       "       1.16869387e+02, 6.02116362e+01, 1.54088114e+02, 6.62364552e+01,\n",
       "       3.43318726e+01, 3.59428657e+01, 3.45089738e+01, 5.41436057e+01,\n",
       "       3.15288915e+01, 2.05525468e+01, 1.82037616e+01, 1.34431442e+01,\n",
       "       1.21673275e+01, 1.03462804e+01, 3.12756265e+01, 8.53299541e+00,\n",
       "       9.37539675e+00, 1.14336500e+01, 2.83740409e+01, 6.01346283e+00,\n",
       "       6.33268056e+00, 5.66245071e+00, 5.09106946e+00, 5.78800897e+00,\n",
       "       7.47531556e+00, 4.29803626e+00, 5.51481156e+00, 3.36633199e+00,\n",
       "       5.62151296e+00, 2.80598491e+00, 3.08800664e+00, 2.55523028e+00,\n",
       "       3.53505713e+00, 2.59582398e+00, 3.32507953e+00, 2.77552843e+00,\n",
       "       2.27968889e+00, 3.23814239e+00, 2.59508624e+00, 1.99977590e+00,\n",
       "       2.36121469e+00, 3.06793912e+00, 2.47461711e+00, 3.46685188e+00,\n",
       "       1.66348928e+00, 2.55119961e+00, 2.03319378e+00, 1.96560727e+00,\n",
       "       1.79343281e+00, 1.84489545e+00, 2.18217846e+00, 1.49536816e+00,\n",
       "       1.61475460e+00, 1.88454012e+00, 1.52615240e+00, 2.00283444e+00,\n",
       "       1.72070096e+00, 1.79343281e+00, 2.86936533e+00, 1.61159376e+00,\n",
       "       1.89303204e+00, 1.27713795e+00, 1.89180257e+00, 1.51164799e+00,\n",
       "       1.66994440e+00, 1.55771032e+00, 1.85707247e+00, 1.18762639e+00,\n",
       "       1.57198455e+00, 1.73727532e+00, 1.83851527e+00, 1.37723767e+00,\n",
       "       1.31061357e+00, 1.73618573e+00, 1.58487793e+00, 1.34702195e+00,\n",
       "       1.16080606e+00, 1.61159376e+00, 1.34545048e+00, 1.36147570e+00,\n",
       "       1.62278392e+00, 1.30362833e+00, 1.37723767e+00, 1.58960758e+00,\n",
       "       1.48427693e+00, 1.43724562e+00, 1.55507275e+00, 1.56110389e+00,\n",
       "       1.54777057e+00, 2.34083974e+00, 1.31614389e+00, 2.04872008e+00,\n",
       "       1.21684780e+00, 1.45366545e+00, 1.17927154e+00, 1.91404424e+00,\n",
       "       1.50180591e+00, 1.46467888e+00, 1.67581818e+00, 1.51224074e+00,\n",
       "       1.50556688e+00, 1.61435781e+00, 1.26331061e+00, 1.77415589e+00,\n",
       "       1.16399419e+00, 1.77119882e+00, 1.59147711e+00, 1.47640040e+00,\n",
       "       2.14515107e+00, 1.47640040e+00, 1.00000000e+00, 1.58262792e+00,\n",
       "       1.76938060e+00, 2.59774671e+00, 1.86295641e+00, 2.40660477e+00,\n",
       "       2.25071797e+00, 1.61435781e+00, 2.51854008e+00, 2.07218227e+00,\n",
       "       2.44576797e+00, 3.28727980e+00, 2.26746220e+00, 2.14515107e+00,\n",
       "       1.50180591e+00, 2.60172259e+00, 2.52502341e+00, 2.90602276e+00,\n",
       "       2.97396848e+00, 3.16851559e+00, 2.30697852e+00, 4.42492588e+00,\n",
       "       2.97125121e+00, 2.90602276e+00, 4.54643590e+00, 5.42907922e+00,\n",
       "       2.83078047e+00, 3.28727980e+00, 2.58933626e+00, 5.41143045e+00,\n",
       "       5.51075903e+00, 7.30350110e+00, 4.21589093e+00, 6.32861532e+00,\n",
       "       3.80176446e+00, 3.37770547e+00, 5.54876955e+00, 7.85080386e+00,\n",
       "       4.82191395e+00, 6.71536339e+00, 6.15836860e+00, 8.95518382e+00,\n",
       "       9.01680501e+00, 5.88284595e+00, 9.06326296e+00, 9.34451589e+00,\n",
       "       7.49897424e+00, 7.76801002e+00, 8.48725575e+00, 1.11063713e+01,\n",
       "       1.20513452e+01, 8.15241564e+00, 9.13223639e+00, 1.78235252e+01,\n",
       "       1.31900743e+01, 1.67476218e+01, 1.60817300e+01, 1.23937582e+01,\n",
       "       2.03472643e+01, 1.88100159e+01, 2.92239269e+01, 2.04726506e+01,\n",
       "       2.16050554e+01, 2.72427329e+01, 3.18996256e+01, 4.50268493e+01,\n",
       "       5.33066241e+01, 5.63029714e+01, 5.60343494e+01, 8.26181027e+01,\n",
       "       8.32053121e+01, 1.19538997e+02, 1.44231722e+02, 2.10662559e+02,\n",
       "       2.57064981e+02, 4.34588221e+02, 8.20281502e+02, 1.29771652e+03,\n",
       "       3.34792175e+03, 5.36846392e+03, 3.95957180e+04, 4.16636069e+07])"
      ]
     },
     "execution_count": 153,
     "metadata": {},
     "output_type": "execute_result"
    }
   ],
   "source": [
    "nbins = 200\n",
    "binning = np.linspace(0, 1, nbins+1)\n",
    "\n",
    "hist_p0, bin_edges = np.histogram(p0, binning)\n",
    "hist_p1, bin_edges = np.histogram(p2, binning)\n",
    "\n",
    "def poisson_uncertainty(n):\n",
    "    sigman = np.sqrt(n)\n",
    "    # correct poisson counts of zero.\n",
    "    sigman[sigman == 0] = 1.\n",
    "    return sigman\n",
    "\n",
    "def fraction_and_uncertainty(a, b, sigma_a, sigma_b):\n",
    "    frac_a = a / (a + b)\n",
    "    frac_b = b / (a + b)\n",
    "    sigma_fa2 = np.power(frac_b * sigma_a, 2) / np.power(a + b, 2)  +  np.power(frac_a * sigma_b, 2) / np.power(a + b, 2)\n",
    "    return frac_a, np.sqrt(sigma_fa2)\n",
    "\n",
    "rest_p0 = np.sum(hist_p0) - hist_p0\n",
    "rest_p1 = np.sum(hist_p1) - hist_p1\n",
    "\n",
    "sigma_bin0 = poisson_uncertainty(hist_p0)\n",
    "sigma_rest0 = poisson_uncertainty(rest_p0)\n",
    "\n",
    "sigma_bin1 = poisson_uncertainty(hist_p1)\n",
    "sigma_rest1 = poisson_uncertainty(rest_p1)\n",
    "\n",
    "frac0, sigma_frac0 = fraction_and_uncertainty(hist_p0, rest_p0, sigma_bin0, sigma_rest0)\n",
    "frac1, sigma_frac1 = fraction_and_uncertainty(hist_p1, rest_p1, sigma_bin1, sigma_rest1)\n",
    "\n",
    "p1calib, sigma_p1calib = fraction_and_uncertainty(frac1, frac0, sigma_frac1, sigma_frac0)\n",
    "\n",
    "sample_weight = 1 / (sigma_p1calib * sigma_p1calib)\n",
    "\n",
    "sample_weight /= min(sample_weight)\n",
    "\n",
    "sample_weight"
   ]
  },
  {
   "cell_type": "code",
   "execution_count": 235,
   "metadata": {},
   "outputs": [
    {
     "data": {
      "text/plain": [
       "array([9.16362e-01, 2.22360e-02, 1.05880e-02, 6.38000e-03, 4.38200e-03,\n",
       "       3.25400e-03, 2.57200e-03, 2.11400e-03, 1.74800e-03, 1.49600e-03,\n",
       "       1.24200e-03, 1.11400e-03, 1.00400e-03, 8.46000e-04, 7.38000e-04,\n",
       "       7.22000e-04, 6.02000e-04, 6.20000e-04, 5.50000e-04, 5.46000e-04,\n",
       "       5.14000e-04, 4.50000e-04, 4.72000e-04, 4.12000e-04, 3.74000e-04,\n",
       "       3.98000e-04, 3.70000e-04, 3.08000e-04, 2.94000e-04, 2.96000e-04,\n",
       "       2.84000e-04, 3.10000e-04, 2.70000e-04, 2.52000e-04, 2.42000e-04,\n",
       "       2.10000e-04, 2.28000e-04, 1.84000e-04, 2.04000e-04, 1.62000e-04,\n",
       "       2.00000e-04, 1.70000e-04, 2.08000e-04, 1.84000e-04, 1.50000e-04,\n",
       "       1.72000e-04, 1.64000e-04, 1.32000e-04, 1.52000e-04, 1.74000e-04,\n",
       "       1.54000e-04, 1.80000e-04, 1.10000e-04, 1.46000e-04, 1.36000e-04,\n",
       "       1.30000e-04, 1.20000e-04, 1.18000e-04, 1.46000e-04, 1.00000e-04,\n",
       "       1.04000e-04, 1.26000e-04, 1.02000e-04, 1.34000e-04, 1.12000e-04,\n",
       "       1.20000e-04, 1.24000e-04, 1.06000e-04, 1.10000e-04, 6.20000e-05,\n",
       "       1.22000e-04, 9.80000e-05, 1.02000e-04, 1.04000e-04, 1.06000e-04,\n",
       "       7.60000e-05, 9.20000e-05, 1.14000e-04, 1.14000e-04, 8.20000e-05,\n",
       "       8.00000e-05, 1.04000e-04, 9.80000e-05, 9.00000e-05, 5.40000e-05,\n",
       "       1.06000e-04, 7.20000e-05, 8.80000e-05, 7.20000e-05, 7.40000e-05,\n",
       "       8.20000e-05, 6.20000e-05, 8.20000e-05, 8.80000e-05, 1.04000e-04,\n",
       "       1.02000e-04, 7.20000e-05, 7.20000e-05, 6.80000e-05, 7.40000e-05,\n",
       "       4.80000e-05, 6.80000e-05, 6.60000e-05, 9.80000e-05, 7.60000e-05,\n",
       "       7.00000e-05, 5.80000e-05, 6.40000e-05, 6.20000e-05, 7.00000e-05,\n",
       "       8.40000e-05, 6.80000e-05, 7.00000e-05, 6.60000e-05, 8.80000e-05,\n",
       "       7.20000e-05, 7.00000e-05, 7.20000e-05, 5.80000e-05, 5.60000e-05,\n",
       "       6.40000e-05, 5.40000e-05, 6.80000e-05, 6.00000e-05, 6.80000e-05,\n",
       "       7.00000e-05, 8.20000e-05, 6.00000e-05, 5.60000e-05, 8.00000e-05,\n",
       "       6.40000e-05, 7.00000e-05, 7.60000e-05, 4.60000e-05, 6.00000e-05,\n",
       "       7.00000e-05, 6.40000e-05, 6.00000e-05, 5.80000e-05, 5.00000e-05,\n",
       "       7.60000e-05, 7.00000e-05, 7.00000e-05, 6.80000e-05, 5.60000e-05,\n",
       "       8.00000e-05, 6.60000e-05, 7.80000e-05, 6.60000e-05, 5.60000e-05,\n",
       "       7.80000e-05, 6.80000e-05, 4.80000e-05, 7.20000e-05, 8.40000e-05,\n",
       "       6.60000e-05, 9.00000e-05, 8.80000e-05, 9.00000e-05, 6.60000e-05,\n",
       "       8.60000e-05, 7.40000e-05, 8.20000e-05, 8.40000e-05, 9.00000e-05,\n",
       "       9.20000e-05, 7.20000e-05, 9.20000e-05, 7.60000e-05, 1.04000e-04,\n",
       "       9.80000e-05, 6.60000e-05, 8.40000e-05, 1.02000e-04, 9.00000e-05,\n",
       "       9.80000e-05, 7.60000e-05, 9.60000e-05, 7.00000e-05, 1.02000e-04,\n",
       "       1.18000e-04, 9.20000e-05, 9.60000e-05, 7.80000e-05, 7.40000e-05,\n",
       "       8.40000e-05, 1.08000e-04, 9.60000e-05, 1.14000e-04, 9.40000e-05,\n",
       "       9.40000e-05, 1.04000e-04, 1.26000e-04, 1.04000e-04, 9.80000e-05,\n",
       "       1.08000e-04, 9.00000e-05, 1.44000e-04, 1.10000e-04, 8.40000e-05])"
      ]
     },
     "execution_count": 235,
     "metadata": {},
     "output_type": "execute_result"
    }
   ],
   "source": [
    "frac0"
   ]
  },
  {
   "cell_type": "code",
   "execution_count": 234,
   "metadata": {},
   "outputs": [
    {
     "data": {
      "text/plain": [
       "array([7.20028801e-05, 6.72026881e-05, 6.72026881e-05, 4.80019201e-05,\n",
       "       5.76023041e-05, 5.28021121e-05, 4.80019201e-05, 2.40009600e-05,\n",
       "       5.28021121e-05, 8.16032641e-05, 1.92007680e-05, 3.84015361e-05,\n",
       "       6.72026881e-05, 4.32017281e-05, 3.36013441e-05, 1.92007680e-05,\n",
       "       2.40009600e-05, 4.32017281e-05, 3.84015361e-05, 5.76023041e-05,\n",
       "       5.76023041e-05, 5.28021121e-05, 1.44005760e-05, 5.76023041e-05,\n",
       "       3.84015361e-05, 3.36013441e-05, 9.60038402e-06, 4.80019201e-05,\n",
       "       3.84015361e-05, 4.80019201e-05, 5.28021121e-05, 5.28021121e-05,\n",
       "       2.40009600e-05, 5.28021121e-05, 2.88011520e-05, 5.28021121e-05,\n",
       "       2.40009600e-05, 5.76023041e-05, 6.72026881e-05, 4.32017281e-05,\n",
       "       3.84015361e-05, 5.28021121e-05, 5.28021121e-05, 6.24024961e-05,\n",
       "       4.80019201e-05, 2.88011520e-05, 4.32017281e-05, 4.32017281e-05,\n",
       "       4.32017281e-05, 3.36013441e-05, 3.84015361e-05, 2.88011520e-05,\n",
       "       5.28021121e-05, 2.88011520e-05, 5.28021121e-05, 4.32017281e-05,\n",
       "       4.80019201e-05, 6.72026881e-05, 5.76023041e-05, 3.84015361e-05,\n",
       "       5.76023041e-05, 5.28021121e-05, 4.32017281e-05, 5.28021121e-05,\n",
       "       3.36013441e-05, 4.80019201e-05, 1.44005760e-05, 5.28021121e-05,\n",
       "       8.16032641e-05, 6.24024961e-05, 6.72026881e-05, 2.88011520e-05,\n",
       "       6.72026881e-05, 3.84015361e-05, 8.16032641e-05, 4.32017281e-05,\n",
       "       6.72026881e-05, 5.76023041e-05, 7.20028801e-05, 5.76023041e-05,\n",
       "       5.28021121e-05, 7.20028801e-05, 6.24024961e-05, 3.84015361e-05,\n",
       "       5.76023041e-05, 5.28021121e-05, 6.24024961e-05, 4.80019201e-05,\n",
       "       8.16032641e-05, 5.76023041e-05, 5.76023041e-05, 8.16032641e-05,\n",
       "       6.72026881e-05, 5.76023041e-05, 4.32017281e-05, 5.28021121e-05,\n",
       "       7.68030721e-05, 1.20004800e-04, 6.24024961e-05, 1.05604224e-04,\n",
       "       6.24024961e-05, 7.20028801e-05, 5.28021121e-05, 9.12036481e-05,\n",
       "       7.20028801e-05, 7.20028801e-05, 8.64034561e-05, 7.68030721e-05,\n",
       "       7.68030721e-05, 8.16032641e-05, 3.84015361e-05, 9.12036481e-05,\n",
       "       4.80019201e-05, 9.12036481e-05, 7.20028801e-05, 7.20028801e-05,\n",
       "       1.10404416e-04, 7.20028801e-05, 4.32017281e-05, 8.16032641e-05,\n",
       "       9.12036481e-05, 1.24804992e-04, 9.60038402e-05, 1.20004800e-04,\n",
       "       1.15204608e-04, 8.16032641e-05, 1.29605184e-04, 1.05604224e-04,\n",
       "       1.20004800e-04, 1.63206528e-04, 1.15204608e-04, 1.10404416e-04,\n",
       "       7.20028801e-05, 1.20004800e-04, 1.24804992e-04, 1.44005760e-04,\n",
       "       1.44005760e-04, 1.48805952e-04, 1.15204608e-04, 1.77607104e-04,\n",
       "       1.48805952e-04, 1.44005760e-04, 2.01608064e-04, 2.25609024e-04,\n",
       "       1.34405376e-04, 1.63206528e-04, 1.29605184e-04, 2.35209408e-04,\n",
       "       2.25609024e-04, 2.54410176e-04, 1.96807872e-04, 2.49609984e-04,\n",
       "       1.58406336e-04, 1.63206528e-04, 2.44809792e-04, 2.83211328e-04,\n",
       "       2.25609024e-04, 2.83211328e-04, 2.68810752e-04, 3.07212288e-04,\n",
       "       3.40813633e-04, 2.44809792e-04, 3.36013441e-04, 3.45613825e-04,\n",
       "       3.07212288e-04, 3.16812673e-04, 3.07212288e-04, 3.98415937e-04,\n",
       "       3.88815553e-04, 3.40813633e-04, 3.60014401e-04, 4.60818433e-04,\n",
       "       4.27217089e-04, 5.32821313e-04, 4.94419777e-04, 4.36817473e-04,\n",
       "       5.28021121e-04, 5.56822273e-04, 6.24024961e-04, 6.00024001e-04,\n",
       "       6.57626305e-04, 6.76827073e-04, 7.53630145e-04, 8.30433217e-04,\n",
       "       8.88035521e-04, 9.69638786e-04, 1.08484339e-03, 1.26725069e-03,\n",
       "       1.37765511e-03, 1.52646106e-03, 1.68486739e-03, 2.15528621e-03,\n",
       "       2.62090484e-03, 3.13452538e-03, 4.21456858e-03, 5.58262330e-03,\n",
       "       8.24192968e-03, 1.32005280e-02, 3.15228609e-02, 8.96032641e-01])"
      ]
     },
     "execution_count": 234,
     "metadata": {},
     "output_type": "execute_result"
    }
   ],
   "source": [
    "frac1"
   ]
  },
  {
   "cell_type": "code",
   "execution_count": 236,
   "metadata": {},
   "outputs": [
    {
     "data": {
      "text/plain": [
       "0.521388"
      ]
     },
     "execution_count": 236,
     "metadata": {},
     "output_type": "execute_result"
    }
   ],
   "source": [
    "8.40000e-05 * 6207"
   ]
  },
  {
   "cell_type": "code",
   "execution_count": 204,
   "metadata": {},
   "outputs": [
    {
     "data": {
      "text/plain": [
       "0.1543033499620919"
      ]
     },
     "execution_count": 204,
     "metadata": {},
     "output_type": "execute_result"
    }
   ],
   "source": [
    "np.sqrt(hist_p0[-1]) / hist_p0[-1]"
   ]
  },
  {
   "cell_type": "code",
   "execution_count": 156,
   "metadata": {},
   "outputs": [
    {
     "data": {
      "text/plain": [
       "[<matplotlib.lines.Line2D at 0x7fcb9a4c9a60>]"
      ]
     },
     "execution_count": 156,
     "metadata": {},
     "output_type": "execute_result"
    },
    {
     "data": {
      "image/png": "[encoded data removed]",
      "text/plain": [
       "<Figure size 864x504 with 1 Axes>"
      ]
     },
     "metadata": {
      "needs_background": "light"
     },
     "output_type": "display_data"
    }
   ],
   "source": [
    "plt.figure(figsize=(12,7))\n",
    "plt.plot(bin_centers, p1calib)"
   ]
  },
  {
   "cell_type": "code",
   "execution_count": 157,
   "metadata": {},
   "outputs": [],
   "source": [
    "from sklearn.isotonic import IsotonicRegression\n",
    "from scipy import interpolate"
   ]
  },
  {
   "cell_type": "code",
   "execution_count": 167,
   "metadata": {},
   "outputs": [],
   "source": [
    "# we recalibrate per probability bin. NO interpolation (not valid in highest bin)\n",
    "\n",
    "#hist_p0, bin_edges = np.histogram(p0, bins=nbins, range=(0, 1))\n",
    "#hist_p1, bin_edges = np.histogram(p2, bins=nbins, range=(0, 1)) #### !!!! p2\n",
    "bin_centers = bin_edges[:-1] + 0.5/nbins\n",
    "\n",
    "hnorm_p0 = hist_p0 / sum(hist_p0)\n",
    "hnorm_p1 = hist_p1 / sum(hist_p1)\n",
    "hnorm_sum = hnorm_p0 + hnorm_p1\n",
    "p1cb = np.divide(hnorm_p1, hnorm_sum, out=np.zeros_like(hnorm_p1), where=hnorm_sum != 0)\n",
    "# self.p1cb = p1cb, bin_centers\n",
    "\n",
    "# use isotonic regression to smooth out potential fluctuations in the p1 values\n",
    "# isotonic regression assumes that p1 can only be a rising function.\n",
    "# I’m assuming that if a classifier predicts a higher probability, the calibrated probability\n",
    "# will also be higher. This may not always be right, but I think generally it is a safe one.\n",
    "iso_reg = IsotonicRegression(y_min=0, y_max=1).fit(bin_centers, p1calib, sample_weight)\n",
    "p1pred = iso_reg.predict(bin_centers)\n",
    "\n",
    "p1f_ = interpolate.interp1d(bin_edges[:-1], p1pred, kind='previous', bounds_error=False, fill_value=\"extrapolate\")\n",
    "\n",
    "p1pred = p1f_(bin_centers)"
   ]
  },
  {
   "cell_type": "code",
   "execution_count": 211,
   "metadata": {},
   "outputs": [],
   "source": [
    "p1pred[-1] = 0.9998389328412737\n",
    "\n",
    "p1f_ = interpolate.interp1d(bin_edges[:-1], p1pred, kind='previous', bounds_error=False, fill_value=\"extrapolate\")\n",
    "\n",
    "p1pred = p1f_(bin_centers)"
   ]
  },
  {
   "cell_type": "code",
   "execution_count": 212,
   "metadata": {},
   "outputs": [
    {
     "data": {
      "text/plain": [
       "[<matplotlib.lines.Line2D at 0x7fcb9d0d1310>]"
      ]
     },
     "execution_count": 212,
     "metadata": {},
     "output_type": "execute_result"
    },
    {
     "data": {
      "image/png": "[encoded data removed]",
      "text/plain": [
       "<Figure size 864x504 with 1 Axes>"
      ]
     },
     "metadata": {
      "needs_background": "light"
     },
     "output_type": "display_data"
    }
   ],
   "source": [
    "plt.figure(figsize=(12,7))\n",
    "plt.plot(bin_centers, p1cb)\n",
    "plt.plot(bin_centers, p1pred)\n",
    "plt.plot(bin_centers, bin_centers)\n",
    "#plt.plot(bin_centers, p1lin)"
   ]
  },
  {
   "cell_type": "code",
   "execution_count": 213,
   "metadata": {},
   "outputs": [],
   "source": [
    "x = np.linspace(0.9,1,500)"
   ]
  },
  {
   "cell_type": "code",
   "execution_count": 214,
   "metadata": {},
   "outputs": [],
   "source": [
    "pp = p1f_(x)"
   ]
  },
  {
   "cell_type": "code",
   "execution_count": 215,
   "metadata": {},
   "outputs": [
    {
     "data": {
      "text/plain": [
       "[<matplotlib.lines.Line2D at 0x7fcb9d4ce160>]"
      ]
     },
     "execution_count": 215,
     "metadata": {},
     "output_type": "execute_result"
    },
    {
     "data": {
      "image/png": "[encoded data removed]",
      "text/plain": [
       "<Figure size 864x504 with 1 Axes>"
      ]
     },
     "metadata": {
      "needs_background": "light"
     },
     "output_type": "display_data"
    }
   ],
   "source": [
    "plt.figure(figsize=(12,7))\n",
    "#plt.plot(bin_centers, p1cb)\n",
    "plt.plot(x, pp)"
   ]
  },
  {
   "cell_type": "code",
   "execution_count": 216,
   "metadata": {},
   "outputs": [
    {
     "data": {
      "text/plain": [
       "array(0.99983893)"
      ]
     },
     "execution_count": 216,
     "metadata": {},
     "output_type": "execute_result"
    }
   ],
   "source": [
    "maxp1 = p1f_(0.999)\n",
    "maxp1"
   ]
  },
  {
   "cell_type": "code",
   "execution_count": 217,
   "metadata": {},
   "outputs": [
    {
     "data": {
      "text/plain": [
       "array(0.9965226)"
      ]
     },
     "execution_count": 217,
     "metadata": {},
     "output_type": "execute_result"
    }
   ],
   "source": [
    "maxp2 = p1f_(0.991)\n",
    "maxp2"
   ]
  },
  {
   "cell_type": "code",
   "execution_count": 218,
   "metadata": {},
   "outputs": [
    {
     "data": {
      "text/plain": [
       "6207.590304241589"
      ]
     },
     "execution_count": 218,
     "metadata": {},
     "output_type": "execute_result"
    }
   ],
   "source": [
    "max_weight = maxp1 / (1. - maxp1)\n",
    "max_weight"
   ]
  },
  {
   "cell_type": "code",
   "execution_count": 219,
   "metadata": {},
   "outputs": [
    {
     "data": {
      "text/plain": [
       "286.57146285851354"
      ]
     },
     "execution_count": 219,
     "metadata": {},
     "output_type": "execute_result"
    }
   ],
   "source": [
    "sw = p1f_(0.991) / (1. - p1f_(0.991))\n",
    "sw"
   ]
  },
  {
   "cell_type": "code",
   "execution_count": 220,
   "metadata": {},
   "outputs": [],
   "source": [
    "# validation - part 1: check if reweighting works okay"
   ]
  },
  {
   "cell_type": "code",
   "execution_count": 53,
   "metadata": {},
   "outputs": [
    {
     "name": "stderr",
     "output_type": "stream",
     "text": [
      "Generating for node: ps_ind_01:   0%|          | 0/47 [00:00<?, ?it/s]    /Users/maxbaak/Projects/pgmpy/pgmpy/factors/discrete/DiscreteFactor.py:517: UserWarning: Found unknown state name. Trying to switch to using all state names as state numbers\n",
      "  warn(\n",
      "Generating for node: ps_car_06_cat: 100%|██████████| 47/47 [01:28<00:00,  1.88s/it] \n"
     ]
    }
   ],
   "source": [
    "from pgmpy.sampling import BayesianModelSampling\n",
    "\n",
    "# sample data from BN\n",
    "inference = BayesianModelSampling(model)\n",
    "\n",
    "df_data = inference.forward_sample(size=250000, return_type='dataframe', seed=1)\n",
    "\n",
    "#df_data.columns = [int(c) for c in df_data.columns]\n",
    "\n",
    "X = df_data[columns].values"
   ]
  },
  {
   "cell_type": "code",
   "execution_count": 221,
   "metadata": {},
   "outputs": [],
   "source": [
    "p0 = clf.predict_proba(X)[:, 1]\n",
    "nominator = p1f_(p0)\n",
    "denominator = 1 - nominator\n",
    "weight = np.divide(nominator, denominator, out=np.ones_like(nominator), where=denominator != 0)"
   ]
  },
  {
   "cell_type": "code",
   "execution_count": 222,
   "metadata": {},
   "outputs": [
    {
     "data": {
      "text/plain": [
       "(250000, 250000.00000103982)"
      ]
     },
     "execution_count": 222,
     "metadata": {},
     "output_type": "execute_result"
    }
   ],
   "source": [
    "len(X), sum(weight)"
   ]
  },
  {
   "cell_type": "code",
   "execution_count": 223,
   "metadata": {},
   "outputs": [],
   "source": [
    "keep = weight == max_weight\n",
    "same = weight != max_weight"
   ]
  },
  {
   "cell_type": "code",
   "execution_count": 224,
   "metadata": {},
   "outputs": [
    {
     "data": {
      "text/plain": [
       "(26526.749047327834, 223473.25095269727)"
      ]
     },
     "execution_count": 224,
     "metadata": {},
     "output_type": "execute_result"
    }
   ],
   "source": [
    "np.sum(weight[same]), np.sum(weight[keep]), "
   ]
  },
  {
   "cell_type": "code",
   "execution_count": 197,
   "metadata": {},
   "outputs": [
    {
     "name": "stderr",
     "output_type": "stream",
     "text": [
      "<ipython-input-197-c8eac373052c>:1: RuntimeWarning: divide by zero encountered in double_scalars\n",
      "  ratio = (250000 - np.sum(weight[same])) / np.sum(weight[keep])\n"
     ]
    }
   ],
   "source": [
    "ratio = (250000 - np.sum(weight[same])) / np.sum(weight[keep])"
   ]
  },
  {
   "cell_type": "code",
   "execution_count": 198,
   "metadata": {},
   "outputs": [],
   "source": [
    "weight[keep] = weight[keep] * ratio"
   ]
  },
  {
   "cell_type": "code",
   "execution_count": 225,
   "metadata": {},
   "outputs": [
    {
     "data": {
      "image/png": "[encoded data removed]",
      "text/plain": [
       "<Figure size 432x288 with 1 Axes>"
      ]
     },
     "metadata": {
      "needs_background": "light"
     },
     "output_type": "display_data"
    }
   ],
   "source": [
    "plt.hist(weight[weight < 20], bins=100, log=True);"
   ]
  },
  {
   "cell_type": "code",
   "execution_count": 226,
   "metadata": {},
   "outputs": [],
   "source": [
    "max_weight = max(weight)"
   ]
  },
  {
   "cell_type": "code",
   "execution_count": 227,
   "metadata": {},
   "outputs": [
    {
     "data": {
      "text/plain": [
       "6207.590304241589"
      ]
     },
     "execution_count": 227,
     "metadata": {},
     "output_type": "execute_result"
    }
   ],
   "source": [
    "max_weight"
   ]
  },
  {
   "cell_type": "code",
   "execution_count": 228,
   "metadata": {},
   "outputs": [
    {
     "data": {
      "text/plain": [
       "0.9998389328412737"
      ]
     },
     "execution_count": 228,
     "metadata": {},
     "output_type": "execute_result"
    }
   ],
   "source": [
    "max_weight / (1 + max_weight)"
   ]
  },
  {
   "cell_type": "code",
   "execution_count": 237,
   "metadata": {},
   "outputs": [
    {
     "data": {
      "text/plain": [
       "250000.00000103982"
      ]
     },
     "execution_count": 237,
     "metadata": {},
     "output_type": "execute_result"
    }
   ],
   "source": [
    "sum(weight)"
   ]
  },
  {
   "cell_type": "code",
   "execution_count": 230,
   "metadata": {},
   "outputs": [],
   "source": [
    "from random import choices"
   ]
  },
  {
   "cell_type": "code",
   "execution_count": 231,
   "metadata": {},
   "outputs": [],
   "source": [
    "#data, sample_weights = self._sample_no_transform(n_samples, random_state)\n",
    "pop = np.asarray(range(X.shape[0]))\n",
    "probs = weight/np.sum(weight)\n",
    "sample = choices(pop, probs, k=X.shape[0])\n",
    "Xtrans = X[sample]\n"
   ]
  },
  {
   "cell_type": "code",
   "execution_count": 232,
   "metadata": {},
   "outputs": [],
   "source": [
    "p0 = clf.predict_proba(Xtrans)[:, 1]\n",
    "p2 = clf.predict_proba(X1_test)[:, 1]\n"
   ]
  },
  {
   "cell_type": "code",
   "execution_count": 233,
   "metadata": {},
   "outputs": [
    {
     "data": {
      "image/png": "[encoded data removed]",
      "text/plain": [
       "<Figure size 864x504 with 1 Axes>"
      ]
     },
     "metadata": {
      "needs_background": "light"
     },
     "output_type": "display_data"
    }
   ],
   "source": [
    "plt.figure(figsize=(12,7))\n",
    "plt.hist(p0, bins=200, range=(0,1), alpha=0.5, density=True, log=True) #, weights=weight)#, log=True)\n",
    "plt.hist(p2, bins=200, range=(0,1), alpha=0.5, density=True, log=True);\n"
   ]
  },
  {
   "cell_type": "code",
   "execution_count": 189,
   "metadata": {},
   "outputs": [
    {
     "data": {
      "image/png": "[encoded data removed]",
      "text/plain": [
       "<Figure size 864x504 with 1 Axes>"
      ]
     },
     "metadata": {
      "needs_background": "light"
     },
     "output_type": "display_data"
    }
   ],
   "source": [
    "plt.figure(figsize=(12,7))\n",
    "plt.hist(p0, bins=100, range=(0,1), alpha=0.5, density=True, log=True) #, weights=weight)#, log=True)\n",
    "plt.hist(p2, bins=100, range=(0,1), alpha=0.5, density=True, log=True);\n"
   ]
  },
  {
   "cell_type": "code",
   "execution_count": 137,
   "metadata": {},
   "outputs": [],
   "source": [
    "# validation - part 2: plot distributions"
   ]
  },
  {
   "cell_type": "code",
   "execution_count": 238,
   "metadata": {},
   "outputs": [
    {
     "data": {
      "text/plain": [
       "(array([26.57688625,  0.        ,  0.        ,  0.        ,  0.        ,\n",
       "         0.        ,  0.        ,  0.        ,  0.        ,  0.        ,\n",
       "         0.        ,  0.        ,  0.        ,  0.        ,  0.        ,\n",
       "         0.        ,  0.        ,  0.        ,  0.        ,  0.        ,\n",
       "         0.        ,  0.        ,  0.        ,  0.        ,  0.        ,\n",
       "         0.        ,  0.        ,  0.        ,  0.        ,  0.        ,\n",
       "         0.        ,  0.        ,  0.        ,  0.        ,  0.        ,\n",
       "         0.        ,  0.        ,  0.        ,  0.        ,  0.        ,\n",
       "         0.        ,  0.        ,  0.        ,  0.        ,  0.        ,\n",
       "         0.        ,  0.        ,  0.        ,  0.        ,  0.        ,\n",
       "         0.        ,  0.        ,  0.        ,  0.        ,  0.        ,\n",
       "         0.        ,  0.        ,  0.        ,  0.        ,  0.        ,\n",
       "         0.        ,  0.        ,  0.        ,  0.        ,  0.        ,\n",
       "         0.        ,  0.        ,  0.        ,  0.        ,  0.        ,\n",
       "         0.        ,  0.        ,  0.        ,  0.        ,  0.        ,\n",
       "         0.        ,  0.        ,  0.        ,  0.        ,  0.        ,\n",
       "         0.        ,  0.        ,  0.        ,  0.        ,  0.        ,\n",
       "         0.        ,  0.        ,  0.        ,  0.        ,  0.        ,\n",
       "         0.        ,  0.        ,  0.        ,  0.        ,  0.        ,\n",
       "         0.        ,  0.        ,  0.        ,  0.        , 73.42311375]),\n",
       " array([0.  , 0.01, 0.02, 0.03, 0.04, 0.05, 0.06, 0.07, 0.08, 0.09, 0.1 ,\n",
       "        0.11, 0.12, 0.13, 0.14, 0.15, 0.16, 0.17, 0.18, 0.19, 0.2 , 0.21,\n",
       "        0.22, 0.23, 0.24, 0.25, 0.26, 0.27, 0.28, 0.29, 0.3 , 0.31, 0.32,\n",
       "        0.33, 0.34, 0.35, 0.36, 0.37, 0.38, 0.39, 0.4 , 0.41, 0.42, 0.43,\n",
       "        0.44, 0.45, 0.46, 0.47, 0.48, 0.49, 0.5 , 0.51, 0.52, 0.53, 0.54,\n",
       "        0.55, 0.56, 0.57, 0.58, 0.59, 0.6 , 0.61, 0.62, 0.63, 0.64, 0.65,\n",
       "        0.66, 0.67, 0.68, 0.69, 0.7 , 0.71, 0.72, 0.73, 0.74, 0.75, 0.76,\n",
       "        0.77, 0.78, 0.79, 0.8 , 0.81, 0.82, 0.83, 0.84, 0.85, 0.86, 0.87,\n",
       "        0.88, 0.89, 0.9 , 0.91, 0.92, 0.93, 0.94, 0.95, 0.96, 0.97, 0.98,\n",
       "        0.99, 1.  ]),\n",
       " <a list of 100 Patch objects>)"
      ]
     },
     "execution_count": 238,
     "metadata": {},
     "output_type": "execute_result"
    },
    {
     "data": {
      "image/png": "[encoded data removed]",
      "text/plain": [
       "<Figure size 864x504 with 1 Axes>"
      ]
     },
     "metadata": {
      "needs_background": "light"
     },
     "output_type": "display_data"
    }
   ],
   "source": [
    "i = 1\n",
    "plt.figure(figsize=(12,7))\n",
    "plt.hist(X[:, i], bins=100, range=(0,1), alpha=0.5, density=True)#, log=True)\n",
    "plt.hist(X1_test[:, i], bins=100, range=(0,1), alpha=0.5, density=True)\n"
   ]
  },
  {
   "cell_type": "code",
   "execution_count": null,
   "metadata": {},
   "outputs": [],
   "source": []
  },
  {
   "cell_type": "code",
   "execution_count": 239,
   "metadata": {},
   "outputs": [],
   "source": [
    "# validation part 3: check number of duplicates"
   ]
  },
  {
   "cell_type": "code",
   "execution_count": 65,
   "metadata": {},
   "outputs": [
    {
     "name": "stderr",
     "output_type": "stream",
     "text": [
      "Generating for node: 2: 100%|██████████| 37/37 [00:45<00:00,  1.24s/it] \n"
     ]
    }
   ],
   "source": [
    "df_data = inference.forward_sample(size=500000, return_type='dataframe', seed=2)\n",
    "#df_data.columns = [int(c) for c in df_data.columns]\n",
    "X10k = df_data[columns].values"
   ]
  },
  {
   "cell_type": "code",
   "execution_count": 66,
   "metadata": {},
   "outputs": [],
   "source": [
    "p0 = clf.predict_proba(X10k)[:, 1]\n",
    "nominator = p1f_(p0)\n",
    "denominator = 1 - nominator\n",
    "weight = np.divide(nominator, denominator, out=np.ones_like(nominator), where=denominator != 0)"
   ]
  },
  {
   "cell_type": "code",
   "execution_count": 67,
   "metadata": {},
   "outputs": [
    {
     "data": {
      "text/plain": [
       "493328.3794656135"
      ]
     },
     "execution_count": 67,
     "metadata": {},
     "output_type": "execute_result"
    }
   ],
   "source": [
    "sum(weight)"
   ]
  },
  {
   "cell_type": "code",
   "execution_count": 68,
   "metadata": {},
   "outputs": [],
   "source": [
    "pop = np.asarray(range(X10k.shape[0]))\n",
    "probs = weight/np.sum(weight)\n",
    "sample = choices(pop, probs, k=X10k.shape[0])\n",
    "Xtrans = X10k[sample]\n"
   ]
  },
  {
   "cell_type": "code",
   "execution_count": 249,
   "metadata": {},
   "outputs": [],
   "source": [
    "#u, c = np.unique(Xtrans, axis=0, return_counts=True)\n",
    "u, c = np.unique(Xtrans, axis=0, return_counts=True)"
   ]
  },
  {
   "cell_type": "code",
   "execution_count": 253,
   "metadata": {},
   "outputs": [],
   "source": [
    "counts = np.sort(c)[::-1] "
   ]
  },
  {
   "cell_type": "code",
   "execution_count": 254,
   "metadata": {},
   "outputs": [
    {
     "data": {
      "text/plain": [
       "array([6397, 6368, 6361, ...,    1,    1,    1])"
      ]
     },
     "execution_count": 254,
     "metadata": {},
     "output_type": "execute_result"
    }
   ],
   "source": [
    "counts"
   ]
  },
  {
   "cell_type": "code",
   "execution_count": 255,
   "metadata": {},
   "outputs": [],
   "source": [
    "u, c = np.unique(data, axis=0, return_counts=True)"
   ]
  },
  {
   "cell_type": "code",
   "execution_count": 256,
   "metadata": {},
   "outputs": [],
   "source": [
    "c2 = np.sort(c)[::-1] "
   ]
  },
  {
   "cell_type": "code",
   "execution_count": 257,
   "metadata": {},
   "outputs": [
    {
     "data": {
      "text/plain": [
       "array([1, 1, 1, ..., 1, 1, 1])"
      ]
     },
     "execution_count": 257,
     "metadata": {},
     "output_type": "execute_result"
    }
   ],
   "source": [
    "c2"
   ]
  },
  {
   "cell_type": "code",
   "execution_count": 80,
   "metadata": {},
   "outputs": [
    {
     "data": {
      "text/plain": [
       "<BarContainer object of 40 artists>"
      ]
     },
     "execution_count": 80,
     "metadata": {},
     "output_type": "execute_result"
    },
    {
     "data": {
      "image/png": "[encoded data removed]",
      "text/plain": [
       "<Figure size 864x504 with 1 Axes>"
      ]
     },
     "metadata": {
      "needs_background": "light"
     },
     "output_type": "display_data"
    }
   ],
   "source": [
    "plt.figure(figsize=(12,7))\n",
    "plt.bar(list(range(40)), c2[:40], alpha=0.5)\n",
    "plt.bar(list(range(40)), counts[:40], alpha=0.5)\n"
   ]
  },
  {
   "cell_type": "code",
   "execution_count": 74,
   "metadata": {},
   "outputs": [
    {
     "data": {
      "text/plain": [
       "<BarContainer object of 40 artists>"
      ]
     },
     "execution_count": 74,
     "metadata": {},
     "output_type": "execute_result"
    },
    {
     "data": {
      "image/png": "[encoded data removed]",
      "text/plain": [
       "<Figure size 864x504 with 1 Axes>"
      ]
     },
     "metadata": {
      "needs_background": "light"
     },
     "output_type": "display_data"
    }
   ],
   "source": [
    "plt.figure(figsize=(12,7))\n",
    "plt.bar(list(range(40)), c2[:40], alpha=0.5)\n",
    "plt.bar(list(range(40)), counts[:40], alpha=0.5)\n"
   ]
  },
  {
   "cell_type": "code",
   "execution_count": null,
   "metadata": {},
   "outputs": [],
   "source": []
  },
  {
   "cell_type": "code",
   "execution_count": null,
   "metadata": {},
   "outputs": [],
   "source": []
  },
  {
   "cell_type": "code",
   "execution_count": null,
   "metadata": {},
   "outputs": [],
   "source": []
  },
  {
   "cell_type": "code",
   "execution_count": 77,
   "metadata": {},
   "outputs": [],
   "source": [
    "import numpy as np\n",
    "import pandas as pd\n",
    "from sdgym import benchmark\n",
    "from sdgym import load_dataset\n",
    "from xgboost import XGBClassifier\n",
    "from sklearn.neural_network import MLPClassifier\n",
    "from synthsonic.models.kde_copula_nn_pdf import KDECopulaNNPdf\n",
    "from synthsonic.models.categorical_utils import categorical_round, vec_translate, categorical_frequency_mapping, \\\n",
    "            categorical_frequency_inverse_mapping, encode_one_hot, decode_one_hot\n",
    "from timeit import default_timer as timer\n",
    "import xgboost as xgb\n",
    "from sklearn.decomposition import PCA\n",
    "%matplotlib inline\n",
    "\n",
    "from functools import partial"
   ]
  },
  {
   "cell_type": "code",
   "execution_count": 78,
   "metadata": {},
   "outputs": [],
   "source": [
    "\n",
    "df = pd.DataFrame(Xtrans)\n",
    "df.to_csv('test.csv', index=False)\n"
   ]
  },
  {
   "cell_type": "code",
   "execution_count": null,
   "metadata": {},
   "outputs": [],
   "source": []
  },
  {
   "cell_type": "code",
   "execution_count": 79,
   "metadata": {},
   "outputs": [],
   "source": [
    "def KDECopulaNNPdf_RoundCategorical(real_data, categorical_columns, ordinal_columns, times=None):\n",
    "    df = pd.read_csv('test.csv')\n",
    "    data = df.values[:25000]\n",
    "    return data"
   ]
  },
  {
   "cell_type": "code",
   "execution_count": null,
   "metadata": {},
   "outputs": [],
   "source": []
  },
  {
   "cell_type": "code",
   "execution_count": 85,
   "metadata": {},
   "outputs": [],
   "source": [
    "alarm_times = []\n",
    "alarm_thing = partial(KDECopulaNNPdf_RoundCategorical)\n",
    "alarm_thing.__name__ = KDECopulaNNPdf_RoundCategorical.__name__\n"
   ]
  },
  {
   "cell_type": "code",
   "execution_count": 86,
   "metadata": {},
   "outputs": [
    {
     "ename": "TypeError",
     "evalue": "'module' object is not callable",
     "output_type": "error",
     "traceback": [
      "\u001b[0;31m---------------------------------------------------------------------------\u001b[0m",
      "\u001b[0;31mTypeError\u001b[0m                                 Traceback (most recent call last)",
      "\u001b[0;32m<ipython-input-86-cb62d6ceb163>\u001b[0m in \u001b[0;36m<module>\u001b[0;34m\u001b[0m\n\u001b[0;32m----> 1\u001b[0;31m \u001b[0malarm_scores\u001b[0m \u001b[0;34m=\u001b[0m \u001b[0mbenchmark\u001b[0m\u001b[0;34m(\u001b[0m\u001b[0msynthesizers\u001b[0m\u001b[0;34m=\u001b[0m\u001b[0;34m[\u001b[0m\u001b[0malarm_thing\u001b[0m\u001b[0;34m]\u001b[0m\u001b[0;34m,\u001b[0m \u001b[0mdatasets\u001b[0m\u001b[0;34m=\u001b[0m\u001b[0;34m[\u001b[0m\u001b[0;34m'alarm'\u001b[0m\u001b[0;34m]\u001b[0m\u001b[0;34m)\u001b[0m\u001b[0;34m\u001b[0m\u001b[0;34m\u001b[0m\u001b[0m\n\u001b[0m",
      "\u001b[0;31mTypeError\u001b[0m: 'module' object is not callable"
     ]
    }
   ],
   "source": [
    "alarm_scores = benchmark(synthesizers=[alarm_thing], datasets=['alarm'])"
   ]
  },
  {
   "cell_type": "code",
   "execution_count": 82,
   "metadata": {},
   "outputs": [
    {
     "ename": "NameError",
     "evalue": "name 'alarm_scores' is not defined",
     "output_type": "error",
     "traceback": [
      "\u001b[0;31m---------------------------------------------------------------------------\u001b[0m",
      "\u001b[0;31mNameError\u001b[0m                                 Traceback (most recent call last)",
      "\u001b[0;32m<ipython-input-82-25101362aa10>\u001b[0m in \u001b[0;36m<module>\u001b[0;34m\u001b[0m\n\u001b[0;32m----> 1\u001b[0;31m \u001b[0malarm_scores\u001b[0m\u001b[0;34m\u001b[0m\u001b[0;34m\u001b[0m\u001b[0m\n\u001b[0m",
      "\u001b[0;31mNameError\u001b[0m: name 'alarm_scores' is not defined"
     ]
    }
   ],
   "source": [
    "alarm_scores"
   ]
  },
  {
   "cell_type": "code",
   "execution_count": 84,
   "metadata": {},
   "outputs": [
    {
     "ename": "TypeError",
     "evalue": "'module' object is not callable",
     "output_type": "error",
     "traceback": [
      "\u001b[0;31m---------------------------------------------------------------------------\u001b[0m",
      "\u001b[0;31mTypeError\u001b[0m                                 Traceback (most recent call last)",
      "\u001b[0;32m<ipython-input-84-514dcbf0f02f>\u001b[0m in \u001b[0;36m<module>\u001b[0;34m\u001b[0m\n\u001b[1;32m      1\u001b[0m \u001b[0;32mif\u001b[0m \u001b[0;32mTrue\u001b[0m\u001b[0;34m:\u001b[0m\u001b[0;34m\u001b[0m\u001b[0;34m\u001b[0m\u001b[0m\n\u001b[0;32m----> 2\u001b[0;31m     \u001b[0malarm_scores\u001b[0m \u001b[0;34m=\u001b[0m \u001b[0mbenchmark\u001b[0m\u001b[0;34m(\u001b[0m\u001b[0msynthesizers\u001b[0m\u001b[0;34m=\u001b[0m\u001b[0;34m[\u001b[0m\u001b[0malarm_thing\u001b[0m\u001b[0;34m]\u001b[0m\u001b[0;34m,\u001b[0m \u001b[0mdatasets\u001b[0m\u001b[0;34m=\u001b[0m\u001b[0;34m[\u001b[0m\u001b[0;34m'alarm'\u001b[0m\u001b[0;34m]\u001b[0m\u001b[0;34m)\u001b[0m\u001b[0;34m\u001b[0m\u001b[0;34m\u001b[0m\u001b[0m\n\u001b[0m\u001b[1;32m      3\u001b[0m     \u001b[0malarm_scores\u001b[0m\u001b[0;34m.\u001b[0m\u001b[0mdrop\u001b[0m\u001b[0;34m(\u001b[0m\u001b[0mcolumns\u001b[0m\u001b[0;34m=\u001b[0m\u001b[0;34m[\u001b[0m\u001b[0;34m'timestamp'\u001b[0m\u001b[0;34m]\u001b[0m\u001b[0;34m,\u001b[0m \u001b[0minplace\u001b[0m\u001b[0;34m=\u001b[0m\u001b[0;32mTrue\u001b[0m\u001b[0;34m)\u001b[0m\u001b[0;34m\u001b[0m\u001b[0;34m\u001b[0m\u001b[0m\n\u001b[1;32m      4\u001b[0m     \u001b[0mexec_time\u001b[0m \u001b[0;34m=\u001b[0m \u001b[0;34m[\u001b[0m\u001b[0;34m'N/A'\u001b[0m\u001b[0;34m]\u001b[0m \u001b[0;34m*\u001b[0m \u001b[0;36m9\u001b[0m \u001b[0;34m+\u001b[0m \u001b[0;34m[\u001b[0m\u001b[0mround\u001b[0m\u001b[0;34m(\u001b[0m\u001b[0mnp\u001b[0m\u001b[0;34m.\u001b[0m\u001b[0mmean\u001b[0m\u001b[0;34m(\u001b[0m\u001b[0malarm_times\u001b[0m\u001b[0;34m)\u001b[0m\u001b[0;34m,\u001b[0m \u001b[0;36m2\u001b[0m\u001b[0;34m)\u001b[0m\u001b[0;34m]\u001b[0m\u001b[0;34m\u001b[0m\u001b[0;34m\u001b[0m\u001b[0m\n\u001b[1;32m      5\u001b[0m     \u001b[0malarm_scores\u001b[0m\u001b[0;34m[\u001b[0m\u001b[0;34m'alarm/exec_time(s)'\u001b[0m\u001b[0;34m]\u001b[0m \u001b[0;34m=\u001b[0m \u001b[0mexec_time\u001b[0m\u001b[0;34m\u001b[0m\u001b[0;34m\u001b[0m\u001b[0m\n",
      "\u001b[0;31mTypeError\u001b[0m: 'module' object is not callable"
     ]
    }
   ],
   "source": [
    "if True:\n",
    "    alarm_scores = benchmark(synthesizers=[alarm_thing], datasets=['alarm'])\n",
    "    alarm_scores.drop(columns=['timestamp'], inplace=True)\n",
    "    exec_time = ['N/A'] * 9 + [round(np.mean(alarm_times), 2)]\n",
    "    alarm_scores['alarm/exec_time(s)'] = exec_time    "
   ]
  },
  {
   "cell_type": "code",
   "execution_count": null,
   "metadata": {},
   "outputs": [],
   "source": []
  }
 ],
 "metadata": {
  "kernelspec": {
   "display_name": "Python 3",
   "language": "python",
   "name": "python3"
  },
  "language_info": {
   "codemirror_mode": {
    "name": "ipython",
    "version": 3
   },
   "file_extension": ".py",
   "mimetype": "text/x-python",
   "name": "python",
   "nbconvert_exporter": "python",
   "pygments_lexer": "ipython3",
   "version": "3.8.5"
  }
 },
 "nbformat": 4,
 "nbformat_minor": 4
}
