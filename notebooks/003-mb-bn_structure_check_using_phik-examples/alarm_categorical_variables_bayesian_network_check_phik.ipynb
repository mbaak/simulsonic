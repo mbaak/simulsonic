{
 "cells": [
  {
   "cell_type": "code",
   "execution_count": null,
   "metadata": {},
   "outputs": [],
   "source": [
    "import phik\n",
    "from phik.report import plot_correlation_matrix\n",
    "from tqdm import tqdm"
   ]
  },
  {
   "cell_type": "code",
   "execution_count": null,
   "metadata": {},
   "outputs": [],
   "source": [
    "from phik.binning import create_correlation_overview_table, bin_data\n",
    "from phik.bivariate import phik_from_chi2\n",
    "from phik.statistics import estimate_simple_ndof\n"
   ]
  },
  {
   "cell_type": "code",
   "execution_count": null,
   "metadata": {},
   "outputs": [],
   "source": [
    "import itertools\n",
    "from scipy.stats import power_divergence\n"
   ]
  },
  {
   "cell_type": "code",
   "execution_count": null,
   "metadata": {},
   "outputs": [],
   "source": [
    "from sdgym import load_dataset"
   ]
  },
  {
   "cell_type": "code",
   "execution_count": null,
   "metadata": {},
   "outputs": [],
   "source": [
    "import numpy as np\n",
    "import pandas as pd\n",
    "import matplotlib.pyplot as plt\n",
    "import networkx as nx"
   ]
  },
  {
   "cell_type": "code",
   "execution_count": null,
   "metadata": {},
   "outputs": [],
   "source": [
    "from synthsonic.models.kde_utils import kde_smooth_peaks_1dim, kde_smooth_peaks\n",
    "from sklearn.model_selection import train_test_split"
   ]
  },
  {
   "cell_type": "code",
   "execution_count": null,
   "metadata": {},
   "outputs": [],
   "source": [
    "import xgboost as xgb"
   ]
  },
  {
   "cell_type": "code",
   "execution_count": null,
   "metadata": {},
   "outputs": [],
   "source": [
    "import pgmpy\n",
    "\n",
    "from pgmpy.models import BayesianModel\n",
    "from pgmpy.estimators import TreeSearch\n",
    "\n",
    "from pgmpy.estimators import HillClimbSearch, BicScore, ExhaustiveSearch"
   ]
  },
  {
   "cell_type": "code",
   "execution_count": null,
   "metadata": {},
   "outputs": [],
   "source": [
    "from pgmpy.estimators import BayesianEstimator\n",
    "from pgmpy.sampling import BayesianModelSampling\n"
   ]
  },
  {
   "cell_type": "code",
   "execution_count": null,
   "metadata": {},
   "outputs": [],
   "source": [
    "import matplotlib.pyplot as plt\n",
    "%matplotlib inline"
   ]
  },
  {
   "cell_type": "code",
   "execution_count": null,
   "metadata": {},
   "outputs": [],
   "source": []
  },
  {
   "cell_type": "code",
   "execution_count": null,
   "metadata": {},
   "outputs": [],
   "source": [
    "data, categorical_columns, ordinal_columns = load_dataset('alarm')"
   ]
  },
  {
   "cell_type": "code",
   "execution_count": null,
   "metadata": {},
   "outputs": [],
   "source": [
    "data"
   ]
  },
  {
   "cell_type": "code",
   "execution_count": null,
   "metadata": {},
   "outputs": [],
   "source": [
    "data.shape"
   ]
  },
  {
   "cell_type": "code",
   "execution_count": null,
   "metadata": {},
   "outputs": [],
   "source": [
    "data"
   ]
  },
  {
   "cell_type": "code",
   "execution_count": null,
   "metadata": {},
   "outputs": [],
   "source": [
    "df = pd.DataFrame(data)\n",
    "df.columns = [str(i) for i in df.columns]"
   ]
  },
  {
   "cell_type": "code",
   "execution_count": null,
   "metadata": {},
   "outputs": [],
   "source": [
    "\n",
    "# learn graph structure \n",
    "est = TreeSearch(df, root_node=df.columns[0])\n",
    "best_model = est.estimate(estimator_type=\"tan\", class_node='1')"
   ]
  },
  {
   "cell_type": "code",
   "execution_count": null,
   "metadata": {},
   "outputs": [],
   "source": []
  },
  {
   "cell_type": "code",
   "execution_count": null,
   "metadata": {},
   "outputs": [],
   "source": [
    "if False:\n",
    "    # alternative graph structure \n",
    "    est2 = TreeSearch(df, root_node=df.columns[0])\n",
    "    dag2 = est2.estimate(estimator_type=\"chow-liu\")"
   ]
  },
  {
   "cell_type": "code",
   "execution_count": null,
   "metadata": {},
   "outputs": [],
   "source": [
    "if False:\n",
    "    est = HillClimbSearch(df)\n",
    "    best_model =est.estimate() # start_dag=dag)"
   ]
  },
  {
   "cell_type": "code",
   "execution_count": null,
   "metadata": {},
   "outputs": [],
   "source": [
    "nx.draw(best_model, with_labels=True, arrowsize=30, node_size=800, alpha=0.3, font_weight='bold')\n",
    "plt.show()"
   ]
  },
  {
   "cell_type": "code",
   "execution_count": null,
   "metadata": {},
   "outputs": [],
   "source": [
    "edges = best_model.edges()"
   ]
  },
  {
   "cell_type": "code",
   "execution_count": null,
   "metadata": {},
   "outputs": [],
   "source": [
    "edges"
   ]
  },
  {
   "cell_type": "code",
   "execution_count": null,
   "metadata": {},
   "outputs": [],
   "source": [
    "\n",
    "# there are many choices of parametrization, here is one example\n",
    "model = BayesianModel(best_model.edges())\n",
    "model.fit(df, estimator=BayesianEstimator, prior_type='dirichlet', pseudo_counts=0.1)\n"
   ]
  },
  {
   "cell_type": "code",
   "execution_count": null,
   "metadata": {},
   "outputs": [],
   "source": [
    "\n",
    "np.random.seed(0)\n",
    "\n",
    "# sample data from BN\n",
    "inference = BayesianModelSampling(model)\n",
    "df_data = inference.forward_sample(size=250000, return_type='dataframe')\n",
    "\n",
    "df_data.columns = [int(c) for c in df_data.columns]\n",
    "\n",
    "X = df_data[sorted(df_data.columns)].values\n",
    "\n",
    "#inference.topological_order"
   ]
  },
  {
   "cell_type": "code",
   "execution_count": null,
   "metadata": {},
   "outputs": [],
   "source": []
  },
  {
   "cell_type": "code",
   "execution_count": null,
   "metadata": {},
   "outputs": [],
   "source": [
    "\n",
    "def chisquare(observed, expected, correction=True, lambda_=None):\n",
    "    observed = np.asarray(observed)\n",
    "    if np.any(observed < 0):\n",
    "        raise ValueError(\"All values in `observed` must be nonnegative.\")\n",
    "    if observed.size == 0:\n",
    "        raise ValueError(\"No data; `observed` has size 0.\")\n",
    "\n",
    "    expected = np.asarray(expected)\n",
    "    \n",
    "    if np.any(expected == 0):\n",
    "        # Include one of the positions where expected is zero in\n",
    "        # the exception message.\n",
    "        zeropos = list(zip(*np.nonzero(expected == 0)))[0]\n",
    "        raise ValueError(\"The internally computed table of expected \"\n",
    "                         \"frequencies has a zero element at %s.\" % (zeropos,))\n",
    "\n",
    "    # The degrees of freedom\n",
    "    dof = expected.size - sum(expected.shape) + expected.ndim - 1\n",
    "\n",
    "    if dof == 0:\n",
    "        # Degenerate case; this occurs when `observed` is 1D (or, more\n",
    "        # generally, when it has only one nontrivial dimension).  In this\n",
    "        # case, we also have observed == expected, so chi2 is 0.\n",
    "        chi2 = 0.0\n",
    "        p = 1.0\n",
    "    else:\n",
    "        if dof == 1 and correction:\n",
    "            # Adjust `observed` according to Yates' correction for continuity.\n",
    "            observed = observed + 0.5 * np.sign(expected - observed)\n",
    "\n",
    "        chi2, p = power_divergence(observed, expected,\n",
    "                                   ddof=observed.size - 1 - dof, axis=None,\n",
    "                                   lambda_=lambda_)\n",
    "\n",
    "    return chi2\n",
    "\n",
    "def phik_from_hist2d(observed:np.ndarray, expected:np.ndarray, noise_correction:bool=True) -> float:\n",
    "    \"\"\"\n",
    "    correlation coefficient of bivariate gaussian derived from chi2-value\n",
    "    \n",
    "    Chi2-value gets converted into correlation coefficient of bivariate gauss\n",
    "    with correlation value rho, assuming giving binning and number of records. \n",
    "    Correlation coefficient value is between 0 and 1.\n",
    "\n",
    "    Bivariate gaussian's range is set to [-5,5] by construction.\n",
    "\n",
    "    :param observed: 2d-array observed values\n",
    "    :param bool noise_correction: apply noise correction in phik calculation\n",
    "    :returns float: correlation coefficient phik\n",
    "    \"\"\"\n",
    "\n",
    "    # chi2 contingency test\n",
    "    chi2 = chisquare(observed, expected, lambda_='pearson')\n",
    "\n",
    "    # noise pedestal \n",
    "    endof = estimate_simple_ndof(observed) if noise_correction else 0\n",
    "    pedestal = endof\n",
    "    if pedestal < 0:\n",
    "        pedestal = 0\n",
    "\n",
    "    # phik calculation adds noise pedestal to theoretical chi2\n",
    "    return phik_from_chi2(chi2, observed.sum(), *observed.shape, pedestal=pedestal)\n",
    "\n",
    "\n"
   ]
  },
  {
   "cell_type": "code",
   "execution_count": null,
   "metadata": {},
   "outputs": [],
   "source": []
  },
  {
   "cell_type": "code",
   "execution_count": null,
   "metadata": {},
   "outputs": [],
   "source": [
    "cols = [6, 34]"
   ]
  },
  {
   "cell_type": "code",
   "execution_count": null,
   "metadata": {},
   "outputs": [],
   "source": [
    "hist = df_data[cols].hist2d(interval_cols=[])\n",
    "expected = hist.values"
   ]
  },
  {
   "cell_type": "code",
   "execution_count": null,
   "metadata": {},
   "outputs": [],
   "source": [
    "df = pd.DataFrame(data)"
   ]
  },
  {
   "cell_type": "code",
   "execution_count": null,
   "metadata": {},
   "outputs": [],
   "source": [
    "hist = df[cols].hist2d(interval_cols=[])\n",
    "observed = hist.values"
   ]
  },
  {
   "cell_type": "code",
   "execution_count": null,
   "metadata": {},
   "outputs": [],
   "source": [
    "expected = expected * (np.sum(observed) / np.sum(expected))\n"
   ]
  },
  {
   "cell_type": "code",
   "execution_count": null,
   "metadata": {},
   "outputs": [],
   "source": [
    "expected, observed"
   ]
  },
  {
   "cell_type": "code",
   "execution_count": null,
   "metadata": {},
   "outputs": [],
   "source": [
    "phik_from_hist2d(observed, expected)"
   ]
  },
  {
   "cell_type": "code",
   "execution_count": null,
   "metadata": {},
   "outputs": [],
   "source": []
  },
  {
   "cell_type": "code",
   "execution_count": null,
   "metadata": {},
   "outputs": [],
   "source": [
    "phik_list = []\n",
    "\n",
    "for co in tqdm(itertools.combinations_with_replacement(df.columns.values, 2)):\n",
    "    c0, c1 = co\n",
    "    if co[0]==co[1]:\n",
    "        phik_list.append((c0, c1, 1.))\n",
    "        continue\n",
    "    hist = df_data[list(co)].hist2d(interval_cols=[])\n",
    "    expected = hist.values\n",
    "    hist = df[list(co)].hist2d(interval_cols=[])\n",
    "    observed = hist.values\n",
    "    expected = expected * (np.sum(observed) / np.sum(expected))\n",
    "    phik = phik_from_hist2d(observed, expected)\n",
    "    phik_list.append((c0, c1, phik))"
   ]
  },
  {
   "cell_type": "code",
   "execution_count": null,
   "metadata": {},
   "outputs": [],
   "source": [
    "phik_overview = create_correlation_overview_table(phik_list)\n",
    "\n",
    "# restore column order\n",
    "phik_overview = phik_overview.reindex(columns=df.columns)\n",
    "phik_overview = phik_overview.reindex(index=df.columns)\n"
   ]
  },
  {
   "cell_type": "code",
   "execution_count": null,
   "metadata": {},
   "outputs": [],
   "source": [
    "phik_overview"
   ]
  },
  {
   "cell_type": "code",
   "execution_count": null,
   "metadata": {},
   "outputs": [],
   "source": [
    "plot_correlation_matrix(phik_overview.values, x_labels=phik_overview.columns, y_labels=phik_overview.index, \n",
    "                        vmin=0, vmax=1, color_map='Blues', title=r'correlation $\\phi_K$', fontsize_factor=0.75,\n",
    "                        figsize=(14,11))\n",
    "plt.tight_layout()"
   ]
  },
  {
   "cell_type": "code",
   "execution_count": null,
   "metadata": {},
   "outputs": [],
   "source": []
  }
 ],
 "metadata": {
  "kernelspec": {
   "display_name": "Python 3",
   "language": "python",
   "name": "python3"
  },
  "language_info": {
   "codemirror_mode": {
    "name": "ipython",
    "version": 3
   },
   "file_extension": ".py",
   "mimetype": "text/x-python",
   "name": "python",
   "nbconvert_exporter": "python",
   "pygments_lexer": "ipython3",
   "version": "3.8.5"
  }
 },
 "nbformat": 4,
 "nbformat_minor": 4
}
