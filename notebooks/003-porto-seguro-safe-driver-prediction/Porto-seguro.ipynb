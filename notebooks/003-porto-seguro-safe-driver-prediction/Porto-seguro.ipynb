{
 "cells": [
  {
   "cell_type": "code",
   "execution_count": null,
   "metadata": {},
   "outputs": [],
   "source": [
    "import pandas as pd\n",
    "import numpy as np\n",
    "import pandas as pd\n",
    "import matplotlib.pyplot as plt\n",
    "import networkx as nx\n",
    "import pgmpy\n",
    "import xgboost"
   ]
  },
  {
   "cell_type": "code",
   "execution_count": null,
   "metadata": {},
   "outputs": [],
   "source": [
    "from synthsonic.models.kde_utils import kde_smooth_peaks_1dim, kde_smooth_peaks\n",
    "from synthsonic.models.kde_copula_nn_pdf import KDECopulaNNPdf\n",
    "from sklearn.model_selection import train_test_split\n",
    "\n",
    "from pgmpy.models import BayesianModel\n",
    "from pgmpy.estimators import TreeSearch, HillClimbSearch, BicScore, ExhaustiveSearch, BayesianEstimator\n",
    "from pgmpy.sampling import BayesianModelSampling"
   ]
  },
  {
   "cell_type": "code",
   "execution_count": null,
   "metadata": {},
   "outputs": [],
   "source": [
    "train = pd.read_csv(\"train.csv\", index_col ='id')\n",
    "test = pd.read_csv(\"test.csv\", index_col ='id')\n",
    "df = pd.concat([train, test])"
   ]
  },
  {
   "cell_type": "markdown",
   "metadata": {},
   "source": [
    "# data cleaning and prep"
   ]
  },
  {
   "cell_type": "code",
   "execution_count": null,
   "metadata": {},
   "outputs": [],
   "source": [
    "print(f\"\"\"\n",
    "General info:\n",
    "shape of data:\n",
    "training set: {train.shape} (includes target column)\n",
    "testing set: {test.shape}\n",
    "total: {df.shape}\n",
    "\n",
    "Checking imbalance in target:\n",
    "{train.target.value_counts()}\n",
    "\n",
    "\"\"\")"
   ]
  },
  {
   "cell_type": "code",
   "execution_count": null,
   "metadata": {},
   "outputs": [],
   "source": [
    "drop_missing = []\n",
    "\n",
    "for col in df.columns : \n",
    "    missing = df[df[col] == -1][col].count()\n",
    "    if missing > 0 :\n",
    "        mperc = missing / df.shape[0]\n",
    "        \n",
    "        if mperc > 0.15 :\n",
    "            drop_missing.append(col)\n",
    "        \n",
    "        print(f\"variable {col} has {missing} missing values. ({mperc*100}%)\")"
   ]
  },
  {
   "cell_type": "code",
   "execution_count": null,
   "metadata": {},
   "outputs": [],
   "source": [
    "df.drop(drop_missing, inplace=True, axis=1)\n",
    "df.shape"
   ]
  },
  {
   "cell_type": "code",
   "execution_count": null,
   "metadata": {},
   "outputs": [],
   "source": []
  },
  {
   "cell_type": "code",
   "execution_count": null,
   "metadata": {},
   "outputs": [],
   "source": [
    "# data seperation\n",
    "\n",
    "meta = []\n",
    "\n",
    "for col in df.columns :\n",
    "    \n",
    "    if col == 'target' :\n",
    "        var_type = 'target'\n",
    "    \n",
    "    elif 'cat' in col or 'bin' in col or df[col].dtype == 'int' :\n",
    "        var_type = 'categorical'\n",
    "    else :\n",
    "        var_type = 'numeric'\n",
    "\n",
    "    coldict = {\n",
    "        'colname':col,\n",
    "        'var_type': var_type,\n",
    "        'dtype': df[col].dtype\n",
    "    }\n",
    "    \n",
    "    meta.append(coldict)\n",
    "    \n",
    "meta = pd.DataFrame(meta)\n",
    "meta.set_index('colname', inplace=True)\n",
    "meta.groupby('var_type').size()"
   ]
  },
  {
   "cell_type": "code",
   "execution_count": null,
   "metadata": {},
   "outputs": [],
   "source": [
    "meta "
   ]
  },
  {
   "cell_type": "markdown",
   "metadata": {},
   "source": [
    " # Divide into numerical v. categorical training and test"
   ]
  },
  {
   "cell_type": "code",
   "execution_count": null,
   "metadata": {},
   "outputs": [],
   "source": [
    "# numerical\n",
    "numeric_vars = meta.loc[meta['var_type'] == 'numeric'].index\n",
    "numeric_train = train[numeric_vars]\n",
    "numeric_test = test[numeric_vars]"
   ]
  },
  {
   "cell_type": "code",
   "execution_count": null,
   "metadata": {},
   "outputs": [],
   "source": [
    "print(numeric_vars)"
   ]
  },
  {
   "cell_type": "code",
   "execution_count": null,
   "metadata": {},
   "outputs": [],
   "source": [
    "# categorical\n",
    "cat_vars = meta.loc[meta['var_type'] == 'categorical'].index\n",
    "cat_train = train[cat_vars]\n",
    "cat_test = test[cat_vars]"
   ]
  },
  {
   "cell_type": "code",
   "execution_count": null,
   "metadata": {},
   "outputs": [],
   "source": [
    "target = train['target']"
   ]
  },
  {
   "cell_type": "markdown",
   "metadata": {},
   "source": [
    "# numerical features"
   ]
  },
  {
   "cell_type": "code",
   "execution_count": null,
   "metadata": {},
   "outputs": [],
   "source": [
    "numeric_train\n",
    "\n",
    "# sample for quicker testing\n",
    "numeric_train = numeric_train.sample(frac=0.1, random_state=1)\n",
    "numeric_train"
   ]
  },
  {
   "cell_type": "code",
   "execution_count": null,
   "metadata": {},
   "outputs": [],
   "source": [
    "# only keep true continuous numerical features\n",
    "numeric_train = numeric_train.iloc[:,2:6]\n",
    "numeric_train"
   ]
  },
  {
   "cell_type": "code",
   "execution_count": null,
   "metadata": {},
   "outputs": [],
   "source": [
    "kde = KDECopulaNNPdf(use_KDE=False, clf=xgboost.XGBClassifier())"
   ]
  },
  {
   "cell_type": "code",
   "execution_count": null,
   "metadata": {},
   "outputs": [],
   "source": [
    "kde = kde.fit(numeric_train)"
   ]
  },
  {
   "cell_type": "code",
   "execution_count": null,
   "metadata": {},
   "outputs": [],
   "source": [
    "X_g = kde.pipe_[0].transform(numeric_train)\n",
    "X_g"
   ]
  },
  {
   "cell_type": "code",
   "execution_count": null,
   "metadata": {},
   "outputs": [],
   "source": [
    "plt.hist(X_g[:,1], bins = 50)"
   ]
  },
  {
   "cell_type": "code",
   "execution_count": null,
   "metadata": {},
   "outputs": [],
   "source": [
    "X_p = kde.pipe_[0:2].transform(numeric_train)\n",
    "plt.hist(X_p[:, 0], bins=50)"
   ]
  },
  {
   "cell_type": "code",
   "execution_count": null,
   "metadata": {},
   "outputs": [],
   "source": [
    "X_u = kde.pipe_.transform(numeric_train)\n",
    "plt.hist(X_u[:, 1], bins=50)"
   ]
  },
  {
   "cell_type": "code",
   "execution_count": null,
   "metadata": {},
   "outputs": [],
   "source": [
    "pca_data = pd.DataFrame(X_p)\n",
    "uniform_data = pd.DataFrame(X_u)"
   ]
  },
  {
   "cell_type": "code",
   "execution_count": null,
   "metadata": {},
   "outputs": [],
   "source": [
    "pca_data"
   ]
  },
  {
   "cell_type": "code",
   "execution_count": null,
   "metadata": {},
   "outputs": [],
   "source": [
    "import phik\n",
    "\n",
    "pca_data.phik_matrix()"
   ]
  },
  {
   "cell_type": "code",
   "execution_count": null,
   "metadata": {},
   "outputs": [],
   "source": [
    "uniform_data.phik_matrix()"
   ]
  },
  {
   "cell_type": "code",
   "execution_count": null,
   "metadata": {},
   "outputs": [],
   "source": [
    "# sampling test\n",
    "\n",
    "X_gen, sample_weight = kde.sample(50000)"
   ]
  },
  {
   "cell_type": "code",
   "execution_count": null,
   "metadata": {},
   "outputs": [],
   "source": [
    "X_gen"
   ]
  },
  {
   "cell_type": "code",
   "execution_count": null,
   "metadata": {},
   "outputs": [],
   "source": [
    "print(sum(sample_weight))\n",
    "plt.hist(sample_weight, bins=50, log=True)"
   ]
  },
  {
   "cell_type": "code",
   "execution_count": null,
   "metadata": {},
   "outputs": [],
   "source": [
    "numeric_train"
   ]
  },
  {
   "cell_type": "code",
   "execution_count": null,
   "metadata": {},
   "outputs": [],
   "source": [
    "i=2\n",
    "plt.figure(figsize=(12, 7))\n",
    "plt.hist(X_gen[:, i], bins=100, range=(0,1), density=True, alpha=0.5, weights=sample_weight)\n",
    "plt.hist(numeric_train.iloc[:, i], bins=50, range=(0,1), density=True, alpha=0.5)"
   ]
  },
  {
   "cell_type": "code",
   "execution_count": null,
   "metadata": {},
   "outputs": [],
   "source": [
    "i=0\n",
    "j=1\n",
    "plt.figure(figsize=(12,7))\n",
    "plt.scatter(X_gen[:,i], X_gen[:,j], s=0.2*sample_weight)\n",
    "plt.title(\"Generated samples\")"
   ]
  },
  {
   "cell_type": "code",
   "execution_count": null,
   "metadata": {},
   "outputs": [],
   "source": [
    "plt.figure(figsize=(12,7))\n",
    "plt.scatter(numeric_train.iloc[:,i], numeric_train.iloc[:,j], s=0.2)\n",
    "plt.title(\"original data set values\")"
   ]
  },
  {
   "cell_type": "code",
   "execution_count": null,
   "metadata": {},
   "outputs": [],
   "source": [
    "plt.hist(numeric_train['ps_car_12'], bins = 100, range = [0,1])"
   ]
  },
  {
   "cell_type": "markdown",
   "metadata": {},
   "source": [
    "# Categorical features"
   ]
  },
  {
   "cell_type": "code",
   "execution_count": null,
   "metadata": {},
   "outputs": [],
   "source": [
    "# cardinality\n",
    "\n",
    "for col in cat_train :\n",
    "    unique = len(train[col].unique())\n",
    "    print(f\"var {col} has {unique} unique values\")"
   ]
  },
  {
   "cell_type": "code",
   "execution_count": null,
   "metadata": {},
   "outputs": [],
   "source": [
    "cat_train = cat_train.sample(frac=0.1, random_state=1)\n",
    "cat_train"
   ]
  },
  {
   "cell_type": "code",
   "execution_count": null,
   "metadata": {},
   "outputs": [],
   "source": [
    "est = TreeSearch(cat_train, root_node = cat_train.columns[0])"
   ]
  },
  {
   "cell_type": "code",
   "execution_count": null,
   "metadata": {},
   "outputs": [],
   "source": [
    "model = est.estimate(estimator_type = 'tan', class_node= 'ps_ind_02_cat')"
   ]
  },
  {
   "cell_type": "code",
   "execution_count": null,
   "metadata": {},
   "outputs": [],
   "source": [
    "nx.draw(model, with_labels=True, arrowsize=30, node_size=800, alpha=0.3, font_weight='bold')\n",
    "plt.show()"
   ]
  },
  {
   "cell_type": "code",
   "execution_count": null,
   "metadata": {},
   "outputs": [],
   "source": [
    "edges = model.edges()\n",
    "bayesian_model = BayesianModel(edges)\n",
    "fit = bayesian_model.fit(cat_train, estimator = BayesianEstimator, \n",
    "                   prior_type = 'dirichlet', pseudo_counts = 0.1)"
   ]
  },
  {
   "cell_type": "code",
   "execution_count": null,
   "metadata": {},
   "outputs": [],
   "source": [
    "# print Conditional prob distribution of node x\n",
    "print(bayesian_model.get_cpds('ps_ind_02_cat'))"
   ]
  },
  {
   "cell_type": "code",
   "execution_count": null,
   "metadata": {},
   "outputs": [],
   "source": [
    "from sklearn.neural_network import MLPClassifier\n",
    "import xgboost as xgb\n",
    "from sklearn.svm import SVC"
   ]
  },
  {
   "cell_type": "code",
   "execution_count": null,
   "metadata": {},
   "outputs": [],
   "source": [
    "# clf=MLPClassifier(random_state=0, max_iter=1000, early_stopping=True)\n",
    "\n",
    "clf = xgb.XGBClassifier(\n",
    "    n_estimators=250,\n",
    "    reg_lambda=1,\n",
    "    gamma=0,\n",
    "    max_depth=9\n",
    ")"
   ]
  },
  {
   "cell_type": "code",
   "execution_count": null,
   "metadata": {},
   "outputs": [],
   "source": [
    "n_one = len(cat_train)\n",
    "n_zero = n_one"
   ]
  },
  {
   "cell_type": "code",
   "execution_count": null,
   "metadata": {
    "scrolled": true
   },
   "outputs": [],
   "source": [
    "from pgmpy.sampling import BayesianModelSampling\n",
    "\n",
    "# sample data from BN\n",
    "inference = BayesianModelSampling(bayesian_model)\n",
    "df_data = inference.forward_sample(size=n_zero, return_type='dataframe', seed=0)\n"
   ]
  },
  {
   "cell_type": "code",
   "execution_count": null,
   "metadata": {},
   "outputs": [],
   "source": [
    "df_data.columns = [c for c in df_data.columns]\n",
    "\n",
    "X = df_data[sorted(df_data.columns)].values"
   ]
  },
  {
   "cell_type": "code",
   "execution_count": null,
   "metadata": {},
   "outputs": [],
   "source": [
    "X.shape"
   ]
  },
  {
   "cell_type": "code",
   "execution_count": null,
   "metadata": {},
   "outputs": [],
   "source": [
    "zeros = np.zeros(n_zero)\n",
    "ones = np.ones(n_one)\n",
    "\n",
    "yy = np.concatenate([zeros, ones], axis = 0)\n",
    "XX = np.concatenate([X, cat_train], axis = 0)"
   ]
  },
  {
   "cell_type": "code",
   "execution_count": null,
   "metadata": {},
   "outputs": [],
   "source": [
    "clf = clf.fit(XX,yy)"
   ]
  },
  {
   "cell_type": "code",
   "execution_count": null,
   "metadata": {},
   "outputs": [],
   "source": [
    "p0 = clf.predict_proba(X)[:, 1]\n",
    "p2 = clf.predict_proba(cat_test)[:, 1]"
   ]
  },
  {
   "cell_type": "code",
   "execution_count": null,
   "metadata": {},
   "outputs": [],
   "source": [
    "nbins = 100\n",
    "plt.figure(figsize=(12,7))\n",
    "plt.hist(p0, bins=100, range=(0,1), alpha=0.5, log=True, density=True)\n",
    "plt.hist(p2, bins=100, range=(0,1), alpha=0.5, log=True, density=True)"
   ]
  },
  {
   "cell_type": "code",
   "execution_count": null,
   "metadata": {},
   "outputs": [],
   "source": []
  },
  {
   "cell_type": "code",
   "execution_count": null,
   "metadata": {},
   "outputs": [],
   "source": []
  }
 ],
 "metadata": {
  "kernelspec": {
   "display_name": "Python 3",
   "language": "python",
   "name": "python3"
  },
  "language_info": {
   "codemirror_mode": {
    "name": "ipython",
    "version": 3
   },
   "file_extension": ".py",
   "mimetype": "text/x-python",
   "name": "python",
   "nbconvert_exporter": "python",
   "pygments_lexer": "ipython3",
   "version": "3.7.6"
  }
 },
 "nbformat": 4,
 "nbformat_minor": 4
}
