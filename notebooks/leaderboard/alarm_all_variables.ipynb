{
 "cells": [
  {
   "cell_type": "code",
   "execution_count": 1,
   "metadata": {},
   "outputs": [],
   "source": [
    "%load_ext autoreload\n",
    "%autoreload 2"
   ]
  },
  {
   "cell_type": "code",
   "execution_count": 2,
   "metadata": {},
   "outputs": [],
   "source": [
    "!pip install -q -U git+https://github.com/sbrugman/SDGym.git@v0.2.2-hw"
   ]
  },
  {
   "cell_type": "code",
   "execution_count": null,
   "metadata": {},
   "outputs": [],
   "source": [
    "!pip install -q -U ../../"
   ]
  },
  {
   "cell_type": "code",
   "execution_count": 2,
   "metadata": {},
   "outputs": [],
   "source": [
    "from timeit import default_timer as timer\n",
    "from functools import partial\n",
    "from random import choices\n",
    "import logging"
   ]
  },
  {
   "cell_type": "code",
   "execution_count": 3,
   "metadata": {},
   "outputs": [],
   "source": [
    "import sdgym\n",
    "from sdgym import load_dataset\n",
    "from sdgym import benchmark\n",
    "from sdgym import load_dataset"
   ]
  },
  {
   "cell_type": "code",
   "execution_count": 4,
   "metadata": {},
   "outputs": [],
   "source": [
    "import numpy as np\n",
    "import pandas as pd\n",
    "import matplotlib.pyplot as plt\n",
    "import networkx as nx"
   ]
  },
  {
   "cell_type": "code",
   "execution_count": 5,
   "metadata": {},
   "outputs": [],
   "source": [
    "import pgmpy\n",
    "\n",
    "from pgmpy.models import BayesianModel\n",
    "from pgmpy.estimators import TreeSearch, HillClimbSearch, BicScore, ExhaustiveSearch, BayesianEstimator\n",
    "from pgmpy.sampling import BayesianModelSampling"
   ]
  },
  {
   "cell_type": "code",
   "execution_count": 6,
   "metadata": {},
   "outputs": [],
   "source": [
    "import xgboost as xgb\n",
    "from xgboost import XGBClassifier"
   ]
  },
  {
   "cell_type": "code",
   "execution_count": 7,
   "metadata": {},
   "outputs": [],
   "source": [
    "from sklearn.neural_network import MLPClassifier\n",
    "from sklearn.svm import SVC\n",
    "from sklearn.model_selection import train_test_split\n",
    "from sklearn.isotonic import IsotonicRegression"
   ]
  },
  {
   "cell_type": "code",
   "execution_count": 8,
   "metadata": {},
   "outputs": [],
   "source": [
    "from sklearn.metrics import (\n",
    "    mutual_info_score,\n",
    "    adjusted_mutual_info_score,\n",
    "    normalized_mutual_info_score,\n",
    ")"
   ]
  },
  {
   "cell_type": "code",
   "execution_count": 9,
   "metadata": {},
   "outputs": [],
   "source": [
    "from scipy import interpolate"
   ]
  },
  {
   "cell_type": "code",
   "execution_count": 10,
   "metadata": {},
   "outputs": [],
   "source": [
    "from phik.phik import phik_from_binned_array"
   ]
  },
  {
   "cell_type": "code",
   "execution_count": 11,
   "metadata": {},
   "outputs": [],
   "source": [
    "from synthsonic.models.kde_utils import kde_smooth_peaks_1dim, kde_smooth_peaks\n",
    "from synthsonic.models.kde_copula_nn_pdf import KDECopulaNNPdf"
   ]
  },
  {
   "cell_type": "code",
   "execution_count": 12,
   "metadata": {},
   "outputs": [],
   "source": [
    "import matplotlib.pyplot as plt\n",
    "%matplotlib inline"
   ]
  },
  {
   "cell_type": "code",
   "execution_count": 13,
   "metadata": {},
   "outputs": [],
   "source": [
    "logging.basicConfig(level=logging.INFO)"
   ]
  },
  {
   "cell_type": "code",
   "execution_count": 14,
   "metadata": {},
   "outputs": [],
   "source": [
    "dataset_name = 'alarm'"
   ]
  },
  {
   "cell_type": "code",
   "execution_count": 15,
   "metadata": {},
   "outputs": [
    {
     "name": "stderr",
     "output_type": "stream",
     "text": [
      "INFO:sdgym.data:Loading dataset alarm (all variables)\n"
     ]
    }
   ],
   "source": [
    "data, categorical_columns, ordinal_columns = load_dataset(dataset_name)"
   ]
  },
  {
   "cell_type": "code",
   "execution_count": 16,
   "metadata": {},
   "outputs": [
    {
     "data": {
      "text/plain": [
       "(10000, 37)"
      ]
     },
     "execution_count": 16,
     "metadata": {},
     "output_type": "execute_result"
    }
   ],
   "source": [
    "data.shape"
   ]
  },
  {
   "cell_type": "code",
   "execution_count": 17,
   "metadata": {},
   "outputs": [
    {
     "data": {
      "text/plain": [
       "([0,\n",
       "  1,\n",
       "  2,\n",
       "  3,\n",
       "  4,\n",
       "  5,\n",
       "  6,\n",
       "  7,\n",
       "  8,\n",
       "  9,\n",
       "  10,\n",
       "  11,\n",
       "  12,\n",
       "  13,\n",
       "  14,\n",
       "  15,\n",
       "  16,\n",
       "  17,\n",
       "  18,\n",
       "  19,\n",
       "  20,\n",
       "  21,\n",
       "  22,\n",
       "  23,\n",
       "  24,\n",
       "  25,\n",
       "  26,\n",
       "  27,\n",
       "  28,\n",
       "  29,\n",
       "  30,\n",
       "  31,\n",
       "  32,\n",
       "  33,\n",
       "  34,\n",
       "  35,\n",
       "  36],\n",
       " [])"
      ]
     },
     "execution_count": 17,
     "metadata": {},
     "output_type": "execute_result"
    }
   ],
   "source": [
    "categorical_columns, ordinal_columns"
   ]
  },
  {
   "cell_type": "code",
   "execution_count": 18,
   "metadata": {},
   "outputs": [
    {
     "name": "stdout",
     "output_type": "stream",
     "text": [
      "0 2\n",
      "1 3\n",
      "2 3\n",
      "3 2\n",
      "4 3\n",
      "5 2\n",
      "6 3\n",
      "7 2\n",
      "8 3\n",
      "9 3\n",
      "10 2\n",
      "11 3\n",
      "12 2\n",
      "13 2\n",
      "14 3\n",
      "15 4\n",
      "16 2\n",
      "17 4\n",
      "18 2\n",
      "19 3\n",
      "20 3\n",
      "21 3\n",
      "22 2\n",
      "23 2\n",
      "24 3\n",
      "25 4\n",
      "26 2\n",
      "27 3\n",
      "28 4\n",
      "29 4\n",
      "30 4\n",
      "31 4\n",
      "32 3\n",
      "33 2\n",
      "34 3\n",
      "35 3\n",
      "36 3\n"
     ]
    }
   ],
   "source": [
    "for i in range(data.shape[1]):\n",
    "    print (i, len(np.unique(data[:, i])))"
   ]
  },
  {
   "cell_type": "code",
   "execution_count": 20,
   "metadata": {},
   "outputs": [
    {
     "data": {
      "image/png": "[encoded data removed]",
      "text/plain": [
       "<Figure size 432x288 with 1 Axes>"
      ]
     },
     "metadata": {
      "needs_background": "light"
     },
     "output_type": "display_data"
    }
   ],
   "source": [
    "plt.hist(data[:, 14], bins=40);"
   ]
  },
  {
   "cell_type": "markdown",
   "metadata": {},
   "source": [
    "# run sdgym"
   ]
  },
  {
   "cell_type": "code",
   "execution_count": 39,
   "metadata": {},
   "outputs": [],
   "source": [
    "def KDECopulaNNPdf_Synthesizer(real_data, categorical_columns, ordinal_columns):\n",
    "    all_features = list(range(real_data.shape[1]))\n",
    "    numerical_features = list(set(all_features) - set(categorical_columns + ordinal_columns))\n",
    "    data = np.float64(real_data)\n",
    "    \n",
    "    n_samples = data.shape[0]\n",
    "    n_features = data.shape[1]\n",
    "    \n",
    "    clf = xgb.XGBClassifier(\n",
    "        n_estimators=250,\n",
    "        reg_lambda=1,\n",
    "        gamma=0,\n",
    "        max_depth=2\n",
    "    )\n",
    "#     clf = MLPClassifier(alpha=0.1, random_state=0, max_iter=1000, early_stopping=True)\n",
    "    \n",
    "    kde = KDECopulaNNPdf(\n",
    "        use_KDE=False, \n",
    "        categorical_columns=categorical_columns+ordinal_columns,\n",
    "        distinct_threshold=-1,\n",
    "        n_uniform_bins=30,\n",
    "        n_calibration_bins=100,\n",
    "        test_size=0.3,\n",
    "#        edge_weights_fn=phik_from_binned_array # normalized_mutual_info_score\n",
    "#        clf=clf,\n",
    "#         ordering='mi',\n",
    "    )\n",
    "    kde = kde.fit(data)\n",
    "    \n",
    "#     X_gen, sample_weight = kde.sample(n_samples)\n",
    "    X_gen = kde.sample_no_weights(n_samples, show_progress=True)\n",
    "    \n",
    "    X_gen[:, categorical_columns+ordinal_columns] = np.round(X_gen[:, categorical_columns+ordinal_columns])\n",
    "    X_gen = np.float32(X_gen)\n",
    "    \n",
    "    print(X_gen[:, :5])\n",
    "\n",
    "    return X_gen"
   ]
  },
  {
   "cell_type": "code",
   "execution_count": 40,
   "metadata": {},
   "outputs": [],
   "source": [
    "def KDECopulaNNPdf_SynthesizerInteger(real_data, categorical_columns, ordinal_columns):\n",
    "    \"\"\"Census has integer only...\"\"\"\n",
    "    data = KDECopulaNNPdf_Synthesizer(real_data, categorical_columns, ordinal_columns)\n",
    "    data = np.round(data)\n",
    "    \n",
    "    print(data[:, :5])\n",
    "\n",
    "    return data"
   ]
  },
  {
   "cell_type": "code",
   "execution_count": 41,
   "metadata": {},
   "outputs": [],
   "source": [
    "from sdgym.synthesizers import (\n",
    "    CLBNSynthesizer, CTGANSynthesizer, IdentitySynthesizer, IndependentSynthesizer,\n",
    "    MedganSynthesizer, PrivBNSynthesizer, TableganSynthesizer, TVAESynthesizer,\n",
    "    UniformSynthesizer, VEEGANSynthesizer)\n",
    "\n",
    "all_synthesizers = [\n",
    "    #IdentitySynthesizer,\n",
    "    #IndependentSynthesizer,\n",
    "    #KDECopulaNNPdf_Synthesizer,\n",
    "    KDECopulaNNPdf_SynthesizerInteger,\n",
    "]"
   ]
  },
  {
   "cell_type": "code",
   "execution_count": 42,
   "metadata": {
    "scrolled": false
   },
   "outputs": [
    {
     "name": "stderr",
     "output_type": "stream",
     "text": [
      "INFO:sdgym.benchmark:0%|          | 0/1 [00:00<?, ?it/s]\n",
      "INFO:sdgym.benchmark:Evaluating KDECopulaNNPdf_SynthesizerInteger on dataset alarm; iteration 0; 359.53 MB\n",
      "INFO:sdgym.data:Loading dataset alarm (all variables)\n",
      "INFO:sdgym.benchmark:Running KDECopulaNNPdf_SynthesizerInteger on dataset alarm; iteration 0; 359.83 MB\n",
      "INFO:KDECopulaNNPdf:Processing 0 numerical and 37 categorical columns\n",
      "INFO:KDECopulaNNPdf:Transforming numerical variables.\n",
      "INFO:KDECopulaNNPdf:Configuring Bayesian Network (cat+num).\n",
      "\n",
      "  0%|          | 0/630.0 [00:00<?, ?it/s]\u001b[A\n",
      "Building tree:   0%|          | 0/630.0 [00:00<?, ?it/s]\u001b[A\n",
      "Building tree:  11%|█▏        | 72/630.0 [00:00<00:00, 610.05it/s]\u001b[A\n",
      "Building tree:  21%|██▏       | 134/630.0 [00:00<00:00, 585.06it/s]\u001b[A\n",
      "Building tree:  32%|███▏      | 204/630.0 [00:00<00:00, 603.42it/s]\u001b[A\n",
      "Building tree:  42%|████▏     | 265/630.0 [00:00<00:00, 597.96it/s]\u001b[A\n",
      "Building tree:  53%|█████▎    | 336/630.0 [00:00<00:00, 608.29it/s]\u001b[A\n",
      "Building tree:  63%|██████▎   | 397/630.0 [00:00<00:00, 600.35it/s]\u001b[A\n",
      "Building tree:  74%|███████▍  | 468/630.0 [00:00<00:00, 615.10it/s]\u001b[A\n",
      "Building tree:  84%|████████▍ | 530/630.0 [00:00<00:00, 610.91it/s]\u001b[A\n",
      "Building tree: 100%|██████████| 630/630.0 [00:01<00:00, 597.97it/s]\u001b[A\n",
      "INFO:KDECopulaNNPdf:Configuring classifier.\n",
      "INFO:KDECopulaNNPdf:Generating 257000 data points.\n",
      "\n",
      "  0%|          | 0/37 [00:00<?, ?it/s]\u001b[A\n",
      "Generating for node: 1:   0%|          | 0/37 [00:00<?, ?it/s]\u001b[A\n",
      "Generating for node: 1:   3%|▎         | 1/37 [00:00<00:22,  1.61it/s]\u001b[A\n",
      "Generating for node: 0:   3%|▎         | 1/37 [00:00<00:22,  1.61it/s]\u001b[A\n",
      "Generating for node: 0:   5%|▌         | 2/37 [00:00<00:11,  2.93it/s]\u001b[A\n",
      "Generating for node: 5:   5%|▌         | 2/37 [00:00<00:11,  2.93it/s]\u001b[A\n",
      "Generating for node: 5:   8%|▊         | 3/37 [00:00<00:09,  3.50it/s]\u001b[A\n",
      "Generating for node: 4:   8%|▊         | 3/37 [00:00<00:09,  3.50it/s]\u001b[A\n",
      "Generating for node: 4:  11%|█         | 4/37 [00:01<00:08,  3.91it/s]\u001b[A\n",
      "Generating for node: 6:  11%|█         | 4/37 [00:01<00:08,  3.91it/s]\u001b[A\n",
      "Generating for node: 6:  14%|█▎        | 5/37 [00:01<00:08,  3.98it/s]\u001b[A\n",
      "Generating for node: 35:  14%|█▎        | 5/37 [00:01<00:08,  3.98it/s]\u001b[A\n",
      "Generating for node: 35:  16%|█▌        | 6/37 [00:01<00:07,  4.09it/s]\u001b[A\n",
      "Generating for node: 36:  16%|█▌        | 6/37 [00:01<00:07,  4.09it/s]\u001b[A\n",
      "Generating for node: 36:  19%|█▉        | 7/37 [00:01<00:07,  4.16it/s]\u001b[A\n",
      "Generating for node: 14:  19%|█▉        | 7/37 [00:01<00:07,  4.16it/s]\u001b[A\n",
      "Generating for node: 14:  22%|██▏       | 8/37 [00:02<00:06,  4.17it/s]\u001b[A\n",
      "Generating for node: 13:  22%|██▏       | 8/37 [00:02<00:06,  4.17it/s]\u001b[A\n",
      "Generating for node: 13:  24%|██▍       | 9/37 [00:02<00:06,  4.12it/s]\u001b[A\n",
      "Generating for node: 34:  24%|██▍       | 9/37 [00:02<00:06,  4.12it/s]\u001b[A\n",
      "Generating for node: 34:  27%|██▋       | 10/37 [00:02<00:06,  4.15it/s]\u001b[A\n",
      "Generating for node: 33:  27%|██▋       | 10/37 [00:02<00:06,  4.15it/s]\u001b[A\n",
      "Generating for node: 33:  30%|██▉       | 11/37 [00:02<00:06,  4.14it/s]\u001b[A\n",
      "Generating for node: 32:  30%|██▉       | 11/37 [00:02<00:06,  4.14it/s]\u001b[A\n",
      "Generating for node: 32:  32%|███▏      | 12/37 [00:03<00:05,  4.28it/s]\u001b[A\n",
      "Generating for node: 31:  32%|███▏      | 12/37 [00:03<00:05,  4.28it/s]\u001b[A\n",
      "Generating for node: 31:  35%|███▌      | 13/37 [00:03<00:05,  4.37it/s]\u001b[A\n",
      "Generating for node: 24:  35%|███▌      | 13/37 [00:03<00:05,  4.37it/s]\u001b[A\n",
      "Generating for node: 24:  38%|███▊      | 14/37 [00:03<00:05,  4.39it/s]\u001b[A\n",
      "Generating for node: 23:  38%|███▊      | 14/37 [00:03<00:05,  4.39it/s]\u001b[A\n",
      "Generating for node: 23:  41%|████      | 15/37 [00:03<00:04,  4.40it/s]\u001b[A\n",
      "Generating for node: 22:  41%|████      | 15/37 [00:03<00:04,  4.40it/s]\u001b[A\n",
      "Generating for node: 22:  43%|████▎     | 16/37 [00:03<00:04,  4.55it/s]\u001b[A\n",
      "Generating for node: 21:  43%|████▎     | 16/37 [00:03<00:04,  4.55it/s]\u001b[A\n",
      "Generating for node: 21:  46%|████▌     | 17/37 [00:04<00:04,  4.69it/s]\u001b[A\n",
      "Generating for node: 19:  46%|████▌     | 17/37 [00:04<00:04,  4.69it/s]\u001b[A\n",
      "Generating for node: 19:  49%|████▊     | 18/37 [00:04<00:04,  4.70it/s]\u001b[A\n",
      "Generating for node: 18:  49%|████▊     | 18/37 [00:04<00:04,  4.70it/s]\u001b[A\n",
      "Generating for node: 18:  51%|█████▏    | 19/37 [00:04<00:03,  4.72it/s]\u001b[A\n",
      "Generating for node: 20:  51%|█████▏    | 19/37 [00:04<00:03,  4.72it/s]\u001b[A\n",
      "Generating for node: 20:  54%|█████▍    | 20/37 [00:04<00:03,  4.72it/s]\u001b[A\n",
      "Generating for node: 30:  54%|█████▍    | 20/37 [00:04<00:03,  4.72it/s]\u001b[A\n",
      "Generating for node: 30:  57%|█████▋    | 21/37 [00:04<00:03,  4.75it/s]\u001b[A\n",
      "Generating for node: 15:  57%|█████▋    | 21/37 [00:04<00:03,  4.75it/s]\u001b[A\n",
      "Generating for node: 15:  59%|█████▉    | 22/37 [00:05<00:03,  4.72it/s]\u001b[A\n",
      "Generating for node: 17:  59%|█████▉    | 22/37 [00:05<00:03,  4.72it/s]\u001b[A\n",
      "Generating for node: 17:  62%|██████▏   | 23/37 [00:05<00:03,  4.64it/s]\u001b[A\n",
      "Generating for node: 29:  62%|██████▏   | 23/37 [00:05<00:03,  4.64it/s]\u001b[A\n",
      "Generating for node: 29:  65%|██████▍   | 24/37 [00:05<00:02,  4.73it/s]\u001b[A\n",
      "Generating for node: 25:  65%|██████▍   | 24/37 [00:05<00:02,  4.73it/s]\u001b[A\n",
      "Generating for node: 25:  68%|██████▊   | 25/37 [00:05<00:02,  4.45it/s]\u001b[A\n",
      "Generating for node: 16:  68%|██████▊   | 25/37 [00:05<00:02,  4.45it/s]\u001b[A\n",
      "Generating for node: 16:  70%|███████   | 26/37 [00:06<00:02,  4.27it/s]\u001b[A\n",
      "Generating for node: 26:  70%|███████   | 26/37 [00:06<00:02,  4.27it/s]\u001b[A\n",
      "Generating for node: 26:  73%|███████▎  | 27/37 [00:06<00:02,  4.20it/s]\u001b[A\n",
      "Generating for node: 28:  73%|███████▎  | 27/37 [00:06<00:02,  4.20it/s]\u001b[A\n",
      "Generating for node: 28:  76%|███████▌  | 28/37 [00:06<00:02,  4.25it/s]\u001b[A\n",
      "Generating for node: 27:  76%|███████▌  | 28/37 [00:06<00:02,  4.25it/s]\u001b[A\n",
      "Generating for node: 27:  78%|███████▊  | 29/37 [00:06<00:01,  4.24it/s]\u001b[A\n",
      "Generating for node: 9:  78%|███████▊  | 29/37 [00:06<00:01,  4.24it/s] \u001b[A\n",
      "Generating for node: 9:  81%|████████  | 30/37 [00:07<00:01,  4.33it/s]\u001b[A\n",
      "Generating for node: 11:  81%|████████  | 30/37 [00:07<00:01,  4.33it/s]\u001b[A\n",
      "Generating for node: 11:  84%|████████▍ | 31/37 [00:07<00:01,  4.33it/s]\u001b[A\n",
      "Generating for node: 10:  84%|████████▍ | 31/37 [00:07<00:01,  4.33it/s]\u001b[A\n",
      "Generating for node: 10:  86%|████████▋ | 32/37 [00:07<00:01,  4.45it/s]\u001b[A\n",
      "Generating for node: 8:  86%|████████▋ | 32/37 [00:07<00:01,  4.45it/s] \u001b[A\n",
      "Generating for node: 8:  89%|████████▉ | 33/37 [00:07<00:00,  4.46it/s]\u001b[A\n",
      "Generating for node: 7:  89%|████████▉ | 33/37 [00:07<00:00,  4.46it/s]\u001b[A\n",
      "Generating for node: 7:  92%|█████████▏| 34/37 [00:07<00:00,  4.40it/s]\u001b[A\n",
      "Generating for node: 12:  92%|█████████▏| 34/37 [00:07<00:00,  4.40it/s]\u001b[A\n",
      "Generating for node: 12:  95%|█████████▍| 35/37 [00:08<00:00,  4.45it/s]\u001b[A\n",
      "Generating for node: 3:  95%|█████████▍| 35/37 [00:08<00:00,  4.45it/s] \u001b[A\n",
      "Generating for node: 3:  97%|█████████▋| 36/37 [00:08<00:00,  4.51it/s]\u001b[A\n",
      "Generating for node: 2:  97%|█████████▋| 36/37 [00:08<00:00,  4.51it/s]\u001b[A\n",
      "Generating for node: 2: 100%|██████████| 37/37 [00:08<00:00,  4.30it/s]\u001b[A\n",
      "INFO:KDECopulaNNPdf:Fitting discriminative learner: selected 37 features.\n",
      "INFO:KDECopulaNNPdf:Calibrating classifier.\n",
      "INFO:KDECopulaNNPdf:Maximum weight found: 21.940754353723637\n",
      "INFO:KDECopulaNNPdf:Generating 186186 data points.\n",
      "\n",
      "  0%|          | 0/37 [00:00<?, ?it/s]\u001b[A\n",
      "Generating for node: 1:   0%|          | 0/37 [00:00<?, ?it/s]\u001b[A\n",
      "Generating for node: 1:   3%|▎         | 1/37 [00:00<00:08,  4.29it/s]\u001b[A\n",
      "Generating for node: 0:   3%|▎         | 1/37 [00:00<00:08,  4.29it/s]\u001b[A\n",
      "Generating for node: 0:   5%|▌         | 2/37 [00:00<00:05,  6.24it/s]\u001b[A\n",
      "Generating for node: 5:   5%|▌         | 2/37 [00:00<00:05,  6.24it/s]\u001b[A\n",
      "Generating for node: 5:   8%|▊         | 3/37 [00:00<00:05,  6.22it/s]\u001b[A\n",
      "Generating for node: 4:   8%|▊         | 3/37 [00:00<00:05,  6.22it/s]\u001b[A\n",
      "Generating for node: 4:  11%|█         | 4/37 [00:00<00:05,  6.35it/s]\u001b[A\n",
      "Generating for node: 6:  11%|█         | 4/37 [00:00<00:05,  6.35it/s]\u001b[A\n",
      "Generating for node: 6:  14%|█▎        | 5/37 [00:00<00:05,  6.06it/s]\u001b[A\n",
      "Generating for node: 35:  14%|█▎        | 5/37 [00:00<00:05,  6.06it/s]\u001b[A\n",
      "Generating for node: 35:  16%|█▌        | 6/37 [00:01<00:05,  5.95it/s]\u001b[A\n"
     ]
    },
    {
     "name": "stderr",
     "output_type": "stream",
     "text": [
      "Generating for node: 36:  16%|█▌        | 6/37 [00:01<00:05,  5.95it/s]\u001b[A\n",
      "Generating for node: 36:  19%|█▉        | 7/37 [00:01<00:05,  5.93it/s]\u001b[A\n",
      "Generating for node: 14:  19%|█▉        | 7/37 [00:01<00:05,  5.93it/s]\u001b[A\n",
      "Generating for node: 14:  22%|██▏       | 8/37 [00:01<00:04,  5.94it/s]\u001b[A\n",
      "Generating for node: 13:  22%|██▏       | 8/37 [00:01<00:04,  5.94it/s]\u001b[A\n",
      "Generating for node: 13:  24%|██▍       | 9/37 [00:01<00:04,  5.74it/s]\u001b[A\n",
      "Generating for node: 34:  24%|██▍       | 9/37 [00:01<00:04,  5.74it/s]\u001b[A\n",
      "Generating for node: 34:  27%|██▋       | 10/37 [00:01<00:04,  5.81it/s]\u001b[A\n",
      "Generating for node: 33:  27%|██▋       | 10/37 [00:01<00:04,  5.81it/s]\u001b[A\n",
      "Generating for node: 33:  30%|██▉       | 11/37 [00:01<00:04,  6.08it/s]\u001b[A\n",
      "Generating for node: 32:  30%|██▉       | 11/37 [00:01<00:04,  6.08it/s]\u001b[A\n",
      "Generating for node: 32:  32%|███▏      | 12/37 [00:01<00:03,  6.30it/s]\u001b[A\n",
      "Generating for node: 31:  32%|███▏      | 12/37 [00:01<00:03,  6.30it/s]\u001b[A\n",
      "Generating for node: 31:  35%|███▌      | 13/37 [00:02<00:03,  6.32it/s]\u001b[A\n",
      "Generating for node: 24:  35%|███▌      | 13/37 [00:02<00:03,  6.32it/s]\u001b[A\n",
      "Generating for node: 24:  38%|███▊      | 14/37 [00:02<00:03,  6.23it/s]\u001b[A\n",
      "Generating for node: 23:  38%|███▊      | 14/37 [00:02<00:03,  6.23it/s]\u001b[A\n",
      "Generating for node: 23:  41%|████      | 15/37 [00:02<00:03,  6.34it/s]\u001b[A\n",
      "Generating for node: 22:  41%|████      | 15/37 [00:02<00:03,  6.34it/s]\u001b[A\n",
      "Generating for node: 22:  43%|████▎     | 16/37 [00:02<00:03,  6.32it/s]\u001b[A\n",
      "Generating for node: 21:  43%|████▎     | 16/37 [00:02<00:03,  6.32it/s]\u001b[A\n",
      "Generating for node: 21:  46%|████▌     | 17/37 [00:02<00:03,  6.11it/s]\u001b[A\n",
      "Generating for node: 19:  46%|████▌     | 17/37 [00:02<00:03,  6.11it/s]\u001b[A\n",
      "Generating for node: 19:  49%|████▊     | 18/37 [00:02<00:03,  5.86it/s]\u001b[A\n",
      "Generating for node: 18:  49%|████▊     | 18/37 [00:02<00:03,  5.86it/s]\u001b[A\n",
      "Generating for node: 18:  51%|█████▏    | 19/37 [00:03<00:03,  5.85it/s]\u001b[A\n",
      "Generating for node: 20:  51%|█████▏    | 19/37 [00:03<00:03,  5.85it/s]\u001b[A\n",
      "Generating for node: 20:  54%|█████▍    | 20/37 [00:03<00:02,  5.92it/s]\u001b[A\n",
      "Generating for node: 30:  54%|█████▍    | 20/37 [00:03<00:02,  5.92it/s]\u001b[A\n",
      "Generating for node: 30:  57%|█████▋    | 21/37 [00:03<00:02,  5.88it/s]\u001b[A\n",
      "Generating for node: 15:  57%|█████▋    | 21/37 [00:03<00:02,  5.88it/s]\u001b[A\n",
      "Generating for node: 15:  59%|█████▉    | 22/37 [00:03<00:02,  6.01it/s]\u001b[A\n",
      "Generating for node: 17:  59%|█████▉    | 22/37 [00:03<00:02,  6.01it/s]\u001b[A\n",
      "Generating for node: 17:  62%|██████▏   | 23/37 [00:03<00:02,  6.23it/s]\u001b[A\n",
      "Generating for node: 29:  62%|██████▏   | 23/37 [00:03<00:02,  6.23it/s]\u001b[A\n",
      "Generating for node: 29:  65%|██████▍   | 24/37 [00:03<00:02,  6.35it/s]\u001b[A\n",
      "Generating for node: 25:  65%|██████▍   | 24/37 [00:03<00:02,  6.35it/s]\u001b[A\n",
      "Generating for node: 25:  68%|██████▊   | 25/37 [00:04<00:01,  6.20it/s]\u001b[A\n",
      "Generating for node: 16:  68%|██████▊   | 25/37 [00:04<00:01,  6.20it/s]\u001b[A\n",
      "Generating for node: 16:  70%|███████   | 26/37 [00:04<00:01,  6.04it/s]\u001b[A\n",
      "Generating for node: 26:  70%|███████   | 26/37 [00:04<00:01,  6.04it/s]\u001b[A\n",
      "Generating for node: 26:  73%|███████▎  | 27/37 [00:04<00:01,  5.94it/s]\u001b[A\n",
      "Generating for node: 28:  73%|███████▎  | 27/37 [00:04<00:01,  5.94it/s]\u001b[A\n",
      "Generating for node: 28:  76%|███████▌  | 28/37 [00:04<00:01,  5.97it/s]\u001b[A\n",
      "Generating for node: 27:  76%|███████▌  | 28/37 [00:04<00:01,  5.97it/s]\u001b[A\n",
      "Generating for node: 27:  78%|███████▊  | 29/37 [00:04<00:01,  6.00it/s]\u001b[A\n",
      "Generating for node: 9:  78%|███████▊  | 29/37 [00:04<00:01,  6.00it/s] \u001b[A\n",
      "Generating for node: 9:  81%|████████  | 30/37 [00:04<00:01,  6.25it/s]\u001b[A\n",
      "Generating for node: 11:  81%|████████  | 30/37 [00:04<00:01,  6.25it/s]\u001b[A\n",
      "Generating for node: 11:  84%|████████▍ | 31/37 [00:05<00:00,  6.51it/s]\u001b[A\n",
      "Generating for node: 10:  84%|████████▍ | 31/37 [00:05<00:00,  6.51it/s]\u001b[A\n",
      "Generating for node: 10:  86%|████████▋ | 32/37 [00:05<00:00,  6.82it/s]\u001b[A\n",
      "Generating for node: 8:  86%|████████▋ | 32/37 [00:05<00:00,  6.82it/s] \u001b[A\n",
      "Generating for node: 8:  89%|████████▉ | 33/37 [00:05<00:00,  7.10it/s]\u001b[A\n",
      "Generating for node: 7:  89%|████████▉ | 33/37 [00:05<00:00,  7.10it/s]\u001b[A\n",
      "Generating for node: 7:  92%|█████████▏| 34/37 [00:05<00:00,  6.94it/s]\u001b[A\n",
      "Generating for node: 12:  92%|█████████▏| 34/37 [00:05<00:00,  6.94it/s]\u001b[A\n",
      "Generating for node: 12:  95%|█████████▍| 35/37 [00:05<00:00,  6.91it/s]\u001b[A\n",
      "Generating for node: 3:  95%|█████████▍| 35/37 [00:05<00:00,  6.91it/s] \u001b[A\n",
      "Generating for node: 3:  97%|█████████▋| 36/37 [00:05<00:00,  6.81it/s]\u001b[A\n",
      "Generating for node: 2:  97%|█████████▋| 36/37 [00:05<00:00,  6.81it/s]\u001b[A\n",
      "Generating for node: 2: 100%|██████████| 37/37 [00:05<00:00,  6.22it/s]\u001b[A\n",
      "INFO:sdgym.benchmark:Scoring KDECopulaNNPdf_SynthesizerInteger on dataset alarm; iteration 0; 490.68 MB\n",
      "INFO:sdgym.evaluate:Evaluating using Bayesian Likelihood.\n"
     ]
    },
    {
     "name": "stdout",
     "output_type": "stream",
     "text": [
      "[[1. 1. 1. 1. 1.]\n",
      " [1. 1. 1. 1. 1.]\n",
      " [0. 0. 0. 1. 0.]\n",
      " ...\n",
      " [1. 1. 1. 0. 1.]\n",
      " [1. 0. 1. 1. 1.]\n",
      " [1. 1. 1. 1. 1.]]\n",
      "[[1. 1. 1. 1. 1.]\n",
      " [1. 1. 1. 1. 1.]\n",
      " [0. 0. 0. 1. 0.]\n",
      " ...\n",
      " [1. 1. 1. 0. 1.]\n",
      " [1. 0. 1. 1. 1.]\n",
      " [1. 1. 1. 1. 1.]]\n"
     ]
    },
    {
     "name": "stderr",
     "output_type": "stream",
     "text": [
      "INFO:sdgym.benchmark:Finished KDECopulaNNPdf_SynthesizerInteger on dataset alarm; iteration 0; 386.57 MB\n",
      "INFO:sdgym.benchmark:100%|##########| 1/1 [00:28<00:00, 28.42s/it]\n",
      "INFO:sdgym.benchmark:100%|##########| 1/1 [00:28<00:00, 28.42s/it]\n"
     ]
    }
   ],
   "source": [
    "scores = sdgym.run(synthesizers=all_synthesizers, datasets=[dataset_name], iterations=1)"
   ]
  },
  {
   "cell_type": "code",
   "execution_count": 43,
   "metadata": {},
   "outputs": [
    {
     "data": {
      "text/html": [
       "<div>\n",
       "<style scoped>\n",
       "    .dataframe tbody tr th:only-of-type {\n",
       "        vertical-align: middle;\n",
       "    }\n",
       "\n",
       "    .dataframe tbody tr th {\n",
       "        vertical-align: top;\n",
       "    }\n",
       "\n",
       "    .dataframe thead th {\n",
       "        text-align: right;\n",
       "    }\n",
       "</style>\n",
       "<table border=\"1\" class=\"dataframe\">\n",
       "  <thead>\n",
       "    <tr style=\"text-align: right;\">\n",
       "      <th></th>\n",
       "      <th>alarm/syn_likelihood</th>\n",
       "      <th>alarm/test_likelihood</th>\n",
       "      <th>timestamp</th>\n",
       "    </tr>\n",
       "  </thead>\n",
       "  <tbody>\n",
       "    <tr>\n",
       "      <th>VEEGANSynthesizer</th>\n",
       "      <td>-18.386073</td>\n",
       "      <td>-18.210907</td>\n",
       "      <td>2020-04-12 09:41:35.096775</td>\n",
       "    </tr>\n",
       "    <tr>\n",
       "      <th>CLBNSynthesizer</th>\n",
       "      <td>-12.458848</td>\n",
       "      <td>-11.187805</td>\n",
       "      <td>2020-10-17 09:46:54.494331</td>\n",
       "    </tr>\n",
       "    <tr>\n",
       "      <th>CTGAN</th>\n",
       "      <td>-15.882041</td>\n",
       "      <td>-13.097559</td>\n",
       "      <td>2020-10-17 09:46:54.494331</td>\n",
       "    </tr>\n",
       "    <tr>\n",
       "      <th>CTGANSynthesizer</th>\n",
       "      <td>-15.220448</td>\n",
       "      <td>-12.928010</td>\n",
       "      <td>2020-10-17 09:46:54.494331</td>\n",
       "    </tr>\n",
       "    <tr>\n",
       "      <th>CopulaGAN</th>\n",
       "      <td>-15.688131</td>\n",
       "      <td>-13.052851</td>\n",
       "      <td>2020-10-17 09:46:54.494331</td>\n",
       "    </tr>\n",
       "    <tr>\n",
       "      <th>GaussianCopulaCategorical</th>\n",
       "      <td>-12.906379</td>\n",
       "      <td>-15.574882</td>\n",
       "      <td>2020-10-17 09:46:54.494331</td>\n",
       "    </tr>\n",
       "    <tr>\n",
       "      <th>GaussianCopulaCategoricalFuzzy</th>\n",
       "      <td>-14.521543</td>\n",
       "      <td>-14.565064</td>\n",
       "      <td>2020-10-17 09:46:54.494331</td>\n",
       "    </tr>\n",
       "    <tr>\n",
       "      <th>GaussianCopulaOneHot</th>\n",
       "      <td>-15.476064</td>\n",
       "      <td>-15.666336</td>\n",
       "      <td>2020-10-17 09:46:54.494331</td>\n",
       "    </tr>\n",
       "    <tr>\n",
       "      <th>IdentitySynthesizer</th>\n",
       "      <td>-10.231837</td>\n",
       "      <td>-10.300455</td>\n",
       "      <td>2020-10-17 09:46:54.494331</td>\n",
       "    </tr>\n",
       "    <tr>\n",
       "      <th>IndependentSynthesizer</th>\n",
       "      <td>-18.239966</td>\n",
       "      <td>-15.818331</td>\n",
       "      <td>2020-10-17 09:46:54.494331</td>\n",
       "    </tr>\n",
       "    <tr>\n",
       "      <th>MedganSynthesizer</th>\n",
       "      <td>-7.838956</td>\n",
       "      <td>-13.255156</td>\n",
       "      <td>2020-10-17 09:46:54.494331</td>\n",
       "    </tr>\n",
       "    <tr>\n",
       "      <th>PrivBNSynthesizer</th>\n",
       "      <td>-12.153661</td>\n",
       "      <td>-11.139606</td>\n",
       "      <td>2020-10-17 09:46:54.494331</td>\n",
       "    </tr>\n",
       "    <tr>\n",
       "      <th>TVAESynthesizer</th>\n",
       "      <td>-11.441792</td>\n",
       "      <td>-10.760536</td>\n",
       "      <td>2020-10-17 09:46:54.494331</td>\n",
       "    </tr>\n",
       "    <tr>\n",
       "      <th>TableganSynthesizer</th>\n",
       "      <td>-12.688844</td>\n",
       "      <td>-11.542355</td>\n",
       "      <td>2020-10-17 09:46:54.494331</td>\n",
       "    </tr>\n",
       "    <tr>\n",
       "      <th>UniformSynthesizer</th>\n",
       "      <td>-18.420681</td>\n",
       "      <td>-18.420681</td>\n",
       "      <td>2020-10-17 09:46:54.494331</td>\n",
       "    </tr>\n",
       "    <tr>\n",
       "      <th>KDECopulaNNPdf_SynthesizerInteger</th>\n",
       "      <td>-10.673233</td>\n",
       "      <td>-10.512947</td>\n",
       "      <td>2021-05-18 06:50:36.472523</td>\n",
       "    </tr>\n",
       "  </tbody>\n",
       "</table>\n",
       "</div>"
      ],
      "text/plain": [
       "                                   alarm/syn_likelihood  \\\n",
       "VEEGANSynthesizer                            -18.386073   \n",
       "CLBNSynthesizer                              -12.458848   \n",
       "CTGAN                                        -15.882041   \n",
       "CTGANSynthesizer                             -15.220448   \n",
       "CopulaGAN                                    -15.688131   \n",
       "GaussianCopulaCategorical                    -12.906379   \n",
       "GaussianCopulaCategoricalFuzzy               -14.521543   \n",
       "GaussianCopulaOneHot                         -15.476064   \n",
       "IdentitySynthesizer                          -10.231837   \n",
       "IndependentSynthesizer                       -18.239966   \n",
       "MedganSynthesizer                             -7.838956   \n",
       "PrivBNSynthesizer                            -12.153661   \n",
       "TVAESynthesizer                              -11.441792   \n",
       "TableganSynthesizer                          -12.688844   \n",
       "UniformSynthesizer                           -18.420681   \n",
       "KDECopulaNNPdf_SynthesizerInteger            -10.673233   \n",
       "\n",
       "                                   alarm/test_likelihood  \\\n",
       "VEEGANSynthesizer                             -18.210907   \n",
       "CLBNSynthesizer                               -11.187805   \n",
       "CTGAN                                         -13.097559   \n",
       "CTGANSynthesizer                              -12.928010   \n",
       "CopulaGAN                                     -13.052851   \n",
       "GaussianCopulaCategorical                     -15.574882   \n",
       "GaussianCopulaCategoricalFuzzy                -14.565064   \n",
       "GaussianCopulaOneHot                          -15.666336   \n",
       "IdentitySynthesizer                           -10.300455   \n",
       "IndependentSynthesizer                        -15.818331   \n",
       "MedganSynthesizer                             -13.255156   \n",
       "PrivBNSynthesizer                             -11.139606   \n",
       "TVAESynthesizer                               -10.760536   \n",
       "TableganSynthesizer                           -11.542355   \n",
       "UniformSynthesizer                            -18.420681   \n",
       "KDECopulaNNPdf_SynthesizerInteger             -10.512947   \n",
       "\n",
       "                                                   timestamp  \n",
       "VEEGANSynthesizer                 2020-04-12 09:41:35.096775  \n",
       "CLBNSynthesizer                   2020-10-17 09:46:54.494331  \n",
       "CTGAN                             2020-10-17 09:46:54.494331  \n",
       "CTGANSynthesizer                  2020-10-17 09:46:54.494331  \n",
       "CopulaGAN                         2020-10-17 09:46:54.494331  \n",
       "GaussianCopulaCategorical         2020-10-17 09:46:54.494331  \n",
       "GaussianCopulaCategoricalFuzzy    2020-10-17 09:46:54.494331  \n",
       "GaussianCopulaOneHot              2020-10-17 09:46:54.494331  \n",
       "IdentitySynthesizer               2020-10-17 09:46:54.494331  \n",
       "IndependentSynthesizer            2020-10-17 09:46:54.494331  \n",
       "MedganSynthesizer                 2020-10-17 09:46:54.494331  \n",
       "PrivBNSynthesizer                 2020-10-17 09:46:54.494331  \n",
       "TVAESynthesizer                   2020-10-17 09:46:54.494331  \n",
       "TableganSynthesizer               2020-10-17 09:46:54.494331  \n",
       "UniformSynthesizer                2020-10-17 09:46:54.494331  \n",
       "KDECopulaNNPdf_SynthesizerInteger 2021-05-18 06:50:36.472523  "
      ]
     },
     "execution_count": 43,
     "metadata": {},
     "output_type": "execute_result"
    }
   ],
   "source": [
    "scores"
   ]
  },
  {
   "cell_type": "code",
   "execution_count": 44,
   "metadata": {},
   "outputs": [
    {
     "data": {
      "text/html": [
       "<div>\n",
       "<style scoped>\n",
       "    .dataframe tbody tr th:only-of-type {\n",
       "        vertical-align: middle;\n",
       "    }\n",
       "\n",
       "    .dataframe tbody tr th {\n",
       "        vertical-align: top;\n",
       "    }\n",
       "\n",
       "    .dataframe thead th {\n",
       "        text-align: right;\n",
       "    }\n",
       "</style>\n",
       "<table border=\"1\" class=\"dataframe\">\n",
       "  <thead>\n",
       "    <tr style=\"text-align: right;\">\n",
       "      <th></th>\n",
       "      <th>alarm/syn_likelihood</th>\n",
       "      <th>alarm/test_likelihood</th>\n",
       "      <th>timestamp</th>\n",
       "    </tr>\n",
       "  </thead>\n",
       "  <tbody>\n",
       "    <tr>\n",
       "      <th>TVAESynthesizer</th>\n",
       "      <td>-11.441792</td>\n",
       "      <td>-10.760536</td>\n",
       "      <td>2020-10-17 09:46:54.494331</td>\n",
       "    </tr>\n",
       "    <tr>\n",
       "      <th>TableganSynthesizer</th>\n",
       "      <td>-12.688844</td>\n",
       "      <td>-11.542355</td>\n",
       "      <td>2020-10-17 09:46:54.494331</td>\n",
       "    </tr>\n",
       "    <tr>\n",
       "      <th>UniformSynthesizer</th>\n",
       "      <td>-18.420681</td>\n",
       "      <td>-18.420681</td>\n",
       "      <td>2020-10-17 09:46:54.494331</td>\n",
       "    </tr>\n",
       "    <tr>\n",
       "      <th>KDECopulaNNPdf_SynthesizerInteger</th>\n",
       "      <td>-10.673233</td>\n",
       "      <td>-10.512947</td>\n",
       "      <td>2021-05-18 06:50:36.472523</td>\n",
       "    </tr>\n",
       "  </tbody>\n",
       "</table>\n",
       "</div>"
      ],
      "text/plain": [
       "                                   alarm/syn_likelihood  \\\n",
       "TVAESynthesizer                              -11.441792   \n",
       "TableganSynthesizer                          -12.688844   \n",
       "UniformSynthesizer                           -18.420681   \n",
       "KDECopulaNNPdf_SynthesizerInteger            -10.673233   \n",
       "\n",
       "                                   alarm/test_likelihood  \\\n",
       "TVAESynthesizer                               -10.760536   \n",
       "TableganSynthesizer                           -11.542355   \n",
       "UniformSynthesizer                            -18.420681   \n",
       "KDECopulaNNPdf_SynthesizerInteger             -10.512947   \n",
       "\n",
       "                                                   timestamp  \n",
       "TVAESynthesizer                   2020-10-17 09:46:54.494331  \n",
       "TableganSynthesizer               2020-10-17 09:46:54.494331  \n",
       "UniformSynthesizer                2020-10-17 09:46:54.494331  \n",
       "KDECopulaNNPdf_SynthesizerInteger 2021-05-18 06:50:36.472523  "
      ]
     },
     "execution_count": 44,
     "metadata": {},
     "output_type": "execute_result"
    }
   ],
   "source": [
    "scores.tail(4)"
   ]
  },
  {
   "cell_type": "code",
   "execution_count": null,
   "metadata": {},
   "outputs": [],
   "source": []
  }
 ],
 "metadata": {
  "kernelspec": {
   "display_name": "Python 3",
   "language": "python",
   "name": "python3"
  },
  "language_info": {
   "codemirror_mode": {
    "name": "ipython",
    "version": 3
   },
   "file_extension": ".py",
   "mimetype": "text/x-python",
   "name": "python",
   "nbconvert_exporter": "python",
   "pygments_lexer": "ipython3",
   "version": "3.8.5"
  }
 },
 "nbformat": 4,
 "nbformat_minor": 4
}
