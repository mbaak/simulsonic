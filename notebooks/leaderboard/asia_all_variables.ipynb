{
 "cells": [
  {
   "cell_type": "code",
   "execution_count": 1,
   "metadata": {},
   "outputs": [],
   "source": [
    "%load_ext autoreload\n",
    "%autoreload 2"
   ]
  },
  {
   "cell_type": "code",
   "execution_count": 2,
   "metadata": {},
   "outputs": [],
   "source": [
    "!pip install -q -U git+https://github.com/sbrugman/SDGym.git@v0.2.2-hw"
   ]
  },
  {
   "cell_type": "code",
   "execution_count": null,
   "metadata": {},
   "outputs": [],
   "source": [
    "!pip install -q -U ../../"
   ]
  },
  {
   "cell_type": "code",
   "execution_count": 2,
   "metadata": {},
   "outputs": [],
   "source": [
    "from timeit import default_timer as timer\n",
    "from functools import partial\n",
    "from random import choices\n",
    "import logging"
   ]
  },
  {
   "cell_type": "code",
   "execution_count": 3,
   "metadata": {},
   "outputs": [],
   "source": [
    "import sdgym\n",
    "from sdgym import load_dataset\n",
    "from sdgym import benchmark\n",
    "from sdgym import load_dataset"
   ]
  },
  {
   "cell_type": "code",
   "execution_count": 4,
   "metadata": {},
   "outputs": [],
   "source": [
    "import numpy as np\n",
    "import pandas as pd\n",
    "import matplotlib.pyplot as plt\n",
    "import networkx as nx"
   ]
  },
  {
   "cell_type": "code",
   "execution_count": 5,
   "metadata": {},
   "outputs": [],
   "source": [
    "import pgmpy\n",
    "\n",
    "from pgmpy.models import BayesianModel\n",
    "from pgmpy.estimators import TreeSearch, HillClimbSearch, BicScore, ExhaustiveSearch, BayesianEstimator\n",
    "from pgmpy.sampling import BayesianModelSampling"
   ]
  },
  {
   "cell_type": "code",
   "execution_count": 6,
   "metadata": {},
   "outputs": [],
   "source": [
    "import xgboost as xgb\n",
    "from xgboost import XGBClassifier"
   ]
  },
  {
   "cell_type": "code",
   "execution_count": 7,
   "metadata": {},
   "outputs": [],
   "source": [
    "from sklearn.neural_network import MLPClassifier\n",
    "from sklearn.svm import SVC\n",
    "from sklearn.model_selection import train_test_split\n",
    "from sklearn.isotonic import IsotonicRegression"
   ]
  },
  {
   "cell_type": "code",
   "execution_count": 8,
   "metadata": {},
   "outputs": [],
   "source": [
    "from sklearn.metrics import (\n",
    "    mutual_info_score,\n",
    "    adjusted_mutual_info_score,\n",
    "    normalized_mutual_info_score,\n",
    ")"
   ]
  },
  {
   "cell_type": "code",
   "execution_count": 9,
   "metadata": {},
   "outputs": [],
   "source": [
    "from scipy import interpolate"
   ]
  },
  {
   "cell_type": "code",
   "execution_count": 10,
   "metadata": {},
   "outputs": [],
   "source": [
    "from phik.phik import phik_from_binned_array"
   ]
  },
  {
   "cell_type": "code",
   "execution_count": 11,
   "metadata": {},
   "outputs": [],
   "source": [
    "from synthsonic.models.kde_utils import kde_smooth_peaks_1dim, kde_smooth_peaks\n",
    "from synthsonic.models.kde_copula_nn_pdf import KDECopulaNNPdf"
   ]
  },
  {
   "cell_type": "code",
   "execution_count": 12,
   "metadata": {},
   "outputs": [],
   "source": [
    "import matplotlib.pyplot as plt\n",
    "%matplotlib inline"
   ]
  },
  {
   "cell_type": "code",
   "execution_count": 13,
   "metadata": {},
   "outputs": [],
   "source": [
    "logging.basicConfig(level=logging.INFO)"
   ]
  },
  {
   "cell_type": "code",
   "execution_count": 14,
   "metadata": {},
   "outputs": [],
   "source": [
    "dataset_name = 'asia'"
   ]
  },
  {
   "cell_type": "code",
   "execution_count": 15,
   "metadata": {},
   "outputs": [
    {
     "name": "stderr",
     "output_type": "stream",
     "text": [
      "INFO:sdgym.data:Loading dataset asia (all variables)\n"
     ]
    }
   ],
   "source": [
    "data, categorical_columns, ordinal_columns = load_dataset(dataset_name)"
   ]
  },
  {
   "cell_type": "code",
   "execution_count": 16,
   "metadata": {},
   "outputs": [
    {
     "data": {
      "text/plain": [
       "(10000, 8)"
      ]
     },
     "execution_count": 16,
     "metadata": {},
     "output_type": "execute_result"
    }
   ],
   "source": [
    "data.shape"
   ]
  },
  {
   "cell_type": "code",
   "execution_count": 17,
   "metadata": {},
   "outputs": [
    {
     "data": {
      "text/plain": [
       "([0, 1, 2, 3, 4, 5, 6, 7], [])"
      ]
     },
     "execution_count": 17,
     "metadata": {},
     "output_type": "execute_result"
    }
   ],
   "source": [
    "categorical_columns, ordinal_columns"
   ]
  },
  {
   "cell_type": "code",
   "execution_count": 18,
   "metadata": {},
   "outputs": [
    {
     "name": "stdout",
     "output_type": "stream",
     "text": [
      "0 2\n",
      "1 2\n",
      "2 2\n",
      "3 2\n",
      "4 2\n",
      "5 2\n",
      "6 2\n",
      "7 2\n"
     ]
    }
   ],
   "source": [
    "for i in range(data.shape[1]):\n",
    "    print (i, len(np.unique(data[:, i])))"
   ]
  },
  {
   "cell_type": "code",
   "execution_count": 19,
   "metadata": {},
   "outputs": [
    {
     "data": {
      "text/plain": [
       "(array([4425.,    0.,    0.,    0.,    0.,    0.,    0.,    0.,    0.,\n",
       "           0.,    0.,    0.,    0.,    0.,    0.,    0.,    0.,    0.,\n",
       "           0.,    0.,    0.,    0.,    0.,    0.,    0.,    0.,    0.,\n",
       "           0.,    0.,    0.,    0.,    0.,    0.,    0.,    0.,    0.,\n",
       "           0.,    0.,    0., 5575.]),\n",
       " array([0.   , 0.025, 0.05 , 0.075, 0.1  , 0.125, 0.15 , 0.175, 0.2  ,\n",
       "        0.225, 0.25 , 0.275, 0.3  , 0.325, 0.35 , 0.375, 0.4  , 0.425,\n",
       "        0.45 , 0.475, 0.5  , 0.525, 0.55 , 0.575, 0.6  , 0.625, 0.65 ,\n",
       "        0.675, 0.7  , 0.725, 0.75 , 0.775, 0.8  , 0.825, 0.85 , 0.875,\n",
       "        0.9  , 0.925, 0.95 , 0.975, 1.   ]),\n",
       " <a list of 40 Patch objects>)"
      ]
     },
     "execution_count": 19,
     "metadata": {},
     "output_type": "execute_result"
    },
    {
     "data": {
      "image/png": "[encoded data removed]",
      "text/plain": [
       "<Figure size 432x288 with 1 Axes>"
      ]
     },
     "metadata": {
      "needs_background": "light"
     },
     "output_type": "display_data"
    }
   ],
   "source": [
    "plt.hist(data[:, 7], bins=40)"
   ]
  },
  {
   "cell_type": "code",
   "execution_count": 20,
   "metadata": {},
   "outputs": [
    {
     "data": {
      "text/plain": [
       "array([1., 1., 1., ..., 1., 1., 1.])"
      ]
     },
     "execution_count": 20,
     "metadata": {},
     "output_type": "execute_result"
    }
   ],
   "source": [
    "data[:, 0]"
   ]
  },
  {
   "cell_type": "markdown",
   "metadata": {},
   "source": [
    "# run sdgym"
   ]
  },
  {
   "cell_type": "code",
   "execution_count": 21,
   "metadata": {},
   "outputs": [],
   "source": [
    "def KDECopulaNNPdf_Synthesizer(real_data, categorical_columns, ordinal_columns):\n",
    "    all_features = list(range(real_data.shape[1]))\n",
    "    numerical_features = list(set(all_features) - set(categorical_columns + ordinal_columns))\n",
    "    data = np.float64(real_data)\n",
    "    \n",
    "    n_samples = data.shape[0]\n",
    "    n_features = data.shape[1]\n",
    "    \n",
    "    clf = xgb.XGBClassifier(\n",
    "        n_estimators=250,\n",
    "        reg_lambda=1,\n",
    "        gamma=0,\n",
    "        max_depth=9\n",
    "    )\n",
    "#     clf = MLPClassifier(alpha=0.1, random_state=0, max_iter=1000, early_stopping=True)\n",
    "    \n",
    "    kde = KDECopulaNNPdf(\n",
    "        use_KDE=False, \n",
    "        categorical_columns=categorical_columns+ordinal_columns,\n",
    "        distinct_threshold=-1,\n",
    "        n_uniform_bins=30,\n",
    "        n_calibration_bins=100,\n",
    "        test_size=0.35,\n",
    "#        edge_weights_fn=phik_from_binned_array # normalized_mutual_info_score\n",
    "#        clf=clf,\n",
    "#         ordering='mi',\n",
    "    )\n",
    "    kde = kde.fit(data)\n",
    "    \n",
    "#     X_gen, sample_weight = kde.sample(n_samples)\n",
    "    X_gen = kde.sample_no_weights(n_samples, show_progress=True)\n",
    "    \n",
    "    X_gen[:, categorical_columns+ordinal_columns] = np.round(X_gen[:, categorical_columns+ordinal_columns])\n",
    "    X_gen = np.float32(X_gen)\n",
    "    \n",
    "    print(X_gen[:, :5])\n",
    "\n",
    "    return X_gen"
   ]
  },
  {
   "cell_type": "code",
   "execution_count": 22,
   "metadata": {},
   "outputs": [],
   "source": [
    "def KDECopulaNNPdf_SynthesizerInteger(real_data, categorical_columns, ordinal_columns):\n",
    "    \"\"\"Census has integer only...\"\"\"\n",
    "    data = KDECopulaNNPdf_Synthesizer(real_data, categorical_columns, ordinal_columns)\n",
    "    data = np.round(data)\n",
    "    \n",
    "    print(data[:, :5])\n",
    "\n",
    "    return data"
   ]
  },
  {
   "cell_type": "code",
   "execution_count": 23,
   "metadata": {},
   "outputs": [],
   "source": [
    "from sdgym.synthesizers import (\n",
    "    CLBNSynthesizer, CTGANSynthesizer, IdentitySynthesizer, IndependentSynthesizer,\n",
    "    MedganSynthesizer, PrivBNSynthesizer, TableganSynthesizer, TVAESynthesizer,\n",
    "    UniformSynthesizer, VEEGANSynthesizer)\n",
    "\n",
    "all_synthesizers = [\n",
    "    #IdentitySynthesizer,\n",
    "    #IndependentSynthesizer,\n",
    "    #KDECopulaNNPdf_Synthesizer,\n",
    "    KDECopulaNNPdf_SynthesizerInteger,\n",
    "]"
   ]
  },
  {
   "cell_type": "code",
   "execution_count": 24,
   "metadata": {
    "scrolled": false
   },
   "outputs": [
    {
     "name": "stderr",
     "output_type": "stream",
     "text": [
      "INFO:sdgym.benchmark:0%|          | 0/1 [00:00<?, ?it/s]\n",
      "INFO:sdgym.benchmark:Evaluating KDECopulaNNPdf_SynthesizerInteger on dataset asia; iteration 0; 269.14 MB\n",
      "INFO:sdgym.data:Loading dataset asia (all variables)\n",
      "INFO:sdgym.benchmark:Running KDECopulaNNPdf_SynthesizerInteger on dataset asia; iteration 0; 270.66 MB\n",
      "INFO:KDECopulaNNPdf:Processing 0 numerical and 8 categorical columns\n",
      "INFO:KDECopulaNNPdf:Transforming numerical variables.\n",
      "INFO:KDECopulaNNPdf:Configuring Bayesian Network (cat+num).\n",
      "\n",
      "  0%|          | 0/21.0 [00:00<?, ?it/s]\u001b[A\n",
      "Building tree: 100%|██████████| 21/21.0 [00:00<00:00, 1568.08it/s]\n",
      "INFO:KDECopulaNNPdf:Configuring classifier.\n",
      "INFO:KDECopulaNNPdf:Generating 256500 data points.\n",
      "\n",
      "  0%|          | 0/8 [00:00<?, ?it/s]\u001b[A\n",
      "Generating for node: 1:   0%|          | 0/8 [00:00<?, ?it/s]\u001b[A\n",
      "Generating for node: 0:   0%|          | 0/8 [00:00<?, ?it/s]\u001b[A\n",
      "Generating for node: 0:  25%|██▌       | 2/8 [00:00<00:00, 10.30it/s]\u001b[A\n",
      "Generating for node: 3:  25%|██▌       | 2/8 [00:00<00:00, 10.30it/s]\u001b[A\n",
      "Generating for node: 2:  25%|██▌       | 2/8 [00:00<00:00, 10.30it/s]\u001b[A\n",
      "Generating for node: 2:  50%|█████     | 4/8 [00:00<00:00,  7.11it/s]\u001b[A\n",
      "Generating for node: 4:  50%|█████     | 4/8 [00:00<00:00,  7.11it/s]\u001b[A\n",
      "Generating for node: 4:  62%|██████▎   | 5/8 [00:00<00:00,  6.61it/s]\u001b[A\n",
      "Generating for node: 7:  62%|██████▎   | 5/8 [00:00<00:00,  6.61it/s]\u001b[A\n",
      "Generating for node: 7:  75%|███████▌  | 6/8 [00:00<00:00,  6.24it/s]\u001b[A\n",
      "Generating for node: 5:  75%|███████▌  | 6/8 [00:00<00:00,  6.24it/s]\u001b[A\n",
      "Generating for node: 5:  88%|████████▊ | 7/8 [00:01<00:00,  5.98it/s]\u001b[A\n",
      "Generating for node: 6:  88%|████████▊ | 7/8 [00:01<00:00,  5.98it/s]\u001b[A\n",
      "Generating for node: 6: 100%|██████████| 8/8 [00:01<00:00,  6.36it/s]\u001b[A\n",
      "INFO:KDECopulaNNPdf:Fitting discriminative learner: selected 8 features.\n",
      "INFO:KDECopulaNNPdf:Calibrating classifier.\n",
      "INFO:KDECopulaNNPdf:Maximum weight found: 5.3908358947264565\n",
      "INFO:KDECopulaNNPdf:Generating 52547 data points.\n",
      "\n",
      "  0%|          | 0/8 [00:00<?, ?it/s]\u001b[A\n",
      "Generating for node: 1:   0%|          | 0/8 [00:00<?, ?it/s]\u001b[A\n",
      "Generating for node: 0:   0%|          | 0/8 [00:00<?, ?it/s]\u001b[A\n",
      "Generating for node: 3:   0%|          | 0/8 [00:00<?, ?it/s]\u001b[A\n",
      "Generating for node: 3:  38%|███▊      | 3/8 [00:00<00:00, 25.28it/s]\u001b[A\n",
      "Generating for node: 2:  38%|███▊      | 3/8 [00:00<00:00, 25.28it/s]\u001b[A\n",
      "Generating for node: 4:  38%|███▊      | 3/8 [00:00<00:00, 25.28it/s]\u001b[A\n",
      "Generating for node: 7:  38%|███▊      | 3/8 [00:00<00:00, 25.28it/s]\u001b[A\n",
      "Generating for node: 7:  75%|███████▌  | 6/8 [00:00<00:00, 21.99it/s]\u001b[A\n",
      "Generating for node: 5:  75%|███████▌  | 6/8 [00:00<00:00, 21.99it/s]\u001b[A\n",
      "Generating for node: 6: 100%|██████████| 8/8 [00:00<00:00, 22.41it/s]\u001b[A\n",
      "INFO:sdgym.benchmark:Scoring KDECopulaNNPdf_SynthesizerInteger on dataset asia; iteration 0; 298.26 MB\n",
      "INFO:sdgym.evaluate:Evaluating using Bayesian Likelihood.\n"
     ]
    },
    {
     "name": "stdout",
     "output_type": "stream",
     "text": [
      "[[1. 1. 0. 1. 1.]\n",
      " [1. 1. 0. 1. 0.]\n",
      " [1. 1. 0. 1. 1.]\n",
      " ...\n",
      " [1. 1. 0. 1. 0.]\n",
      " [1. 1. 1. 1. 1.]\n",
      " [1. 1. 0. 1. 1.]]\n",
      "[[1. 1. 0. 1. 1.]\n",
      " [1. 1. 0. 1. 0.]\n",
      " [1. 1. 0. 1. 1.]\n",
      " ...\n",
      " [1. 1. 0. 1. 0.]\n",
      " [1. 1. 1. 1. 1.]\n",
      " [1. 1. 0. 1. 1.]]\n"
     ]
    },
    {
     "name": "stderr",
     "output_type": "stream",
     "text": [
      "INFO:sdgym.benchmark:Finished KDECopulaNNPdf_SynthesizerInteger on dataset asia; iteration 0; 292.67 MB\n",
      "INFO:sdgym.benchmark:100%|##########| 1/1 [00:04<00:00,  4.88s/it]\n",
      "INFO:sdgym.benchmark:100%|##########| 1/1 [00:04<00:00,  4.88s/it]\n"
     ]
    }
   ],
   "source": [
    "scores = sdgym.run(synthesizers=all_synthesizers, datasets=[dataset_name], iterations=1)"
   ]
  },
  {
   "cell_type": "code",
   "execution_count": 25,
   "metadata": {},
   "outputs": [
    {
     "data": {
      "text/html": [
       "<div>\n",
       "<style scoped>\n",
       "    .dataframe tbody tr th:only-of-type {\n",
       "        vertical-align: middle;\n",
       "    }\n",
       "\n",
       "    .dataframe tbody tr th {\n",
       "        vertical-align: top;\n",
       "    }\n",
       "\n",
       "    .dataframe thead th {\n",
       "        text-align: right;\n",
       "    }\n",
       "</style>\n",
       "<table border=\"1\" class=\"dataframe\">\n",
       "  <thead>\n",
       "    <tr style=\"text-align: right;\">\n",
       "      <th></th>\n",
       "      <th>asia/syn_likelihood</th>\n",
       "      <th>asia/test_likelihood</th>\n",
       "      <th>timestamp</th>\n",
       "    </tr>\n",
       "  </thead>\n",
       "  <tbody>\n",
       "    <tr>\n",
       "      <th>VEEGANSynthesizer</th>\n",
       "      <td>-11.492287</td>\n",
       "      <td>-5.952712</td>\n",
       "      <td>2020-04-12 09:41:35.096775</td>\n",
       "    </tr>\n",
       "    <tr>\n",
       "      <th>CLBNSynthesizer</th>\n",
       "      <td>-2.402547</td>\n",
       "      <td>-2.273804</td>\n",
       "      <td>2020-10-17 09:46:54.494331</td>\n",
       "    </tr>\n",
       "    <tr>\n",
       "      <th>CTGAN</th>\n",
       "      <td>-4.187960</td>\n",
       "      <td>-2.455444</td>\n",
       "      <td>2020-10-17 09:46:54.494331</td>\n",
       "    </tr>\n",
       "    <tr>\n",
       "      <th>CTGANSynthesizer</th>\n",
       "      <td>-2.693441</td>\n",
       "      <td>-2.311810</td>\n",
       "      <td>2020-10-17 09:46:54.494331</td>\n",
       "    </tr>\n",
       "    <tr>\n",
       "      <th>CopulaGAN</th>\n",
       "      <td>-3.956071</td>\n",
       "      <td>-2.404007</td>\n",
       "      <td>2020-10-17 09:46:54.494331</td>\n",
       "    </tr>\n",
       "    <tr>\n",
       "      <th>GaussianCopulaCategorical</th>\n",
       "      <td>-2.248123</td>\n",
       "      <td>-3.612161</td>\n",
       "      <td>2020-10-17 09:46:54.494331</td>\n",
       "    </tr>\n",
       "    <tr>\n",
       "      <th>GaussianCopulaCategoricalFuzzy</th>\n",
       "      <td>-2.829653</td>\n",
       "      <td>-3.108912</td>\n",
       "      <td>2020-10-17 09:46:54.494331</td>\n",
       "    </tr>\n",
       "    <tr>\n",
       "      <th>GaussianCopulaOneHot</th>\n",
       "      <td>-2.313891</td>\n",
       "      <td>-3.226644</td>\n",
       "      <td>2020-10-17 09:46:54.494331</td>\n",
       "    </tr>\n",
       "    <tr>\n",
       "      <th>IdentitySynthesizer</th>\n",
       "      <td>-2.235274</td>\n",
       "      <td>-2.241881</td>\n",
       "      <td>2020-10-17 09:46:54.494331</td>\n",
       "    </tr>\n",
       "    <tr>\n",
       "      <th>IndependentSynthesizer</th>\n",
       "      <td>-4.968752</td>\n",
       "      <td>-2.988754</td>\n",
       "      <td>2020-10-17 09:46:54.494331</td>\n",
       "    </tr>\n",
       "    <tr>\n",
       "      <th>MedganSynthesizer</th>\n",
       "      <td>-1.574215</td>\n",
       "      <td>-5.965560</td>\n",
       "      <td>2020-10-17 09:46:54.494331</td>\n",
       "    </tr>\n",
       "    <tr>\n",
       "      <th>PrivBNSynthesizer</th>\n",
       "      <td>-2.293590</td>\n",
       "      <td>-2.244695</td>\n",
       "      <td>2020-10-17 09:46:54.494331</td>\n",
       "    </tr>\n",
       "    <tr>\n",
       "      <th>TVAESynthesizer</th>\n",
       "      <td>-2.293483</td>\n",
       "      <td>-2.266323</td>\n",
       "      <td>2020-10-17 09:46:54.494331</td>\n",
       "    </tr>\n",
       "    <tr>\n",
       "      <th>TableganSynthesizer</th>\n",
       "      <td>-3.400135</td>\n",
       "      <td>-2.720815</td>\n",
       "      <td>2020-10-17 09:46:54.494331</td>\n",
       "    </tr>\n",
       "    <tr>\n",
       "      <th>UniformSynthesizer</th>\n",
       "      <td>-14.284941</td>\n",
       "      <td>-5.520020</td>\n",
       "      <td>2020-10-17 09:46:54.494331</td>\n",
       "    </tr>\n",
       "    <tr>\n",
       "      <th>KDECopulaNNPdf_SynthesizerInteger</th>\n",
       "      <td>-2.244890</td>\n",
       "      <td>-2.240180</td>\n",
       "      <td>2021-05-18 06:55:11.961133</td>\n",
       "    </tr>\n",
       "  </tbody>\n",
       "</table>\n",
       "</div>"
      ],
      "text/plain": [
       "                                   asia/syn_likelihood  asia/test_likelihood  \\\n",
       "VEEGANSynthesizer                           -11.492287             -5.952712   \n",
       "CLBNSynthesizer                              -2.402547             -2.273804   \n",
       "CTGAN                                        -4.187960             -2.455444   \n",
       "CTGANSynthesizer                             -2.693441             -2.311810   \n",
       "CopulaGAN                                    -3.956071             -2.404007   \n",
       "GaussianCopulaCategorical                    -2.248123             -3.612161   \n",
       "GaussianCopulaCategoricalFuzzy               -2.829653             -3.108912   \n",
       "GaussianCopulaOneHot                         -2.313891             -3.226644   \n",
       "IdentitySynthesizer                          -2.235274             -2.241881   \n",
       "IndependentSynthesizer                       -4.968752             -2.988754   \n",
       "MedganSynthesizer                            -1.574215             -5.965560   \n",
       "PrivBNSynthesizer                            -2.293590             -2.244695   \n",
       "TVAESynthesizer                              -2.293483             -2.266323   \n",
       "TableganSynthesizer                          -3.400135             -2.720815   \n",
       "UniformSynthesizer                          -14.284941             -5.520020   \n",
       "KDECopulaNNPdf_SynthesizerInteger            -2.244890             -2.240180   \n",
       "\n",
       "                                                   timestamp  \n",
       "VEEGANSynthesizer                 2020-04-12 09:41:35.096775  \n",
       "CLBNSynthesizer                   2020-10-17 09:46:54.494331  \n",
       "CTGAN                             2020-10-17 09:46:54.494331  \n",
       "CTGANSynthesizer                  2020-10-17 09:46:54.494331  \n",
       "CopulaGAN                         2020-10-17 09:46:54.494331  \n",
       "GaussianCopulaCategorical         2020-10-17 09:46:54.494331  \n",
       "GaussianCopulaCategoricalFuzzy    2020-10-17 09:46:54.494331  \n",
       "GaussianCopulaOneHot              2020-10-17 09:46:54.494331  \n",
       "IdentitySynthesizer               2020-10-17 09:46:54.494331  \n",
       "IndependentSynthesizer            2020-10-17 09:46:54.494331  \n",
       "MedganSynthesizer                 2020-10-17 09:46:54.494331  \n",
       "PrivBNSynthesizer                 2020-10-17 09:46:54.494331  \n",
       "TVAESynthesizer                   2020-10-17 09:46:54.494331  \n",
       "TableganSynthesizer               2020-10-17 09:46:54.494331  \n",
       "UniformSynthesizer                2020-10-17 09:46:54.494331  \n",
       "KDECopulaNNPdf_SynthesizerInteger 2021-05-18 06:55:11.961133  "
      ]
     },
     "execution_count": 25,
     "metadata": {},
     "output_type": "execute_result"
    }
   ],
   "source": [
    "scores"
   ]
  },
  {
   "cell_type": "code",
   "execution_count": 26,
   "metadata": {},
   "outputs": [
    {
     "data": {
      "text/html": [
       "<div>\n",
       "<style scoped>\n",
       "    .dataframe tbody tr th:only-of-type {\n",
       "        vertical-align: middle;\n",
       "    }\n",
       "\n",
       "    .dataframe tbody tr th {\n",
       "        vertical-align: top;\n",
       "    }\n",
       "\n",
       "    .dataframe thead th {\n",
       "        text-align: right;\n",
       "    }\n",
       "</style>\n",
       "<table border=\"1\" class=\"dataframe\">\n",
       "  <thead>\n",
       "    <tr style=\"text-align: right;\">\n",
       "      <th></th>\n",
       "      <th>asia/syn_likelihood</th>\n",
       "      <th>asia/test_likelihood</th>\n",
       "      <th>timestamp</th>\n",
       "    </tr>\n",
       "  </thead>\n",
       "  <tbody>\n",
       "    <tr>\n",
       "      <th>TVAESynthesizer</th>\n",
       "      <td>-2.293483</td>\n",
       "      <td>-2.266323</td>\n",
       "      <td>2020-10-17 09:46:54.494331</td>\n",
       "    </tr>\n",
       "    <tr>\n",
       "      <th>TableganSynthesizer</th>\n",
       "      <td>-3.400135</td>\n",
       "      <td>-2.720815</td>\n",
       "      <td>2020-10-17 09:46:54.494331</td>\n",
       "    </tr>\n",
       "    <tr>\n",
       "      <th>UniformSynthesizer</th>\n",
       "      <td>-14.284941</td>\n",
       "      <td>-5.520020</td>\n",
       "      <td>2020-10-17 09:46:54.494331</td>\n",
       "    </tr>\n",
       "    <tr>\n",
       "      <th>KDECopulaNNPdf_SynthesizerInteger</th>\n",
       "      <td>-2.244890</td>\n",
       "      <td>-2.240180</td>\n",
       "      <td>2021-05-18 06:55:11.961133</td>\n",
       "    </tr>\n",
       "  </tbody>\n",
       "</table>\n",
       "</div>"
      ],
      "text/plain": [
       "                                   asia/syn_likelihood  asia/test_likelihood  \\\n",
       "TVAESynthesizer                              -2.293483             -2.266323   \n",
       "TableganSynthesizer                          -3.400135             -2.720815   \n",
       "UniformSynthesizer                          -14.284941             -5.520020   \n",
       "KDECopulaNNPdf_SynthesizerInteger            -2.244890             -2.240180   \n",
       "\n",
       "                                                   timestamp  \n",
       "TVAESynthesizer                   2020-10-17 09:46:54.494331  \n",
       "TableganSynthesizer               2020-10-17 09:46:54.494331  \n",
       "UniformSynthesizer                2020-10-17 09:46:54.494331  \n",
       "KDECopulaNNPdf_SynthesizerInteger 2021-05-18 06:55:11.961133  "
      ]
     },
     "execution_count": 26,
     "metadata": {},
     "output_type": "execute_result"
    }
   ],
   "source": [
    "scores.tail(4)"
   ]
  },
  {
   "cell_type": "code",
   "execution_count": null,
   "metadata": {},
   "outputs": [],
   "source": []
  }
 ],
 "metadata": {
  "kernelspec": {
   "display_name": "Python 3",
   "language": "python",
   "name": "python3"
  },
  "language_info": {
   "codemirror_mode": {
    "name": "ipython",
    "version": 3
   },
   "file_extension": ".py",
   "mimetype": "text/x-python",
   "name": "python",
   "nbconvert_exporter": "python",
   "pygments_lexer": "ipython3",
   "version": "3.8.5"
  }
 },
 "nbformat": 4,
 "nbformat_minor": 4
}
