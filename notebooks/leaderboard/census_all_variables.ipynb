{
 "cells": [
  {
   "cell_type": "code",
   "execution_count": 1,
   "metadata": {},
   "outputs": [],
   "source": [
    "%load_ext autoreload\n",
    "%autoreload 2"
   ]
  },
  {
   "cell_type": "code",
   "execution_count": null,
   "metadata": {},
   "outputs": [],
   "source": [
    "!pip install -q -U git+https://github.com/sbrugman/SDGym.git@v0.2.2-hw"
   ]
  },
  {
   "cell_type": "code",
   "execution_count": null,
   "metadata": {},
   "outputs": [],
   "source": [
    "!pip install -q -U ../../"
   ]
  },
  {
   "cell_type": "code",
   "execution_count": 2,
   "metadata": {},
   "outputs": [],
   "source": [
    "from timeit import default_timer as timer\n",
    "from functools import partial\n",
    "from random import choices\n",
    "import logging"
   ]
  },
  {
   "cell_type": "code",
   "execution_count": 3,
   "metadata": {},
   "outputs": [],
   "source": [
    "import sdgym\n",
    "from sdgym import load_dataset\n",
    "from sdgym import benchmark\n",
    "from sdgym import load_dataset"
   ]
  },
  {
   "cell_type": "code",
   "execution_count": 4,
   "metadata": {},
   "outputs": [],
   "source": [
    "import numpy as np\n",
    "import pandas as pd\n",
    "import matplotlib.pyplot as plt\n",
    "import networkx as nx"
   ]
  },
  {
   "cell_type": "code",
   "execution_count": 5,
   "metadata": {},
   "outputs": [],
   "source": [
    "import pgmpy\n",
    "\n",
    "from pgmpy.models import BayesianModel\n",
    "from pgmpy.estimators import TreeSearch, HillClimbSearch, BicScore, ExhaustiveSearch, BayesianEstimator\n",
    "from pgmpy.sampling import BayesianModelSampling"
   ]
  },
  {
   "cell_type": "code",
   "execution_count": 6,
   "metadata": {},
   "outputs": [],
   "source": [
    "import xgboost as xgb\n",
    "from xgboost import XGBClassifier"
   ]
  },
  {
   "cell_type": "code",
   "execution_count": 7,
   "metadata": {},
   "outputs": [],
   "source": [
    "from sklearn.neural_network import MLPClassifier\n",
    "from sklearn.svm import SVC\n",
    "from sklearn.model_selection import train_test_split\n",
    "from sklearn.isotonic import IsotonicRegression"
   ]
  },
  {
   "cell_type": "code",
   "execution_count": 8,
   "metadata": {},
   "outputs": [],
   "source": [
    "from scipy import interpolate"
   ]
  },
  {
   "cell_type": "code",
   "execution_count": 9,
   "metadata": {},
   "outputs": [],
   "source": [
    "from synthsonic.models.kde_utils import kde_smooth_peaks_1dim, kde_smooth_peaks\n",
    "from synthsonic.models.kde_copula_nn_pdf import KDECopulaNNPdf"
   ]
  },
  {
   "cell_type": "code",
   "execution_count": 10,
   "metadata": {},
   "outputs": [],
   "source": [
    "import matplotlib.pyplot as plt\n",
    "%matplotlib inline"
   ]
  },
  {
   "cell_type": "code",
   "execution_count": 11,
   "metadata": {},
   "outputs": [],
   "source": [
    "logging.basicConfig(level=logging.INFO)"
   ]
  },
  {
   "cell_type": "code",
   "execution_count": 12,
   "metadata": {},
   "outputs": [],
   "source": [
    "dataset_name = 'census'"
   ]
  },
  {
   "cell_type": "code",
   "execution_count": 13,
   "metadata": {},
   "outputs": [
    {
     "name": "stderr",
     "output_type": "stream",
     "text": [
      "INFO:sdgym.data:Loading dataset census (all variables, -1 distinct values threshold)\n",
      "INFO:sdgym.data:Columns to zero-code: []\n"
     ]
    }
   ],
   "source": [
    "data, categorical_columns, ordinal_columns = load_dataset(dataset_name)"
   ]
  },
  {
   "cell_type": "code",
   "execution_count": 14,
   "metadata": {},
   "outputs": [
    {
     "data": {
      "text/plain": [
       "(199523, 41)"
      ]
     },
     "execution_count": 14,
     "metadata": {},
     "output_type": "execute_result"
    }
   ],
   "source": [
    "data.shape"
   ]
  },
  {
   "cell_type": "code",
   "execution_count": 15,
   "metadata": {},
   "outputs": [
    {
     "data": {
      "text/plain": [
       "([1,\n",
       "  2,\n",
       "  3,\n",
       "  4,\n",
       "  6,\n",
       "  7,\n",
       "  8,\n",
       "  9,\n",
       "  10,\n",
       "  11,\n",
       "  12,\n",
       "  13,\n",
       "  14,\n",
       "  15,\n",
       "  19,\n",
       "  20,\n",
       "  21,\n",
       "  22,\n",
       "  23,\n",
       "  24,\n",
       "  25,\n",
       "  26,\n",
       "  27,\n",
       "  28,\n",
       "  30,\n",
       "  31,\n",
       "  32,\n",
       "  33,\n",
       "  34,\n",
       "  35,\n",
       "  36,\n",
       "  37,\n",
       "  39,\n",
       "  40],\n",
       " [])"
      ]
     },
     "execution_count": 15,
     "metadata": {},
     "output_type": "execute_result"
    }
   ],
   "source": [
    "categorical_columns, ordinal_columns"
   ]
  },
  {
   "cell_type": "code",
   "execution_count": 16,
   "metadata": {},
   "outputs": [
    {
     "name": "stdout",
     "output_type": "stream",
     "text": [
      "0 91\n",
      "1 9\n",
      "2 52\n",
      "3 47\n",
      "4 17\n",
      "5 1240\n",
      "6 3\n",
      "7 7\n",
      "8 24\n",
      "9 15\n",
      "10 5\n",
      "11 10\n",
      "12 2\n",
      "13 3\n",
      "14 6\n",
      "15 8\n",
      "16 132\n",
      "17 113\n",
      "18 1478\n",
      "19 6\n",
      "20 6\n",
      "21 51\n",
      "22 38\n",
      "23 8\n",
      "24 10\n",
      "25 9\n",
      "26 10\n",
      "27 3\n",
      "28 4\n",
      "29 7\n",
      "30 5\n",
      "31 43\n",
      "32 43\n",
      "33 43\n",
      "34 5\n",
      "35 3\n",
      "36 3\n",
      "37 3\n",
      "38 53\n",
      "39 2\n",
      "40 2\n"
     ]
    }
   ],
   "source": [
    "for i in range(data.shape[1]):\n",
    "    print (i, len(np.unique(data[:, i])))"
   ]
  },
  {
   "cell_type": "markdown",
   "metadata": {},
   "source": [
    "# run sdgym"
   ]
  },
  {
   "cell_type": "code",
   "execution_count": 27,
   "metadata": {},
   "outputs": [],
   "source": [
    "def KDECopulaNNPdf_Synthesizer(real_data, categorical_columns, ordinal_columns):\n",
    "    all_features = list(range(real_data.shape[1]))\n",
    "    numerical_features = list(set(all_features) - set(categorical_columns + ordinal_columns))\n",
    "    data = np.float64(real_data)\n",
    "    \n",
    "    n_samples = data.shape[0]\n",
    "    n_features = data.shape[1]\n",
    "    \n",
    "    clf = xgb.XGBClassifier(\n",
    "        n_estimators=250,\n",
    "        reg_lambda=1,\n",
    "        gamma=0,\n",
    "        max_depth=9\n",
    "    )\n",
    "#     clf = MLPClassifier(alpha=0.1, random_state=0, max_iter=1000, early_stopping=True)\n",
    "    \n",
    "    kde = KDECopulaNNPdf(\n",
    "        use_KDE=False, \n",
    "        categorical_columns=categorical_columns+ordinal_columns,\n",
    "        distinct_threshold=-1,\n",
    "        n_bins=25,\n",
    "#        clf=clf,\n",
    "#         ordering='mi',\n",
    "    )\n",
    "    kde = kde.fit(data)\n",
    "    \n",
    "#     X_gen, sample_weight = kde.sample(n_samples)\n",
    "    X_gen = kde.sample_no_weights(n_samples, show_progress=True, mode='cheap')\n",
    "    \n",
    "    X_gen[:, categorical_columns+ordinal_columns] = np.round(X_gen[:, categorical_columns+ordinal_columns])\n",
    "    X_gen = np.float32(X_gen)\n",
    "    \n",
    "    print(X_gen[:, :5])\n",
    "\n",
    "    return X_gen"
   ]
  },
  {
   "cell_type": "code",
   "execution_count": 28,
   "metadata": {},
   "outputs": [],
   "source": [
    "def KDECopulaNNPdf_SynthesizerInteger(real_data, categorical_columns, ordinal_columns):\n",
    "    \"\"\"Census has integer only...\"\"\"\n",
    "    data = KDECopulaNNPdf_Synthesizer(real_data, categorical_columns, ordinal_columns)\n",
    "    data = np.round(data)\n",
    "    \n",
    "    print(data[:, :5])\n",
    "\n",
    "    return data"
   ]
  },
  {
   "cell_type": "code",
   "execution_count": 29,
   "metadata": {},
   "outputs": [],
   "source": [
    "from sdgym.synthesizers import (\n",
    "    CLBNSynthesizer, CTGANSynthesizer, IdentitySynthesizer, IndependentSynthesizer,\n",
    "    MedganSynthesizer, PrivBNSynthesizer, TableganSynthesizer, TVAESynthesizer,\n",
    "    UniformSynthesizer, VEEGANSynthesizer)\n",
    "\n",
    "all_synthesizers = [\n",
    "    #IdentitySynthesizer,\n",
    "    #IndependentSynthesizer,\n",
    "    #KDECopulaNNPdf_Synthesizer,\n",
    "    KDECopulaNNPdf_SynthesizerInteger,\n",
    "]"
   ]
  },
  {
   "cell_type": "code",
   "execution_count": 30,
   "metadata": {
    "scrolled": false
   },
   "outputs": [
    {
     "name": "stderr",
     "output_type": "stream",
     "text": [
      "INFO:sdgym.benchmark:0%|          | 0/1 [00:00<?, ?it/s]\n",
      "INFO:sdgym.benchmark:Evaluating KDECopulaNNPdf_SynthesizerInteger on dataset census; iteration 0; 1.06 GB\n",
      "INFO:sdgym.data:Loading dataset census (all variables, -1 distinct values threshold)\n",
      "INFO:sdgym.data:Columns to zero-code: []\n",
      "INFO:sdgym.benchmark:Running KDECopulaNNPdf_SynthesizerInteger on dataset census; iteration 0; 1.06 GB\n",
      "INFO:KDECopulaNNPdf:Processing 7 numerical and 34 categorical columns\n",
      "INFO:KDECopulaNNPdf:Transforming numerical variables.\n",
      "INFO:KDECopulaNNPdf:Configuring Bayesian Network (cat+num).\n",
      "INFO:KDECopulaNNPdf:Configuring classifier.\n",
      "INFO:KDECopulaNNPdf:Generating 250000 data points.\n",
      "\n",
      "  0%|          | 0/41 [00:00<?, ?it/s]\u001b[A\n",
      "Generating for node: 1:   0%|          | 0/41 [00:00<?, ?it/s]\u001b[A\n",
      "Generating for node: 0:   0%|          | 0/41 [00:00<?, ?it/s]\u001b[A\n",
      "Generating for node: 0:   5%|▍         | 2/41 [00:00<00:03, 12.54it/s]\u001b[A\n",
      "Generating for node: 35:   5%|▍         | 2/41 [00:00<00:03, 12.54it/s]\u001b[A\n",
      "Generating for node: 2:   5%|▍         | 2/41 [00:00<00:03, 12.54it/s] \u001b[A\n",
      "Generating for node: 2:  10%|▉         | 4/41 [00:00<00:06,  5.66it/s]\u001b[A\n",
      "Generating for node: 13:  10%|▉         | 4/41 [00:00<00:06,  5.66it/s]\u001b[A\n",
      "Generating for node: 13:  12%|█▏        | 5/41 [00:00<00:07,  4.81it/s]\u001b[A\n",
      "Generating for node: 18:  12%|█▏        | 5/41 [00:00<00:07,  4.81it/s]\u001b[A\n",
      "Generating for node: 18:  15%|█▍        | 6/41 [00:01<00:07,  4.70it/s]\u001b[A\n",
      "Generating for node: 3:  15%|█▍        | 6/41 [00:01<00:07,  4.70it/s] \u001b[A\n",
      "Generating for node: 3:  17%|█▋        | 7/41 [00:01<00:08,  3.91it/s]\u001b[A\n",
      "Generating for node: 40:  17%|█▋        | 7/41 [00:01<00:08,  3.91it/s]\u001b[A\n",
      "Generating for node: 40:  20%|█▉        | 8/41 [00:01<00:09,  3.62it/s]\u001b[A\n",
      "Generating for node: 15:  20%|█▉        | 8/41 [00:01<00:09,  3.62it/s]\u001b[A\n",
      "Generating for node: 15:  22%|██▏       | 9/41 [00:02<00:09,  3.43it/s]\u001b[A\n",
      "Generating for node: 14:  22%|██▏       | 9/41 [00:02<00:09,  3.43it/s]\u001b[A\n",
      "Generating for node: 14:  24%|██▍       | 10/41 [00:02<00:08,  3.67it/s]\u001b[A\n",
      "Generating for node: 39:  24%|██▍       | 10/41 [00:02<00:08,  3.67it/s]\u001b[A\n",
      "Generating for node: 39:  27%|██▋       | 11/41 [00:02<00:07,  3.86it/s]\u001b[A\n",
      "Generating for node: 24:  27%|██▋       | 11/41 [00:02<00:07,  3.86it/s]\u001b[A\n",
      "Generating for node: 24:  29%|██▉       | 12/41 [00:02<00:07,  4.04it/s]\u001b[A\n",
      "Generating for node: 27:  29%|██▉       | 12/41 [00:02<00:07,  4.04it/s]\u001b[A\n",
      "Generating for node: 27:  32%|███▏      | 13/41 [00:03<00:06,  4.08it/s]\u001b[A\n",
      "Generating for node: 26:  32%|███▏      | 13/41 [00:03<00:06,  4.08it/s]\u001b[A\n",
      "Generating for node: 26:  34%|███▍      | 14/41 [00:03<00:06,  4.09it/s]\u001b[A\n",
      "Generating for node: 28:  34%|███▍      | 14/41 [00:03<00:06,  4.09it/s]\u001b[A\n",
      "Generating for node: 28:  37%|███▋      | 15/41 [00:03<00:06,  4.11it/s]\u001b[A\n",
      "Generating for node: 21:  37%|███▋      | 15/41 [00:03<00:06,  4.11it/s]\u001b[A\n",
      "Generating for node: 21:  39%|███▉      | 16/41 [00:03<00:06,  4.16it/s]\u001b[A\n",
      "Generating for node: 20:  39%|███▉      | 16/41 [00:03<00:06,  4.16it/s]\u001b[A\n",
      "Generating for node: 20:  41%|████▏     | 17/41 [00:04<00:06,  3.99it/s]\u001b[A\n",
      "Generating for node: 25:  41%|████▏     | 17/41 [00:04<00:06,  3.99it/s]\u001b[A\n",
      "Generating for node: 25:  44%|████▍     | 18/41 [00:04<00:05,  4.02it/s]\u001b[A\n",
      "Generating for node: 9:  44%|████▍     | 18/41 [00:04<00:05,  4.02it/s] \u001b[A\n",
      "Generating for node: 9:  46%|████▋     | 19/41 [00:04<00:05,  3.89it/s]\u001b[A\n",
      "Generating for node: 8:  46%|████▋     | 19/41 [00:04<00:05,  3.89it/s]\u001b[A\n",
      "Generating for node: 8:  49%|████▉     | 20/41 [00:04<00:05,  3.65it/s]\u001b[A\n",
      "Generating for node: 38:  49%|████▉     | 20/41 [00:04<00:05,  3.65it/s]\u001b[A\n",
      "Generating for node: 38:  51%|█████     | 21/41 [00:05<00:06,  3.32it/s]\u001b[A\n",
      "Generating for node: 5:  51%|█████     | 21/41 [00:05<00:06,  3.32it/s] \u001b[A\n",
      "Generating for node: 5:  54%|█████▎    | 22/41 [00:05<00:05,  3.34it/s]\u001b[A\n",
      "Generating for node: 29:  54%|█████▎    | 22/41 [00:05<00:05,  3.34it/s]\u001b[A\n",
      "Generating for node: 29:  56%|█████▌    | 23/41 [00:05<00:05,  3.53it/s]\u001b[A\n",
      "Generating for node: 4:  56%|█████▌    | 23/41 [00:05<00:05,  3.53it/s] \u001b[A\n",
      "Generating for node: 4:  59%|█████▊    | 24/41 [00:06<00:04,  3.73it/s]\u001b[A\n",
      "Generating for node: 33:  59%|█████▊    | 24/41 [00:06<00:04,  3.73it/s]\u001b[A\n",
      "Generating for node: 33:  61%|██████    | 25/41 [00:06<00:04,  3.95it/s]\u001b[A\n",
      "Generating for node: 34:  61%|██████    | 25/41 [00:06<00:04,  3.95it/s]\u001b[A\n",
      "Generating for node: 34:  63%|██████▎   | 26/41 [00:06<00:03,  3.98it/s]\u001b[A\n",
      "Generating for node: 32:  63%|██████▎   | 26/41 [00:06<00:03,  3.98it/s]\u001b[A\n",
      "Generating for node: 32:  66%|██████▌   | 27/41 [00:06<00:03,  3.97it/s]\u001b[A\n",
      "Generating for node: 10:  66%|██████▌   | 27/41 [00:06<00:03,  3.97it/s]\u001b[A\n",
      "Generating for node: 10:  68%|██████▊   | 28/41 [00:07<00:03,  4.01it/s]\u001b[A\n",
      "Generating for node: 31:  68%|██████▊   | 28/41 [00:07<00:03,  4.01it/s]\u001b[A\n",
      "Generating for node: 31:  71%|███████   | 29/41 [00:07<00:03,  3.91it/s]\u001b[A\n",
      "Generating for node: 11:  71%|███████   | 29/41 [00:07<00:03,  3.91it/s]\u001b[A\n",
      "Generating for node: 11:  73%|███████▎  | 30/41 [00:07<00:02,  3.98it/s]\u001b[A\n",
      "Generating for node: 6:  73%|███████▎  | 30/41 [00:07<00:02,  3.98it/s] \u001b[A\n",
      "Generating for node: 6:  76%|███████▌  | 31/41 [00:07<00:02,  4.19it/s]\u001b[A\n",
      "Generating for node: 22:  76%|███████▌  | 31/41 [00:07<00:02,  4.19it/s]\u001b[A\n",
      "Generating for node: 22:  78%|███████▊  | 32/41 [00:07<00:02,  4.25it/s]\u001b[A\n",
      "Generating for node: 17:  78%|███████▊  | 32/41 [00:07<00:02,  4.25it/s]\u001b[A\n",
      "Generating for node: 17:  80%|████████  | 33/41 [00:08<00:01,  4.16it/s]\u001b[A\n",
      "Generating for node: 16:  80%|████████  | 33/41 [00:08<00:01,  4.16it/s]\u001b[A\n",
      "Generating for node: 16:  83%|████████▎ | 34/41 [00:08<00:01,  4.12it/s]\u001b[A\n",
      "Generating for node: 12:  83%|████████▎ | 34/41 [00:08<00:01,  4.12it/s]\u001b[A\n",
      "Generating for node: 12:  85%|████████▌ | 35/41 [00:08<00:01,  4.20it/s]\u001b[A\n",
      "Generating for node: 30:  85%|████████▌ | 35/41 [00:08<00:01,  4.20it/s]\u001b[A\n",
      "Generating for node: 30:  88%|████████▊ | 36/41 [00:08<00:01,  4.34it/s]\u001b[A\n",
      "Generating for node: 19:  88%|████████▊ | 36/41 [00:08<00:01,  4.34it/s]\u001b[A\n",
      "Generating for node: 19:  90%|█████████ | 37/41 [00:09<00:00,  4.37it/s]\u001b[A\n",
      "Generating for node: 7:  90%|█████████ | 37/41 [00:09<00:00,  4.37it/s] \u001b[A\n",
      "Generating for node: 7:  93%|█████████▎| 38/41 [00:09<00:00,  4.44it/s]\u001b[A\n",
      "Generating for node: 23:  93%|█████████▎| 38/41 [00:09<00:00,  4.44it/s]\u001b[A\n",
      "Generating for node: 23:  95%|█████████▌| 39/41 [00:09<00:00,  4.54it/s]\u001b[A\n",
      "Generating for node: 37:  95%|█████████▌| 39/41 [00:09<00:00,  4.54it/s]\u001b[A\n",
      "Generating for node: 37:  98%|█████████▊| 40/41 [00:09<00:00,  4.61it/s]\u001b[A\n",
      "Generating for node: 36:  98%|█████████▊| 40/41 [00:09<00:00,  4.61it/s]\u001b[A\n",
      "Generating for node: 36: 100%|██████████| 41/41 [00:09<00:00,  4.13it/s]\u001b[A\n",
      "INFO:KDECopulaNNPdf:Fitting discriminative learner: selected 41 features.\n",
      "INFO:KDECopulaNNPdf:Calibrating classifier.\n",
      "INFO:KDECopulaNNPdf:Maximum weight found: 176.837778248887\n",
      "INFO:KDECopulaNNPdf:Generating 199523 data points.\n",
      "\n",
      "  0%|          | 0/41 [00:00<?, ?it/s]\u001b[A\n",
      "Generating for node: 1:   0%|          | 0/41 [00:00<?, ?it/s]\u001b[A\n",
      "Generating for node: 0:   0%|          | 0/41 [00:00<?, ?it/s]\u001b[A\n",
      "Generating for node: 0:   5%|▍         | 2/41 [00:00<00:03, 12.64it/s]\u001b[A\n",
      "Generating for node: 35:   5%|▍         | 2/41 [00:00<00:03, 12.64it/s]\u001b[A\n",
      "Generating for node: 2:   5%|▍         | 2/41 [00:00<00:03, 12.64it/s] \u001b[A\n",
      "Generating for node: 2:  10%|▉         | 4/41 [00:00<00:06,  5.82it/s]\u001b[A\n",
      "Generating for node: 13:  10%|▉         | 4/41 [00:00<00:06,  5.82it/s]\u001b[A\n",
      "Generating for node: 13:  12%|█▏        | 5/41 [00:00<00:06,  5.20it/s]\u001b[A\n",
      "Generating for node: 18:  12%|█▏        | 5/41 [00:00<00:06,  5.20it/s]\u001b[A\n",
      "Generating for node: 18:  15%|█▍        | 6/41 [00:01<00:06,  5.29it/s]\u001b[A\n",
      "Generating for node: 3:  15%|█▍        | 6/41 [00:01<00:06,  5.29it/s] \u001b[A\n",
      "Generating for node: 3:  17%|█▋        | 7/41 [00:01<00:07,  4.56it/s]\u001b[A\n",
      "Generating for node: 40:  17%|█▋        | 7/41 [00:01<00:07,  4.56it/s]\u001b[A\n",
      "Generating for node: 40:  20%|█▉        | 8/41 [00:01<00:07,  4.30it/s]\u001b[A\n",
      "Generating for node: 15:  20%|█▉        | 8/41 [00:01<00:07,  4.30it/s]\u001b[A\n"
     ]
    },
    {
     "name": "stderr",
     "output_type": "stream",
     "text": [
      "Generating for node: 15:  22%|██▏       | 9/41 [00:01<00:07,  4.08it/s]\u001b[A\n",
      "Generating for node: 14:  22%|██▏       | 9/41 [00:01<00:07,  4.08it/s]\u001b[A\n",
      "Generating for node: 14:  24%|██▍       | 10/41 [00:02<00:06,  4.62it/s]\u001b[A\n",
      "Generating for node: 39:  24%|██▍       | 10/41 [00:02<00:06,  4.62it/s]\u001b[A\n",
      "Generating for node: 39:  27%|██▋       | 11/41 [00:02<00:05,  5.21it/s]\u001b[A\n",
      "Generating for node: 24:  27%|██▋       | 11/41 [00:02<00:05,  5.21it/s]\u001b[A\n",
      "Generating for node: 24:  29%|██▉       | 12/41 [00:02<00:05,  5.49it/s]\u001b[A\n",
      "Generating for node: 27:  29%|██▉       | 12/41 [00:02<00:05,  5.49it/s]\u001b[A\n",
      "Generating for node: 27:  32%|███▏      | 13/41 [00:02<00:05,  5.44it/s]\u001b[A\n",
      "Generating for node: 26:  32%|███▏      | 13/41 [00:02<00:05,  5.44it/s]\u001b[A\n",
      "Generating for node: 26:  34%|███▍      | 14/41 [00:02<00:05,  5.34it/s]\u001b[A\n",
      "Generating for node: 28:  34%|███▍      | 14/41 [00:02<00:05,  5.34it/s]\u001b[A\n",
      "Generating for node: 28:  37%|███▋      | 15/41 [00:02<00:04,  5.33it/s]\u001b[A\n",
      "Generating for node: 21:  37%|███▋      | 15/41 [00:02<00:04,  5.33it/s]\u001b[A\n",
      "Generating for node: 21:  39%|███▉      | 16/41 [00:03<00:04,  5.68it/s]\u001b[A\n",
      "Generating for node: 20:  39%|███▉      | 16/41 [00:03<00:04,  5.68it/s]\u001b[A\n",
      "Generating for node: 20:  41%|████▏     | 17/41 [00:03<00:04,  5.61it/s]\u001b[A\n",
      "Generating for node: 25:  41%|████▏     | 17/41 [00:03<00:04,  5.61it/s]\u001b[A\n",
      "Generating for node: 25:  44%|████▍     | 18/41 [00:03<00:03,  5.93it/s]\u001b[A\n",
      "Generating for node: 9:  44%|████▍     | 18/41 [00:03<00:03,  5.93it/s] \u001b[A\n",
      "Generating for node: 9:  46%|████▋     | 19/41 [00:03<00:03,  5.77it/s]\u001b[A\n",
      "Generating for node: 8:  46%|████▋     | 19/41 [00:03<00:03,  5.77it/s]\u001b[A\n",
      "Generating for node: 8:  49%|████▉     | 20/41 [00:03<00:03,  5.58it/s]\u001b[A\n",
      "Generating for node: 38:  49%|████▉     | 20/41 [00:03<00:03,  5.58it/s]\u001b[A\n",
      "Generating for node: 38:  51%|█████     | 21/41 [00:03<00:03,  5.30it/s]\u001b[A\n",
      "Generating for node: 5:  51%|█████     | 21/41 [00:03<00:03,  5.30it/s] \u001b[A\n",
      "Generating for node: 5:  54%|█████▎    | 22/41 [00:04<00:03,  5.22it/s]\u001b[A\n",
      "Generating for node: 29:  54%|█████▎    | 22/41 [00:04<00:03,  5.22it/s]\u001b[A\n",
      "Generating for node: 29:  56%|█████▌    | 23/41 [00:04<00:03,  5.24it/s]\u001b[A\n",
      "Generating for node: 4:  56%|█████▌    | 23/41 [00:04<00:03,  5.24it/s] \u001b[A\n",
      "Generating for node: 4:  59%|█████▊    | 24/41 [00:04<00:03,  5.30it/s]\u001b[A\n",
      "Generating for node: 33:  59%|█████▊    | 24/41 [00:04<00:03,  5.30it/s]\u001b[A\n",
      "Generating for node: 33:  61%|██████    | 25/41 [00:04<00:02,  5.43it/s]\u001b[A\n",
      "Generating for node: 34:  61%|██████    | 25/41 [00:04<00:02,  5.43it/s]\u001b[A\n",
      "Generating for node: 34:  63%|██████▎   | 26/41 [00:04<00:02,  5.33it/s]\u001b[A\n",
      "Generating for node: 32:  63%|██████▎   | 26/41 [00:04<00:02,  5.33it/s]\u001b[A\n",
      "Generating for node: 32:  66%|██████▌   | 27/41 [00:05<00:02,  5.17it/s]\u001b[A\n",
      "Generating for node: 10:  66%|██████▌   | 27/41 [00:05<00:02,  5.17it/s]\u001b[A\n",
      "Generating for node: 10:  68%|██████▊   | 28/41 [00:05<00:02,  5.18it/s]\u001b[A\n",
      "Generating for node: 31:  68%|██████▊   | 28/41 [00:05<00:02,  5.18it/s]\u001b[A\n",
      "Generating for node: 31:  71%|███████   | 29/41 [00:05<00:02,  4.98it/s]\u001b[A\n",
      "Generating for node: 11:  71%|███████   | 29/41 [00:05<00:02,  4.98it/s]\u001b[A\n",
      "Generating for node: 11:  73%|███████▎  | 30/41 [00:05<00:02,  5.08it/s]\u001b[A\n",
      "Generating for node: 6:  73%|███████▎  | 30/41 [00:05<00:02,  5.08it/s] \u001b[A\n",
      "Generating for node: 6:  76%|███████▌  | 31/41 [00:05<00:01,  5.37it/s]\u001b[A\n",
      "Generating for node: 22:  76%|███████▌  | 31/41 [00:05<00:01,  5.37it/s]\u001b[A\n",
      "Generating for node: 22:  78%|███████▊  | 32/41 [00:06<00:01,  5.45it/s]\u001b[A\n",
      "Generating for node: 17:  78%|███████▊  | 32/41 [00:06<00:01,  5.45it/s]\u001b[A\n",
      "Generating for node: 17:  80%|████████  | 33/41 [00:06<00:01,  5.23it/s]\u001b[A\n",
      "Generating for node: 16:  80%|████████  | 33/41 [00:06<00:01,  5.23it/s]\u001b[A\n",
      "Generating for node: 16:  83%|████████▎ | 34/41 [00:06<00:01,  5.03it/s]\u001b[A\n",
      "Generating for node: 12:  83%|████████▎ | 34/41 [00:06<00:01,  5.03it/s]\u001b[A\n",
      "Generating for node: 12:  85%|████████▌ | 35/41 [00:06<00:01,  4.97it/s]\u001b[A\n",
      "Generating for node: 30:  85%|████████▌ | 35/41 [00:06<00:01,  4.97it/s]\u001b[A\n",
      "Generating for node: 30:  88%|████████▊ | 36/41 [00:06<00:00,  5.11it/s]\u001b[A\n",
      "Generating for node: 19:  88%|████████▊ | 36/41 [00:06<00:00,  5.11it/s]\u001b[A\n",
      "Generating for node: 19:  90%|█████████ | 37/41 [00:07<00:00,  4.76it/s]\u001b[A\n",
      "Generating for node: 7:  90%|█████████ | 37/41 [00:07<00:00,  4.76it/s] \u001b[A\n",
      "Generating for node: 7:  93%|█████████▎| 38/41 [00:07<00:00,  4.77it/s]\u001b[A\n",
      "Generating for node: 23:  93%|█████████▎| 38/41 [00:07<00:00,  4.77it/s]\u001b[A\n",
      "Generating for node: 23:  95%|█████████▌| 39/41 [00:07<00:00,  5.09it/s]\u001b[A\n",
      "Generating for node: 37:  95%|█████████▌| 39/41 [00:07<00:00,  5.09it/s]\u001b[A\n",
      "Generating for node: 37:  98%|█████████▊| 40/41 [00:07<00:00,  4.96it/s]\u001b[A\n",
      "Generating for node: 36:  98%|█████████▊| 40/41 [00:07<00:00,  4.96it/s]\u001b[A\n",
      "Generating for node: 36: 100%|██████████| 41/41 [00:07<00:00,  5.20it/s]\u001b[A\n",
      "INFO:sdgym.benchmark:Scoring KDECopulaNNPdf_SynthesizerInteger on dataset census; iteration 0; 618.84 MB\n"
     ]
    },
    {
     "name": "stdout",
     "output_type": "stream",
     "text": [
      "[[35.999775  3.        2.        2.        3.      ]\n",
      " [38.000553  4.       31.       10.       15.      ]\n",
      " [68.99781   6.        6.       35.        0.      ]\n",
      " ...\n",
      " [82.602974  0.        0.        0.        0.      ]\n",
      " [39.001225  1.       24.        1.        2.      ]\n",
      " [48.002174  1.       24.        6.        0.      ]]\n",
      "[[36.  3.  2.  2.  3.]\n",
      " [38.  4. 31. 10. 15.]\n",
      " [69.  6.  6. 35.  0.]\n",
      " ...\n",
      " [83.  0.  0.  0.  0.]\n",
      " [39.  1. 24.  1.  2.]\n",
      " [48.  1. 24.  6.  0.]]\n"
     ]
    },
    {
     "name": "stderr",
     "output_type": "stream",
     "text": [
      "INFO:sdgym.evaluate:Evaluating using binary classifier DecisionTreeClassifier\n",
      "INFO:sdgym.evaluate:Evaluating using binary classifier AdaBoostClassifier\n",
      "INFO:sdgym.evaluate:Evaluating using binary classifier LogisticRegression\n",
      "INFO:sdgym.evaluate:Evaluating using binary classifier MLPClassifier\n",
      "/Users/maxbaak/opt/miniconda3/envs/synthsonic/lib/python3.8/site-packages/sklearn/neural_network/_multilayer_perceptron.py:582: ConvergenceWarning: Stochastic Optimizer: Maximum iterations (50) reached and the optimization hasn't converged yet.\n",
      "  warnings.warn(\n",
      "INFO:sdgym.benchmark:Finished KDECopulaNNPdf_SynthesizerInteger on dataset census; iteration 0; 788 MB\n",
      "INFO:sdgym.benchmark:100%|##########| 1/1 [04:06<00:00, 246.60s/it]\n",
      "INFO:sdgym.benchmark:100%|##########| 1/1 [04:06<00:00, 246.60s/it]\n"
     ]
    }
   ],
   "source": [
    "scores = sdgym.run(synthesizers=all_synthesizers, datasets=[dataset_name], iterations=1)"
   ]
  },
  {
   "cell_type": "code",
   "execution_count": 31,
   "metadata": {},
   "outputs": [
    {
     "data": {
      "text/html": [
       "<div>\n",
       "<style scoped>\n",
       "    .dataframe tbody tr th:only-of-type {\n",
       "        vertical-align: middle;\n",
       "    }\n",
       "\n",
       "    .dataframe tbody tr th {\n",
       "        vertical-align: top;\n",
       "    }\n",
       "\n",
       "    .dataframe thead th {\n",
       "        text-align: right;\n",
       "    }\n",
       "</style>\n",
       "<table border=\"1\" class=\"dataframe\">\n",
       "  <thead>\n",
       "    <tr style=\"text-align: right;\">\n",
       "      <th></th>\n",
       "      <th>census/accuracy</th>\n",
       "      <th>census/f1</th>\n",
       "      <th>timestamp</th>\n",
       "    </tr>\n",
       "  </thead>\n",
       "  <tbody>\n",
       "    <tr>\n",
       "      <th>VEEGANSynthesizer</th>\n",
       "      <td>0.764352</td>\n",
       "      <td>0.051816</td>\n",
       "      <td>2020-04-12 09:41:35.096775</td>\n",
       "    </tr>\n",
       "    <tr>\n",
       "      <th>CLBNSynthesizer</th>\n",
       "      <td>0.902265</td>\n",
       "      <td>0.285714</td>\n",
       "      <td>2020-10-17 09:46:54.494331</td>\n",
       "    </tr>\n",
       "    <tr>\n",
       "      <th>CTGAN</th>\n",
       "      <td>0.923290</td>\n",
       "      <td>0.328815</td>\n",
       "      <td>2020-10-17 09:46:54.494331</td>\n",
       "    </tr>\n",
       "    <tr>\n",
       "      <th>CTGANSynthesizer</th>\n",
       "      <td>0.904780</td>\n",
       "      <td>0.378843</td>\n",
       "      <td>2020-10-17 09:46:54.494331</td>\n",
       "    </tr>\n",
       "    <tr>\n",
       "      <th>CopulaGAN</th>\n",
       "      <td>0.890427</td>\n",
       "      <td>0.387663</td>\n",
       "      <td>2020-10-17 09:46:54.494331</td>\n",
       "    </tr>\n",
       "    <tr>\n",
       "      <th>GaussianCopulaCategorical</th>\n",
       "      <td>0.937647</td>\n",
       "      <td>0.000000</td>\n",
       "      <td>2020-10-17 09:46:54.494331</td>\n",
       "    </tr>\n",
       "    <tr>\n",
       "      <th>GaussianCopulaCategoricalFuzzy</th>\n",
       "      <td>0.791698</td>\n",
       "      <td>0.053528</td>\n",
       "      <td>2020-10-17 09:46:54.494331</td>\n",
       "    </tr>\n",
       "    <tr>\n",
       "      <th>GaussianCopulaOneHot</th>\n",
       "      <td>0.934770</td>\n",
       "      <td>0.132830</td>\n",
       "      <td>2020-10-17 09:46:54.494331</td>\n",
       "    </tr>\n",
       "    <tr>\n",
       "      <th>IdentitySynthesizer</th>\n",
       "      <td>0.905330</td>\n",
       "      <td>0.463875</td>\n",
       "      <td>2020-10-17 09:46:54.494331</td>\n",
       "    </tr>\n",
       "    <tr>\n",
       "      <th>IndependentSynthesizer</th>\n",
       "      <td>0.664293</td>\n",
       "      <td>0.060412</td>\n",
       "      <td>2020-10-17 09:46:54.494331</td>\n",
       "    </tr>\n",
       "    <tr>\n",
       "      <th>MedganSynthesizer</th>\n",
       "      <td>0.639255</td>\n",
       "      <td>0.136471</td>\n",
       "      <td>2020-10-17 09:46:54.494331</td>\n",
       "    </tr>\n",
       "    <tr>\n",
       "      <th>PrivBNSynthesizer</th>\n",
       "      <td>0.903208</td>\n",
       "      <td>0.244719</td>\n",
       "      <td>2020-10-17 09:46:54.494331</td>\n",
       "    </tr>\n",
       "    <tr>\n",
       "      <th>TVAESynthesizer</th>\n",
       "      <td>0.934452</td>\n",
       "      <td>0.382321</td>\n",
       "      <td>2020-10-17 09:46:54.494331</td>\n",
       "    </tr>\n",
       "    <tr>\n",
       "      <th>TableganSynthesizer</th>\n",
       "      <td>0.936630</td>\n",
       "      <td>0.272120</td>\n",
       "      <td>2020-10-17 09:46:54.494331</td>\n",
       "    </tr>\n",
       "    <tr>\n",
       "      <th>UniformSynthesizer</th>\n",
       "      <td>0.541408</td>\n",
       "      <td>0.108323</td>\n",
       "      <td>2020-10-17 09:46:54.494331</td>\n",
       "    </tr>\n",
       "    <tr>\n",
       "      <th>KDECopulaNNPdf_SynthesizerInteger</th>\n",
       "      <td>0.901800</td>\n",
       "      <td>0.390823</td>\n",
       "      <td>2021-05-13 20:54:09.467966</td>\n",
       "    </tr>\n",
       "  </tbody>\n",
       "</table>\n",
       "</div>"
      ],
      "text/plain": [
       "                                   census/accuracy  census/f1  \\\n",
       "VEEGANSynthesizer                         0.764352   0.051816   \n",
       "CLBNSynthesizer                           0.902265   0.285714   \n",
       "CTGAN                                     0.923290   0.328815   \n",
       "CTGANSynthesizer                          0.904780   0.378843   \n",
       "CopulaGAN                                 0.890427   0.387663   \n",
       "GaussianCopulaCategorical                 0.937647   0.000000   \n",
       "GaussianCopulaCategoricalFuzzy            0.791698   0.053528   \n",
       "GaussianCopulaOneHot                      0.934770   0.132830   \n",
       "IdentitySynthesizer                       0.905330   0.463875   \n",
       "IndependentSynthesizer                    0.664293   0.060412   \n",
       "MedganSynthesizer                         0.639255   0.136471   \n",
       "PrivBNSynthesizer                         0.903208   0.244719   \n",
       "TVAESynthesizer                           0.934452   0.382321   \n",
       "TableganSynthesizer                       0.936630   0.272120   \n",
       "UniformSynthesizer                        0.541408   0.108323   \n",
       "KDECopulaNNPdf_SynthesizerInteger         0.901800   0.390823   \n",
       "\n",
       "                                                   timestamp  \n",
       "VEEGANSynthesizer                 2020-04-12 09:41:35.096775  \n",
       "CLBNSynthesizer                   2020-10-17 09:46:54.494331  \n",
       "CTGAN                             2020-10-17 09:46:54.494331  \n",
       "CTGANSynthesizer                  2020-10-17 09:46:54.494331  \n",
       "CopulaGAN                         2020-10-17 09:46:54.494331  \n",
       "GaussianCopulaCategorical         2020-10-17 09:46:54.494331  \n",
       "GaussianCopulaCategoricalFuzzy    2020-10-17 09:46:54.494331  \n",
       "GaussianCopulaOneHot              2020-10-17 09:46:54.494331  \n",
       "IdentitySynthesizer               2020-10-17 09:46:54.494331  \n",
       "IndependentSynthesizer            2020-10-17 09:46:54.494331  \n",
       "MedganSynthesizer                 2020-10-17 09:46:54.494331  \n",
       "PrivBNSynthesizer                 2020-10-17 09:46:54.494331  \n",
       "TVAESynthesizer                   2020-10-17 09:46:54.494331  \n",
       "TableganSynthesizer               2020-10-17 09:46:54.494331  \n",
       "UniformSynthesizer                2020-10-17 09:46:54.494331  \n",
       "KDECopulaNNPdf_SynthesizerInteger 2021-05-13 20:54:09.467966  "
      ]
     },
     "execution_count": 31,
     "metadata": {},
     "output_type": "execute_result"
    }
   ],
   "source": [
    "scores"
   ]
  },
  {
   "cell_type": "code",
   "execution_count": 32,
   "metadata": {},
   "outputs": [
    {
     "data": {
      "text/html": [
       "<div>\n",
       "<style scoped>\n",
       "    .dataframe tbody tr th:only-of-type {\n",
       "        vertical-align: middle;\n",
       "    }\n",
       "\n",
       "    .dataframe tbody tr th {\n",
       "        vertical-align: top;\n",
       "    }\n",
       "\n",
       "    .dataframe thead th {\n",
       "        text-align: right;\n",
       "    }\n",
       "</style>\n",
       "<table border=\"1\" class=\"dataframe\">\n",
       "  <thead>\n",
       "    <tr style=\"text-align: right;\">\n",
       "      <th></th>\n",
       "      <th>census/accuracy</th>\n",
       "      <th>census/f1</th>\n",
       "      <th>timestamp</th>\n",
       "    </tr>\n",
       "  </thead>\n",
       "  <tbody>\n",
       "    <tr>\n",
       "      <th>TVAESynthesizer</th>\n",
       "      <td>0.934452</td>\n",
       "      <td>0.382321</td>\n",
       "      <td>2020-10-17 09:46:54.494331</td>\n",
       "    </tr>\n",
       "    <tr>\n",
       "      <th>TableganSynthesizer</th>\n",
       "      <td>0.936630</td>\n",
       "      <td>0.272120</td>\n",
       "      <td>2020-10-17 09:46:54.494331</td>\n",
       "    </tr>\n",
       "    <tr>\n",
       "      <th>UniformSynthesizer</th>\n",
       "      <td>0.541408</td>\n",
       "      <td>0.108323</td>\n",
       "      <td>2020-10-17 09:46:54.494331</td>\n",
       "    </tr>\n",
       "    <tr>\n",
       "      <th>KDECopulaNNPdf_SynthesizerInteger</th>\n",
       "      <td>0.901800</td>\n",
       "      <td>0.390823</td>\n",
       "      <td>2021-05-13 20:54:09.467966</td>\n",
       "    </tr>\n",
       "  </tbody>\n",
       "</table>\n",
       "</div>"
      ],
      "text/plain": [
       "                                   census/accuracy  census/f1  \\\n",
       "TVAESynthesizer                           0.934452   0.382321   \n",
       "TableganSynthesizer                       0.936630   0.272120   \n",
       "UniformSynthesizer                        0.541408   0.108323   \n",
       "KDECopulaNNPdf_SynthesizerInteger         0.901800   0.390823   \n",
       "\n",
       "                                                   timestamp  \n",
       "TVAESynthesizer                   2020-10-17 09:46:54.494331  \n",
       "TableganSynthesizer               2020-10-17 09:46:54.494331  \n",
       "UniformSynthesizer                2020-10-17 09:46:54.494331  \n",
       "KDECopulaNNPdf_SynthesizerInteger 2021-05-13 20:54:09.467966  "
      ]
     },
     "execution_count": 32,
     "metadata": {},
     "output_type": "execute_result"
    }
   ],
   "source": [
    "scores.tail(4)"
   ]
  },
  {
   "cell_type": "code",
   "execution_count": null,
   "metadata": {},
   "outputs": [],
   "source": []
  }
 ],
 "metadata": {
  "kernelspec": {
   "display_name": "Python 3",
   "language": "python",
   "name": "python3"
  },
  "language_info": {
   "codemirror_mode": {
    "name": "ipython",
    "version": 3
   },
   "file_extension": ".py",
   "mimetype": "text/x-python",
   "name": "python",
   "nbconvert_exporter": "python",
   "pygments_lexer": "ipython3",
   "version": "3.8.5"
  }
 },
 "nbformat": 4,
 "nbformat_minor": 4
}
