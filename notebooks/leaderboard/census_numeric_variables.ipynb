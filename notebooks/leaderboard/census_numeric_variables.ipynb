{
 "cells": [
  {
   "cell_type": "code",
   "execution_count": 1,
   "metadata": {},
   "outputs": [],
   "source": [
    "%load_ext autoreload\n",
    "%autoreload 2"
   ]
  },
  {
   "cell_type": "code",
   "execution_count": null,
   "metadata": {},
   "outputs": [],
   "source": [
    "!pip install -q -U git+https://github.com/sbrugman/SDGym.git@v0.2.2-hw"
   ]
  },
  {
   "cell_type": "code",
   "execution_count": null,
   "metadata": {},
   "outputs": [],
   "source": [
    "!pip install -q -U ../../"
   ]
  },
  {
   "cell_type": "code",
   "execution_count": 2,
   "metadata": {},
   "outputs": [],
   "source": [
    "from timeit import default_timer as timer\n",
    "from functools import partial\n",
    "from random import choices\n",
    "import logging"
   ]
  },
  {
   "cell_type": "code",
   "execution_count": 3,
   "metadata": {},
   "outputs": [],
   "source": [
    "import sdgym\n",
    "from sdgym import load_dataset\n",
    "from sdgym import benchmark\n",
    "from sdgym import load_dataset"
   ]
  },
  {
   "cell_type": "code",
   "execution_count": 4,
   "metadata": {},
   "outputs": [],
   "source": [
    "import numpy as np\n",
    "import pandas as pd\n",
    "import matplotlib.pyplot as plt\n",
    "import networkx as nx"
   ]
  },
  {
   "cell_type": "code",
   "execution_count": 5,
   "metadata": {},
   "outputs": [],
   "source": [
    "import pgmpy\n",
    "\n",
    "from pgmpy.models import BayesianModel\n",
    "from pgmpy.estimators import TreeSearch, HillClimbSearch, BicScore, ExhaustiveSearch, BayesianEstimator\n",
    "from pgmpy.sampling import BayesianModelSampling"
   ]
  },
  {
   "cell_type": "code",
   "execution_count": 6,
   "metadata": {},
   "outputs": [],
   "source": [
    "import xgboost as xgb\n",
    "from xgboost import XGBClassifier"
   ]
  },
  {
   "cell_type": "code",
   "execution_count": 7,
   "metadata": {},
   "outputs": [],
   "source": [
    "from sklearn.neural_network import MLPClassifier\n",
    "from sklearn.svm import SVC\n",
    "from sklearn.model_selection import train_test_split\n",
    "from sklearn.isotonic import IsotonicRegression"
   ]
  },
  {
   "cell_type": "code",
   "execution_count": 8,
   "metadata": {},
   "outputs": [],
   "source": [
    "from scipy import interpolate"
   ]
  },
  {
   "cell_type": "code",
   "execution_count": 9,
   "metadata": {},
   "outputs": [],
   "source": [
    "from synthsonic.models.kde_utils import kde_smooth_peaks_1dim, kde_smooth_peaks\n",
    "from synthsonic.models.kde_copula_nn_pdf import KDECopulaNNPdf"
   ]
  },
  {
   "cell_type": "code",
   "execution_count": 13,
   "metadata": {},
   "outputs": [],
   "source": [
    "import matplotlib.pyplot as plt\n",
    "%matplotlib inline"
   ]
  },
  {
   "cell_type": "code",
   "execution_count": 14,
   "metadata": {},
   "outputs": [],
   "source": [
    "logging.basicConfig(level=logging.INFO)"
   ]
  },
  {
   "cell_type": "code",
   "execution_count": 15,
   "metadata": {},
   "outputs": [],
   "source": [
    "dataset_name = 'census_numeric'"
   ]
  },
  {
   "cell_type": "code",
   "execution_count": 16,
   "metadata": {},
   "outputs": [
    {
     "name": "stderr",
     "output_type": "stream",
     "text": [
      "INFO:sdgym.data:Loading dataset census (numeric variables, -1 distinct values threshold)\n",
      "INFO:sdgym.data:Columns to zero-code: []\n"
     ]
    }
   ],
   "source": [
    "data, categorical_columns, ordinal_columns = load_dataset(dataset_name)"
   ]
  },
  {
   "cell_type": "code",
   "execution_count": 17,
   "metadata": {},
   "outputs": [
    {
     "data": {
      "text/plain": [
       "(199523, 8)"
      ]
     },
     "execution_count": 17,
     "metadata": {},
     "output_type": "execute_result"
    }
   ],
   "source": [
    "data.shape"
   ]
  },
  {
   "cell_type": "code",
   "execution_count": 18,
   "metadata": {},
   "outputs": [
    {
     "data": {
      "text/plain": [
       "([], [])"
      ]
     },
     "execution_count": 18,
     "metadata": {},
     "output_type": "execute_result"
    }
   ],
   "source": [
    "categorical_columns, ordinal_columns"
   ]
  },
  {
   "cell_type": "code",
   "execution_count": 19,
   "metadata": {},
   "outputs": [
    {
     "name": "stdout",
     "output_type": "stream",
     "text": [
      "0 91\n",
      "1 1240\n",
      "2 132\n",
      "3 113\n",
      "4 1478\n",
      "5 7\n",
      "6 53\n",
      "7 2\n"
     ]
    }
   ],
   "source": [
    "for i in range(data.shape[1]):\n",
    "    print (i, len(np.unique(data[:, i])))"
   ]
  },
  {
   "cell_type": "markdown",
   "metadata": {},
   "source": [
    "# run sdgym"
   ]
  },
  {
   "cell_type": "code",
   "execution_count": 20,
   "metadata": {},
   "outputs": [],
   "source": [
    "def KDECopulaNNPdf_Synthesizer(real_data, categorical_columns, ordinal_columns):\n",
    "    assert len(categorical_columns + ordinal_columns) <= 1\n",
    "\n",
    "    all_features = list(range(real_data.shape[1]))\n",
    "    numerical_features = list(set(all_features) - set(categorical_columns + ordinal_columns))\n",
    "    data = np.float64(real_data)\n",
    "    \n",
    "    n_samples = data.shape[0]\n",
    "    n_features = data.shape[1]\n",
    "    \n",
    "    clf = xgb.XGBClassifier(\n",
    "        n_estimators=250,\n",
    "        reg_lambda=1,\n",
    "        gamma=0,\n",
    "        max_depth=9\n",
    "    )\n",
    "#     clf = MLPClassifier(alpha=0.1, random_state=0, max_iter=1000, early_stopping=True)\n",
    "    \n",
    "    kde = KDECopulaNNPdf(\n",
    "        use_KDE=False, \n",
    "        categorical_columns=categorical_columns+ordinal_columns+[7],\n",
    "        distinct_threshold=-1,\n",
    "        n_bins=25,\n",
    "#        clf=clf,\n",
    "#         ordering='mi',\n",
    "    )\n",
    "    kde = kde.fit(data)\n",
    "    \n",
    "#     X_gen, sample_weight = kde.sample(n_samples)\n",
    "    X_gen = kde.sample_no_weights(n_samples, show_progress=True, mode='cheap')\n",
    "    \n",
    "    X_gen[:, categorical_columns+ordinal_columns] = np.round(X_gen[:, categorical_columns+ordinal_columns])\n",
    "    X_gen = np.float32(X_gen)\n",
    "    \n",
    "    print(X_gen[:, :5])\n",
    "\n",
    "    return X_gen"
   ]
  },
  {
   "cell_type": "code",
   "execution_count": 21,
   "metadata": {},
   "outputs": [],
   "source": [
    "def KDECopulaNNPdf_SynthesizerInteger(real_data, categorical_columns, ordinal_columns):\n",
    "    \"\"\"Census has integer only...\"\"\"\n",
    "    data = KDECopulaNNPdf_Synthesizer(real_data, categorical_columns, ordinal_columns)\n",
    "    data = np.round(data)\n",
    "    \n",
    "    print(data[:, :5])\n",
    "\n",
    "    return data"
   ]
  },
  {
   "cell_type": "code",
   "execution_count": 23,
   "metadata": {},
   "outputs": [],
   "source": [
    "from sdgym.synthesizers import (\n",
    "    CLBNSynthesizer, CTGANSynthesizer, IdentitySynthesizer, IndependentSynthesizer,\n",
    "    MedganSynthesizer, PrivBNSynthesizer, TableganSynthesizer, TVAESynthesizer,\n",
    "    UniformSynthesizer, VEEGANSynthesizer)\n",
    "\n",
    "all_synthesizers = [\n",
    "    IdentitySynthesizer,\n",
    "    #IndependentSynthesizer,\n",
    "    #KDECopulaNNPdf_Synthesizer,\n",
    "    KDECopulaNNPdf_SynthesizerInteger,\n",
    "]"
   ]
  },
  {
   "cell_type": "code",
   "execution_count": 24,
   "metadata": {
    "scrolled": false
   },
   "outputs": [
    {
     "name": "stderr",
     "output_type": "stream",
     "text": [
      "INFO:sdgym.benchmark:0%|          | 0/2 [00:00<?, ?it/s]\n",
      "INFO:sdgym.benchmark:Evaluating IdentitySynthesizer on dataset census_numeric; iteration 0; 378.26 MB\n",
      "INFO:sdgym.data:Loading dataset census (numeric variables, -1 distinct values threshold)\n",
      "INFO:sdgym.data:Columns to zero-code: []\n",
      "INFO:sdgym.benchmark:Running IdentitySynthesizer on dataset census_numeric; iteration 0; 384.78 MB\n",
      "INFO:sdgym.synthesizers.base:Fitting IdentitySynthesizer\n",
      "INFO:sdgym.synthesizers.base:Sampling IdentitySynthesizer\n",
      "INFO:sdgym.benchmark:Scoring IdentitySynthesizer on dataset census_numeric; iteration 0; 407.24 MB\n",
      "INFO:sdgym.evaluate:Evaluating using binary classifier DecisionTreeClassifier\n",
      "INFO:sdgym.evaluate:Evaluating using binary classifier AdaBoostClassifier\n",
      "INFO:sdgym.evaluate:Evaluating using binary classifier LogisticRegression\n",
      "INFO:sdgym.evaluate:Evaluating using binary classifier MLPClassifier\n",
      "/Users/maxbaak/opt/miniconda3/envs/synthsonic/lib/python3.8/site-packages/sklearn/neural_network/_multilayer_perceptron.py:582: ConvergenceWarning: Stochastic Optimizer: Maximum iterations (50) reached and the optimization hasn't converged yet.\n",
      "  warnings.warn(\n",
      "INFO:sdgym.benchmark:Finished IdentitySynthesizer on dataset census_numeric; iteration 0; 347.01 MB\n",
      "INFO:sdgym.benchmark:50%|#####     | 1/2 [00:15<00:15, 15.39s/it]\n",
      "INFO:sdgym.benchmark:Evaluating KDECopulaNNPdf_SynthesizerInteger on dataset census_numeric; iteration 0; 344.9 MB\n",
      "INFO:sdgym.data:Loading dataset census (numeric variables, -1 distinct values threshold)\n",
      "INFO:sdgym.data:Columns to zero-code: []\n",
      "INFO:sdgym.benchmark:Running KDECopulaNNPdf_SynthesizerInteger on dataset census_numeric; iteration 0; 426.1 MB\n",
      "INFO:KDECopulaNNPdf:Processing 7 numerical and 1 categorical columns\n",
      "INFO:KDECopulaNNPdf:Transforming numerical variables.\n",
      "INFO:KDECopulaNNPdf:Configuring Bayesian Network (cat+num).\n",
      "INFO:KDECopulaNNPdf:Configuring classifier.\n",
      "INFO:KDECopulaNNPdf:Generating 250000 data points.\n",
      "\n",
      "  0%|          | 0/8 [00:00<?, ?it/s]\u001b[A\n",
      "Generating for node: 1:   0%|          | 0/8 [00:00<?, ?it/s]\u001b[A\n",
      "Generating for node: 0:   0%|          | 0/8 [00:00<?, ?it/s]\u001b[A\n",
      "Generating for node: 0:  25%|██▌       | 2/8 [00:00<00:00, 11.45it/s]\u001b[A\n",
      "Generating for node: 7:  25%|██▌       | 2/8 [00:00<00:00, 11.45it/s]\u001b[A\n",
      "Generating for node: 6:  25%|██▌       | 2/8 [00:00<00:00, 11.45it/s]\u001b[A\n",
      "Generating for node: 6:  50%|█████     | 4/8 [00:00<00:00,  4.03it/s]\u001b[A\n",
      "Generating for node: 3:  50%|█████     | 4/8 [00:00<00:00,  4.03it/s]\u001b[A\n",
      "Generating for node: 3:  62%|██████▎   | 5/8 [00:01<00:00,  3.55it/s]\u001b[A\n",
      "Generating for node: 2:  62%|██████▎   | 5/8 [00:01<00:00,  3.55it/s]\u001b[A\n",
      "Generating for node: 2:  75%|███████▌  | 6/8 [00:01<00:00,  3.28it/s]\u001b[A\n",
      "Generating for node: 4:  75%|███████▌  | 6/8 [00:01<00:00,  3.28it/s]\u001b[A\n",
      "Generating for node: 4:  88%|████████▊ | 7/8 [00:01<00:00,  3.09it/s]\u001b[A\n",
      "Generating for node: 5:  88%|████████▊ | 7/8 [00:01<00:00,  3.09it/s]\u001b[A\n",
      "Generating for node: 5: 100%|██████████| 8/8 [00:02<00:00,  3.41it/s]\u001b[A\n",
      "INFO:KDECopulaNNPdf:Fitting discriminative learner: selected 8 features.\n",
      "INFO:KDECopulaNNPdf:Calibrating classifier.\n",
      "INFO:KDECopulaNNPdf:Maximum weight found: 62.201018616881015\n",
      "INFO:KDECopulaNNPdf:Generating 199523 data points.\n",
      "\n",
      "  0%|          | 0/8 [00:00<?, ?it/s]\u001b[A\n",
      "Generating for node: 1:   0%|          | 0/8 [00:00<?, ?it/s]\u001b[A\n",
      "Generating for node: 0:   0%|          | 0/8 [00:00<?, ?it/s]\u001b[A\n",
      "Generating for node: 0:  25%|██▌       | 2/8 [00:00<00:00, 13.72it/s]\u001b[A\n",
      "Generating for node: 7:  25%|██▌       | 2/8 [00:00<00:00, 13.72it/s]\u001b[A\n",
      "Generating for node: 6:  25%|██▌       | 2/8 [00:00<00:00, 13.72it/s]\u001b[A\n",
      "Generating for node: 6:  50%|█████     | 4/8 [00:00<00:00,  4.94it/s]\u001b[A\n",
      "Generating for node: 3:  50%|█████     | 4/8 [00:00<00:00,  4.94it/s]\u001b[A\n",
      "Generating for node: 3:  62%|██████▎   | 5/8 [00:01<00:00,  4.35it/s]\u001b[A\n",
      "Generating for node: 2:  62%|██████▎   | 5/8 [00:01<00:00,  4.35it/s]\u001b[A\n",
      "Generating for node: 2:  75%|███████▌  | 6/8 [00:01<00:00,  3.96it/s]\u001b[A\n",
      "Generating for node: 4:  75%|███████▌  | 6/8 [00:01<00:00,  3.96it/s]\u001b[A\n",
      "Generating for node: 4:  88%|████████▊ | 7/8 [00:01<00:00,  3.74it/s]\u001b[A\n",
      "Generating for node: 5:  88%|████████▊ | 7/8 [00:01<00:00,  3.74it/s]\u001b[A\n",
      "Generating for node: 5: 100%|██████████| 8/8 [00:01<00:00,  4.12it/s]\u001b[A\n",
      "INFO:sdgym.benchmark:Scoring KDECopulaNNPdf_SynthesizerInteger on dataset census_numeric; iteration 0; 405.53 MB\n"
     ]
    },
    {
     "name": "stdout",
     "output_type": "stream",
     "text": [
      "[[ 7.5000572e+01 -2.5121372e-03 -8.3705926e-01  1.1386655e-01\n",
      "  -2.0990770e-01]\n",
      " [ 5.6999317e+01  4.7301441e-02 -4.6748024e-01 -3.7852775e-03\n",
      "   1.7697155e+00]\n",
      " [ 7.4000633e+01 -4.6460390e-02  6.8876755e-01 -2.4327751e-02\n",
      "   6.3903004e-01]\n",
      " ...\n",
      " [ 3.1000217e+01  1.8018819e-02 -1.3762525e+00  3.5974734e-02\n",
      "   1.3139505e+00]\n",
      " [ 5.0998985e+01 -1.7354605e-01 -3.8619697e-02  1.1048457e-02\n",
      "  -2.0061757e-01]\n",
      " [ 6.0006518e+00  1.5437769e-02  7.3588210e-01 -1.2666142e-01\n",
      "  -6.8702638e-01]]\n",
      "[[75. -0. -1.  0. -0.]\n",
      " [57.  0. -0. -0.  2.]\n",
      " [74. -0.  1. -0.  1.]\n",
      " ...\n",
      " [31.  0. -1.  0.  1.]\n",
      " [51. -0. -0.  0. -0.]\n",
      " [ 6.  0.  1. -0. -1.]]\n"
     ]
    },
    {
     "name": "stderr",
     "output_type": "stream",
     "text": [
      "INFO:sdgym.evaluate:Evaluating using binary classifier DecisionTreeClassifier\n",
      "INFO:sdgym.evaluate:Evaluating using binary classifier AdaBoostClassifier\n",
      "INFO:sdgym.evaluate:Evaluating using binary classifier LogisticRegression\n",
      "INFO:sdgym.evaluate:Evaluating using binary classifier MLPClassifier\n",
      "/Users/maxbaak/opt/miniconda3/envs/synthsonic/lib/python3.8/site-packages/sklearn/neural_network/_multilayer_perceptron.py:582: ConvergenceWarning: Stochastic Optimizer: Maximum iterations (50) reached and the optimization hasn't converged yet.\n",
      "  warnings.warn(\n",
      "INFO:sdgym.benchmark:Finished KDECopulaNNPdf_SynthesizerInteger on dataset census_numeric; iteration 0; 405.17 MB\n",
      "INFO:sdgym.benchmark:100%|##########| 2/2 [01:27<00:00, 48.92s/it]\n",
      "INFO:sdgym.benchmark:100%|##########| 2/2 [01:27<00:00, 43.89s/it]\n"
     ]
    }
   ],
   "source": [
    "scores = sdgym.run(synthesizers=all_synthesizers, datasets=[dataset_name], iterations=1)"
   ]
  },
  {
   "cell_type": "code",
   "execution_count": 27,
   "metadata": {},
   "outputs": [
    {
     "data": {
      "text/html": [
       "<div>\n",
       "<style scoped>\n",
       "    .dataframe tbody tr th:only-of-type {\n",
       "        vertical-align: middle;\n",
       "    }\n",
       "\n",
       "    .dataframe tbody tr th {\n",
       "        vertical-align: top;\n",
       "    }\n",
       "\n",
       "    .dataframe thead th {\n",
       "        text-align: right;\n",
       "    }\n",
       "</style>\n",
       "<table border=\"1\" class=\"dataframe\">\n",
       "  <thead>\n",
       "    <tr style=\"text-align: right;\">\n",
       "      <th></th>\n",
       "      <th>census_numeric/accuracy</th>\n",
       "      <th>census_numeric/f1</th>\n",
       "      <th>timestamp</th>\n",
       "    </tr>\n",
       "  </thead>\n",
       "  <tbody>\n",
       "    <tr>\n",
       "      <th>VEEGANSynthesizer</th>\n",
       "      <td>NaN</td>\n",
       "      <td>NaN</td>\n",
       "      <td>2020-04-12 09:41:35.096775</td>\n",
       "    </tr>\n",
       "    <tr>\n",
       "      <th>CLBNSynthesizer</th>\n",
       "      <td>NaN</td>\n",
       "      <td>NaN</td>\n",
       "      <td>2020-10-17 09:46:54.494331</td>\n",
       "    </tr>\n",
       "    <tr>\n",
       "      <th>CTGAN</th>\n",
       "      <td>NaN</td>\n",
       "      <td>NaN</td>\n",
       "      <td>2020-10-17 09:46:54.494331</td>\n",
       "    </tr>\n",
       "    <tr>\n",
       "      <th>CTGANSynthesizer</th>\n",
       "      <td>NaN</td>\n",
       "      <td>NaN</td>\n",
       "      <td>2020-10-17 09:46:54.494331</td>\n",
       "    </tr>\n",
       "    <tr>\n",
       "      <th>CopulaGAN</th>\n",
       "      <td>NaN</td>\n",
       "      <td>NaN</td>\n",
       "      <td>2020-10-17 09:46:54.494331</td>\n",
       "    </tr>\n",
       "    <tr>\n",
       "      <th>GaussianCopulaCategorical</th>\n",
       "      <td>NaN</td>\n",
       "      <td>NaN</td>\n",
       "      <td>2020-10-17 09:46:54.494331</td>\n",
       "    </tr>\n",
       "    <tr>\n",
       "      <th>GaussianCopulaCategoricalFuzzy</th>\n",
       "      <td>NaN</td>\n",
       "      <td>NaN</td>\n",
       "      <td>2020-10-17 09:46:54.494331</td>\n",
       "    </tr>\n",
       "    <tr>\n",
       "      <th>GaussianCopulaOneHot</th>\n",
       "      <td>NaN</td>\n",
       "      <td>NaN</td>\n",
       "      <td>2020-10-17 09:46:54.494331</td>\n",
       "    </tr>\n",
       "    <tr>\n",
       "      <th>IndependentSynthesizer</th>\n",
       "      <td>NaN</td>\n",
       "      <td>NaN</td>\n",
       "      <td>2020-10-17 09:46:54.494331</td>\n",
       "    </tr>\n",
       "    <tr>\n",
       "      <th>MedganSynthesizer</th>\n",
       "      <td>NaN</td>\n",
       "      <td>NaN</td>\n",
       "      <td>2020-10-17 09:46:54.494331</td>\n",
       "    </tr>\n",
       "    <tr>\n",
       "      <th>PrivBNSynthesizer</th>\n",
       "      <td>NaN</td>\n",
       "      <td>NaN</td>\n",
       "      <td>2020-10-17 09:46:54.494331</td>\n",
       "    </tr>\n",
       "    <tr>\n",
       "      <th>TVAESynthesizer</th>\n",
       "      <td>NaN</td>\n",
       "      <td>NaN</td>\n",
       "      <td>2020-10-17 09:46:54.494331</td>\n",
       "    </tr>\n",
       "    <tr>\n",
       "      <th>TableganSynthesizer</th>\n",
       "      <td>NaN</td>\n",
       "      <td>NaN</td>\n",
       "      <td>2020-10-17 09:46:54.494331</td>\n",
       "    </tr>\n",
       "    <tr>\n",
       "      <th>UniformSynthesizer</th>\n",
       "      <td>NaN</td>\n",
       "      <td>NaN</td>\n",
       "      <td>2020-10-17 09:46:54.494331</td>\n",
       "    </tr>\n",
       "    <tr>\n",
       "      <th>IdentitySynthesizer</th>\n",
       "      <td>0.867410</td>\n",
       "      <td>0.346562</td>\n",
       "      <td>2021-05-13 20:44:48.081361</td>\n",
       "    </tr>\n",
       "    <tr>\n",
       "      <th>KDECopulaNNPdf_SynthesizerInteger</th>\n",
       "      <td>0.860925</td>\n",
       "      <td>0.251266</td>\n",
       "      <td>2021-05-13 20:44:48.081361</td>\n",
       "    </tr>\n",
       "  </tbody>\n",
       "</table>\n",
       "</div>"
      ],
      "text/plain": [
       "                                   census_numeric/accuracy  census_numeric/f1  \\\n",
       "VEEGANSynthesizer                                      NaN                NaN   \n",
       "CLBNSynthesizer                                        NaN                NaN   \n",
       "CTGAN                                                  NaN                NaN   \n",
       "CTGANSynthesizer                                       NaN                NaN   \n",
       "CopulaGAN                                              NaN                NaN   \n",
       "GaussianCopulaCategorical                              NaN                NaN   \n",
       "GaussianCopulaCategoricalFuzzy                         NaN                NaN   \n",
       "GaussianCopulaOneHot                                   NaN                NaN   \n",
       "IndependentSynthesizer                                 NaN                NaN   \n",
       "MedganSynthesizer                                      NaN                NaN   \n",
       "PrivBNSynthesizer                                      NaN                NaN   \n",
       "TVAESynthesizer                                        NaN                NaN   \n",
       "TableganSynthesizer                                    NaN                NaN   \n",
       "UniformSynthesizer                                     NaN                NaN   \n",
       "IdentitySynthesizer                               0.867410           0.346562   \n",
       "KDECopulaNNPdf_SynthesizerInteger                 0.860925           0.251266   \n",
       "\n",
       "                                                   timestamp  \n",
       "VEEGANSynthesizer                 2020-04-12 09:41:35.096775  \n",
       "CLBNSynthesizer                   2020-10-17 09:46:54.494331  \n",
       "CTGAN                             2020-10-17 09:46:54.494331  \n",
       "CTGANSynthesizer                  2020-10-17 09:46:54.494331  \n",
       "CopulaGAN                         2020-10-17 09:46:54.494331  \n",
       "GaussianCopulaCategorical         2020-10-17 09:46:54.494331  \n",
       "GaussianCopulaCategoricalFuzzy    2020-10-17 09:46:54.494331  \n",
       "GaussianCopulaOneHot              2020-10-17 09:46:54.494331  \n",
       "IndependentSynthesizer            2020-10-17 09:46:54.494331  \n",
       "MedganSynthesizer                 2020-10-17 09:46:54.494331  \n",
       "PrivBNSynthesizer                 2020-10-17 09:46:54.494331  \n",
       "TVAESynthesizer                   2020-10-17 09:46:54.494331  \n",
       "TableganSynthesizer               2020-10-17 09:46:54.494331  \n",
       "UniformSynthesizer                2020-10-17 09:46:54.494331  \n",
       "IdentitySynthesizer               2021-05-13 20:44:48.081361  \n",
       "KDECopulaNNPdf_SynthesizerInteger 2021-05-13 20:44:48.081361  "
      ]
     },
     "execution_count": 27,
     "metadata": {},
     "output_type": "execute_result"
    }
   ],
   "source": [
    "scores"
   ]
  },
  {
   "cell_type": "code",
   "execution_count": 28,
   "metadata": {},
   "outputs": [
    {
     "data": {
      "text/html": [
       "<div>\n",
       "<style scoped>\n",
       "    .dataframe tbody tr th:only-of-type {\n",
       "        vertical-align: middle;\n",
       "    }\n",
       "\n",
       "    .dataframe tbody tr th {\n",
       "        vertical-align: top;\n",
       "    }\n",
       "\n",
       "    .dataframe thead th {\n",
       "        text-align: right;\n",
       "    }\n",
       "</style>\n",
       "<table border=\"1\" class=\"dataframe\">\n",
       "  <thead>\n",
       "    <tr style=\"text-align: right;\">\n",
       "      <th></th>\n",
       "      <th>census_numeric/accuracy</th>\n",
       "      <th>census_numeric/f1</th>\n",
       "      <th>timestamp</th>\n",
       "    </tr>\n",
       "  </thead>\n",
       "  <tbody>\n",
       "    <tr>\n",
       "      <th>TableganSynthesizer</th>\n",
       "      <td>NaN</td>\n",
       "      <td>NaN</td>\n",
       "      <td>2020-10-17 09:46:54.494331</td>\n",
       "    </tr>\n",
       "    <tr>\n",
       "      <th>UniformSynthesizer</th>\n",
       "      <td>NaN</td>\n",
       "      <td>NaN</td>\n",
       "      <td>2020-10-17 09:46:54.494331</td>\n",
       "    </tr>\n",
       "    <tr>\n",
       "      <th>IdentitySynthesizer</th>\n",
       "      <td>0.867410</td>\n",
       "      <td>0.346562</td>\n",
       "      <td>2021-05-13 20:44:48.081361</td>\n",
       "    </tr>\n",
       "    <tr>\n",
       "      <th>KDECopulaNNPdf_SynthesizerInteger</th>\n",
       "      <td>0.860925</td>\n",
       "      <td>0.251266</td>\n",
       "      <td>2021-05-13 20:44:48.081361</td>\n",
       "    </tr>\n",
       "  </tbody>\n",
       "</table>\n",
       "</div>"
      ],
      "text/plain": [
       "                                   census_numeric/accuracy  census_numeric/f1  \\\n",
       "TableganSynthesizer                                    NaN                NaN   \n",
       "UniformSynthesizer                                     NaN                NaN   \n",
       "IdentitySynthesizer                               0.867410           0.346562   \n",
       "KDECopulaNNPdf_SynthesizerInteger                 0.860925           0.251266   \n",
       "\n",
       "                                                   timestamp  \n",
       "TableganSynthesizer               2020-10-17 09:46:54.494331  \n",
       "UniformSynthesizer                2020-10-17 09:46:54.494331  \n",
       "IdentitySynthesizer               2021-05-13 20:44:48.081361  \n",
       "KDECopulaNNPdf_SynthesizerInteger 2021-05-13 20:44:48.081361  "
      ]
     },
     "execution_count": 28,
     "metadata": {},
     "output_type": "execute_result"
    }
   ],
   "source": [
    "scores.tail(4)"
   ]
  },
  {
   "cell_type": "code",
   "execution_count": null,
   "metadata": {},
   "outputs": [],
   "source": []
  }
 ],
 "metadata": {
  "kernelspec": {
   "display_name": "Python 3",
   "language": "python",
   "name": "python3"
  },
  "language_info": {
   "codemirror_mode": {
    "name": "ipython",
    "version": 3
   },
   "file_extension": ".py",
   "mimetype": "text/x-python",
   "name": "python",
   "nbconvert_exporter": "python",
   "pygments_lexer": "ipython3",
   "version": "3.8.5"
  }
 },
 "nbformat": 4,
 "nbformat_minor": 4
}
