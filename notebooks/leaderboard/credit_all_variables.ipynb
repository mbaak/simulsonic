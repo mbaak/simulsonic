{
 "cells": [
  {
   "cell_type": "code",
   "execution_count": 1,
   "metadata": {},
   "outputs": [],
   "source": [
    "%load_ext autoreload\n",
    "%autoreload 2"
   ]
  },
  {
   "cell_type": "code",
   "execution_count": null,
   "metadata": {},
   "outputs": [],
   "source": [
    "!pip install -q -U git+https://github.com/sbrugman/SDGym.git@v0.2.2-hw"
   ]
  },
  {
   "cell_type": "code",
   "execution_count": null,
   "metadata": {},
   "outputs": [],
   "source": [
    "!pip install -q -U ../../"
   ]
  },
  {
   "cell_type": "code",
   "execution_count": 2,
   "metadata": {},
   "outputs": [],
   "source": [
    "from timeit import default_timer as timer\n",
    "from functools import partial\n",
    "from random import choices\n",
    "import logging"
   ]
  },
  {
   "cell_type": "code",
   "execution_count": 3,
   "metadata": {},
   "outputs": [],
   "source": [
    "import sdgym\n",
    "from sdgym import load_dataset\n",
    "from sdgym import benchmark\n",
    "from sdgym import load_dataset"
   ]
  },
  {
   "cell_type": "code",
   "execution_count": 4,
   "metadata": {},
   "outputs": [],
   "source": [
    "import numpy as np\n",
    "import pandas as pd\n",
    "import matplotlib.pyplot as plt\n",
    "import networkx as nx"
   ]
  },
  {
   "cell_type": "code",
   "execution_count": 5,
   "metadata": {},
   "outputs": [],
   "source": [
    "import pgmpy\n",
    "\n",
    "from pgmpy.models import BayesianModel\n",
    "from pgmpy.estimators import TreeSearch, HillClimbSearch, BicScore, ExhaustiveSearch, BayesianEstimator\n",
    "from pgmpy.sampling import BayesianModelSampling"
   ]
  },
  {
   "cell_type": "code",
   "execution_count": 6,
   "metadata": {},
   "outputs": [],
   "source": [
    "import xgboost as xgb\n",
    "from xgboost import XGBClassifier"
   ]
  },
  {
   "cell_type": "code",
   "execution_count": 7,
   "metadata": {},
   "outputs": [],
   "source": [
    "from sklearn.neural_network import MLPClassifier\n",
    "from sklearn.svm import SVC\n",
    "from sklearn.model_selection import train_test_split\n",
    "from sklearn.isotonic import IsotonicRegression"
   ]
  },
  {
   "cell_type": "code",
   "execution_count": 8,
   "metadata": {},
   "outputs": [],
   "source": [
    "from scipy import interpolate"
   ]
  },
  {
   "cell_type": "code",
   "execution_count": 9,
   "metadata": {},
   "outputs": [],
   "source": [
    "from synthsonic.models.kde_utils import kde_smooth_peaks_1dim, kde_smooth_peaks\n",
    "from synthsonic.models.kde_copula_nn_pdf import KDECopulaNNPdf"
   ]
  },
  {
   "cell_type": "code",
   "execution_count": 10,
   "metadata": {},
   "outputs": [],
   "source": [
    "import matplotlib.pyplot as plt\n",
    "%matplotlib inline"
   ]
  },
  {
   "cell_type": "code",
   "execution_count": 11,
   "metadata": {},
   "outputs": [],
   "source": [
    "logging.basicConfig(level=logging.INFO)"
   ]
  },
  {
   "cell_type": "code",
   "execution_count": 12,
   "metadata": {},
   "outputs": [],
   "source": [
    "dataset_name = 'credit'"
   ]
  },
  {
   "cell_type": "code",
   "execution_count": 13,
   "metadata": {},
   "outputs": [
    {
     "name": "stderr",
     "output_type": "stream",
     "text": [
      "INFO:sdgym.data:Loading dataset credit (all variables, -1 distinct values threshold)\n",
      "INFO:sdgym.data:Columns to zero-code: []\n"
     ]
    }
   ],
   "source": [
    "data, categorical_columns, ordinal_columns = load_dataset(dataset_name)"
   ]
  },
  {
   "cell_type": "code",
   "execution_count": 14,
   "metadata": {},
   "outputs": [
    {
     "data": {
      "text/plain": [
       "(264807, 30)"
      ]
     },
     "execution_count": 14,
     "metadata": {},
     "output_type": "execute_result"
    }
   ],
   "source": [
    "data.shape"
   ]
  },
  {
   "cell_type": "code",
   "execution_count": 15,
   "metadata": {},
   "outputs": [
    {
     "data": {
      "text/plain": [
       "([29], [])"
      ]
     },
     "execution_count": 15,
     "metadata": {},
     "output_type": "execute_result"
    }
   ],
   "source": [
    "categorical_columns, ordinal_columns"
   ]
  },
  {
   "cell_type": "code",
   "execution_count": 16,
   "metadata": {},
   "outputs": [
    {
     "name": "stdout",
     "output_type": "stream",
     "text": [
      "0 255491\n",
      "1 256211\n",
      "2 256139\n",
      "3 256197\n",
      "4 256261\n",
      "5 256151\n",
      "6 256231\n",
      "7 256279\n",
      "8 256251\n",
      "9 256227\n",
      "10 256108\n",
      "11 256202\n",
      "12 256207\n",
      "13 256266\n",
      "14 256195\n",
      "15 256188\n",
      "16 256195\n",
      "17 256249\n",
      "18 256225\n",
      "19 256215\n",
      "20 256218\n",
      "21 256145\n",
      "22 256228\n",
      "23 256177\n",
      "24 256147\n",
      "25 256190\n",
      "26 256316\n",
      "27 256286\n",
      "28 31584\n",
      "29 2\n"
     ]
    }
   ],
   "source": [
    "for i in range(data.shape[1]):\n",
    "    print (i, len(np.unique(data[:, i])))"
   ]
  },
  {
   "cell_type": "code",
   "execution_count": 17,
   "metadata": {},
   "outputs": [],
   "source": [
    "u, c = np.unique(data[:, 29], return_counts=True)"
   ]
  },
  {
   "cell_type": "code",
   "execution_count": 18,
   "metadata": {},
   "outputs": [
    {
     "data": {
      "text/plain": [
       "(array([0., 1.], dtype=float32), array([264350,    457]))"
      ]
     },
     "execution_count": 18,
     "metadata": {},
     "output_type": "execute_result"
    }
   ],
   "source": [
    "u, c"
   ]
  },
  {
   "cell_type": "code",
   "execution_count": 19,
   "metadata": {},
   "outputs": [],
   "source": [
    "X0 = data[data[:, 29]==0][:, range(29)]\n",
    "X1 = data[data[:, 29]==1][:, range(29)]\n"
   ]
  },
  {
   "cell_type": "code",
   "execution_count": 20,
   "metadata": {},
   "outputs": [
    {
     "data": {
      "text/plain": [
       "(457, 29)"
      ]
     },
     "execution_count": 20,
     "metadata": {},
     "output_type": "execute_result"
    }
   ],
   "source": [
    "X1.shape"
   ]
  },
  {
   "cell_type": "code",
   "execution_count": 21,
   "metadata": {},
   "outputs": [
    {
     "name": "stdout",
     "output_type": "stream",
     "text": [
      "0 440\n",
      "1 440\n",
      "2 440\n",
      "3 440\n",
      "4 440\n",
      "5 440\n",
      "6 440\n",
      "7 440\n",
      "8 440\n",
      "9 440\n",
      "10 440\n",
      "11 440\n",
      "12 440\n",
      "13 440\n",
      "14 440\n",
      "15 440\n",
      "16 440\n",
      "17 440\n",
      "18 440\n",
      "19 440\n",
      "20 440\n",
      "21 440\n",
      "22 440\n",
      "23 440\n",
      "24 440\n",
      "25 440\n",
      "26 440\n",
      "27 440\n",
      "28 241\n"
     ]
    }
   ],
   "source": [
    "for i in range(X1.shape[1]):\n",
    "    print (i, len(np.unique(X1[:, i])))"
   ]
  },
  {
   "cell_type": "code",
   "execution_count": 34,
   "metadata": {},
   "outputs": [
    {
     "name": "stderr",
     "output_type": "stream",
     "text": [
      "INFO:KDECopulaNNPdf:Processing 29 numerical and 0 categorical columns\n",
      "INFO:KDECopulaNNPdf:Transforming numerical variables.\n",
      "INFO:KDECopulaNNPdf:Configuring Bayesian Network (cat+num).\n",
      "INFO:KDECopulaNNPdf:Configuring classifier.\n",
      "INFO:KDECopulaNNPdf:Generating 250000 data points.\n",
      "Generating for node: 2: 100%|██████████| 29/29 [00:05<00:00,  5.03it/s] \n",
      "INFO:KDECopulaNNPdf:Fitting discriminative learner: selected 29 features.\n",
      "INFO:KDECopulaNNPdf:Calibrating classifier.\n",
      "INFO:KDECopulaNNPdf:Maximum weight found: 1.590677725971067\n"
     ]
    }
   ],
   "source": [
    "kde = KDECopulaNNPdf(\n",
    "    n_quantiles=100,\n",
    "    use_KDE=False, \n",
    "    # categorical_columns=categorical_columns+ordinal_columns,\n",
    "    distinct_threshold=-1,\n",
    "    n_uniform_bins=10,\n",
    "    n_calibration_bins=20,\n",
    "#        clf=clf,\n",
    "#         n_quantiles=100\n",
    "#         ordering='mi',\n",
    ")\n",
    "kde = kde.fit(X1)\n"
   ]
  },
  {
   "cell_type": "code",
   "execution_count": 35,
   "metadata": {},
   "outputs": [
    {
     "name": "stderr",
     "output_type": "stream",
     "text": [
      "INFO:KDECopulaNNPdf:Maximum weight found: 1.590677725971067\n"
     ]
    },
    {
     "data": {
      "image/png": "[encoded data removed]",
      "text/plain": [
       "<Figure size 864x504 with 1 Axes>"
      ]
     },
     "metadata": {
      "needs_background": "light"
     },
     "output_type": "display_data"
    }
   ],
   "source": [
    "kde._calibrate_classifier(kde.hist_p0_, kde.hist_p1_, kde.bin_edges_, validation_plots=True)"
   ]
  },
  {
   "cell_type": "code",
   "execution_count": 72,
   "metadata": {},
   "outputs": [
    {
     "name": "stderr",
     "output_type": "stream",
     "text": [
      "INFO:KDECopulaNNPdf:Generating 457 data points.\n",
      "Generating for node: 16: 100%|██████████| 29/29 [00:00<00:00, 55.10it/s]\n"
     ]
    }
   ],
   "source": [
    "X1_gen = kde.sample_no_weights(X1.shape[0], mode='ignore_weights', show_progress=True)"
   ]
  },
  {
   "cell_type": "code",
   "execution_count": null,
   "metadata": {},
   "outputs": [],
   "source": []
  },
  {
   "cell_type": "code",
   "execution_count": 41,
   "metadata": {},
   "outputs": [
    {
     "name": "stderr",
     "output_type": "stream",
     "text": [
      "INFO:KDECopulaNNPdf:Processing 29 numerical and 0 categorical columns\n",
      "INFO:KDECopulaNNPdf:Transforming numerical variables.\n",
      "INFO:KDECopulaNNPdf:Configuring Bayesian Network (cat+num).\n",
      "INFO:KDECopulaNNPdf:Configuring classifier.\n",
      "INFO:KDECopulaNNPdf:Generating 264350 data points.\n",
      "Generating for node: 16: 100%|██████████| 29/29 [00:06<00:00,  4.66it/s]\n",
      "INFO:KDECopulaNNPdf:Fitting discriminative learner: selected 29 features.\n",
      "INFO:KDECopulaNNPdf:Calibrating classifier.\n",
      "INFO:KDECopulaNNPdf:Maximum weight found: 1220.6715939707274\n"
     ]
    }
   ],
   "source": [
    "kde0 = KDECopulaNNPdf(\n",
    "    n_quantiles=500,\n",
    "    use_KDE=False, \n",
    "    # categorical_columns=categorical_columns+ordinal_columns,\n",
    "    distinct_threshold=-1,\n",
    "    n_uniform_bins=25,\n",
    "#        clf=clf,\n",
    "#         n_quantiles=100\n",
    "#         ordering='mi',\n",
    ")\n",
    "kde0 = kde.fit(X0)\n"
   ]
  },
  {
   "cell_type": "code",
   "execution_count": 73,
   "metadata": {},
   "outputs": [
    {
     "name": "stderr",
     "output_type": "stream",
     "text": [
      "INFO:KDECopulaNNPdf:Generating 264350 data points.\n",
      "Generating for node: 16: 100%|██████████| 29/29 [00:06<00:00,  4.53it/s]\n"
     ]
    }
   ],
   "source": [
    "X0_gen = kde0.sample_no_weights(X0.shape[0], mode='cheap', show_progress=True)"
   ]
  },
  {
   "cell_type": "code",
   "execution_count": 74,
   "metadata": {},
   "outputs": [],
   "source": [
    "X1_gen = np.concatenate([X1_gen, np.ones(X1.shape[0]).reshape(-1, 1)], axis=1)"
   ]
  },
  {
   "cell_type": "code",
   "execution_count": 75,
   "metadata": {},
   "outputs": [],
   "source": [
    "X0_gen = np.concatenate([X0_gen, np.zeros(X0.shape[0]).reshape(-1, 1)], axis=1)"
   ]
  },
  {
   "cell_type": "code",
   "execution_count": 76,
   "metadata": {},
   "outputs": [],
   "source": [
    "X_gen = np.concatenate([X0_gen, X1_gen], axis=0)"
   ]
  },
  {
   "cell_type": "code",
   "execution_count": 98,
   "metadata": {},
   "outputs": [
    {
     "data": {
      "text/plain": [
       "((264807, 30), (264807, 30))"
      ]
     },
     "execution_count": 98,
     "metadata": {},
     "output_type": "execute_result"
    }
   ],
   "source": [
    "X_gen.shape, data.shape"
   ]
  },
  {
   "cell_type": "code",
   "execution_count": 99,
   "metadata": {},
   "outputs": [],
   "source": [
    "import pandas as pd"
   ]
  },
  {
   "cell_type": "code",
   "execution_count": 100,
   "metadata": {},
   "outputs": [],
   "source": [
    "df = pd.DataFrame(data)"
   ]
  },
  {
   "cell_type": "code",
   "execution_count": 101,
   "metadata": {},
   "outputs": [],
   "source": [
    "df.to_csv('credit_gen.csv', index=False)"
   ]
  },
  {
   "cell_type": "markdown",
   "metadata": {},
   "source": [
    "# run sdgym"
   ]
  },
  {
   "cell_type": "code",
   "execution_count": 104,
   "metadata": {},
   "outputs": [],
   "source": [
    "def KDECopulaNNPdf_csv(real_data, categorical_columns, ordinal_columns):\n",
    "    df = pd.read_csv('credit_gen.csv')\n",
    "    X_gen = df.values\n",
    "\n",
    "    print(X_gen[:, :5])\n",
    "\n",
    "    return X_gen"
   ]
  },
  {
   "cell_type": "code",
   "execution_count": 93,
   "metadata": {},
   "outputs": [],
   "source": [
    "def KDECopulaNNPdf_Synthesizer(real_data, categorical_columns, ordinal_columns):\n",
    "    #assert len(categorical_columns + ordinal_columns) <= 1\n",
    "\n",
    "    all_features = list(range(real_data.shape[1]))\n",
    "    numerical_features = list(set(all_features) - set(categorical_columns + ordinal_columns))\n",
    "    data = np.float64(real_data)\n",
    "    \n",
    "    n_samples = data.shape[0]\n",
    "    n_features = data.shape[1]\n",
    "    \n",
    "    clf = xgb.XGBClassifier(\n",
    "        n_estimators=250,\n",
    "        reg_lambda=1,\n",
    "        gamma=0,\n",
    "        max_depth=9\n",
    "    )\n",
    "#     clf = MLPClassifier(alpha=0.1, random_state=0, max_iter=1000, early_stopping=True)\n",
    "    \n",
    "    kde = KDECopulaNNPdf(\n",
    "        use_KDE=False, \n",
    "        categorical_columns=categorical_columns+ordinal_columns,\n",
    "        distinct_threshold=-1,\n",
    "        n_bins=25,\n",
    "#        clf=clf,\n",
    "#         n_quantiles=100\n",
    "#         ordering='mi',\n",
    "    )\n",
    "    kde = kde.fit(data)\n",
    "    \n",
    "#     X_gen, sample_weight = kde.sample(n_samples)\n",
    "    X_gen = kde.sample_no_weights(n_samples, show_progress=True, mode='cheap')\n",
    "    \n",
    "    X_gen[:, categorical_columns+ordinal_columns] = np.round(X_gen[:, categorical_columns+ordinal_columns])\n",
    "    X_gen = np.float32(X_gen)\n",
    "    \n",
    "    print(X_gen[:, :5])\n",
    "\n",
    "    return X_gen"
   ]
  },
  {
   "cell_type": "code",
   "execution_count": 94,
   "metadata": {},
   "outputs": [],
   "source": [
    "def KDECopulaNNPdf_SynthesizerInteger(real_data, categorical_columns, ordinal_columns):\n",
    "    data = KDECopulaNNPdf_Synthesizer(real_data, categorical_columns, ordinal_columns)\n",
    "    data = np.round(data)\n",
    "    \n",
    "    print(data[:, :5])\n",
    "\n",
    "    return data"
   ]
  },
  {
   "cell_type": "code",
   "execution_count": 109,
   "metadata": {},
   "outputs": [],
   "source": [
    "from sdgym.synthesizers import (\n",
    "    CLBNSynthesizer, CTGANSynthesizer, IdentitySynthesizer, IndependentSynthesizer,\n",
    "    MedganSynthesizer, PrivBNSynthesizer, TableganSynthesizer, TVAESynthesizer,\n",
    "    UniformSynthesizer, VEEGANSynthesizer)\n",
    "\n",
    "all_synthesizers = [\n",
    "#    IdentitySynthesizer,\n",
    "#    IndependentSynthesizer,\n",
    "#    KDECopulaNNPdf_Synthesizer,\n",
    "#     KDECopulaNNPdf_SynthesizerInteger,\n",
    "    KDECopulaNNPdf_csv,\n",
    "]"
   ]
  },
  {
   "cell_type": "code",
   "execution_count": 110,
   "metadata": {
    "scrolled": false
   },
   "outputs": [
    {
     "name": "stderr",
     "output_type": "stream",
     "text": [
      "INFO:sdgym.benchmark:0%|          | 0/2 [00:00<?, ?it/s]\n",
      "INFO:sdgym.benchmark:Evaluating KDECopulaNNPdf_csv on dataset credit; iteration 0; 1.08 GB\n",
      "INFO:sdgym.data:Loading dataset credit (all variables, -1 distinct values threshold)\n",
      "INFO:sdgym.data:Columns to zero-code: []\n",
      "INFO:sdgym.benchmark:Running KDECopulaNNPdf_csv on dataset credit; iteration 0; 930.07 MB\n",
      "INFO:sdgym.benchmark:Scoring KDECopulaNNPdf_csv on dataset credit; iteration 0; 1 GB\n"
     ]
    },
    {
     "name": "stdout",
     "output_type": "stream",
     "text": [
      "[[-0.32333356  1.0574553  -0.04834115 -0.6072043   1.2598212 ]\n",
      " [-0.3497184   0.93261856  0.14299203 -0.65707123  1.1697835 ]\n",
      " [-1.6147108  -2.4065697   0.32619393  0.6655196   2.3692677 ]\n",
      " ...\n",
      " [ 1.7534014  -0.54023844 -0.99612343  0.45971587 -0.10766458]\n",
      " [-0.7671734   1.0007492  -1.2829502  -1.8476053   0.06988677]\n",
      " [ 1.9446427  -0.5182767   0.1387495   0.38508523 -0.8516984 ]]\n"
     ]
    },
    {
     "name": "stderr",
     "output_type": "stream",
     "text": [
      "INFO:sdgym.evaluate:Evaluating using binary classifier DecisionTreeClassifier\n",
      "INFO:sdgym.evaluate:Evaluating using binary classifier AdaBoostClassifier\n",
      "INFO:sdgym.evaluate:Evaluating using binary classifier LogisticRegression\n",
      "INFO:sdgym.evaluate:Evaluating using binary classifier MLPClassifier\n",
      "INFO:sdgym.benchmark:Finished KDECopulaNNPdf_csv on dataset credit; iteration 0; 1.1 GB\n",
      "INFO:sdgym.benchmark:50%|#####     | 1/2 [00:52<00:52, 52.89s/it]\n",
      "INFO:sdgym.benchmark:Evaluating KDECopulaNNPdf_data on dataset credit; iteration 0; 1.09 GB\n",
      "INFO:sdgym.data:Loading dataset credit (all variables, -1 distinct values threshold)\n",
      "INFO:sdgym.data:Columns to zero-code: []\n",
      "INFO:sdgym.benchmark:Running KDECopulaNNPdf_data on dataset credit; iteration 0; 930.07 MB\n",
      "INFO:sdgym.benchmark:Scoring KDECopulaNNPdf_data on dataset credit; iteration 0; 1 GB\n"
     ]
    },
    {
     "name": "stdout",
     "output_type": "stream",
     "text": [
      "[[-0.32333356  1.0574553  -0.04834115 -0.6072043   1.2598212 ]\n",
      " [-0.3497184   0.93261856  0.14299203 -0.65707123  1.1697835 ]\n",
      " [-1.6147108  -2.4065697   0.32619393  0.6655196   2.3692677 ]\n",
      " ...\n",
      " [ 1.7534014  -0.54023844 -0.99612343  0.45971587 -0.10766458]\n",
      " [-0.7671734   1.0007492  -1.2829502  -1.8476053   0.06988677]\n",
      " [ 1.9446427  -0.5182767   0.1387495   0.38508523 -0.8516984 ]]\n"
     ]
    },
    {
     "name": "stderr",
     "output_type": "stream",
     "text": [
      "INFO:sdgym.evaluate:Evaluating using binary classifier DecisionTreeClassifier\n",
      "INFO:sdgym.evaluate:Evaluating using binary classifier AdaBoostClassifier\n",
      "INFO:sdgym.evaluate:Evaluating using binary classifier LogisticRegression\n",
      "INFO:sdgym.evaluate:Evaluating using binary classifier MLPClassifier\n",
      "INFO:sdgym.benchmark:Finished KDECopulaNNPdf_data on dataset credit; iteration 0; 1.1 GB\n",
      "INFO:sdgym.benchmark:100%|##########| 2/2 [01:43<00:00, 51.37s/it]\n",
      "INFO:sdgym.benchmark:100%|##########| 2/2 [01:43<00:00, 51.60s/it]\n"
     ]
    }
   ],
   "source": [
    "scores = sdgym.run(synthesizers=all_synthesizers, datasets=[dataset_name], iterations=1)"
   ]
  },
  {
   "cell_type": "code",
   "execution_count": 111,
   "metadata": {},
   "outputs": [
    {
     "data": {
      "text/html": [
       "<div>\n",
       "<style scoped>\n",
       "    .dataframe tbody tr th:only-of-type {\n",
       "        vertical-align: middle;\n",
       "    }\n",
       "\n",
       "    .dataframe tbody tr th {\n",
       "        vertical-align: top;\n",
       "    }\n",
       "\n",
       "    .dataframe thead th {\n",
       "        text-align: right;\n",
       "    }\n",
       "</style>\n",
       "<table border=\"1\" class=\"dataframe\">\n",
       "  <thead>\n",
       "    <tr style=\"text-align: right;\">\n",
       "      <th></th>\n",
       "      <th>credit/accuracy</th>\n",
       "      <th>credit/f1</th>\n",
       "      <th>timestamp</th>\n",
       "    </tr>\n",
       "  </thead>\n",
       "  <tbody>\n",
       "    <tr>\n",
       "      <th>VEEGANSynthesizer</th>\n",
       "      <td>0.876258</td>\n",
       "      <td>0.166030</td>\n",
       "      <td>2020-04-12 09:41:35.096775</td>\n",
       "    </tr>\n",
       "    <tr>\n",
       "      <th>CLBNSynthesizer</th>\n",
       "      <td>0.997938</td>\n",
       "      <td>0.440643</td>\n",
       "      <td>2020-10-17 09:46:54.494331</td>\n",
       "    </tr>\n",
       "    <tr>\n",
       "      <th>CTGAN</th>\n",
       "      <td>0.997733</td>\n",
       "      <td>0.659771</td>\n",
       "      <td>2020-10-17 09:46:54.494331</td>\n",
       "    </tr>\n",
       "    <tr>\n",
       "      <th>CTGANSynthesizer</th>\n",
       "      <td>0.993329</td>\n",
       "      <td>0.523338</td>\n",
       "      <td>2020-10-17 09:46:54.494331</td>\n",
       "    </tr>\n",
       "    <tr>\n",
       "      <th>CopulaGAN</th>\n",
       "      <td>0.998663</td>\n",
       "      <td>0.717449</td>\n",
       "      <td>2020-10-17 09:46:54.494331</td>\n",
       "    </tr>\n",
       "    <tr>\n",
       "      <th>GaussianCopulaCategorical</th>\n",
       "      <td>0.998250</td>\n",
       "      <td>0.000000</td>\n",
       "      <td>2020-10-17 09:46:54.494331</td>\n",
       "    </tr>\n",
       "    <tr>\n",
       "      <th>GaussianCopulaCategoricalFuzzy</th>\n",
       "      <td>0.981504</td>\n",
       "      <td>0.010344</td>\n",
       "      <td>2020-10-17 09:46:54.494331</td>\n",
       "    </tr>\n",
       "    <tr>\n",
       "      <th>GaussianCopulaOneHot</th>\n",
       "      <td>0.998250</td>\n",
       "      <td>0.000000</td>\n",
       "      <td>2020-10-17 09:46:54.494331</td>\n",
       "    </tr>\n",
       "    <tr>\n",
       "      <th>IdentitySynthesizer</th>\n",
       "      <td>0.992483</td>\n",
       "      <td>0.545018</td>\n",
       "      <td>2020-10-17 09:46:54.494331</td>\n",
       "    </tr>\n",
       "    <tr>\n",
       "      <th>IndependentSynthesizer</th>\n",
       "      <td>0.875417</td>\n",
       "      <td>0.001836</td>\n",
       "      <td>2020-10-17 09:46:54.494331</td>\n",
       "    </tr>\n",
       "    <tr>\n",
       "      <th>MedganSynthesizer</th>\n",
       "      <td>0.938679</td>\n",
       "      <td>0.024403</td>\n",
       "      <td>2020-10-17 09:46:54.494331</td>\n",
       "    </tr>\n",
       "    <tr>\n",
       "      <th>PrivBNSynthesizer</th>\n",
       "      <td>0.960121</td>\n",
       "      <td>0.010973</td>\n",
       "      <td>2020-10-17 09:46:54.494331</td>\n",
       "    </tr>\n",
       "    <tr>\n",
       "      <th>TVAESynthesizer</th>\n",
       "      <td>0.998250</td>\n",
       "      <td>0.000000</td>\n",
       "      <td>2020-10-17 09:46:54.494331</td>\n",
       "    </tr>\n",
       "    <tr>\n",
       "      <th>TableganSynthesizer</th>\n",
       "      <td>0.995367</td>\n",
       "      <td>0.270299</td>\n",
       "      <td>2020-10-17 09:46:54.494331</td>\n",
       "    </tr>\n",
       "    <tr>\n",
       "      <th>UniformSynthesizer</th>\n",
       "      <td>0.565312</td>\n",
       "      <td>0.011652</td>\n",
       "      <td>2020-10-17 09:46:54.494331</td>\n",
       "    </tr>\n",
       "    <tr>\n",
       "      <th>KDECopulaNNPdf_csv</th>\n",
       "      <td>0.992775</td>\n",
       "      <td>0.563806</td>\n",
       "      <td>2021-05-14 14:27:08.878581</td>\n",
       "    </tr>\n",
       "    <tr>\n",
       "      <th>KDECopulaNNPdf_data</th>\n",
       "      <td>0.994187</td>\n",
       "      <td>0.580388</td>\n",
       "      <td>2021-05-14 14:27:08.878581</td>\n",
       "    </tr>\n",
       "  </tbody>\n",
       "</table>\n",
       "</div>"
      ],
      "text/plain": [
       "                                credit/accuracy  credit/f1  \\\n",
       "VEEGANSynthesizer                      0.876258   0.166030   \n",
       "CLBNSynthesizer                        0.997938   0.440643   \n",
       "CTGAN                                  0.997733   0.659771   \n",
       "CTGANSynthesizer                       0.993329   0.523338   \n",
       "CopulaGAN                              0.998663   0.717449   \n",
       "GaussianCopulaCategorical              0.998250   0.000000   \n",
       "GaussianCopulaCategoricalFuzzy         0.981504   0.010344   \n",
       "GaussianCopulaOneHot                   0.998250   0.000000   \n",
       "IdentitySynthesizer                    0.992483   0.545018   \n",
       "IndependentSynthesizer                 0.875417   0.001836   \n",
       "MedganSynthesizer                      0.938679   0.024403   \n",
       "PrivBNSynthesizer                      0.960121   0.010973   \n",
       "TVAESynthesizer                        0.998250   0.000000   \n",
       "TableganSynthesizer                    0.995367   0.270299   \n",
       "UniformSynthesizer                     0.565312   0.011652   \n",
       "KDECopulaNNPdf_csv                     0.992775   0.563806   \n",
       "KDECopulaNNPdf_data                    0.994187   0.580388   \n",
       "\n",
       "                                                timestamp  \n",
       "VEEGANSynthesizer              2020-04-12 09:41:35.096775  \n",
       "CLBNSynthesizer                2020-10-17 09:46:54.494331  \n",
       "CTGAN                          2020-10-17 09:46:54.494331  \n",
       "CTGANSynthesizer               2020-10-17 09:46:54.494331  \n",
       "CopulaGAN                      2020-10-17 09:46:54.494331  \n",
       "GaussianCopulaCategorical      2020-10-17 09:46:54.494331  \n",
       "GaussianCopulaCategoricalFuzzy 2020-10-17 09:46:54.494331  \n",
       "GaussianCopulaOneHot           2020-10-17 09:46:54.494331  \n",
       "IdentitySynthesizer            2020-10-17 09:46:54.494331  \n",
       "IndependentSynthesizer         2020-10-17 09:46:54.494331  \n",
       "MedganSynthesizer              2020-10-17 09:46:54.494331  \n",
       "PrivBNSynthesizer              2020-10-17 09:46:54.494331  \n",
       "TVAESynthesizer                2020-10-17 09:46:54.494331  \n",
       "TableganSynthesizer            2020-10-17 09:46:54.494331  \n",
       "UniformSynthesizer             2020-10-17 09:46:54.494331  \n",
       "KDECopulaNNPdf_csv             2021-05-14 14:27:08.878581  \n",
       "KDECopulaNNPdf_data            2021-05-14 14:27:08.878581  "
      ]
     },
     "execution_count": 111,
     "metadata": {},
     "output_type": "execute_result"
    }
   ],
   "source": [
    "scores"
   ]
  }
 ],
 "metadata": {
  "kernelspec": {
   "display_name": "Python 3",
   "language": "python",
   "name": "python3"
  },
  "language_info": {
   "codemirror_mode": {
    "name": "ipython",
    "version": 3
   },
   "file_extension": ".py",
   "mimetype": "text/x-python",
   "name": "python",
   "nbconvert_exporter": "python",
   "pygments_lexer": "ipython3",
   "version": "3.8.5"
  }
 },
 "nbformat": 4,
 "nbformat_minor": 4
}
