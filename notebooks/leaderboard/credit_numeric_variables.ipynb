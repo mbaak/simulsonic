{
 "cells": [
  {
   "cell_type": "code",
   "execution_count": 1,
   "metadata": {},
   "outputs": [],
   "source": [
    "%load_ext autoreload\n",
    "%autoreload 2"
   ]
  },
  {
   "cell_type": "code",
   "execution_count": null,
   "metadata": {},
   "outputs": [],
   "source": [
    "!pip install -q -U git+https://github.com/sbrugman/SDGym.git@v0.2.2-hw"
   ]
  },
  {
   "cell_type": "code",
   "execution_count": null,
   "metadata": {},
   "outputs": [],
   "source": [
    "!pip install -q -U ../../"
   ]
  },
  {
   "cell_type": "code",
   "execution_count": 2,
   "metadata": {},
   "outputs": [],
   "source": [
    "from timeit import default_timer as timer\n",
    "from functools import partial\n",
    "from random import choices\n",
    "import logging"
   ]
  },
  {
   "cell_type": "code",
   "execution_count": 3,
   "metadata": {},
   "outputs": [],
   "source": [
    "import sdgym\n",
    "from sdgym import load_dataset\n",
    "from sdgym import benchmark\n",
    "from sdgym import load_dataset"
   ]
  },
  {
   "cell_type": "code",
   "execution_count": 4,
   "metadata": {},
   "outputs": [],
   "source": [
    "import numpy as np\n",
    "import pandas as pd\n",
    "import matplotlib.pyplot as plt\n",
    "import networkx as nx"
   ]
  },
  {
   "cell_type": "code",
   "execution_count": 5,
   "metadata": {},
   "outputs": [],
   "source": [
    "import pgmpy\n",
    "\n",
    "from pgmpy.models import BayesianModel\n",
    "from pgmpy.estimators import TreeSearch, HillClimbSearch, BicScore, ExhaustiveSearch, BayesianEstimator\n",
    "from pgmpy.sampling import BayesianModelSampling"
   ]
  },
  {
   "cell_type": "code",
   "execution_count": 6,
   "metadata": {},
   "outputs": [],
   "source": [
    "import xgboost as xgb\n",
    "from xgboost import XGBClassifier"
   ]
  },
  {
   "cell_type": "code",
   "execution_count": 7,
   "metadata": {},
   "outputs": [],
   "source": [
    "from sklearn.neural_network import MLPClassifier\n",
    "from sklearn.svm import SVC\n",
    "from sklearn.model_selection import train_test_split\n",
    "from sklearn.isotonic import IsotonicRegression"
   ]
  },
  {
   "cell_type": "code",
   "execution_count": 8,
   "metadata": {},
   "outputs": [],
   "source": [
    "from scipy import interpolate"
   ]
  },
  {
   "cell_type": "code",
   "execution_count": 9,
   "metadata": {},
   "outputs": [],
   "source": [
    "from synthsonic.models.kde_utils import kde_smooth_peaks_1dim, kde_smooth_peaks\n",
    "from synthsonic.models.kde_copula_nn_pdf import KDECopulaNNPdf"
   ]
  },
  {
   "cell_type": "code",
   "execution_count": 10,
   "metadata": {},
   "outputs": [],
   "source": [
    "import matplotlib.pyplot as plt\n",
    "%matplotlib inline"
   ]
  },
  {
   "cell_type": "code",
   "execution_count": 11,
   "metadata": {},
   "outputs": [],
   "source": [
    "logging.basicConfig(level=logging.INFO)"
   ]
  },
  {
   "cell_type": "code",
   "execution_count": 12,
   "metadata": {},
   "outputs": [],
   "source": [
    "dataset_name = 'credit_numeric'"
   ]
  },
  {
   "cell_type": "code",
   "execution_count": 13,
   "metadata": {},
   "outputs": [
    {
     "name": "stderr",
     "output_type": "stream",
     "text": [
      "INFO:sdgym.data:Loading dataset credit (numeric variables, -1 distinct values threshold)\n",
      "INFO:sdgym.data:Downloading file http://sdgym.s3.amazonaws.com/datasets/credit.npz to /Users/maxbaak/Projects/SDGym_v0.2.2-hw/sdgym/data/credit.npz\n",
      "INFO:sdgym.data:Downloading file http://sdgym.s3.amazonaws.com/datasets/credit.json to /Users/maxbaak/Projects/SDGym_v0.2.2-hw/sdgym/data/credit.json\n",
      "INFO:sdgym.data:Columns to zero-code: []\n"
     ]
    }
   ],
   "source": [
    "data, categorical_columns, ordinal_columns = load_dataset(dataset_name)"
   ]
  },
  {
   "cell_type": "code",
   "execution_count": 14,
   "metadata": {},
   "outputs": [
    {
     "data": {
      "text/plain": [
       "(264807, 30)"
      ]
     },
     "execution_count": 14,
     "metadata": {},
     "output_type": "execute_result"
    }
   ],
   "source": [
    "data.shape"
   ]
  },
  {
   "cell_type": "code",
   "execution_count": 15,
   "metadata": {},
   "outputs": [
    {
     "data": {
      "text/plain": [
       "([], [])"
      ]
     },
     "execution_count": 15,
     "metadata": {},
     "output_type": "execute_result"
    }
   ],
   "source": [
    "categorical_columns, ordinal_columns"
   ]
  },
  {
   "cell_type": "code",
   "execution_count": 16,
   "metadata": {},
   "outputs": [
    {
     "name": "stdout",
     "output_type": "stream",
     "text": [
      "0 255491\n",
      "1 256211\n",
      "2 256139\n",
      "3 256197\n",
      "4 256261\n",
      "5 256151\n",
      "6 256231\n",
      "7 256279\n",
      "8 256251\n",
      "9 256227\n",
      "10 256108\n",
      "11 256202\n",
      "12 256207\n",
      "13 256266\n",
      "14 256195\n",
      "15 256188\n",
      "16 256195\n",
      "17 256249\n",
      "18 256225\n",
      "19 256215\n",
      "20 256218\n",
      "21 256145\n",
      "22 256228\n",
      "23 256177\n",
      "24 256147\n",
      "25 256190\n",
      "26 256316\n",
      "27 256286\n",
      "28 31584\n",
      "29 2\n"
     ]
    }
   ],
   "source": [
    "for i in range(data.shape[1]):\n",
    "    print (i, len(np.unique(data[:, i])))"
   ]
  },
  {
   "cell_type": "markdown",
   "metadata": {},
   "source": [
    "# run sdgym"
   ]
  },
  {
   "cell_type": "code",
   "execution_count": 17,
   "metadata": {},
   "outputs": [],
   "source": [
    "def KDECopulaNNPdf_Synthesizer(real_data, categorical_columns, ordinal_columns):\n",
    "    #assert len(categorical_columns + ordinal_columns) <= 1\n",
    "\n",
    "    all_features = list(range(real_data.shape[1]))\n",
    "    numerical_features = list(set(all_features) - set(categorical_columns + ordinal_columns))\n",
    "    data = np.float64(real_data)\n",
    "    \n",
    "    n_samples = data.shape[0]\n",
    "    n_features = data.shape[1]\n",
    "    \n",
    "    clf = xgb.XGBClassifier(\n",
    "        n_estimators=250,\n",
    "        reg_lambda=1,\n",
    "        gamma=0,\n",
    "        max_depth=9\n",
    "    )\n",
    "#     clf = MLPClassifier(alpha=0.1, random_state=0, max_iter=1000, early_stopping=True)\n",
    "    \n",
    "    kde = KDECopulaNNPdf(\n",
    "        use_KDE=False, \n",
    "        categorical_columns=categorical_columns+ordinal_columns+[29],\n",
    "        distinct_threshold=-1,\n",
    "        n_bins=25,\n",
    "#        clf=clf,\n",
    "#         n_quantiles=100\n",
    "#         ordering='mi',\n",
    "    )\n",
    "    kde = kde.fit(data)\n",
    "    \n",
    "#     X_gen, sample_weight = kde.sample(n_samples)\n",
    "    X_gen = kde.sample_no_weights(n_samples, show_progress=True, mode='cheap')\n",
    "    \n",
    "    X_gen[:, categorical_columns+ordinal_columns] = np.round(X_gen[:, categorical_columns+ordinal_columns])\n",
    "    X_gen = np.float32(X_gen)\n",
    "    \n",
    "    print(X_gen[:, :5])\n",
    "\n",
    "    return X_gen"
   ]
  },
  {
   "cell_type": "code",
   "execution_count": 18,
   "metadata": {},
   "outputs": [],
   "source": [
    "def KDECopulaNNPdf_SynthesizerInteger(real_data, categorical_columns, ordinal_columns):\n",
    "    data = KDECopulaNNPdf_Synthesizer(real_data, categorical_columns, ordinal_columns)\n",
    "    data = np.round(data)\n",
    "    \n",
    "    print(data[:, :5])\n",
    "\n",
    "    return data"
   ]
  },
  {
   "cell_type": "code",
   "execution_count": 19,
   "metadata": {},
   "outputs": [],
   "source": [
    "from sdgym.synthesizers import (\n",
    "    CLBNSynthesizer, CTGANSynthesizer, IdentitySynthesizer, IndependentSynthesizer,\n",
    "    MedganSynthesizer, PrivBNSynthesizer, TableganSynthesizer, TVAESynthesizer,\n",
    "    UniformSynthesizer, VEEGANSynthesizer)\n",
    "\n",
    "all_synthesizers = [\n",
    "    IdentitySynthesizer,\n",
    "#    IndependentSynthesizer,\n",
    "    KDECopulaNNPdf_Synthesizer,\n",
    "#     KDECopulaNNPdf_SynthesizerInteger,\n",
    "]"
   ]
  },
  {
   "cell_type": "code",
   "execution_count": 20,
   "metadata": {
    "scrolled": false
   },
   "outputs": [
    {
     "name": "stderr",
     "output_type": "stream",
     "text": [
      "INFO:sdgym.benchmark:0%|          | 0/2 [00:00<?, ?it/s]\n",
      "INFO:sdgym.benchmark:Evaluating IdentitySynthesizer on dataset credit_numeric; iteration 0; 373.56 MB\n",
      "INFO:sdgym.data:Loading dataset credit (numeric variables, -1 distinct values threshold)\n",
      "INFO:sdgym.data:Columns to zero-code: []\n",
      "INFO:sdgym.benchmark:Running IdentitySynthesizer on dataset credit_numeric; iteration 0; 411.16 MB\n",
      "INFO:sdgym.synthesizers.base:Fitting IdentitySynthesizer\n",
      "INFO:sdgym.synthesizers.base:Sampling IdentitySynthesizer\n",
      "INFO:sdgym.benchmark:Scoring IdentitySynthesizer on dataset credit_numeric; iteration 0; 443.7 MB\n",
      "INFO:sdgym.evaluate:Evaluating using binary classifier DecisionTreeClassifier\n",
      "INFO:sdgym.evaluate:Evaluating using binary classifier AdaBoostClassifier\n",
      "INFO:sdgym.evaluate:Evaluating using binary classifier LogisticRegression\n",
      "INFO:sdgym.evaluate:Evaluating using binary classifier MLPClassifier\n",
      "INFO:sdgym.benchmark:Finished IdentitySynthesizer on dataset credit_numeric; iteration 0; 585.24 MB\n",
      "INFO:sdgym.benchmark:50%|#####     | 1/2 [00:47<00:47, 47.01s/it]\n",
      "INFO:sdgym.benchmark:Evaluating KDECopulaNNPdf_Synthesizer on dataset credit_numeric; iteration 0; 578.51 MB\n",
      "INFO:sdgym.data:Loading dataset credit (numeric variables, -1 distinct values threshold)\n",
      "INFO:sdgym.data:Columns to zero-code: []\n",
      "INFO:sdgym.benchmark:Running KDECopulaNNPdf_Synthesizer on dataset credit_numeric; iteration 0; 449.07 MB\n",
      "INFO:KDECopulaNNPdf:Processing 29 numerical and 1 categorical columns\n",
      "INFO:KDECopulaNNPdf:Transforming numerical variables.\n",
      "INFO:KDECopulaNNPdf:Configuring Bayesian Network (cat+num).\n",
      "INFO:KDECopulaNNPdf:Configuring classifier.\n",
      "INFO:KDECopulaNNPdf:Generating 264807 data points.\n",
      "\n",
      "  0%|          | 0/30 [00:00<?, ?it/s]\u001b[A\n",
      "Generating for node: 1:   0%|          | 0/30 [00:00<?, ?it/s]\u001b[A\n",
      "Generating for node: 0:   0%|          | 0/30 [00:00<?, ?it/s]\u001b[A\n",
      "Generating for node: 0:   7%|▋         | 2/30 [00:00<00:02, 12.69it/s]\u001b[A\n",
      "Generating for node: 3:   7%|▋         | 2/30 [00:00<00:02, 12.69it/s]\u001b[A\n",
      "Generating for node: 8:   7%|▋         | 2/30 [00:00<00:02, 12.69it/s]\u001b[A\n",
      "Generating for node: 8:  13%|█▎        | 4/30 [00:01<00:07,  3.48it/s]\u001b[A\n",
      "Generating for node: 20:  13%|█▎        | 4/30 [00:01<00:07,  3.48it/s]\u001b[A\n",
      "Generating for node: 20:  17%|█▋        | 5/30 [00:01<00:09,  2.69it/s]\u001b[A\n",
      "Generating for node: 2:  17%|█▋        | 5/30 [00:01<00:09,  2.69it/s] \u001b[A\n",
      "Generating for node: 2:  20%|██        | 6/30 [00:02<00:09,  2.62it/s]\u001b[A\n",
      "Generating for node: 23:  20%|██        | 6/30 [00:02<00:09,  2.62it/s]\u001b[A\n",
      "Generating for node: 23:  23%|██▎       | 7/30 [00:02<00:08,  2.57it/s]\u001b[A\n",
      "Generating for node: 27:  23%|██▎       | 7/30 [00:02<00:08,  2.57it/s]\u001b[A\n",
      "Generating for node: 27:  27%|██▋       | 8/30 [00:02<00:08,  2.60it/s]\u001b[A\n",
      "Generating for node: 26:  27%|██▋       | 8/30 [00:02<00:08,  2.60it/s]\u001b[A\n",
      "Generating for node: 26:  30%|███       | 9/30 [00:03<00:08,  2.60it/s]\u001b[A\n",
      "Generating for node: 4:  30%|███       | 9/30 [00:03<00:08,  2.60it/s] \u001b[A\n",
      "Generating for node: 4:  33%|███▎      | 10/30 [00:03<00:07,  2.60it/s]\u001b[A\n",
      "Generating for node: 21:  33%|███▎      | 10/30 [00:03<00:07,  2.60it/s]\u001b[A\n",
      "Generating for node: 21:  37%|███▋      | 11/30 [00:03<00:07,  2.63it/s]\u001b[A\n",
      "Generating for node: 9:  37%|███▋      | 11/30 [00:03<00:07,  2.63it/s] \u001b[A\n",
      "Generating for node: 9:  40%|████      | 12/30 [00:04<00:06,  2.65it/s]\u001b[A\n",
      "Generating for node: 17:  40%|████      | 12/30 [00:04<00:06,  2.65it/s]\u001b[A\n",
      "Generating for node: 17:  43%|████▎     | 13/30 [00:04<00:06,  2.66it/s]\u001b[A\n",
      "Generating for node: 18:  43%|████▎     | 13/30 [00:04<00:06,  2.66it/s]\u001b[A\n",
      "Generating for node: 18:  47%|████▋     | 14/30 [00:05<00:06,  2.65it/s]\u001b[A\n",
      "Generating for node: 15:  47%|████▋     | 14/30 [00:05<00:06,  2.65it/s]\u001b[A\n",
      "Generating for node: 15:  50%|█████     | 15/30 [00:05<00:05,  2.68it/s]\u001b[A\n",
      "Generating for node: 16:  50%|█████     | 15/30 [00:05<00:05,  2.68it/s]\u001b[A\n",
      "Generating for node: 16:  53%|█████▎    | 16/30 [00:05<00:05,  2.69it/s]\u001b[A\n",
      "Generating for node: 13:  53%|█████▎    | 16/30 [00:05<00:05,  2.69it/s]\u001b[A\n",
      "Generating for node: 13:  57%|█████▋    | 17/30 [00:06<00:04,  2.69it/s]\u001b[A\n",
      "Generating for node: 19:  57%|█████▋    | 17/30 [00:06<00:04,  2.69it/s]\u001b[A\n",
      "Generating for node: 19:  60%|██████    | 18/30 [00:06<00:04,  2.69it/s]\u001b[A\n",
      "Generating for node: 6:  60%|██████    | 18/30 [00:06<00:04,  2.69it/s] \u001b[A\n",
      "Generating for node: 6:  63%|██████▎   | 19/30 [00:07<00:04,  2.44it/s]\u001b[A\n",
      "Generating for node: 10:  63%|██████▎   | 19/30 [00:07<00:04,  2.44it/s]\u001b[A\n",
      "Generating for node: 10:  67%|██████▋   | 20/30 [00:07<00:04,  2.49it/s]\u001b[A\n",
      "Generating for node: 5:  67%|██████▋   | 20/30 [00:07<00:04,  2.49it/s] \u001b[A\n",
      "Generating for node: 5:  70%|███████   | 21/30 [00:07<00:03,  2.54it/s]\u001b[A\n",
      "Generating for node: 12:  70%|███████   | 21/30 [00:07<00:03,  2.54it/s]\u001b[A\n",
      "Generating for node: 12:  73%|███████▎  | 22/30 [00:08<00:03,  2.57it/s]\u001b[A\n",
      "Generating for node: 14:  73%|███████▎  | 22/30 [00:08<00:03,  2.57it/s]\u001b[A\n",
      "Generating for node: 14:  77%|███████▋  | 23/30 [00:08<00:02,  2.62it/s]\u001b[A\n",
      "Generating for node: 11:  77%|███████▋  | 23/30 [00:08<00:02,  2.62it/s]\u001b[A\n",
      "Generating for node: 11:  80%|████████  | 24/30 [00:08<00:02,  2.58it/s]\u001b[A\n",
      "Generating for node: 25:  80%|████████  | 24/30 [00:08<00:02,  2.58it/s]\u001b[A\n",
      "Generating for node: 25:  83%|████████▎ | 25/30 [00:09<00:02,  2.46it/s]\u001b[A\n",
      "Generating for node: 28:  83%|████████▎ | 25/30 [00:09<00:02,  2.46it/s]\u001b[A\n",
      "Generating for node: 28:  87%|████████▋ | 26/30 [00:09<00:01,  2.40it/s]\u001b[A\n",
      "Generating for node: 29:  87%|████████▋ | 26/30 [00:09<00:01,  2.40it/s]\u001b[A\n",
      "Generating for node: 29:  90%|█████████ | 27/30 [00:10<00:01,  2.64it/s]\u001b[A\n",
      "Generating for node: 22:  90%|█████████ | 27/30 [00:10<00:01,  2.64it/s]\u001b[A\n",
      "Generating for node: 22:  93%|█████████▎| 28/30 [00:10<00:00,  2.38it/s]\u001b[A\n",
      "Generating for node: 7:  93%|█████████▎| 28/30 [00:10<00:00,  2.38it/s] \u001b[A\n",
      "Generating for node: 7:  97%|█████████▋| 29/30 [00:11<00:00,  2.37it/s]\u001b[A\n",
      "Generating for node: 24:  97%|█████████▋| 29/30 [00:11<00:00,  2.37it/s]\u001b[A\n",
      "Generating for node: 24: 100%|██████████| 30/30 [00:11<00:00,  2.60it/s]\u001b[A\n",
      "INFO:KDECopulaNNPdf:Fitting discriminative learner: selected 30 features.\n",
      "INFO:KDECopulaNNPdf:Calibrating classifier.\n",
      "INFO:KDECopulaNNPdf:Maximum weight found: 2719.4825685098103\n",
      "INFO:KDECopulaNNPdf:Generating 264807 data points.\n",
      "\n",
      "  0%|          | 0/30 [00:00<?, ?it/s]\u001b[A\n",
      "Generating for node: 1:   0%|          | 0/30 [00:00<?, ?it/s]\u001b[A\n",
      "Generating for node: 0:   0%|          | 0/30 [00:00<?, ?it/s]\u001b[A\n",
      "Generating for node: 0:   7%|▋         | 2/30 [00:00<00:04,  6.93it/s]\u001b[A\n",
      "Generating for node: 3:   7%|▋         | 2/30 [00:00<00:04,  6.93it/s]\u001b[A\n",
      "Generating for node: 3:  10%|█         | 3/30 [00:00<00:07,  3.65it/s]\u001b[A\n",
      "Generating for node: 8:  10%|█         | 3/30 [00:00<00:07,  3.65it/s]\u001b[A\n",
      "Generating for node: 8:  13%|█▎        | 4/30 [00:01<00:08,  2.94it/s]\u001b[A\n",
      "Generating for node: 20:  13%|█▎        | 4/30 [00:01<00:08,  2.94it/s]\u001b[A\n",
      "Generating for node: 20:  17%|█▋        | 5/30 [00:01<00:09,  2.77it/s]\u001b[A\n",
      "Generating for node: 2:  17%|█▋        | 5/30 [00:01<00:09,  2.77it/s] \u001b[A\n",
      "Generating for node: 2:  20%|██        | 6/30 [00:02<00:09,  2.64it/s]\u001b[A\n",
      "Generating for node: 23:  20%|██        | 6/30 [00:02<00:09,  2.64it/s]\u001b[A\n",
      "Generating for node: 23:  23%|██▎       | 7/30 [00:02<00:08,  2.60it/s]\u001b[A\n",
      "Generating for node: 27:  23%|██▎       | 7/30 [00:02<00:08,  2.60it/s]\u001b[A\n",
      "Generating for node: 27:  27%|██▋       | 8/30 [00:03<00:09,  2.21it/s]\u001b[A\n",
      "Generating for node: 26:  27%|██▋       | 8/30 [00:03<00:09,  2.21it/s]\u001b[A\n",
      "Generating for node: 26:  30%|███       | 9/30 [00:03<00:09,  2.24it/s]\u001b[A\n",
      "Generating for node: 4:  30%|███       | 9/30 [00:03<00:09,  2.24it/s] \u001b[A\n",
      "Generating for node: 4:  33%|███▎      | 10/30 [00:03<00:08,  2.27it/s]\u001b[A\n",
      "Generating for node: 21:  33%|███▎      | 10/30 [00:03<00:08,  2.27it/s]\u001b[A\n",
      "Generating for node: 21:  37%|███▋      | 11/30 [00:04<00:08,  2.33it/s]\u001b[A\n",
      "Generating for node: 9:  37%|███▋      | 11/30 [00:04<00:08,  2.33it/s] \u001b[A\n",
      "Generating for node: 9:  40%|████      | 12/30 [00:04<00:07,  2.37it/s]\u001b[A\n",
      "Generating for node: 17:  40%|████      | 12/30 [00:04<00:07,  2.37it/s]\u001b[A\n"
     ]
    },
    {
     "name": "stderr",
     "output_type": "stream",
     "text": [
      "Generating for node: 17:  43%|████▎     | 13/30 [00:05<00:07,  2.42it/s]\u001b[A\n",
      "Generating for node: 18:  43%|████▎     | 13/30 [00:05<00:07,  2.42it/s]\u001b[A\n",
      "Generating for node: 18:  47%|████▋     | 14/30 [00:05<00:06,  2.44it/s]\u001b[A\n",
      "Generating for node: 15:  47%|████▋     | 14/30 [00:05<00:06,  2.44it/s]\u001b[A\n",
      "Generating for node: 15:  50%|█████     | 15/30 [00:05<00:06,  2.47it/s]\u001b[A\n",
      "Generating for node: 16:  50%|█████     | 15/30 [00:05<00:06,  2.47it/s]\u001b[A\n",
      "Generating for node: 16:  53%|█████▎    | 16/30 [00:06<00:06,  2.26it/s]\u001b[A\n",
      "Generating for node: 13:  53%|█████▎    | 16/30 [00:06<00:06,  2.26it/s]\u001b[A\n",
      "Generating for node: 13:  57%|█████▋    | 17/30 [00:06<00:05,  2.26it/s]\u001b[A\n",
      "Generating for node: 19:  57%|█████▋    | 17/30 [00:06<00:05,  2.26it/s]\u001b[A\n",
      "Generating for node: 19:  60%|██████    | 18/30 [00:07<00:05,  2.13it/s]\u001b[A\n",
      "Generating for node: 6:  60%|██████    | 18/30 [00:07<00:05,  2.13it/s] \u001b[A\n",
      "Generating for node: 6:  63%|██████▎   | 19/30 [00:07<00:05,  2.07it/s]\u001b[A\n",
      "Generating for node: 10:  63%|██████▎   | 19/30 [00:07<00:05,  2.07it/s]\u001b[A\n",
      "Generating for node: 10:  67%|██████▋   | 20/30 [00:08<00:04,  2.09it/s]\u001b[A\n",
      "Generating for node: 5:  67%|██████▋   | 20/30 [00:08<00:04,  2.09it/s] \u001b[A\n",
      "Generating for node: 5:  70%|███████   | 21/30 [00:08<00:04,  2.19it/s]\u001b[A\n",
      "Generating for node: 12:  70%|███████   | 21/30 [00:08<00:04,  2.19it/s]\u001b[A\n",
      "Generating for node: 12:  73%|███████▎  | 22/30 [00:09<00:03,  2.26it/s]\u001b[A\n",
      "Generating for node: 14:  73%|███████▎  | 22/30 [00:09<00:03,  2.26it/s]\u001b[A\n",
      "Generating for node: 14:  77%|███████▋  | 23/30 [00:09<00:02,  2.34it/s]\u001b[A\n",
      "Generating for node: 11:  77%|███████▋  | 23/30 [00:09<00:02,  2.34it/s]\u001b[A\n",
      "Generating for node: 11:  80%|████████  | 24/30 [00:09<00:02,  2.41it/s]\u001b[A\n",
      "Generating for node: 25:  80%|████████  | 24/30 [00:09<00:02,  2.41it/s]\u001b[A\n",
      "Generating for node: 25:  83%|████████▎ | 25/30 [00:10<00:02,  2.44it/s]\u001b[A\n",
      "Generating for node: 28:  83%|████████▎ | 25/30 [00:10<00:02,  2.44it/s]\u001b[A\n",
      "Generating for node: 28:  87%|████████▋ | 26/30 [00:10<00:01,  2.38it/s]\u001b[A\n",
      "Generating for node: 29:  87%|████████▋ | 26/30 [00:10<00:01,  2.38it/s]\u001b[A\n",
      "Generating for node: 29:  90%|█████████ | 27/30 [00:11<00:01,  2.41it/s]\u001b[A\n",
      "Generating for node: 22:  90%|█████████ | 27/30 [00:11<00:01,  2.41it/s]\u001b[A\n",
      "Generating for node: 22:  93%|█████████▎| 28/30 [00:11<00:00,  2.27it/s]\u001b[A\n",
      "Generating for node: 7:  93%|█████████▎| 28/30 [00:11<00:00,  2.27it/s] \u001b[A\n",
      "Generating for node: 7:  97%|█████████▋| 29/30 [00:12<00:00,  2.34it/s]\u001b[A\n",
      "Generating for node: 24:  97%|█████████▋| 29/30 [00:12<00:00,  2.34it/s]\u001b[A\n",
      "Generating for node: 24: 100%|██████████| 30/30 [00:12<00:00,  2.40it/s]\u001b[A\n",
      "INFO:sdgym.benchmark:Scoring KDECopulaNNPdf_Synthesizer on dataset credit_numeric; iteration 0; 625.74 MB\n"
     ]
    },
    {
     "name": "stdout",
     "output_type": "stream",
     "text": [
      "[[-2.2749374   1.2677987   1.6593778   1.0668854   0.7817724 ]\n",
      " [-2.3652058  -0.67815965 -0.5729541  -1.5633943   0.3470698 ]\n",
      " [-0.07470031  0.17512068 -0.301692   -1.4472566   0.8928217 ]\n",
      " ...\n",
      " [-0.03419069 -0.4019206  -0.79529124 -0.5802906   2.4452055 ]\n",
      " [-1.5094979   1.3792492  -1.4998144  -2.0975544   1.45936   ]\n",
      " [-0.4259839  -0.5671382   0.10612283 -2.6991735  -1.0897039 ]]\n"
     ]
    },
    {
     "name": "stderr",
     "output_type": "stream",
     "text": [
      "INFO:sdgym.evaluate:Evaluating using binary classifier DecisionTreeClassifier\n",
      "INFO:sdgym.evaluate:Evaluating using binary classifier AdaBoostClassifier\n",
      "INFO:sdgym.evaluate:Evaluating using binary classifier LogisticRegression\n",
      "INFO:sdgym.evaluate:Evaluating using binary classifier MLPClassifier\n",
      "INFO:sdgym.benchmark:Finished KDECopulaNNPdf_Synthesizer on dataset credit_numeric; iteration 0; 772.68 MB\n",
      "INFO:sdgym.benchmark:100%|##########| 2/2 [08:08<00:00, 278.85s/it]\n",
      "INFO:sdgym.benchmark:100%|##########| 2/2 [08:08<00:00, 244.07s/it]\n"
     ]
    }
   ],
   "source": [
    "scores = sdgym.run(synthesizers=all_synthesizers, datasets=[dataset_name], iterations=1)"
   ]
  },
  {
   "cell_type": "code",
   "execution_count": 23,
   "metadata": {},
   "outputs": [
    {
     "data": {
      "text/html": [
       "<div>\n",
       "<style scoped>\n",
       "    .dataframe tbody tr th:only-of-type {\n",
       "        vertical-align: middle;\n",
       "    }\n",
       "\n",
       "    .dataframe tbody tr th {\n",
       "        vertical-align: top;\n",
       "    }\n",
       "\n",
       "    .dataframe thead th {\n",
       "        text-align: right;\n",
       "    }\n",
       "</style>\n",
       "<table border=\"1\" class=\"dataframe\">\n",
       "  <thead>\n",
       "    <tr style=\"text-align: right;\">\n",
       "      <th></th>\n",
       "      <th>credit_numeric/accuracy</th>\n",
       "      <th>credit_numeric/f1</th>\n",
       "      <th>timestamp</th>\n",
       "    </tr>\n",
       "  </thead>\n",
       "  <tbody>\n",
       "    <tr>\n",
       "      <th>VEEGANSynthesizer</th>\n",
       "      <td>NaN</td>\n",
       "      <td>NaN</td>\n",
       "      <td>2020-04-12 09:41:35.096775</td>\n",
       "    </tr>\n",
       "    <tr>\n",
       "      <th>CLBNSynthesizer</th>\n",
       "      <td>NaN</td>\n",
       "      <td>NaN</td>\n",
       "      <td>2020-10-17 09:46:54.494331</td>\n",
       "    </tr>\n",
       "    <tr>\n",
       "      <th>CTGAN</th>\n",
       "      <td>NaN</td>\n",
       "      <td>NaN</td>\n",
       "      <td>2020-10-17 09:46:54.494331</td>\n",
       "    </tr>\n",
       "    <tr>\n",
       "      <th>CTGANSynthesizer</th>\n",
       "      <td>NaN</td>\n",
       "      <td>NaN</td>\n",
       "      <td>2020-10-17 09:46:54.494331</td>\n",
       "    </tr>\n",
       "    <tr>\n",
       "      <th>CopulaGAN</th>\n",
       "      <td>NaN</td>\n",
       "      <td>NaN</td>\n",
       "      <td>2020-10-17 09:46:54.494331</td>\n",
       "    </tr>\n",
       "    <tr>\n",
       "      <th>GaussianCopulaCategorical</th>\n",
       "      <td>NaN</td>\n",
       "      <td>NaN</td>\n",
       "      <td>2020-10-17 09:46:54.494331</td>\n",
       "    </tr>\n",
       "    <tr>\n",
       "      <th>GaussianCopulaCategoricalFuzzy</th>\n",
       "      <td>NaN</td>\n",
       "      <td>NaN</td>\n",
       "      <td>2020-10-17 09:46:54.494331</td>\n",
       "    </tr>\n",
       "    <tr>\n",
       "      <th>GaussianCopulaOneHot</th>\n",
       "      <td>NaN</td>\n",
       "      <td>NaN</td>\n",
       "      <td>2020-10-17 09:46:54.494331</td>\n",
       "    </tr>\n",
       "    <tr>\n",
       "      <th>IndependentSynthesizer</th>\n",
       "      <td>NaN</td>\n",
       "      <td>NaN</td>\n",
       "      <td>2020-10-17 09:46:54.494331</td>\n",
       "    </tr>\n",
       "    <tr>\n",
       "      <th>MedganSynthesizer</th>\n",
       "      <td>NaN</td>\n",
       "      <td>NaN</td>\n",
       "      <td>2020-10-17 09:46:54.494331</td>\n",
       "    </tr>\n",
       "    <tr>\n",
       "      <th>PrivBNSynthesizer</th>\n",
       "      <td>NaN</td>\n",
       "      <td>NaN</td>\n",
       "      <td>2020-10-17 09:46:54.494331</td>\n",
       "    </tr>\n",
       "    <tr>\n",
       "      <th>TVAESynthesizer</th>\n",
       "      <td>NaN</td>\n",
       "      <td>NaN</td>\n",
       "      <td>2020-10-17 09:46:54.494331</td>\n",
       "    </tr>\n",
       "    <tr>\n",
       "      <th>TableganSynthesizer</th>\n",
       "      <td>NaN</td>\n",
       "      <td>NaN</td>\n",
       "      <td>2020-10-17 09:46:54.494331</td>\n",
       "    </tr>\n",
       "    <tr>\n",
       "      <th>UniformSynthesizer</th>\n",
       "      <td>NaN</td>\n",
       "      <td>NaN</td>\n",
       "      <td>2020-10-17 09:46:54.494331</td>\n",
       "    </tr>\n",
       "    <tr>\n",
       "      <th>IdentitySynthesizer</th>\n",
       "      <td>0.987525</td>\n",
       "      <td>0.532360</td>\n",
       "      <td>2021-05-13 21:09:53.047752</td>\n",
       "    </tr>\n",
       "    <tr>\n",
       "      <th>KDECopulaNNPdf_Synthesizer</th>\n",
       "      <td>0.997475</td>\n",
       "      <td>0.181668</td>\n",
       "      <td>2021-05-13 21:09:53.047752</td>\n",
       "    </tr>\n",
       "  </tbody>\n",
       "</table>\n",
       "</div>"
      ],
      "text/plain": [
       "                                credit_numeric/accuracy  credit_numeric/f1  \\\n",
       "VEEGANSynthesizer                                   NaN                NaN   \n",
       "CLBNSynthesizer                                     NaN                NaN   \n",
       "CTGAN                                               NaN                NaN   \n",
       "CTGANSynthesizer                                    NaN                NaN   \n",
       "CopulaGAN                                           NaN                NaN   \n",
       "GaussianCopulaCategorical                           NaN                NaN   \n",
       "GaussianCopulaCategoricalFuzzy                      NaN                NaN   \n",
       "GaussianCopulaOneHot                                NaN                NaN   \n",
       "IndependentSynthesizer                              NaN                NaN   \n",
       "MedganSynthesizer                                   NaN                NaN   \n",
       "PrivBNSynthesizer                                   NaN                NaN   \n",
       "TVAESynthesizer                                     NaN                NaN   \n",
       "TableganSynthesizer                                 NaN                NaN   \n",
       "UniformSynthesizer                                  NaN                NaN   \n",
       "IdentitySynthesizer                            0.987525           0.532360   \n",
       "KDECopulaNNPdf_Synthesizer                     0.997475           0.181668   \n",
       "\n",
       "                                                timestamp  \n",
       "VEEGANSynthesizer              2020-04-12 09:41:35.096775  \n",
       "CLBNSynthesizer                2020-10-17 09:46:54.494331  \n",
       "CTGAN                          2020-10-17 09:46:54.494331  \n",
       "CTGANSynthesizer               2020-10-17 09:46:54.494331  \n",
       "CopulaGAN                      2020-10-17 09:46:54.494331  \n",
       "GaussianCopulaCategorical      2020-10-17 09:46:54.494331  \n",
       "GaussianCopulaCategoricalFuzzy 2020-10-17 09:46:54.494331  \n",
       "GaussianCopulaOneHot           2020-10-17 09:46:54.494331  \n",
       "IndependentSynthesizer         2020-10-17 09:46:54.494331  \n",
       "MedganSynthesizer              2020-10-17 09:46:54.494331  \n",
       "PrivBNSynthesizer              2020-10-17 09:46:54.494331  \n",
       "TVAESynthesizer                2020-10-17 09:46:54.494331  \n",
       "TableganSynthesizer            2020-10-17 09:46:54.494331  \n",
       "UniformSynthesizer             2020-10-17 09:46:54.494331  \n",
       "IdentitySynthesizer            2021-05-13 21:09:53.047752  \n",
       "KDECopulaNNPdf_Synthesizer     2021-05-13 21:09:53.047752  "
      ]
     },
     "execution_count": 23,
     "metadata": {},
     "output_type": "execute_result"
    }
   ],
   "source": [
    "scores"
   ]
  },
  {
   "cell_type": "code",
   "execution_count": 24,
   "metadata": {},
   "outputs": [
    {
     "data": {
      "text/html": [
       "<div>\n",
       "<style scoped>\n",
       "    .dataframe tbody tr th:only-of-type {\n",
       "        vertical-align: middle;\n",
       "    }\n",
       "\n",
       "    .dataframe tbody tr th {\n",
       "        vertical-align: top;\n",
       "    }\n",
       "\n",
       "    .dataframe thead th {\n",
       "        text-align: right;\n",
       "    }\n",
       "</style>\n",
       "<table border=\"1\" class=\"dataframe\">\n",
       "  <thead>\n",
       "    <tr style=\"text-align: right;\">\n",
       "      <th></th>\n",
       "      <th>credit_numeric/accuracy</th>\n",
       "      <th>credit_numeric/f1</th>\n",
       "      <th>timestamp</th>\n",
       "    </tr>\n",
       "  </thead>\n",
       "  <tbody>\n",
       "    <tr>\n",
       "      <th>TableganSynthesizer</th>\n",
       "      <td>NaN</td>\n",
       "      <td>NaN</td>\n",
       "      <td>2020-10-17 09:46:54.494331</td>\n",
       "    </tr>\n",
       "    <tr>\n",
       "      <th>UniformSynthesizer</th>\n",
       "      <td>NaN</td>\n",
       "      <td>NaN</td>\n",
       "      <td>2020-10-17 09:46:54.494331</td>\n",
       "    </tr>\n",
       "    <tr>\n",
       "      <th>IdentitySynthesizer</th>\n",
       "      <td>0.987525</td>\n",
       "      <td>0.532360</td>\n",
       "      <td>2021-05-13 21:09:53.047752</td>\n",
       "    </tr>\n",
       "    <tr>\n",
       "      <th>KDECopulaNNPdf_Synthesizer</th>\n",
       "      <td>0.997475</td>\n",
       "      <td>0.181668</td>\n",
       "      <td>2021-05-13 21:09:53.047752</td>\n",
       "    </tr>\n",
       "  </tbody>\n",
       "</table>\n",
       "</div>"
      ],
      "text/plain": [
       "                            credit_numeric/accuracy  credit_numeric/f1  \\\n",
       "TableganSynthesizer                             NaN                NaN   \n",
       "UniformSynthesizer                              NaN                NaN   \n",
       "IdentitySynthesizer                        0.987525           0.532360   \n",
       "KDECopulaNNPdf_Synthesizer                 0.997475           0.181668   \n",
       "\n",
       "                                            timestamp  \n",
       "TableganSynthesizer        2020-10-17 09:46:54.494331  \n",
       "UniformSynthesizer         2020-10-17 09:46:54.494331  \n",
       "IdentitySynthesizer        2021-05-13 21:09:53.047752  \n",
       "KDECopulaNNPdf_Synthesizer 2021-05-13 21:09:53.047752  "
      ]
     },
     "execution_count": 24,
     "metadata": {},
     "output_type": "execute_result"
    }
   ],
   "source": [
    "scores.tail(4)"
   ]
  },
  {
   "cell_type": "code",
   "execution_count": null,
   "metadata": {},
   "outputs": [],
   "source": []
  }
 ],
 "metadata": {
  "kernelspec": {
   "display_name": "Python 3",
   "language": "python",
   "name": "python3"
  },
  "language_info": {
   "codemirror_mode": {
    "name": "ipython",
    "version": 3
   },
   "file_extension": ".py",
   "mimetype": "text/x-python",
   "name": "python",
   "nbconvert_exporter": "python",
   "pygments_lexer": "ipython3",
   "version": "3.8.5"
  }
 },
 "nbformat": 4,
 "nbformat_minor": 4
}
