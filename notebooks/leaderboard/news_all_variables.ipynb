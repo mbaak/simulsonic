{
 "cells": [
  {
   "cell_type": "code",
   "execution_count": 1,
   "metadata": {},
   "outputs": [],
   "source": [
    "%load_ext autoreload\n",
    "%autoreload 2"
   ]
  },
  {
   "cell_type": "code",
   "execution_count": null,
   "metadata": {},
   "outputs": [],
   "source": [
    "!pip install -q -U git+https://github.com/sbrugman/SDGym.git@v0.2.2-hw"
   ]
  },
  {
   "cell_type": "code",
   "execution_count": null,
   "metadata": {},
   "outputs": [],
   "source": [
    "!pip install -q -U ../../"
   ]
  },
  {
   "cell_type": "code",
   "execution_count": 2,
   "metadata": {},
   "outputs": [],
   "source": [
    "from timeit import default_timer as timer\n",
    "from functools import partial\n",
    "from random import choices\n",
    "import logging"
   ]
  },
  {
   "cell_type": "code",
   "execution_count": 3,
   "metadata": {},
   "outputs": [],
   "source": [
    "import sdgym\n",
    "from sdgym import load_dataset\n",
    "from sdgym import benchmark\n",
    "from sdgym import load_dataset"
   ]
  },
  {
   "cell_type": "code",
   "execution_count": 4,
   "metadata": {},
   "outputs": [],
   "source": [
    "import numpy as np\n",
    "import pandas as pd\n",
    "import matplotlib.pyplot as plt\n",
    "import networkx as nx"
   ]
  },
  {
   "cell_type": "code",
   "execution_count": 5,
   "metadata": {},
   "outputs": [],
   "source": [
    "import pgmpy\n",
    "\n",
    "from pgmpy.models import BayesianModel\n",
    "from pgmpy.estimators import TreeSearch, HillClimbSearch, BicScore, ExhaustiveSearch, BayesianEstimator\n",
    "from pgmpy.sampling import BayesianModelSampling"
   ]
  },
  {
   "cell_type": "code",
   "execution_count": 6,
   "metadata": {},
   "outputs": [],
   "source": [
    "import xgboost as xgb\n",
    "from xgboost import XGBClassifier"
   ]
  },
  {
   "cell_type": "code",
   "execution_count": 7,
   "metadata": {},
   "outputs": [],
   "source": [
    "from sklearn.neural_network import MLPClassifier\n",
    "from sklearn.svm import SVC\n",
    "from sklearn.model_selection import train_test_split\n",
    "from sklearn.isotonic import IsotonicRegression"
   ]
  },
  {
   "cell_type": "code",
   "execution_count": 8,
   "metadata": {},
   "outputs": [],
   "source": [
    "from scipy import interpolate"
   ]
  },
  {
   "cell_type": "code",
   "execution_count": 9,
   "metadata": {},
   "outputs": [],
   "source": [
    "from synthsonic.models.kde_utils import kde_smooth_peaks_1dim, kde_smooth_peaks\n",
    "from synthsonic.models.kde_copula_nn_pdf import KDECopulaNNPdf"
   ]
  },
  {
   "cell_type": "code",
   "execution_count": 10,
   "metadata": {},
   "outputs": [],
   "source": [
    "import matplotlib.pyplot as plt\n",
    "%matplotlib inline"
   ]
  },
  {
   "cell_type": "code",
   "execution_count": 11,
   "metadata": {},
   "outputs": [],
   "source": [
    "logging.basicConfig(level=logging.INFO)"
   ]
  },
  {
   "cell_type": "code",
   "execution_count": 21,
   "metadata": {},
   "outputs": [],
   "source": [
    "dataset_name = 'news_categorical'\n",
    "dataset_name = 'news'"
   ]
  },
  {
   "cell_type": "code",
   "execution_count": 22,
   "metadata": {},
   "outputs": [
    {
     "name": "stderr",
     "output_type": "stream",
     "text": [
      "INFO:sdgym.data:Loading dataset news (all variables, -1 distinct values threshold)\n",
      "INFO:sdgym.data:Columns to zero-code: []\n"
     ]
    }
   ],
   "source": [
    "data, categorical_columns, ordinal_columns = load_dataset(dataset_name)\n",
    "\n",
    "#model = CopulaGAN()\n",
    "#model._MODEL_KWARGS['epochs'] = 1\n",
    "#model.fit(data, categorical_columns, ordinal_columns)\n",
    "#distributions = model.get_distributions()"
   ]
  },
  {
   "cell_type": "code",
   "execution_count": 23,
   "metadata": {},
   "outputs": [
    {
     "data": {
      "text/plain": [
       "([11, 12, 13, 14, 15, 16, 29, 30, 31, 32, 33, 34, 35, 36], [])"
      ]
     },
     "execution_count": 23,
     "metadata": {},
     "output_type": "execute_result"
    }
   ],
   "source": [
    "categorical_columns, ordinal_columns"
   ]
  },
  {
   "cell_type": "code",
   "execution_count": 24,
   "metadata": {},
   "outputs": [
    {
     "data": {
      "text/plain": [
       "(14, 0, 59)"
      ]
     },
     "execution_count": 24,
     "metadata": {},
     "output_type": "execute_result"
    }
   ],
   "source": [
    "len(categorical_columns), len(ordinal_columns), data.shape[1]"
   ]
  },
  {
   "cell_type": "code",
   "execution_count": 25,
   "metadata": {},
   "outputs": [
    {
     "name": "stdout",
     "output_type": "stream",
     "text": [
      "0 19\n",
      "1 2283\n",
      "2 18868\n",
      "3 4\n",
      "4 14365\n",
      "5 125\n",
      "6 59\n",
      "7 87\n",
      "8 52\n",
      "9 24931\n",
      "10 10\n",
      "11 2\n",
      "12 2\n",
      "13 2\n",
      "14 2\n",
      "15 2\n",
      "16 2\n",
      "17 23\n",
      "18 1057\n",
      "19 14928\n",
      "20 974\n",
      "21 33\n",
      "22 25559\n",
      "23 13325\n",
      "24 16673\n",
      "25 31370\n",
      "26 1216\n",
      "27 1094\n",
      "28 7244\n",
      "29 2\n",
      "30 2\n",
      "31 2\n",
      "32 2\n",
      "33 2\n",
      "34 2\n",
      "35 2\n",
      "36 2\n",
      "37 26420\n",
      "38 27654\n",
      "39 26397\n",
      "40 26581\n",
      "41 25361\n",
      "42 27892\n",
      "43 28041\n",
      "44 11548\n",
      "45 9064\n",
      "46 2077\n",
      "47 2077\n",
      "48 22347\n",
      "49 33\n",
      "50 38\n",
      "51 11715\n",
      "52 53\n",
      "53 49\n",
      "54 603\n",
      "55 724\n",
      "56 479\n",
      "57 581\n",
      "58 1353\n"
     ]
    }
   ],
   "source": [
    "for i in range(data.shape[1]):\n",
    "    print (i, len(np.unique(data[:, i])))"
   ]
  },
  {
   "cell_type": "code",
   "execution_count": 34,
   "metadata": {},
   "outputs": [
    {
     "data": {
      "text/plain": [
       "(array([2.7514e+04, 2.3470e+03, 7.6400e+02, 3.5500e+02, 1.9500e+02,\n",
       "        1.1500e+02, 7.0000e+01, 4.3000e+01, 3.8000e+01, 3.6000e+01,\n",
       "        3.2000e+01, 2.4000e+01, 1.0000e+01, 1.0000e+01, 1.0000e+01,\n",
       "        8.0000e+00, 7.0000e+00, 3.0000e+00, 4.0000e+00, 1.2000e+01,\n",
       "        3.0000e+00, 4.0000e+00, 6.0000e+00, 2.0000e+00, 3.0000e+00,\n",
       "        0.0000e+00, 1.0000e+00, 1.0000e+00, 3.0000e+00, 3.0000e+00,\n",
       "        0.0000e+00, 0.0000e+00, 2.0000e+00, 0.0000e+00, 0.0000e+00,\n",
       "        0.0000e+00, 1.0000e+00, 0.0000e+00, 0.0000e+00, 2.0000e+00]),\n",
       " array([1.00000000e+00, 4.94097510e+03, 9.88095020e+03, 1.48209248e+04,\n",
       "        1.97609004e+04, 2.47008750e+04, 2.96408496e+04, 3.45808242e+04,\n",
       "        3.95208008e+04, 4.44607734e+04, 4.94007500e+04, 5.43407266e+04,\n",
       "        5.92806992e+04, 6.42206758e+04, 6.91606484e+04, 7.41006250e+04,\n",
       "        7.90406016e+04, 8.39805781e+04, 8.89205469e+04, 9.38605234e+04,\n",
       "        9.88005000e+04, 1.03740477e+05, 1.08680453e+05, 1.13620422e+05,\n",
       "        1.18560398e+05, 1.23500375e+05, 1.28440352e+05, 1.33380328e+05,\n",
       "        1.38320297e+05, 1.43260281e+05, 1.48200250e+05, 1.53140219e+05,\n",
       "        1.58080203e+05, 1.63020172e+05, 1.67960156e+05, 1.72900125e+05,\n",
       "        1.77840094e+05, 1.82780078e+05, 1.87720047e+05, 1.92660031e+05,\n",
       "        1.97600000e+05], dtype=float32),\n",
       " <a list of 40 Patch objects>)"
      ]
     },
     "execution_count": 34,
     "metadata": {},
     "output_type": "execute_result"
    },
    {
     "data": {
      "image/png": "[encoded data removed]",
      "text/plain": [
       "<Figure size 432x288 with 1 Axes>"
      ]
     },
     "metadata": {
      "needs_background": "light"
     },
     "output_type": "display_data"
    }
   ],
   "source": [
    "x = data[:, 58]\n",
    "plt.hist(x[x < 200000], bins=40, log=True)"
   ]
  },
  {
   "cell_type": "code",
   "execution_count": 30,
   "metadata": {},
   "outputs": [
    {
     "data": {
      "text/plain": [
       "(1.0, 843300.0)"
      ]
     },
     "execution_count": 30,
     "metadata": {},
     "output_type": "execute_result"
    }
   ],
   "source": [
    "np.min(x), np.max(x)"
   ]
  },
  {
   "cell_type": "markdown",
   "metadata": {},
   "source": [
    "# run sdgym"
   ]
  },
  {
   "cell_type": "code",
   "execution_count": 50,
   "metadata": {},
   "outputs": [],
   "source": [
    "def KDECopulaNNPdf_Synthesizer(real_data, categorical_columns, ordinal_columns):\n",
    "    # assert len(categorical_columns + ordinal_columns) <= 1\n",
    "\n",
    "    all_features = list(range(real_data.shape[1]))\n",
    "    numerical_features = list(set(all_features) - set(categorical_columns + ordinal_columns))\n",
    "    data = np.float64(real_data)\n",
    "    \n",
    "    n_samples = data.shape[0]\n",
    "    n_features = data.shape[1]\n",
    "    \n",
    "    clf = xgb.XGBClassifier(\n",
    "        n_estimators=250,\n",
    "        reg_lambda=1,\n",
    "        gamma=0,\n",
    "        max_depth=9\n",
    "    )\n",
    "#     clf = MLPClassifier(alpha=0.1, random_state=0, max_iter=1000, early_stopping=True)\n",
    "    \n",
    "    kde = KDECopulaNNPdf(\n",
    "        use_KDE=False, \n",
    "        categorical_columns=categorical_columns+ordinal_columns,\n",
    "        distinct_threshold=-1,\n",
    "        n_bins=25,\n",
    "        # clf=clf,\n",
    "        # ordering='mi',\n",
    "    )\n",
    "    kde = kde.fit(data)\n",
    "    \n",
    "#     X_gen, sample_weight = kde.sample(n_samples)\n",
    "    X_gen = kde.sample_no_weights(n_samples, show_progress=True, mode='cheap')\n",
    "    \n",
    "    X_gen[:, categorical_columns+ordinal_columns] = np.round(X_gen[:, categorical_columns+ordinal_columns])\n",
    "    X_gen = np.float32(X_gen)\n",
    "    \n",
    "    print(X_gen[:, :5])\n",
    "\n",
    "    return X_gen"
   ]
  },
  {
   "cell_type": "code",
   "execution_count": 51,
   "metadata": {},
   "outputs": [],
   "source": [
    "def KDECopulaNNPdf_SynthesizerInteger(real_data, categorical_columns, ordinal_columns):\n",
    "    \"\"\"Census has integer only...\"\"\"\n",
    "    data = KDECopulaNNPdf_Synthesizer(real_data, categorical_columns, ordinal_columns)\n",
    "    data = np.round(data)\n",
    "    \n",
    "    print(data[:, :5])\n",
    "\n",
    "    return data"
   ]
  },
  {
   "cell_type": "code",
   "execution_count": 52,
   "metadata": {},
   "outputs": [],
   "source": [
    "from sdgym.synthesizers import (\n",
    "    CLBNSynthesizer, CTGANSynthesizer, IdentitySynthesizer, IndependentSynthesizer,\n",
    "    MedganSynthesizer, PrivBNSynthesizer, TableganSynthesizer, TVAESynthesizer,\n",
    "    UniformSynthesizer, VEEGANSynthesizer, CopulaGAN)\n",
    "\n",
    "all_synthesizers = [\n",
    "#    IdentitySynthesizer,\n",
    "#     IndependentSynthesizer,\n",
    "     KDECopulaNNPdf_Synthesizer,\n",
    "#    CopulaGAN\n",
    "#     KDECopulaNNPdf_SynthesizerInteger,\n",
    "]"
   ]
  },
  {
   "cell_type": "code",
   "execution_count": 53,
   "metadata": {
    "scrolled": false
   },
   "outputs": [
    {
     "name": "stderr",
     "output_type": "stream",
     "text": [
      "INFO:sdgym.benchmark:0%|          | 0/1 [00:00<?, ?it/s]\n",
      "INFO:sdgym.benchmark:Evaluating KDECopulaNNPdf_Synthesizer on dataset news; iteration 0; 653.28 MB\n",
      "INFO:sdgym.data:Loading dataset news (all variables, -1 distinct values threshold)\n",
      "INFO:sdgym.data:Columns to zero-code: []\n",
      "INFO:sdgym.benchmark:Running KDECopulaNNPdf_Synthesizer on dataset news; iteration 0; 612.42 MB\n",
      "INFO:KDECopulaNNPdf:Processing 45 numerical and 14 categorical columns\n",
      "INFO:KDECopulaNNPdf:Transforming numerical variables.\n",
      "INFO:KDECopulaNNPdf:Configuring Bayesian Network (cat+num).\n",
      "INFO:KDECopulaNNPdf:Configuring classifier.\n",
      "INFO:KDECopulaNNPdf:Generating 250000 data points.\n",
      "\n",
      "  0%|          | 0/59 [00:00<?, ?it/s]\u001b[A\n",
      "Generating for node: 1:   0%|          | 0/59 [00:00<?, ?it/s]\u001b[A\n",
      "Generating for node: 0:   0%|          | 0/59 [00:00<?, ?it/s]\u001b[A\n",
      "Generating for node: 0:   3%|▎         | 2/59 [00:00<00:05, 10.66it/s]\u001b[A\n",
      "Generating for node: 42:   3%|▎         | 2/59 [00:00<00:05, 10.66it/s]\u001b[A\n",
      "Generating for node: 43:   3%|▎         | 2/59 [00:00<00:05, 10.66it/s]\u001b[A\n",
      "Generating for node: 43:   7%|▋         | 4/59 [00:00<00:13,  4.01it/s]\u001b[A\n",
      "Generating for node: 54:   7%|▋         | 4/59 [00:00<00:13,  4.01it/s]\u001b[A\n",
      "Generating for node: 54:   8%|▊         | 5/59 [00:01<00:15,  3.57it/s]\u001b[A\n",
      "Generating for node: 55:   8%|▊         | 5/59 [00:01<00:15,  3.57it/s]\u001b[A\n",
      "Generating for node: 55:  10%|█         | 6/59 [00:01<00:16,  3.29it/s]\u001b[A\n",
      "Generating for node: 10:  10%|█         | 6/59 [00:01<00:16,  3.29it/s]\u001b[A\n",
      "Generating for node: 10:  12%|█▏        | 7/59 [00:02<00:17,  2.89it/s]\u001b[A\n",
      "Generating for node: 47:  12%|█▏        | 7/59 [00:02<00:17,  2.89it/s]\u001b[A\n",
      "Generating for node: 47:  14%|█▎        | 8/59 [00:02<00:17,  2.83it/s]\u001b[A\n",
      "Generating for node: 4:  14%|█▎        | 8/59 [00:02<00:17,  2.83it/s] \u001b[A\n",
      "Generating for node: 4:  15%|█▌        | 9/59 [00:02<00:18,  2.65it/s]\u001b[A\n",
      "Generating for node: 49:  15%|█▌        | 9/59 [00:02<00:18,  2.65it/s]\u001b[A\n",
      "Generating for node: 49:  17%|█▋        | 10/59 [00:03<00:18,  2.59it/s]\u001b[A\n",
      "Generating for node: 18:  17%|█▋        | 10/59 [00:03<00:18,  2.59it/s]\u001b[A\n",
      "Generating for node: 18:  19%|█▊        | 11/59 [00:03<00:18,  2.65it/s]\u001b[A\n",
      "Generating for node: 51:  19%|█▊        | 11/59 [00:03<00:18,  2.65it/s]\u001b[A\n",
      "Generating for node: 51:  20%|██        | 12/59 [00:03<00:17,  2.68it/s]\u001b[A\n",
      "Generating for node: 45:  20%|██        | 12/59 [00:03<00:17,  2.68it/s]\u001b[A\n",
      "Generating for node: 45:  22%|██▏       | 13/59 [00:04<00:17,  2.68it/s]\u001b[A\n",
      "Generating for node: 14:  22%|██▏       | 13/59 [00:04<00:17,  2.68it/s]\u001b[A\n",
      "Generating for node: 14:  24%|██▎       | 14/59 [00:04<00:15,  2.95it/s]\u001b[A\n",
      "Generating for node: 58:  24%|██▎       | 14/59 [00:04<00:15,  2.95it/s]\u001b[A\n",
      "Generating for node: 58:  25%|██▌       | 15/59 [00:04<00:15,  2.88it/s]\u001b[A\n",
      "Generating for node: 5:  25%|██▌       | 15/59 [00:04<00:15,  2.88it/s] \u001b[A\n",
      "Generating for node: 5:  27%|██▋       | 16/59 [00:05<00:14,  2.88it/s]\u001b[A\n",
      "Generating for node: 37:  27%|██▋       | 16/59 [00:05<00:14,  2.88it/s]\u001b[A\n",
      "Generating for node: 37:  29%|██▉       | 17/59 [00:05<00:14,  2.86it/s]\u001b[A\n",
      "Generating for node: 27:  29%|██▉       | 17/59 [00:05<00:14,  2.86it/s]\u001b[A\n",
      "Generating for node: 27:  31%|███       | 18/59 [00:06<00:14,  2.87it/s]\u001b[A\n",
      "Generating for node: 38:  31%|███       | 18/59 [00:06<00:14,  2.87it/s]\u001b[A\n",
      "Generating for node: 38:  32%|███▏      | 19/59 [00:06<00:14,  2.78it/s]\u001b[A\n",
      "Generating for node: 25:  32%|███▏      | 19/59 [00:06<00:14,  2.78it/s]\u001b[A\n",
      "Generating for node: 25:  34%|███▍      | 20/59 [00:06<00:13,  2.80it/s]\u001b[A\n",
      "Generating for node: 26:  34%|███▍      | 20/59 [00:06<00:13,  2.80it/s]\u001b[A\n",
      "Generating for node: 26:  36%|███▌      | 21/59 [00:07<00:14,  2.67it/s]\u001b[A\n",
      "Generating for node: 44:  36%|███▌      | 21/59 [00:07<00:14,  2.67it/s]\u001b[A\n",
      "Generating for node: 44:  37%|███▋      | 22/59 [00:07<00:15,  2.34it/s]\u001b[A\n",
      "Generating for node: 46:  37%|███▋      | 22/59 [00:07<00:15,  2.34it/s]\u001b[A\n",
      "Generating for node: 46:  39%|███▉      | 23/59 [00:08<00:14,  2.45it/s]\u001b[A\n",
      "Generating for node: 22:  39%|███▉      | 23/59 [00:08<00:14,  2.45it/s]\u001b[A\n",
      "Generating for node: 22:  41%|████      | 24/59 [00:08<00:13,  2.50it/s]\u001b[A\n",
      "Generating for node: 6:  41%|████      | 24/59 [00:08<00:13,  2.50it/s] \u001b[A\n",
      "Generating for node: 6:  42%|████▏     | 25/59 [00:08<00:13,  2.58it/s]\u001b[A\n",
      "Generating for node: 57:  42%|████▏     | 25/59 [00:08<00:13,  2.58it/s]\u001b[A\n",
      "Generating for node: 57:  44%|████▍     | 26/59 [00:09<00:13,  2.39it/s]\u001b[A\n",
      "Generating for node: 56:  44%|████▍     | 26/59 [00:09<00:13,  2.39it/s]\u001b[A\n",
      "Generating for node: 56:  46%|████▌     | 27/59 [00:09<00:14,  2.17it/s]\u001b[A\n",
      "Generating for node: 53:  46%|████▌     | 27/59 [00:09<00:14,  2.17it/s]\u001b[A\n",
      "Generating for node: 53:  47%|████▋     | 28/59 [00:10<00:15,  2.03it/s]\u001b[A\n",
      "Generating for node: 50:  47%|████▋     | 28/59 [00:10<00:15,  2.03it/s]\u001b[A\n",
      "Generating for node: 50:  49%|████▉     | 29/59 [00:11<00:15,  1.93it/s]\u001b[A\n",
      "Generating for node: 41:  49%|████▉     | 29/59 [00:11<00:15,  1.93it/s]\u001b[A\n",
      "Generating for node: 41:  51%|█████     | 30/59 [00:11<00:15,  1.82it/s]\u001b[A\n",
      "Generating for node: 48:  51%|█████     | 30/59 [00:11<00:15,  1.82it/s]\u001b[A\n",
      "Generating for node: 48:  53%|█████▎    | 31/59 [00:12<00:14,  1.96it/s]\u001b[A\n",
      "Generating for node: 2:  53%|█████▎    | 31/59 [00:12<00:14,  1.96it/s] \u001b[A\n",
      "Generating for node: 2:  54%|█████▍    | 32/59 [00:12<00:12,  2.15it/s]\u001b[A\n",
      "Generating for node: 52:  54%|█████▍    | 32/59 [00:12<00:12,  2.15it/s]\u001b[A\n",
      "Generating for node: 52:  56%|█████▌    | 33/59 [00:12<00:11,  2.24it/s]\u001b[A\n",
      "Generating for node: 16:  56%|█████▌    | 33/59 [00:12<00:11,  2.24it/s]\u001b[A\n",
      "Generating for node: 16:  58%|█████▊    | 34/59 [00:13<00:10,  2.49it/s]\u001b[A\n",
      "Generating for node: 11:  58%|█████▊    | 34/59 [00:13<00:10,  2.49it/s]\u001b[A\n",
      "Generating for node: 11:  59%|█████▉    | 35/59 [00:13<00:08,  2.97it/s]\u001b[A\n",
      "Generating for node: 7:  59%|█████▉    | 35/59 [00:13<00:08,  2.97it/s] \u001b[A\n",
      "Generating for node: 7:  61%|██████    | 36/59 [00:13<00:06,  3.39it/s]\u001b[A\n",
      "Generating for node: 39:  61%|██████    | 36/59 [00:13<00:06,  3.39it/s]\u001b[A\n",
      "Generating for node: 39:  63%|██████▎   | 37/59 [00:13<00:06,  3.15it/s]\u001b[A\n",
      "Generating for node: 40:  63%|██████▎   | 37/59 [00:13<00:06,  3.15it/s]\u001b[A\n",
      "Generating for node: 40:  64%|██████▍   | 38/59 [00:14<00:06,  3.04it/s]\u001b[A\n",
      "Generating for node: 13:  64%|██████▍   | 38/59 [00:14<00:06,  3.04it/s]\u001b[A\n",
      "Generating for node: 13:  66%|██████▌   | 39/59 [00:14<00:06,  3.24it/s]\u001b[A\n",
      "Generating for node: 17:  66%|██████▌   | 39/59 [00:14<00:06,  3.24it/s]\u001b[A\n",
      "Generating for node: 17:  68%|██████▊   | 40/59 [00:14<00:05,  3.62it/s]\u001b[A\n",
      "Generating for node: 24:  68%|██████▊   | 40/59 [00:14<00:05,  3.62it/s]\u001b[A\n",
      "Generating for node: 24:  69%|██████▉   | 41/59 [00:14<00:04,  3.94it/s]\u001b[A\n",
      "Generating for node: 28:  69%|██████▉   | 41/59 [00:14<00:04,  3.94it/s]\u001b[A\n",
      "Generating for node: 28:  71%|███████   | 42/59 [00:15<00:04,  3.53it/s]\u001b[A\n",
      "Generating for node: 23:  71%|███████   | 42/59 [00:15<00:04,  3.53it/s]\u001b[A\n",
      "Generating for node: 23:  73%|███████▎  | 43/59 [00:15<00:04,  3.88it/s]\u001b[A\n",
      "Generating for node: 12:  73%|███████▎  | 43/59 [00:15<00:04,  3.88it/s]\u001b[A\n",
      "Generating for node: 12:  75%|███████▍  | 44/59 [00:15<00:03,  4.23it/s]\u001b[A\n",
      "Generating for node: 19:  75%|███████▍  | 44/59 [00:15<00:03,  4.23it/s]\u001b[A\n",
      "Generating for node: 19:  76%|███████▋  | 45/59 [00:15<00:03,  4.45it/s]\u001b[A\n",
      "Generating for node: 8:  76%|███████▋  | 45/59 [00:15<00:03,  4.45it/s] \u001b[A\n",
      "Generating for node: 8:  78%|███████▊  | 46/59 [00:16<00:02,  4.57it/s]\u001b[A\n",
      "Generating for node: 15:  78%|███████▊  | 46/59 [00:16<00:02,  4.57it/s]\u001b[A\n",
      "Generating for node: 15:  80%|███████▉  | 47/59 [00:16<00:02,  4.72it/s]\u001b[A\n",
      "Generating for node: 9:  80%|███████▉  | 47/59 [00:16<00:02,  4.72it/s] \u001b[A\n",
      "Generating for node: 9:  81%|████████▏ | 48/59 [00:16<00:02,  4.82it/s]\u001b[A\n",
      "Generating for node: 20:  81%|████████▏ | 48/59 [00:16<00:02,  4.82it/s]\u001b[A\n",
      "Generating for node: 20:  83%|████████▎ | 49/59 [00:16<00:02,  4.87it/s]\u001b[A\n",
      "Generating for node: 3:  83%|████████▎ | 49/59 [00:16<00:02,  4.87it/s] \u001b[A\n",
      "Generating for node: 3:  85%|████████▍ | 50/59 [00:17<00:02,  3.97it/s]\u001b[A\n",
      "Generating for node: 36:  85%|████████▍ | 50/59 [00:17<00:02,  3.97it/s]\u001b[A\n",
      "Generating for node: 36:  86%|████████▋ | 51/59 [00:17<00:02,  3.83it/s]\u001b[A\n",
      "Generating for node: 31:  86%|████████▋ | 51/59 [00:17<00:02,  3.83it/s]\u001b[A\n",
      "Generating for node: 31:  88%|████████▊ | 52/59 [00:17<00:01,  4.12it/s]\u001b[A\n",
      "Generating for node: 33:  88%|████████▊ | 52/59 [00:17<00:01,  4.12it/s]\u001b[A\n",
      "Generating for node: 33:  90%|████████▉ | 53/59 [00:17<00:01,  4.38it/s]\u001b[A\n",
      "Generating for node: 29:  90%|████████▉ | 53/59 [00:17<00:01,  4.38it/s]\u001b[A\n",
      "Generating for node: 29:  92%|█████████▏| 54/59 [00:17<00:01,  4.57it/s]\u001b[A\n",
      "Generating for node: 32:  92%|█████████▏| 54/59 [00:17<00:01,  4.57it/s]\u001b[A\n",
      "Generating for node: 32:  93%|█████████▎| 55/59 [00:18<00:00,  4.80it/s]\u001b[A\n",
      "Generating for node: 30:  93%|█████████▎| 55/59 [00:18<00:00,  4.80it/s]\u001b[A\n",
      "Generating for node: 30:  95%|█████████▍| 56/59 [00:18<00:00,  4.94it/s]\u001b[A\n",
      "Generating for node: 34:  95%|█████████▍| 56/59 [00:18<00:00,  4.94it/s]\u001b[A\n",
      "Generating for node: 34:  97%|█████████▋| 57/59 [00:18<00:00,  5.04it/s]\u001b[A\n",
      "Generating for node: 35:  97%|█████████▋| 57/59 [00:18<00:00,  5.04it/s]\u001b[A\n",
      "Generating for node: 35:  98%|█████████▊| 58/59 [00:18<00:00,  5.16it/s]\u001b[A\n",
      "Generating for node: 21:  98%|█████████▊| 58/59 [00:18<00:00,  5.16it/s]\u001b[A\n",
      "Generating for node: 21: 100%|██████████| 59/59 [00:18<00:00,  3.11it/s]\u001b[A\n",
      "INFO:KDECopulaNNPdf:Fitting discriminative learner: selected 59 features.\n",
      "INFO:KDECopulaNNPdf:Calibrating classifier.\n",
      "INFO:KDECopulaNNPdf:Maximum weight found: 267.41398288136946\n",
      "INFO:KDECopulaNNPdf:Generating 31644 data points.\n",
      "\n",
      "  0%|          | 0/59 [00:00<?, ?it/s]\u001b[A\n",
      "Generating for node: 1:   0%|          | 0/59 [00:00<?, ?it/s]\u001b[A\n",
      "Generating for node: 0:   0%|          | 0/59 [00:00<?, ?it/s]\u001b[A\n",
      "Generating for node: 42:   0%|          | 0/59 [00:00<?, ?it/s]\u001b[A\n",
      "Generating for node: 42:   5%|▌         | 3/59 [00:00<00:03, 14.52it/s]\u001b[A\n",
      "Generating for node: 43:   5%|▌         | 3/59 [00:00<00:03, 14.52it/s]\u001b[A\n",
      "Generating for node: 54:   5%|▌         | 3/59 [00:00<00:03, 14.52it/s]\u001b[A\n",
      "Generating for node: 54:   8%|▊         | 5/59 [00:00<00:05,  9.61it/s]\u001b[A\n",
      "Generating for node: 55:   8%|▊         | 5/59 [00:00<00:05,  9.61it/s]\u001b[A\n",
      "Generating for node: 10:   8%|▊         | 5/59 [00:00<00:05,  9.61it/s]\u001b[A\n",
      "Generating for node: 10:  12%|█▏        | 7/59 [00:00<00:05,  8.83it/s]\u001b[A\n",
      "Generating for node: 47:  12%|█▏        | 7/59 [00:00<00:05,  8.83it/s]\u001b[A\n",
      "Generating for node: 47:  14%|█▎        | 8/59 [00:00<00:05,  8.60it/s]\u001b[A\n",
      "Generating for node: 4:  14%|█▎        | 8/59 [00:00<00:05,  8.60it/s] \u001b[A\n",
      "Generating for node: 4:  15%|█▌        | 9/59 [00:00<00:05,  8.48it/s]\u001b[A\n",
      "Generating for node: 49:  15%|█▌        | 9/59 [00:00<00:05,  8.48it/s]\u001b[A\n",
      "Generating for node: 49:  17%|█▋        | 10/59 [00:01<00:05,  8.42it/s]\u001b[A\n",
      "Generating for node: 18:  17%|█▋        | 10/59 [00:01<00:05,  8.42it/s]\u001b[A\n",
      "Generating for node: 18:  19%|█▊        | 11/59 [00:01<00:05,  8.38it/s]\u001b[A\n",
      "Generating for node: 51:  19%|█▊        | 11/59 [00:01<00:05,  8.38it/s]\u001b[A\n",
      "Generating for node: 51:  20%|██        | 12/59 [00:01<00:05,  8.34it/s]\u001b[A\n",
      "Generating for node: 45:  20%|██        | 12/59 [00:01<00:05,  8.34it/s]\u001b[A\n",
      "Generating for node: 45:  22%|██▏       | 13/59 [00:01<00:05,  8.33it/s]\u001b[A\n",
      "Generating for node: 14:  22%|██▏       | 13/59 [00:01<00:05,  8.33it/s]\u001b[A\n",
      "Generating for node: 58:  22%|██▏       | 13/59 [00:01<00:05,  8.33it/s]\u001b[A\n",
      "Generating for node: 58:  25%|██▌       | 15/59 [00:01<00:05,  8.80it/s]\u001b[A\n",
      "Generating for node: 5:  25%|██▌       | 15/59 [00:01<00:05,  8.80it/s] \u001b[A\n",
      "Generating for node: 5:  27%|██▋       | 16/59 [00:01<00:04,  8.65it/s]\u001b[A\n",
      "Generating for node: 37:  27%|██▋       | 16/59 [00:01<00:04,  8.65it/s]\u001b[A\n",
      "Generating for node: 37:  29%|██▉       | 17/59 [00:01<00:04,  8.56it/s]\u001b[A\n",
      "Generating for node: 27:  29%|██▉       | 17/59 [00:01<00:04,  8.56it/s]\u001b[A\n",
      "Generating for node: 27:  31%|███       | 18/59 [00:02<00:04,  8.47it/s]\u001b[A\n",
      "Generating for node: 38:  31%|███       | 18/59 [00:02<00:04,  8.47it/s]\u001b[A\n",
      "Generating for node: 38:  32%|███▏      | 19/59 [00:02<00:04,  8.37it/s]\u001b[A\n",
      "Generating for node: 25:  32%|███▏      | 19/59 [00:02<00:04,  8.37it/s]\u001b[A\n",
      "Generating for node: 25:  34%|███▍      | 20/59 [00:02<00:04,  8.32it/s]\u001b[A\n",
      "Generating for node: 26:  34%|███▍      | 20/59 [00:02<00:04,  8.32it/s]\u001b[A\n",
      "Generating for node: 26:  36%|███▌      | 21/59 [00:02<00:04,  8.32it/s]\u001b[A\n",
      "Generating for node: 44:  36%|███▌      | 21/59 [00:02<00:04,  8.32it/s]\u001b[A\n",
      "Generating for node: 44:  37%|███▋      | 22/59 [00:02<00:04,  8.23it/s]\u001b[A\n",
      "Generating for node: 46:  37%|███▋      | 22/59 [00:02<00:04,  8.23it/s]\u001b[A\n",
      "Generating for node: 46:  39%|███▉      | 23/59 [00:02<00:04,  8.21it/s]\u001b[A\n",
      "Generating for node: 22:  39%|███▉      | 23/59 [00:02<00:04,  8.21it/s]\u001b[A\n",
      "Generating for node: 22:  41%|████      | 24/59 [00:02<00:04,  8.20it/s]\u001b[A\n",
      "Generating for node: 6:  41%|████      | 24/59 [00:02<00:04,  8.20it/s] \u001b[A\n",
      "Generating for node: 6:  42%|████▏     | 25/59 [00:02<00:04,  8.20it/s]\u001b[A\n",
      "Generating for node: 57:  42%|████▏     | 25/59 [00:02<00:04,  8.20it/s]\u001b[A\n",
      "Generating for node: 57:  44%|████▍     | 26/59 [00:03<00:04,  8.23it/s]\u001b[A\n",
      "Generating for node: 56:  44%|████▍     | 26/59 [00:03<00:04,  8.23it/s]\u001b[A\n",
      "Generating for node: 56:  46%|████▌     | 27/59 [00:03<00:03,  8.28it/s]\u001b[A\n",
      "Generating for node: 53:  46%|████▌     | 27/59 [00:03<00:03,  8.28it/s]\u001b[A\n",
      "Generating for node: 53:  47%|████▋     | 28/59 [00:03<00:03,  8.26it/s]\u001b[A\n",
      "Generating for node: 50:  47%|████▋     | 28/59 [00:03<00:03,  8.26it/s]\u001b[A\n",
      "Generating for node: 50:  49%|████▉     | 29/59 [00:03<00:03,  8.23it/s]\u001b[A\n",
      "Generating for node: 41:  49%|████▉     | 29/59 [00:03<00:03,  8.23it/s]\u001b[A\n",
      "Generating for node: 41:  51%|█████     | 30/59 [00:03<00:03,  8.24it/s]\u001b[A\n",
      "Generating for node: 48:  51%|█████     | 30/59 [00:03<00:03,  8.24it/s]\u001b[A\n",
      "Generating for node: 48:  53%|█████▎    | 31/59 [00:03<00:03,  8.10it/s]\u001b[A\n",
      "Generating for node: 2:  53%|█████▎    | 31/59 [00:03<00:03,  8.10it/s] \u001b[A\n",
      "Generating for node: 2:  54%|█████▍    | 32/59 [00:03<00:03,  6.96it/s]\u001b[A\n",
      "Generating for node: 52:  54%|█████▍    | 32/59 [00:03<00:03,  6.96it/s]\u001b[A\n",
      "Generating for node: 52:  56%|█████▌    | 33/59 [00:04<00:04,  6.28it/s]\u001b[A\n",
      "Generating for node: 16:  56%|█████▌    | 33/59 [00:04<00:04,  6.28it/s]\u001b[A\n",
      "Generating for node: 16:  58%|█████▊    | 34/59 [00:04<00:03,  6.66it/s]\u001b[A\n",
      "Generating for node: 11:  58%|█████▊    | 34/59 [00:04<00:03,  6.66it/s]\u001b[A\n",
      "Generating for node: 7:  58%|█████▊    | 34/59 [00:04<00:03,  6.66it/s] \u001b[A\n",
      "Generating for node: 39:  58%|█████▊    | 34/59 [00:04<00:03,  6.66it/s]\u001b[A\n",
      "Generating for node: 39:  63%|██████▎   | 37/59 [00:04<00:02, 10.05it/s]\u001b[A\n",
      "Generating for node: 40:  63%|██████▎   | 37/59 [00:04<00:02, 10.05it/s]\u001b[A\n",
      "Generating for node: 40:  64%|██████▍   | 38/59 [00:04<00:02,  9.48it/s]\u001b[A\n",
      "Generating for node: 13:  64%|██████▍   | 38/59 [00:04<00:02,  9.48it/s]\u001b[A\n",
      "Generating for node: 17:  64%|██████▍   | 38/59 [00:04<00:02,  9.48it/s]\u001b[A\n",
      "Generating for node: 24:  64%|██████▍   | 38/59 [00:04<00:02,  9.48it/s]\u001b[A\n",
      "Generating for node: 28:  64%|██████▍   | 38/59 [00:04<00:02,  9.48it/s]\u001b[A\n",
      "Generating for node: 28:  71%|███████   | 42/59 [00:04<00:01, 12.04it/s]\u001b[A\n",
      "Generating for node: 23:  71%|███████   | 42/59 [00:04<00:01, 12.04it/s]\u001b[A\n",
      "Generating for node: 12:  71%|███████   | 42/59 [00:04<00:01, 12.04it/s]\u001b[A\n",
      "Generating for node: 19:  71%|███████   | 42/59 [00:04<00:01, 12.04it/s]\u001b[A\n",
      "Generating for node: 19:  76%|███████▋  | 45/59 [00:04<00:00, 15.02it/s]\u001b[A\n",
      "Generating for node: 8:  76%|███████▋  | 45/59 [00:04<00:00, 15.02it/s] \u001b[A\n",
      "Generating for node: 15:  76%|███████▋  | 45/59 [00:04<00:00, 15.02it/s]\u001b[A\n",
      "Generating for node: 9:  76%|███████▋  | 45/59 [00:04<00:00, 15.02it/s] \u001b[A\n",
      "Generating for node: 20:  76%|███████▋  | 45/59 [00:04<00:00, 15.02it/s]\u001b[A\n",
      "Generating for node: 20:  83%|████████▎ | 49/59 [00:04<00:00, 19.53it/s]\u001b[A\n",
      "Generating for node: 3:  83%|████████▎ | 49/59 [00:04<00:00, 19.53it/s] \u001b[A\n",
      "Generating for node: 36:  83%|████████▎ | 49/59 [00:05<00:00, 19.53it/s]\u001b[A\n",
      "Generating for node: 31:  83%|████████▎ | 49/59 [00:05<00:00, 19.53it/s]\u001b[A\n",
      "Generating for node: 31:  88%|████████▊ | 52/59 [00:05<00:00, 16.59it/s]\u001b[A\n"
     ]
    },
    {
     "name": "stderr",
     "output_type": "stream",
     "text": [
      "Generating for node: 33:  88%|████████▊ | 52/59 [00:05<00:00, 16.59it/s]\u001b[A\n",
      "Generating for node: 29:  88%|████████▊ | 52/59 [00:05<00:00, 16.59it/s]\u001b[A\n",
      "Generating for node: 32:  88%|████████▊ | 52/59 [00:05<00:00, 16.59it/s]\u001b[A\n",
      "Generating for node: 30:  88%|████████▊ | 52/59 [00:05<00:00, 16.59it/s]\u001b[A\n",
      "Generating for node: 30:  95%|█████████▍| 56/59 [00:05<00:00, 20.82it/s]\u001b[A\n",
      "Generating for node: 34:  95%|█████████▍| 56/59 [00:05<00:00, 20.82it/s]\u001b[A\n",
      "Generating for node: 35:  95%|█████████▍| 56/59 [00:05<00:00, 20.82it/s]\u001b[A\n",
      "Generating for node: 21:  95%|█████████▍| 56/59 [00:05<00:00, 20.82it/s]\u001b[A\n",
      "Generating for node: 21: 100%|██████████| 59/59 [00:05<00:00, 10.77it/s]\u001b[A\n",
      "INFO:sdgym.benchmark:Scoring KDECopulaNNPdf_Synthesizer on dataset news; iteration 0; 649.58 MB\n",
      "INFO:sdgym.evaluate:Evaluating using regressor LinearRegression\n",
      "INFO:sdgym.evaluate:Evaluating using regressor MLPRegressor\n"
     ]
    },
    {
     "name": "stdout",
     "output_type": "stream",
     "text": [
      "[[ 1.10002098e+01  3.66521088e+02  5.81163824e-01  9.85378146e-01\n",
      "   6.97286844e-01]\n",
      " [ 8.99996662e+00  1.19824875e+02  8.48183513e-01  9.96035814e-01\n",
      "   8.96822870e-01]\n",
      " [ 1.10000563e+01  1.63255066e+02  6.81154490e-01  9.82071280e-01\n",
      "   9.00640607e-01]\n",
      " ...\n",
      " [ 1.19999771e+01  1.96710236e+02 -1.84807703e-02 -3.12610865e-02\n",
      "  -1.78669151e-02]\n",
      " [ 1.19999886e+01  4.36679230e+02  5.12587607e-01  9.92313981e-01\n",
      "   6.83159113e-01]\n",
      " [ 1.30000420e+01  7.92858521e+02  5.37851572e-01  1.01726103e+00\n",
      "   7.21271813e-01]]\n"
     ]
    },
    {
     "name": "stderr",
     "output_type": "stream",
     "text": [
      "/Users/maxbaak/opt/miniconda3/envs/synthsonic/lib/python3.8/site-packages/sklearn/neural_network/_multilayer_perceptron.py:582: ConvergenceWarning: Stochastic Optimizer: Maximum iterations (50) reached and the optimization hasn't converged yet.\n",
      "  warnings.warn(\n",
      "INFO:sdgym.benchmark:Finished KDECopulaNNPdf_Synthesizer on dataset news; iteration 0; 690.04 MB\n",
      "INFO:sdgym.benchmark:100%|##########| 1/1 [01:59<00:00, 119.82s/it]\n",
      "INFO:sdgym.benchmark:100%|##########| 1/1 [01:59<00:00, 119.82s/it]\n"
     ]
    }
   ],
   "source": [
    "scores = sdgym.run(synthesizers=all_synthesizers, datasets=[dataset_name], iterations=1)"
   ]
  },
  {
   "cell_type": "code",
   "execution_count": 54,
   "metadata": {},
   "outputs": [
    {
     "data": {
      "text/html": [
       "<div>\n",
       "<style scoped>\n",
       "    .dataframe tbody tr th:only-of-type {\n",
       "        vertical-align: middle;\n",
       "    }\n",
       "\n",
       "    .dataframe tbody tr th {\n",
       "        vertical-align: top;\n",
       "    }\n",
       "\n",
       "    .dataframe thead th {\n",
       "        text-align: right;\n",
       "    }\n",
       "</style>\n",
       "<table border=\"1\" class=\"dataframe\">\n",
       "  <thead>\n",
       "    <tr style=\"text-align: right;\">\n",
       "      <th></th>\n",
       "      <th>news/r2</th>\n",
       "      <th>timestamp</th>\n",
       "    </tr>\n",
       "  </thead>\n",
       "  <tbody>\n",
       "    <tr>\n",
       "      <th>VEEGANSynthesizer</th>\n",
       "      <td>-3.196052e+08</td>\n",
       "      <td>2020-04-12 09:41:35.096775</td>\n",
       "    </tr>\n",
       "    <tr>\n",
       "      <th>CLBNSynthesizer</th>\n",
       "      <td>-6.471832e+00</td>\n",
       "      <td>2020-10-17 09:46:54.494331</td>\n",
       "    </tr>\n",
       "    <tr>\n",
       "      <th>CTGAN</th>\n",
       "      <td>-6.959805e-02</td>\n",
       "      <td>2020-10-17 09:46:54.494331</td>\n",
       "    </tr>\n",
       "    <tr>\n",
       "      <th>CTGANSynthesizer</th>\n",
       "      <td>-5.129536e-01</td>\n",
       "      <td>2020-10-17 09:46:54.494331</td>\n",
       "    </tr>\n",
       "    <tr>\n",
       "      <th>CopulaGAN</th>\n",
       "      <td>-5.557034e-02</td>\n",
       "      <td>2020-10-17 09:46:54.494331</td>\n",
       "    </tr>\n",
       "    <tr>\n",
       "      <th>GaussianCopulaCategorical</th>\n",
       "      <td>-5.029096e+00</td>\n",
       "      <td>2020-10-17 09:46:54.494331</td>\n",
       "    </tr>\n",
       "    <tr>\n",
       "      <th>GaussianCopulaCategoricalFuzzy</th>\n",
       "      <td>-8.655143e+00</td>\n",
       "      <td>2020-10-17 09:46:54.494331</td>\n",
       "    </tr>\n",
       "    <tr>\n",
       "      <th>GaussianCopulaOneHot</th>\n",
       "      <td>-3.694309e+01</td>\n",
       "      <td>2020-10-17 09:46:54.494331</td>\n",
       "    </tr>\n",
       "    <tr>\n",
       "      <th>IdentitySynthesizer</th>\n",
       "      <td>1.337394e-01</td>\n",
       "      <td>2020-10-17 09:46:54.494331</td>\n",
       "    </tr>\n",
       "    <tr>\n",
       "      <th>IndependentSynthesizer</th>\n",
       "      <td>-6.127912e-02</td>\n",
       "      <td>2020-10-17 09:46:54.494331</td>\n",
       "    </tr>\n",
       "    <tr>\n",
       "      <th>MedganSynthesizer</th>\n",
       "      <td>-5.601462e+00</td>\n",
       "      <td>2020-10-17 09:46:54.494331</td>\n",
       "    </tr>\n",
       "    <tr>\n",
       "      <th>PrivBNSynthesizer</th>\n",
       "      <td>NaN</td>\n",
       "      <td>2020-10-17 09:46:54.494331</td>\n",
       "    </tr>\n",
       "    <tr>\n",
       "      <th>TVAESynthesizer</th>\n",
       "      <td>-2.447828e-01</td>\n",
       "      <td>2020-10-17 09:46:54.494331</td>\n",
       "    </tr>\n",
       "    <tr>\n",
       "      <th>TableganSynthesizer</th>\n",
       "      <td>-5.820767e+00</td>\n",
       "      <td>2020-10-17 09:46:54.494331</td>\n",
       "    </tr>\n",
       "    <tr>\n",
       "      <th>UniformSynthesizer</th>\n",
       "      <td>-4.440410e+00</td>\n",
       "      <td>2020-10-17 09:46:54.494331</td>\n",
       "    </tr>\n",
       "    <tr>\n",
       "      <th>KDECopulaNNPdf_Synthesizer</th>\n",
       "      <td>-1.745354e-01</td>\n",
       "      <td>2021-05-13 22:30:34.064549</td>\n",
       "    </tr>\n",
       "  </tbody>\n",
       "</table>\n",
       "</div>"
      ],
      "text/plain": [
       "                                     news/r2                  timestamp\n",
       "VEEGANSynthesizer              -3.196052e+08 2020-04-12 09:41:35.096775\n",
       "CLBNSynthesizer                -6.471832e+00 2020-10-17 09:46:54.494331\n",
       "CTGAN                          -6.959805e-02 2020-10-17 09:46:54.494331\n",
       "CTGANSynthesizer               -5.129536e-01 2020-10-17 09:46:54.494331\n",
       "CopulaGAN                      -5.557034e-02 2020-10-17 09:46:54.494331\n",
       "GaussianCopulaCategorical      -5.029096e+00 2020-10-17 09:46:54.494331\n",
       "GaussianCopulaCategoricalFuzzy -8.655143e+00 2020-10-17 09:46:54.494331\n",
       "GaussianCopulaOneHot           -3.694309e+01 2020-10-17 09:46:54.494331\n",
       "IdentitySynthesizer             1.337394e-01 2020-10-17 09:46:54.494331\n",
       "IndependentSynthesizer         -6.127912e-02 2020-10-17 09:46:54.494331\n",
       "MedganSynthesizer              -5.601462e+00 2020-10-17 09:46:54.494331\n",
       "PrivBNSynthesizer                        NaN 2020-10-17 09:46:54.494331\n",
       "TVAESynthesizer                -2.447828e-01 2020-10-17 09:46:54.494331\n",
       "TableganSynthesizer            -5.820767e+00 2020-10-17 09:46:54.494331\n",
       "UniformSynthesizer             -4.440410e+00 2020-10-17 09:46:54.494331\n",
       "KDECopulaNNPdf_Synthesizer     -1.745354e-01 2021-05-13 22:30:34.064549"
      ]
     },
     "execution_count": 54,
     "metadata": {},
     "output_type": "execute_result"
    }
   ],
   "source": [
    "scores"
   ]
  },
  {
   "cell_type": "code",
   "execution_count": 22,
   "metadata": {},
   "outputs": [
    {
     "data": {
      "text/html": [
       "<div>\n",
       "<style scoped>\n",
       "    .dataframe tbody tr th:only-of-type {\n",
       "        vertical-align: middle;\n",
       "    }\n",
       "\n",
       "    .dataframe tbody tr th {\n",
       "        vertical-align: top;\n",
       "    }\n",
       "\n",
       "    .dataframe thead th {\n",
       "        text-align: right;\n",
       "    }\n",
       "</style>\n",
       "<table border=\"1\" class=\"dataframe\">\n",
       "  <thead>\n",
       "    <tr style=\"text-align: right;\">\n",
       "      <th></th>\n",
       "      <th>news/r2</th>\n",
       "      <th>timestamp</th>\n",
       "    </tr>\n",
       "  </thead>\n",
       "  <tbody>\n",
       "    <tr>\n",
       "      <th>VEEGANSynthesizer</th>\n",
       "      <td>-3.196052e+08</td>\n",
       "      <td>2020-04-12 09:41:35.096775</td>\n",
       "    </tr>\n",
       "    <tr>\n",
       "      <th>CLBNSynthesizer</th>\n",
       "      <td>-6.471832e+00</td>\n",
       "      <td>2020-10-17 09:46:54.494331</td>\n",
       "    </tr>\n",
       "    <tr>\n",
       "      <th>CTGAN</th>\n",
       "      <td>-6.959805e-02</td>\n",
       "      <td>2020-10-17 09:46:54.494331</td>\n",
       "    </tr>\n",
       "    <tr>\n",
       "      <th>CTGANSynthesizer</th>\n",
       "      <td>-5.129536e-01</td>\n",
       "      <td>2020-10-17 09:46:54.494331</td>\n",
       "    </tr>\n",
       "    <tr>\n",
       "      <th>CopulaGAN</th>\n",
       "      <td>-5.557034e-02</td>\n",
       "      <td>2020-10-17 09:46:54.494331</td>\n",
       "    </tr>\n",
       "    <tr>\n",
       "      <th>GaussianCopulaCategorical</th>\n",
       "      <td>-5.029096e+00</td>\n",
       "      <td>2020-10-17 09:46:54.494331</td>\n",
       "    </tr>\n",
       "    <tr>\n",
       "      <th>GaussianCopulaCategoricalFuzzy</th>\n",
       "      <td>-8.655143e+00</td>\n",
       "      <td>2020-10-17 09:46:54.494331</td>\n",
       "    </tr>\n",
       "    <tr>\n",
       "      <th>GaussianCopulaOneHot</th>\n",
       "      <td>-3.694309e+01</td>\n",
       "      <td>2020-10-17 09:46:54.494331</td>\n",
       "    </tr>\n",
       "    <tr>\n",
       "      <th>IndependentSynthesizer</th>\n",
       "      <td>-6.127912e-02</td>\n",
       "      <td>2020-10-17 09:46:54.494331</td>\n",
       "    </tr>\n",
       "    <tr>\n",
       "      <th>MedganSynthesizer</th>\n",
       "      <td>-5.601462e+00</td>\n",
       "      <td>2020-10-17 09:46:54.494331</td>\n",
       "    </tr>\n",
       "    <tr>\n",
       "      <th>PrivBNSynthesizer</th>\n",
       "      <td>NaN</td>\n",
       "      <td>2020-10-17 09:46:54.494331</td>\n",
       "    </tr>\n",
       "    <tr>\n",
       "      <th>TVAESynthesizer</th>\n",
       "      <td>-2.447828e-01</td>\n",
       "      <td>2020-10-17 09:46:54.494331</td>\n",
       "    </tr>\n",
       "    <tr>\n",
       "      <th>TableganSynthesizer</th>\n",
       "      <td>-5.820767e+00</td>\n",
       "      <td>2020-10-17 09:46:54.494331</td>\n",
       "    </tr>\n",
       "    <tr>\n",
       "      <th>UniformSynthesizer</th>\n",
       "      <td>-4.440410e+00</td>\n",
       "      <td>2020-10-17 09:46:54.494331</td>\n",
       "    </tr>\n",
       "    <tr>\n",
       "      <th>IdentitySynthesizer</th>\n",
       "      <td>1.337799e-01</td>\n",
       "      <td>2021-05-13 22:11:53.434588</td>\n",
       "    </tr>\n",
       "    <tr>\n",
       "      <th>KDECopulaNNPdf_Synthesizer</th>\n",
       "      <td>-1.428375e-01</td>\n",
       "      <td>2021-05-13 22:11:53.434588</td>\n",
       "    </tr>\n",
       "  </tbody>\n",
       "</table>\n",
       "</div>"
      ],
      "text/plain": [
       "                                     news/r2                  timestamp\n",
       "VEEGANSynthesizer              -3.196052e+08 2020-04-12 09:41:35.096775\n",
       "CLBNSynthesizer                -6.471832e+00 2020-10-17 09:46:54.494331\n",
       "CTGAN                          -6.959805e-02 2020-10-17 09:46:54.494331\n",
       "CTGANSynthesizer               -5.129536e-01 2020-10-17 09:46:54.494331\n",
       "CopulaGAN                      -5.557034e-02 2020-10-17 09:46:54.494331\n",
       "GaussianCopulaCategorical      -5.029096e+00 2020-10-17 09:46:54.494331\n",
       "GaussianCopulaCategoricalFuzzy -8.655143e+00 2020-10-17 09:46:54.494331\n",
       "GaussianCopulaOneHot           -3.694309e+01 2020-10-17 09:46:54.494331\n",
       "IndependentSynthesizer         -6.127912e-02 2020-10-17 09:46:54.494331\n",
       "MedganSynthesizer              -5.601462e+00 2020-10-17 09:46:54.494331\n",
       "PrivBNSynthesizer                        NaN 2020-10-17 09:46:54.494331\n",
       "TVAESynthesizer                -2.447828e-01 2020-10-17 09:46:54.494331\n",
       "TableganSynthesizer            -5.820767e+00 2020-10-17 09:46:54.494331\n",
       "UniformSynthesizer             -4.440410e+00 2020-10-17 09:46:54.494331\n",
       "IdentitySynthesizer             1.337799e-01 2021-05-13 22:11:53.434588\n",
       "KDECopulaNNPdf_Synthesizer     -1.428375e-01 2021-05-13 22:11:53.434588"
      ]
     },
     "execution_count": 22,
     "metadata": {},
     "output_type": "execute_result"
    }
   ],
   "source": [
    "scores"
   ]
  },
  {
   "cell_type": "code",
   "execution_count": 23,
   "metadata": {},
   "outputs": [
    {
     "data": {
      "text/html": [
       "<div>\n",
       "<style scoped>\n",
       "    .dataframe tbody tr th:only-of-type {\n",
       "        vertical-align: middle;\n",
       "    }\n",
       "\n",
       "    .dataframe tbody tr th {\n",
       "        vertical-align: top;\n",
       "    }\n",
       "\n",
       "    .dataframe thead th {\n",
       "        text-align: right;\n",
       "    }\n",
       "</style>\n",
       "<table border=\"1\" class=\"dataframe\">\n",
       "  <thead>\n",
       "    <tr style=\"text-align: right;\">\n",
       "      <th></th>\n",
       "      <th>news/r2</th>\n",
       "      <th>timestamp</th>\n",
       "    </tr>\n",
       "  </thead>\n",
       "  <tbody>\n",
       "    <tr>\n",
       "      <th>TableganSynthesizer</th>\n",
       "      <td>-5.820767</td>\n",
       "      <td>2020-10-17 09:46:54.494331</td>\n",
       "    </tr>\n",
       "    <tr>\n",
       "      <th>UniformSynthesizer</th>\n",
       "      <td>-4.440410</td>\n",
       "      <td>2020-10-17 09:46:54.494331</td>\n",
       "    </tr>\n",
       "    <tr>\n",
       "      <th>IdentitySynthesizer</th>\n",
       "      <td>0.133780</td>\n",
       "      <td>2021-05-13 22:11:53.434588</td>\n",
       "    </tr>\n",
       "    <tr>\n",
       "      <th>KDECopulaNNPdf_Synthesizer</th>\n",
       "      <td>-0.142837</td>\n",
       "      <td>2021-05-13 22:11:53.434588</td>\n",
       "    </tr>\n",
       "  </tbody>\n",
       "</table>\n",
       "</div>"
      ],
      "text/plain": [
       "                             news/r2                  timestamp\n",
       "TableganSynthesizer        -5.820767 2020-10-17 09:46:54.494331\n",
       "UniformSynthesizer         -4.440410 2020-10-17 09:46:54.494331\n",
       "IdentitySynthesizer         0.133780 2021-05-13 22:11:53.434588\n",
       "KDECopulaNNPdf_Synthesizer -0.142837 2021-05-13 22:11:53.434588"
      ]
     },
     "execution_count": 23,
     "metadata": {},
     "output_type": "execute_result"
    }
   ],
   "source": [
    "scores.tail(4)"
   ]
  },
  {
   "cell_type": "code",
   "execution_count": null,
   "metadata": {},
   "outputs": [],
   "source": []
  }
 ],
 "metadata": {
  "kernelspec": {
   "display_name": "Python 3",
   "language": "python",
   "name": "python3"
  },
  "language_info": {
   "codemirror_mode": {
    "name": "ipython",
    "version": 3
   },
   "file_extension": ".py",
   "mimetype": "text/x-python",
   "name": "python",
   "nbconvert_exporter": "python",
   "pygments_lexer": "ipython3",
   "version": "3.8.5"
  }
 },
 "nbformat": 4,
 "nbformat_minor": 4
}
