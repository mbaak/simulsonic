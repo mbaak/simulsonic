{
 "cells": [
  {
   "cell_type": "markdown",
   "metadata": {},
   "source": [
    "# Classifier calibration plots\n",
    "\n",
    "This notebook generates classifier calibration plots plots on the adult data, Fig 2 in the paper -- Synthsonic: Fast, Probabilistic modeling and Synthesis of Tabular Data"
   ]
  },
  {
   "cell_type": "code",
   "execution_count": 1,
   "metadata": {},
   "outputs": [],
   "source": [
    "import logging\n",
    "\n",
    "import numpy as np\n",
    "import pandas as pd\n",
    "import xgboost as xgb\n",
    "import matplotlib\n",
    "import matplotlib.pyplot as plt\n",
    "from scipy import interpolate\n",
    "from sdgym import load_dataset\n",
    "from phik.phik import phik_from_binned_array\n",
    "from sklearn.isotonic import IsotonicRegression\n",
    "from sklearn.model_selection import train_test_split\n",
    "\n",
    "from synthsonic.models.kde_copula_nn_pdf import KDECopulaNNPdf\n",
    "from synthsonic.models.kde_utils import kde_smooth_peaks_1dim, kde_smooth_peaks"
   ]
  },
  {
   "cell_type": "markdown",
   "metadata": {},
   "source": [
    "## Config"
   ]
  },
  {
   "cell_type": "code",
   "execution_count": 2,
   "metadata": {},
   "outputs": [],
   "source": [
    "SAVE_PLOTS = False"
   ]
  },
  {
   "cell_type": "code",
   "execution_count": 3,
   "metadata": {},
   "outputs": [],
   "source": [
    "logging.basicConfig(level=logging.INFO)"
   ]
  },
  {
   "cell_type": "code",
   "execution_count": 4,
   "metadata": {},
   "outputs": [],
   "source": [
    "matplotlib.rcParams['pdf.fonttype'] = 42\n",
    "matplotlib.rcParams['ps.fonttype'] = 42\n",
    "plt.rcParams['text.color'] = 'black'\n",
    "plt.rcParams['figure.max_open_warning'] = 0\n",
    "colors = [i['color'] for i in plt.rcParams['axes.prop_cycle']]\n",
    "markers = ['o', 's', 'p', 'x', '^', '+', '*', '<', 'D', 'h', '>']\n",
    "%matplotlib inline"
   ]
  },
  {
   "cell_type": "markdown",
   "metadata": {},
   "source": [
    "## Dataset"
   ]
  },
  {
   "cell_type": "code",
   "execution_count": 5,
   "metadata": {},
   "outputs": [],
   "source": [
    "dataset_name = 'adult'"
   ]
  },
  {
   "cell_type": "code",
   "execution_count": 6,
   "metadata": {},
   "outputs": [
    {
     "name": "stderr",
     "output_type": "stream",
     "text": [
      "INFO:sdgym.data:Loading dataset adult\n"
     ]
    }
   ],
   "source": [
    "data, categorical_columns, ordinal_columns = load_dataset(dataset_name)\n",
    "data = np.float64(data)"
   ]
  },
  {
   "cell_type": "code",
   "execution_count": 7,
   "metadata": {},
   "outputs": [
    {
     "data": {
      "text/plain": [
       "(22561, 15)"
      ]
     },
     "execution_count": 7,
     "metadata": {},
     "output_type": "execute_result"
    }
   ],
   "source": [
    "data.shape"
   ]
  },
  {
   "cell_type": "code",
   "execution_count": 8,
   "metadata": {},
   "outputs": [
    {
     "data": {
      "text/plain": [
       "([1, 5, 6, 7, 8, 9, 13, 14], [3])"
      ]
     },
     "execution_count": 8,
     "metadata": {},
     "output_type": "execute_result"
    }
   ],
   "source": [
    "categorical_columns, ordinal_columns"
   ]
  },
  {
   "cell_type": "code",
   "execution_count": 9,
   "metadata": {},
   "outputs": [],
   "source": [
    "all_features = list(range(data.shape[1]))\n",
    "numerical_features = list(set(all_features) - set(categorical_columns + ordinal_columns))\n",
    "\n",
    "n_samples = data.shape[0]\n",
    "n_features = data.shape[1]"
   ]
  },
  {
   "cell_type": "markdown",
   "metadata": {},
   "source": [
    "## Fit"
   ]
  },
  {
   "cell_type": "code",
   "execution_count": 10,
   "metadata": {},
   "outputs": [],
   "source": [
    "clf = xgb.XGBClassifier(\n",
    "    n_estimators=250,\n",
    "    reg_lambda=1,\n",
    "    gamma=0,\n",
    "    max_depth=9\n",
    ")"
   ]
  },
  {
   "cell_type": "code",
   "execution_count": 11,
   "metadata": {},
   "outputs": [],
   "source": [
    "kde = KDECopulaNNPdf(\n",
    "    use_KDE=False, \n",
    "    numerical_columns=numerical_features,\n",
    "    categorical_columns=categorical_columns+ordinal_columns,\n",
    "    distinct_threshold=-1,\n",
    "    n_uniform_bins=30,\n",
    "    n_calibration_bins=100,\n",
    "    test_size=0.25,\n",
    "    edge_weights_fn=phik_from_binned_array\n",
    ")"
   ]
  },
  {
   "cell_type": "code",
   "execution_count": 12,
   "metadata": {},
   "outputs": [
    {
     "name": "stderr",
     "output_type": "stream",
     "text": [
      "INFO:KDECopulaNNPdf:Processing 6 numerical and 9 categorical columns\n",
      "INFO:KDECopulaNNPdf:Transforming numerical variables.\n",
      "INFO:KDECopulaNNPdf:Configuring Bayesian Network (cat+num).\n",
      "INFO:KDECopulaNNPdf:n_uniform_bins = 30\n",
      "Building tree: 100%|██████████| 91/91.0 [00:03<00:00, 28.01it/s]\n",
      "INFO:KDECopulaNNPdf:Configuring classifier.\n",
      "INFO:KDECopulaNNPdf:Generating 266920 data points.\n",
      "Generating for node: 6: 100%|██████████| 15/15 [00:03<00:00,  4.90it/s] \n",
      "INFO:KDECopulaNNPdf:Fitting discriminative learner: selected 15 features.\n",
      "INFO:KDECopulaNNPdf:Calibrating classifier\n",
      "INFO:KDECopulaNNPdf:n_calibration_bins = 100\n",
      "INFO:KDECopulaNNPdf:Maximum weight: 19.596559631901236\n"
     ]
    }
   ],
   "source": [
    "kde = kde.fit(data)"
   ]
  },
  {
   "cell_type": "markdown",
   "metadata": {},
   "source": [
    "## Callibrate classifier\n",
    "\n",
    "The below function is taken from `synthsonic.KDECopulaNNPdf._calibrate_classifier` witht the only change returning the required values for the plots and making the plots outside the function"
   ]
  },
  {
   "cell_type": "code",
   "execution_count": 13,
   "metadata": {},
   "outputs": [],
   "source": [
    "def _calibrate_classifier(hist_p0, hist_p1, bin_edges, use_sample_weights=True, validation_plots=False):\n",
    "    \"\"\" Calibrate classifier based on probability histograms\n",
    "\n",
    "    :param hist_p0:\n",
    "    :param hist_p1:\n",
    "    :param bin_edges:\n",
    "    :return:\n",
    "    \"\"\"\n",
    "    hist_p0 = hist_p0.astype(float)\n",
    "    hist_p1 = hist_p1.astype(float)\n",
    "    rest_p0 = np.sum(hist_p0) - hist_p0\n",
    "    rest_p1 = np.sum(hist_p1) - hist_p1\n",
    "    bin_centers = (bin_edges[:-1] + bin_edges[1:]) / 2.\n",
    "    bin_width = bin_edges[1] - bin_edges[0]\n",
    "\n",
    "    def poisson_uncertainty(n):\n",
    "        # return correct poisson counts (set to one for zero counts)\n",
    "        sigma_n = np.sqrt(n)\n",
    "        sigma_n[sigma_n == 0] = 1.\n",
    "        return sigma_n\n",
    "\n",
    "    sigma_bin0 = poisson_uncertainty(hist_p0)\n",
    "    sigma_rest0 = poisson_uncertainty(rest_p0)\n",
    "    sigma_bin1 = poisson_uncertainty(hist_p1)\n",
    "    sigma_rest1 = poisson_uncertainty(rest_p1)\n",
    "\n",
    "    def fraction_and_uncertainty(a, b, sigma_a, sigma_b):\n",
    "        # return fraction a/(a+b) and uncertainty on it, given uncertainties on a and b\n",
    "        sum_ab = a + b\n",
    "        frac_a = np.divide(a, sum_ab, out=np.zeros_like(a), where=sum_ab != 0)\n",
    "        frac_b = np.divide(b, sum_ab, out=np.zeros_like(b), where=sum_ab != 0)\n",
    "        sigma_p1 = np.divide(frac_b * sigma_a, sum_ab, out=np.zeros_like(frac_b), where=sum_ab != 0)\n",
    "        sigma_p2 = np.divide(frac_a * sigma_b, sum_ab, out=np.zeros_like(frac_a), where=sum_ab != 0)\n",
    "        sigma_fa2 = np.power(sigma_p1, 2) + np.power(sigma_p2, 2)\n",
    "        return frac_a, np.sqrt(sigma_fa2)\n",
    "\n",
    "    frac0, sigma_frac0 = fraction_and_uncertainty(hist_p0, rest_p0, sigma_bin0, sigma_rest0)\n",
    "    frac1, sigma_frac1 = fraction_and_uncertainty(hist_p1, rest_p1, sigma_bin1, sigma_rest1)\n",
    "    p1cb, sigma_p1cb = fraction_and_uncertainty(frac1, frac0, sigma_frac1, sigma_frac0)\n",
    "\n",
    "    # sample weight is set to zero in case both sigma_p1cb is zero\n",
    "    sample_weight = np.divide(1., sigma_p1cb * sigma_p1cb, out=np.zeros_like(sigma_p1cb), where=sigma_p1cb != 0)\n",
    "    sample_weight /= np.min(sample_weight[sample_weight > 0])\n",
    "    sample_weight = sample_weight if use_sample_weights else None\n",
    "\n",
    "    # make sure last entry is filled, from which max_weight is derived\n",
    "    if p1cb[-1] == 0:\n",
    "        filled = p1cb[(p1cb > 0) & (p1cb < 1)]\n",
    "        if len(filled) > 0:\n",
    "            p1cb[-1] = np.max(filled)\n",
    "            if use_sample_weights:\n",
    "                sample_weight[-1] = 1e-3\n",
    "\n",
    "    iso_reg = IsotonicRegression(y_min=0, y_max=1, increasing='auto').fit(bin_centers, p1cb, sample_weight)\n",
    "    p1pred = iso_reg.predict(bin_centers)\n",
    "    p1f_ = interpolate.interp1d(\n",
    "        bin_edges[:-1],\n",
    "        p1pred,\n",
    "        kind='previous',\n",
    "        bounds_error=False,\n",
    "        fill_value=\"extrapolate\"\n",
    "    )\n",
    "    max_p1f = np.max(p1pred)\n",
    "    max_weight = max_p1f / (1. - max_p1f)\n",
    "    return p1cb, sigma_p1cb, p1pred, max_weight"
   ]
  },
  {
   "cell_type": "code",
   "execution_count": 14,
   "metadata": {},
   "outputs": [],
   "source": [
    "bin_edges = kde.bin_edges_\n",
    "bin_width = bin_edges[1] - bin_edges[0]\n",
    "bin_centers = kde.bin_centers_\n",
    "hist_p0 = kde.hist_p0_\n",
    "hist_p1 = kde.hist_p1_"
   ]
  },
  {
   "cell_type": "code",
   "execution_count": 15,
   "metadata": {},
   "outputs": [],
   "source": [
    "p1cb, sigma_p1cb, p1pred, max_weight = _calibrate_classifier(hist_p0, hist_p1, bin_edges, use_sample_weights=True)"
   ]
  },
  {
   "cell_type": "code",
   "execution_count": 16,
   "metadata": {},
   "outputs": [],
   "source": [
    "# confidence interval\n",
    "sigma_p1cb_95 = sigma_p1cb * 1.96\n",
    "sigma_lb = p1cb - sigma_p1cb_95\n",
    "sigma_ub = p1cb + sigma_p1cb_95"
   ]
  },
  {
   "cell_type": "code",
   "execution_count": 17,
   "metadata": {},
   "outputs": [
    {
     "data": {
      "text/plain": [
       "19.596559631901236"
      ]
     },
     "execution_count": 17,
     "metadata": {},
     "output_type": "execute_result"
    }
   ],
   "source": [
    "max_weight"
   ]
  },
  {
   "cell_type": "markdown",
   "metadata": {},
   "source": [
    "#### Fig 2a Classifier scores"
   ]
  },
  {
   "cell_type": "code",
   "execution_count": 18,
   "metadata": {},
   "outputs": [
    {
     "data": {
      "image/png": "[encoded data removed]",
      "text/plain": [
       "<Figure size 504x288 with 1 Axes>"
      ]
     },
     "metadata": {
      "needs_background": "light"
     },
     "output_type": "display_data"
    }
   ],
   "source": [
    "fig, ax = plt.subplots(figsize=(7, 4))\n",
    "ax.bar(bin_centers, hist_p0 / np.sum(hist_p0), width=bin_width, alpha=0.5, label=r'$P(1|X_{\\rm syn})$', log=True, color=colors[0])\n",
    "ax.bar(bin_centers, hist_p1 / np.sum(hist_p1), width=bin_width, alpha=0.5, label=r'$P(1|X_{\\rm trans})$', log=True, color=colors[1])\n",
    "ax.legend(fontsize=18, frameon=False)\n",
    "ax.tick_params(labelsize=16)\n",
    "ax.set_ylabel('count', fontsize=18)\n",
    "ax.set_xlabel('classifier score', fontsize=18)\n",
    "\n",
    "if SAVE_PLOTS:\n",
    "    fig.savefig(f'{dataset_name}_callibration_clf_hists.pdf', dpi=600, bbox_inches='tight')"
   ]
  },
  {
   "cell_type": "markdown",
   "metadata": {},
   "source": [
    "#### Fig 2b classifier curves"
   ]
  },
  {
   "cell_type": "code",
   "execution_count": 19,
   "metadata": {},
   "outputs": [
    {
     "data": {
      "image/png": "[encoded data removed]",
      "text/plain": [
       "<Figure size 504x288 with 1 Axes>"
      ]
     },
     "metadata": {
      "needs_background": "light"
     },
     "output_type": "display_data"
    }
   ],
   "source": [
    "fig, ax = plt.subplots(figsize=(7, 4))\n",
    "pcb = ax.plot(bin_centers, p1cb, label=r'$P_{\\rm cb}(1~|~X_{\\rm trans})$', lw=3, color=colors[0])\n",
    "ci = ax.fill_between(bin_centers, sigma_lb, sigma_ub, label=r'$95\\%~CI~P_{cb}$', color=colors[0], alpha=0.15)\n",
    "piso = ax.plot(bin_centers, p1pred, label=r'$P_{\\rm isotonic}(1~|~X_{\\rm trans})$', lw=3, ls='--', color=colors[1])\n",
    "pline = ax.plot(bin_centers, bin_centers, lw=3, ls=':', color='black')\n",
    "ax.set_ylabel('observed probability', fontsize=18)\n",
    "ax.set_xlabel('classifier score', fontsize=18)\n",
    "ax.tick_params(labelsize=16)\n",
    "\n",
    "handles, labels = ax.get_legend_handles_labels()\n",
    "handles_corr = [handles[0], handles[2], handles[1]]\n",
    "labels_corr = [labels[0], labels[2], labels[1]]\n",
    "ax.legend(handles_corr, labels_corr, fontsize=18, frameon=False)\n",
    "\n",
    "if SAVE_PLOTS:\n",
    "    fig.savefig(f'{dataset_name}_callibration_pcb_plot.pdf', dpi=600, bbox_inches='tight')"
   ]
  }
 ],
 "metadata": {
  "kernelspec": {
   "display_name": "Python 3",
   "language": "python",
   "name": "python3"
  },
  "language_info": {
   "codemirror_mode": {
    "name": "ipython",
    "version": 3
   },
   "file_extension": ".py",
   "mimetype": "text/x-python",
   "name": "python",
   "nbconvert_exporter": "python",
   "pygments_lexer": "ipython3",
   "version": "3.8.5"
  }
 },
 "nbformat": 4,
 "nbformat_minor": 4
}
