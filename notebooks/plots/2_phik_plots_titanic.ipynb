{
 "cells": [
  {
   "cell_type": "code",
   "execution_count": 1,
   "id": "studied-ethiopia",
   "metadata": {},
   "outputs": [],
   "source": [
    "%load_ext autoreload\n",
    "%autoreload 2"
   ]
  },
  {
   "cell_type": "code",
   "execution_count": 2,
   "id": "wireless-internship",
   "metadata": {},
   "outputs": [],
   "source": [
    "import numpy as np\n",
    "import pandas as pd\n",
    "\n",
    "import matplotlib.pyplot as plt\n",
    "import matplotlib.transforms as transforms\n",
    "import seaborn as sns"
   ]
  },
  {
   "cell_type": "code",
   "execution_count": 3,
   "id": "a33bbd19-f11a-4778-aad6-38a38f721a67",
   "metadata": {},
   "outputs": [],
   "source": [
    "import matplotlib.colors as plt_colors"
   ]
  },
  {
   "cell_type": "code",
   "execution_count": 4,
   "id": "719e9fd2-2952-49d5-9a8b-97a8bff043a2",
   "metadata": {},
   "outputs": [],
   "source": [
    "import phik"
   ]
  },
  {
   "cell_type": "code",
   "execution_count": 144,
   "id": "ebcb1c33-9bf7-47e1-88f2-9ae889725862",
   "metadata": {},
   "outputs": [],
   "source": [
    "def split_figure_vertical(figsize_1, frac, rect_1, rect_2):\n",
    "    \"\"\"\n",
    "    figsize_1 is the size of the figure without the color bar\n",
    "    frac is the additional width used for the color bar as fraction of original size\n",
    "    rect_1, rect_2 define where the plotting area and color bar are located\n",
    "    in their respective sections of the figure\n",
    "    \"\"\"\n",
    "    additional_width = figsize_1[0] * frac\n",
    "    oldWidth_1 = figsize_1[0]\n",
    "    newWidth = oldWidth_1 + additional_width\n",
    "    factor_1 = oldWidth_1 / newWidth\n",
    "    factor_2 = additional_width / newWidth\n",
    "\n",
    "    figsize = (newWidth, figsize_1[1])\n",
    "\n",
    "    fig = plt.figure(figsize=figsize)\n",
    "\n",
    "    rect_1[0] *= factor_1\n",
    "    rect_1[2] *= factor_1\n",
    "\n",
    "    rect_2[0] *= factor_2\n",
    "    rect_2[2] *= factor_2\n",
    "    rect_2[0] += factor_1\n",
    "\n",
    "    ax1 = fig.add_axes(rect_1)\n",
    "    ax2 = fig.add_axes(rect_2)\n",
    "\n",
    "    return fig, ax1, ax2"
   ]
  },
  {
   "cell_type": "code",
   "execution_count": 83,
   "id": "756b86f7-d141-4086-807f-7b1d0b838bb8",
   "metadata": {},
   "outputs": [],
   "source": [
    "def plot_correlation_matrix(\n",
    "    matrix_colors:np.ndarray,\n",
    "    x_labels:list,\n",
    "    y_labels:list,\n",
    "    fig,\n",
    "    ax,\n",
    "    pdf_file_name:str='',\n",
    "    title:str='correlation',\n",
    "    vmin:float=-1,\n",
    "    vmax:float=1,\n",
    "    color_map:str='RdYlGn',\n",
    "    x_label:str='',\n",
    "    y_label:str='',\n",
    "    top:int=20,\n",
    "    matrix_numbers:np.ndarray=None,\n",
    "    print_both_numbers:bool=True,\n",
    "    usetex:bool=False,\n",
    "    identity_layout:bool=True,\n",
    "    fontsize_factor:float=1\n",
    ") -> None:\n",
    "    \"\"\"Create and plot correlation matrix.\n",
    "\n",
    "    Copied with permission from the eskapade package (pip install eskapade)\n",
    "\n",
    "    :param matrix_colors: input correlation matrix\n",
    "    :param list x_labels: Labels for histogram x-axis bins\n",
    "    :param list y_labels: Labels for histogram y-axis bins\n",
    "    :param str pdf_file_name: if set, will store the plot in a pdf file\n",
    "    :param str title: if set, title of the plot\n",
    "    :param float vmin: minimum value of color legend (default is -1)\n",
    "    :param float vmax: maximum value of color legend (default is +1)\n",
    "    :param str x_label: Label for histogram x-axis\n",
    "    :param str y_label: Label for histogram y-axis\n",
    "    :param str color_map: color map passed to matplotlib pcolormesh. (default is 'RdYlGn')\n",
    "    :param int top: only print the top 20 characters of x-labels and y-labels. (default is 20)\n",
    "    :param matrix_numbers: input matrix used for plotting numbers. (default it matrix_colors)\n",
    "    :param identity_layout: Plot diagonal from right top to bottom left (True) or bottom left to top right (False)\n",
    "    \"\"\"\n",
    "    if not isinstance(matrix_colors, np.ndarray):\n",
    "        raise TypeError('matrix_colors is not a numpy array.')\n",
    "    \n",
    "    # basic matrix checks\n",
    "    assert (matrix_colors.shape[0] == len(y_labels)) or (matrix_colors.shape[0] + 1 == len(y_labels)), \\\n",
    "        'matrix_colors shape inconsistent with number of y-labels'\n",
    "    assert (matrix_colors.shape[1] == len(x_labels)) or (matrix_colors.shape[1] + 1 == len(x_labels)), \\\n",
    "        'matrix_colors shape inconsistent with number of x-labels'\n",
    "    if matrix_numbers is None:\n",
    "        matrix_numbers = matrix_colors\n",
    "        print_both_numbers = False  # only one set of numbers possible\n",
    "    else:\n",
    "        assert matrix_numbers.shape[0] == len(y_labels), 'matrix_numbers shape inconsistent with number of y-labels'\n",
    "        assert matrix_numbers.shape[1] == len(x_labels), 'matrix_numbers shape inconsistent with number of x-labels'\n",
    "\n",
    "    if identity_layout:\n",
    "        matrix_colors = np.array([a[::-1] for a in matrix_colors])\n",
    "        x_labels = x_labels[::-1]\n",
    "        if matrix_numbers is not None:\n",
    "            matrix_numbers = np.array([a[::-1] for a in matrix_numbers])\n",
    "\n",
    "    plt.rc('text', usetex=usetex)\n",
    "\n",
    "    # cmap = 'RdYlGn' #'YlGn'\n",
    "    norm = plt_colors.Normalize(vmin=vmin, vmax=vmax)\n",
    "    img = ax.pcolormesh(matrix_colors, cmap=color_map, edgecolor='w', linewidth=1, norm=norm)\n",
    "\n",
    "    # set x-axis properties\n",
    "    def tick(lab):\n",
    "        \"\"\"Get tick.\"\"\"\n",
    "        if isinstance(lab, (float, int)):\n",
    "            lab = 'NaN' if np.isnan(lab) else '{0:.0f}'.format(lab)\n",
    "        lab = str(lab)\n",
    "        if len(lab) > top:\n",
    "            lab = lab[:17] + '...'\n",
    "        return lab\n",
    "\n",
    "    # reduce default fontsizes in case too many labels?\n",
    "    # nlabs = max(len(y_labels), len(x_labels))\n",
    "\n",
    "    # axis ticks and tick labels\n",
    "    if len(x_labels) == matrix_colors.shape[1] + 1:\n",
    "        ax.set_xticks(np.arange(len(x_labels)))\n",
    "    else:\n",
    "        ax.set_xticks(np.arange(len(x_labels)) + 0.5)\n",
    "    ax.set_xticklabels([tick(lab) for lab in x_labels], rotation='vertical', fontsize=10 * fontsize_factor)\n",
    "\n",
    "    if len(y_labels) == matrix_colors.shape[0] + 1:\n",
    "        ax.set_yticks(np.arange(len(y_labels)))\n",
    "    else:\n",
    "        ax.set_yticks(np.arange(len(y_labels)) + 0.5)\n",
    "    ax.set_yticklabels([tick(lab) for lab in y_labels], rotation='horizontal', fontsize=10 * fontsize_factor)\n",
    "\n",
    "    # Turn ticks off in case no labels are provided\n",
    "    if len(x_labels)==1 and len(x_labels[0]) == 0:\n",
    "        plt.tick_params(\n",
    "            axis='x',  # changes apply to the x-axis\n",
    "            which='both',  # both major and minor ticks are affected\n",
    "            bottom=False,  # ticks along the bottom edge are off\n",
    "            top=False,  # ticks along the top edge are off\n",
    "            labelbottom=False)\n",
    "    if len(y_labels)==1 and len(y_labels[0]) == 0:\n",
    "        plt.tick_params(\n",
    "            axis='y',  # changes apply to the x-axis\n",
    "            which='both',  # both major and minor ticks are affected\n",
    "            left=False,  # ticks along the bottom edge are off\n",
    "            right=False,  # ticks along the top edge are off\n",
    "            labelbottom=False)\n",
    "\n",
    "    # make plot look pretty\n",
    "    ax.set_title(title, fontsize=14 * fontsize_factor)\n",
    "    if x_label:\n",
    "        ax.set_xlabel(x_label, fontsize=12 * fontsize_factor)\n",
    "    if y_label:\n",
    "        ax.set_ylabel(y_label, fontsize=12 * fontsize_factor)\n",
    "\n",
    "    # annotate with correlation values\n",
    "    numbers_set = [matrix_numbers] if not print_both_numbers else [matrix_numbers, matrix_colors]\n",
    "    for i in range(matrix_numbers.shape[1]):\n",
    "        for j in range(matrix_numbers.shape[0]):\n",
    "            point_color = float(matrix_colors[j][i])\n",
    "            white_cond = (point_color < 0.7 * vmin) or (point_color >= 0.7 * vmax) or np.isnan(point_color)\n",
    "            y_offset = 0.5\n",
    "            for m, matrix in enumerate(numbers_set):\n",
    "                if print_both_numbers:\n",
    "                    if m == 0:\n",
    "                        y_offset = 0.7\n",
    "                    elif m == 1:\n",
    "                        y_offset = 0.25\n",
    "                point = float(matrix[j][i])\n",
    "                label = 'NaN' if np.isnan(point) else '{0:.2f}'.format(point)\n",
    "                color = 'w' if white_cond else 'k'\n",
    "                ax.annotate(label, xy=(i + 0.5, j + y_offset), color=color, horizontalalignment='center',\n",
    "                            verticalalignment='center', fontsize=10 * fontsize_factor)\n",
    "\n",
    "    #asp = np.diff(ax.get_xlim())[0] / np.diff(ax.get_ylim())[0]\n",
    "    #ax.set_aspect(0.4 * asp)\n",
    "    \n",
    "    #plt.tight_layout()\n"
   ]
  },
  {
   "cell_type": "code",
   "execution_count": 6,
   "id": "vocal-liability",
   "metadata": {},
   "outputs": [],
   "source": [
    "#plt.style.use('seaborn')\n",
    "plt.rcParams['text.color'] = 'black'\n",
    "plt.rcParams['figure.max_open_warning'] = 0\n",
    "colors = [i['color'] for i in plt.rcParams['axes.prop_cycle']]\n",
    "markers = ['o', 's', 'p', 'x', '^', '+', '*', '<', 'D', 'h', '>']\n",
    "%matplotlib inline"
   ]
  },
  {
   "cell_type": "code",
   "execution_count": 7,
   "id": "bbe61016-b31b-4f57-83bd-09d803a89e93",
   "metadata": {},
   "outputs": [],
   "source": [
    "#plt.style.use('seaborn')"
   ]
  },
  {
   "cell_type": "markdown",
   "id": "dated-native",
   "metadata": {},
   "source": [
    "## Data set -- Fake insurance set"
   ]
  },
  {
   "cell_type": "code",
   "execution_count": 8,
   "id": "59fcb768-5feb-493b-b907-e5d857b662e6",
   "metadata": {},
   "outputs": [],
   "source": [
    "data_set = 'titanic'"
   ]
  },
  {
   "cell_type": "code",
   "execution_count": 9,
   "id": "meaningful-patio",
   "metadata": {},
   "outputs": [
    {
     "name": "stdout",
     "output_type": "stream",
     "text": [
      "<class 'pandas.core.frame.DataFrame'>\n",
      "RangeIndex: 887 entries, 0 to 886\n",
      "Data columns (total 8 columns):\n",
      " #   Column                   Non-Null Count  Dtype  \n",
      "---  ------                   --------------  -----  \n",
      " 0   Survived                 887 non-null    int64  \n",
      " 1   Pclass                   887 non-null    int64  \n",
      " 2   Name                     887 non-null    object \n",
      " 3   Sex                      887 non-null    object \n",
      " 4   Age                      887 non-null    float64\n",
      " 5   Siblings/Spouses Aboard  887 non-null    int64  \n",
      " 6   Parents/Children Aboard  887 non-null    int64  \n",
      " 7   Fare                     887 non-null    float64\n",
      "dtypes: float64(2), int64(4), object(2)\n",
      "memory usage: 55.6+ KB\n"
     ]
    }
   ],
   "source": [
    "df = pd.read_csv('titanic.csv.gz')\n",
    "df.info()"
   ]
  },
  {
   "cell_type": "code",
   "execution_count": 10,
   "id": "facial-agriculture",
   "metadata": {},
   "outputs": [
    {
     "data": {
      "text/html": [
       "<div>\n",
       "<style scoped>\n",
       "    .dataframe tbody tr th:only-of-type {\n",
       "        vertical-align: middle;\n",
       "    }\n",
       "\n",
       "    .dataframe tbody tr th {\n",
       "        vertical-align: top;\n",
       "    }\n",
       "\n",
       "    .dataframe thead th {\n",
       "        text-align: right;\n",
       "    }\n",
       "</style>\n",
       "<table border=\"1\" class=\"dataframe\">\n",
       "  <thead>\n",
       "    <tr style=\"text-align: right;\">\n",
       "      <th></th>\n",
       "      <th>Survived</th>\n",
       "      <th>Pclass</th>\n",
       "      <th>Name</th>\n",
       "      <th>Sex</th>\n",
       "      <th>Age</th>\n",
       "      <th>Siblings/Spouses Aboard</th>\n",
       "      <th>Parents/Children Aboard</th>\n",
       "      <th>Fare</th>\n",
       "    </tr>\n",
       "  </thead>\n",
       "  <tbody>\n",
       "    <tr>\n",
       "      <th>0</th>\n",
       "      <td>0</td>\n",
       "      <td>3</td>\n",
       "      <td>Mr. Owen Harris Braund</td>\n",
       "      <td>male</td>\n",
       "      <td>22.0</td>\n",
       "      <td>1</td>\n",
       "      <td>0</td>\n",
       "      <td>7.2500</td>\n",
       "    </tr>\n",
       "    <tr>\n",
       "      <th>1</th>\n",
       "      <td>1</td>\n",
       "      <td>1</td>\n",
       "      <td>Mrs. John Bradley (Florence Briggs Thayer) Cum...</td>\n",
       "      <td>female</td>\n",
       "      <td>38.0</td>\n",
       "      <td>1</td>\n",
       "      <td>0</td>\n",
       "      <td>71.2833</td>\n",
       "    </tr>\n",
       "    <tr>\n",
       "      <th>2</th>\n",
       "      <td>1</td>\n",
       "      <td>3</td>\n",
       "      <td>Miss. Laina Heikkinen</td>\n",
       "      <td>female</td>\n",
       "      <td>26.0</td>\n",
       "      <td>0</td>\n",
       "      <td>0</td>\n",
       "      <td>7.9250</td>\n",
       "    </tr>\n",
       "    <tr>\n",
       "      <th>3</th>\n",
       "      <td>1</td>\n",
       "      <td>1</td>\n",
       "      <td>Mrs. Jacques Heath (Lily May Peel) Futrelle</td>\n",
       "      <td>female</td>\n",
       "      <td>35.0</td>\n",
       "      <td>1</td>\n",
       "      <td>0</td>\n",
       "      <td>53.1000</td>\n",
       "    </tr>\n",
       "    <tr>\n",
       "      <th>4</th>\n",
       "      <td>0</td>\n",
       "      <td>3</td>\n",
       "      <td>Mr. William Henry Allen</td>\n",
       "      <td>male</td>\n",
       "      <td>35.0</td>\n",
       "      <td>0</td>\n",
       "      <td>0</td>\n",
       "      <td>8.0500</td>\n",
       "    </tr>\n",
       "    <tr>\n",
       "      <th>...</th>\n",
       "      <td>...</td>\n",
       "      <td>...</td>\n",
       "      <td>...</td>\n",
       "      <td>...</td>\n",
       "      <td>...</td>\n",
       "      <td>...</td>\n",
       "      <td>...</td>\n",
       "      <td>...</td>\n",
       "    </tr>\n",
       "    <tr>\n",
       "      <th>882</th>\n",
       "      <td>0</td>\n",
       "      <td>2</td>\n",
       "      <td>Rev. Juozas Montvila</td>\n",
       "      <td>male</td>\n",
       "      <td>27.0</td>\n",
       "      <td>0</td>\n",
       "      <td>0</td>\n",
       "      <td>13.0000</td>\n",
       "    </tr>\n",
       "    <tr>\n",
       "      <th>883</th>\n",
       "      <td>1</td>\n",
       "      <td>1</td>\n",
       "      <td>Miss. Margaret Edith Graham</td>\n",
       "      <td>female</td>\n",
       "      <td>19.0</td>\n",
       "      <td>0</td>\n",
       "      <td>0</td>\n",
       "      <td>30.0000</td>\n",
       "    </tr>\n",
       "    <tr>\n",
       "      <th>884</th>\n",
       "      <td>0</td>\n",
       "      <td>3</td>\n",
       "      <td>Miss. Catherine Helen Johnston</td>\n",
       "      <td>female</td>\n",
       "      <td>7.0</td>\n",
       "      <td>1</td>\n",
       "      <td>2</td>\n",
       "      <td>23.4500</td>\n",
       "    </tr>\n",
       "    <tr>\n",
       "      <th>885</th>\n",
       "      <td>1</td>\n",
       "      <td>1</td>\n",
       "      <td>Mr. Karl Howell Behr</td>\n",
       "      <td>male</td>\n",
       "      <td>26.0</td>\n",
       "      <td>0</td>\n",
       "      <td>0</td>\n",
       "      <td>30.0000</td>\n",
       "    </tr>\n",
       "    <tr>\n",
       "      <th>886</th>\n",
       "      <td>0</td>\n",
       "      <td>3</td>\n",
       "      <td>Mr. Patrick Dooley</td>\n",
       "      <td>male</td>\n",
       "      <td>32.0</td>\n",
       "      <td>0</td>\n",
       "      <td>0</td>\n",
       "      <td>7.7500</td>\n",
       "    </tr>\n",
       "  </tbody>\n",
       "</table>\n",
       "<p>887 rows × 8 columns</p>\n",
       "</div>"
      ],
      "text/plain": [
       "     Survived  Pclass                                               Name  \\\n",
       "0           0       3                             Mr. Owen Harris Braund   \n",
       "1           1       1  Mrs. John Bradley (Florence Briggs Thayer) Cum...   \n",
       "2           1       3                              Miss. Laina Heikkinen   \n",
       "3           1       1        Mrs. Jacques Heath (Lily May Peel) Futrelle   \n",
       "4           0       3                            Mr. William Henry Allen   \n",
       "..        ...     ...                                                ...   \n",
       "882         0       2                               Rev. Juozas Montvila   \n",
       "883         1       1                        Miss. Margaret Edith Graham   \n",
       "884         0       3                     Miss. Catherine Helen Johnston   \n",
       "885         1       1                               Mr. Karl Howell Behr   \n",
       "886         0       3                                 Mr. Patrick Dooley   \n",
       "\n",
       "        Sex   Age  Siblings/Spouses Aboard  Parents/Children Aboard     Fare  \n",
       "0      male  22.0                        1                        0   7.2500  \n",
       "1    female  38.0                        1                        0  71.2833  \n",
       "2    female  26.0                        0                        0   7.9250  \n",
       "3    female  35.0                        1                        0  53.1000  \n",
       "4      male  35.0                        0                        0   8.0500  \n",
       "..      ...   ...                      ...                      ...      ...  \n",
       "882    male  27.0                        0                        0  13.0000  \n",
       "883  female  19.0                        0                        0  30.0000  \n",
       "884  female   7.0                        1                        2  23.4500  \n",
       "885    male  26.0                        0                        0  30.0000  \n",
       "886    male  32.0                        0                        0   7.7500  \n",
       "\n",
       "[887 rows x 8 columns]"
      ]
     },
     "execution_count": 10,
     "metadata": {},
     "output_type": "execute_result"
    }
   ],
   "source": [
    "df"
   ]
  },
  {
   "cell_type": "code",
   "execution_count": 11,
   "id": "north-penny",
   "metadata": {},
   "outputs": [],
   "source": [
    "df = df[['Survived', 'Pclass', 'Sex', 'Age', 'Siblings/Spouses Aboard', 'Parents/Children Aboard', 'Fare']]"
   ]
  },
  {
   "cell_type": "code",
   "execution_count": 12,
   "id": "sunrise-explorer",
   "metadata": {},
   "outputs": [
    {
     "data": {
      "text/html": [
       "<div>\n",
       "<style scoped>\n",
       "    .dataframe tbody tr th:only-of-type {\n",
       "        vertical-align: middle;\n",
       "    }\n",
       "\n",
       "    .dataframe tbody tr th {\n",
       "        vertical-align: top;\n",
       "    }\n",
       "\n",
       "    .dataframe thead th {\n",
       "        text-align: right;\n",
       "    }\n",
       "</style>\n",
       "<table border=\"1\" class=\"dataframe\">\n",
       "  <thead>\n",
       "    <tr style=\"text-align: right;\">\n",
       "      <th></th>\n",
       "      <th>Survived</th>\n",
       "      <th>Pclass</th>\n",
       "      <th>Sex</th>\n",
       "      <th>Age</th>\n",
       "      <th>Siblings/Spouses Aboard</th>\n",
       "      <th>Parents/Children Aboard</th>\n",
       "      <th>Fare</th>\n",
       "    </tr>\n",
       "  </thead>\n",
       "  <tbody>\n",
       "    <tr>\n",
       "      <th>0</th>\n",
       "      <td>0</td>\n",
       "      <td>3</td>\n",
       "      <td>male</td>\n",
       "      <td>22.0</td>\n",
       "      <td>1</td>\n",
       "      <td>0</td>\n",
       "      <td>7.2500</td>\n",
       "    </tr>\n",
       "    <tr>\n",
       "      <th>1</th>\n",
       "      <td>1</td>\n",
       "      <td>1</td>\n",
       "      <td>female</td>\n",
       "      <td>38.0</td>\n",
       "      <td>1</td>\n",
       "      <td>0</td>\n",
       "      <td>71.2833</td>\n",
       "    </tr>\n",
       "    <tr>\n",
       "      <th>2</th>\n",
       "      <td>1</td>\n",
       "      <td>3</td>\n",
       "      <td>female</td>\n",
       "      <td>26.0</td>\n",
       "      <td>0</td>\n",
       "      <td>0</td>\n",
       "      <td>7.9250</td>\n",
       "    </tr>\n",
       "    <tr>\n",
       "      <th>3</th>\n",
       "      <td>1</td>\n",
       "      <td>1</td>\n",
       "      <td>female</td>\n",
       "      <td>35.0</td>\n",
       "      <td>1</td>\n",
       "      <td>0</td>\n",
       "      <td>53.1000</td>\n",
       "    </tr>\n",
       "    <tr>\n",
       "      <th>4</th>\n",
       "      <td>0</td>\n",
       "      <td>3</td>\n",
       "      <td>male</td>\n",
       "      <td>35.0</td>\n",
       "      <td>0</td>\n",
       "      <td>0</td>\n",
       "      <td>8.0500</td>\n",
       "    </tr>\n",
       "  </tbody>\n",
       "</table>\n",
       "</div>"
      ],
      "text/plain": [
       "   Survived  Pclass     Sex   Age  Siblings/Spouses Aboard  \\\n",
       "0         0       3    male  22.0                        1   \n",
       "1         1       1  female  38.0                        1   \n",
       "2         1       3  female  26.0                        0   \n",
       "3         1       1  female  35.0                        1   \n",
       "4         0       3    male  35.0                        0   \n",
       "\n",
       "   Parents/Children Aboard     Fare  \n",
       "0                        0   7.2500  \n",
       "1                        0  71.2833  \n",
       "2                        0   7.9250  \n",
       "3                        0  53.1000  \n",
       "4                        0   8.0500  "
      ]
     },
     "execution_count": 12,
     "metadata": {},
     "output_type": "execute_result"
    }
   ],
   "source": [
    "df.head()"
   ]
  },
  {
   "cell_type": "code",
   "execution_count": 13,
   "id": "august-affair",
   "metadata": {},
   "outputs": [],
   "source": [
    "df_num = df.copy()\n",
    "for c in ['Sex']:\n",
    "    codes, uniques = pd.factorize(df[c])\n",
    "    df_num[c] = codes"
   ]
  },
  {
   "cell_type": "code",
   "execution_count": 14,
   "id": "strategic-hamilton",
   "metadata": {},
   "outputs": [
    {
     "data": {
      "text/html": [
       "<div>\n",
       "<style scoped>\n",
       "    .dataframe tbody tr th:only-of-type {\n",
       "        vertical-align: middle;\n",
       "    }\n",
       "\n",
       "    .dataframe tbody tr th {\n",
       "        vertical-align: top;\n",
       "    }\n",
       "\n",
       "    .dataframe thead th {\n",
       "        text-align: right;\n",
       "    }\n",
       "</style>\n",
       "<table border=\"1\" class=\"dataframe\">\n",
       "  <thead>\n",
       "    <tr style=\"text-align: right;\">\n",
       "      <th></th>\n",
       "      <th>Survived</th>\n",
       "      <th>Pclass</th>\n",
       "      <th>Sex</th>\n",
       "      <th>Age</th>\n",
       "      <th>Siblings/Spouses Aboard</th>\n",
       "      <th>Parents/Children Aboard</th>\n",
       "      <th>Fare</th>\n",
       "    </tr>\n",
       "  </thead>\n",
       "  <tbody>\n",
       "    <tr>\n",
       "      <th>0</th>\n",
       "      <td>0</td>\n",
       "      <td>3</td>\n",
       "      <td>0</td>\n",
       "      <td>22.0</td>\n",
       "      <td>1</td>\n",
       "      <td>0</td>\n",
       "      <td>7.2500</td>\n",
       "    </tr>\n",
       "    <tr>\n",
       "      <th>1</th>\n",
       "      <td>1</td>\n",
       "      <td>1</td>\n",
       "      <td>1</td>\n",
       "      <td>38.0</td>\n",
       "      <td>1</td>\n",
       "      <td>0</td>\n",
       "      <td>71.2833</td>\n",
       "    </tr>\n",
       "    <tr>\n",
       "      <th>2</th>\n",
       "      <td>1</td>\n",
       "      <td>3</td>\n",
       "      <td>1</td>\n",
       "      <td>26.0</td>\n",
       "      <td>0</td>\n",
       "      <td>0</td>\n",
       "      <td>7.9250</td>\n",
       "    </tr>\n",
       "    <tr>\n",
       "      <th>3</th>\n",
       "      <td>1</td>\n",
       "      <td>1</td>\n",
       "      <td>1</td>\n",
       "      <td>35.0</td>\n",
       "      <td>1</td>\n",
       "      <td>0</td>\n",
       "      <td>53.1000</td>\n",
       "    </tr>\n",
       "    <tr>\n",
       "      <th>4</th>\n",
       "      <td>0</td>\n",
       "      <td>3</td>\n",
       "      <td>0</td>\n",
       "      <td>35.0</td>\n",
       "      <td>0</td>\n",
       "      <td>0</td>\n",
       "      <td>8.0500</td>\n",
       "    </tr>\n",
       "    <tr>\n",
       "      <th>...</th>\n",
       "      <td>...</td>\n",
       "      <td>...</td>\n",
       "      <td>...</td>\n",
       "      <td>...</td>\n",
       "      <td>...</td>\n",
       "      <td>...</td>\n",
       "      <td>...</td>\n",
       "    </tr>\n",
       "    <tr>\n",
       "      <th>882</th>\n",
       "      <td>0</td>\n",
       "      <td>2</td>\n",
       "      <td>0</td>\n",
       "      <td>27.0</td>\n",
       "      <td>0</td>\n",
       "      <td>0</td>\n",
       "      <td>13.0000</td>\n",
       "    </tr>\n",
       "    <tr>\n",
       "      <th>883</th>\n",
       "      <td>1</td>\n",
       "      <td>1</td>\n",
       "      <td>1</td>\n",
       "      <td>19.0</td>\n",
       "      <td>0</td>\n",
       "      <td>0</td>\n",
       "      <td>30.0000</td>\n",
       "    </tr>\n",
       "    <tr>\n",
       "      <th>884</th>\n",
       "      <td>0</td>\n",
       "      <td>3</td>\n",
       "      <td>1</td>\n",
       "      <td>7.0</td>\n",
       "      <td>1</td>\n",
       "      <td>2</td>\n",
       "      <td>23.4500</td>\n",
       "    </tr>\n",
       "    <tr>\n",
       "      <th>885</th>\n",
       "      <td>1</td>\n",
       "      <td>1</td>\n",
       "      <td>0</td>\n",
       "      <td>26.0</td>\n",
       "      <td>0</td>\n",
       "      <td>0</td>\n",
       "      <td>30.0000</td>\n",
       "    </tr>\n",
       "    <tr>\n",
       "      <th>886</th>\n",
       "      <td>0</td>\n",
       "      <td>3</td>\n",
       "      <td>0</td>\n",
       "      <td>32.0</td>\n",
       "      <td>0</td>\n",
       "      <td>0</td>\n",
       "      <td>7.7500</td>\n",
       "    </tr>\n",
       "  </tbody>\n",
       "</table>\n",
       "<p>887 rows × 7 columns</p>\n",
       "</div>"
      ],
      "text/plain": [
       "     Survived  Pclass  Sex   Age  Siblings/Spouses Aboard  \\\n",
       "0           0       3    0  22.0                        1   \n",
       "1           1       1    1  38.0                        1   \n",
       "2           1       3    1  26.0                        0   \n",
       "3           1       1    1  35.0                        1   \n",
       "4           0       3    0  35.0                        0   \n",
       "..        ...     ...  ...   ...                      ...   \n",
       "882         0       2    0  27.0                        0   \n",
       "883         1       1    1  19.0                        0   \n",
       "884         0       3    1   7.0                        1   \n",
       "885         1       1    0  26.0                        0   \n",
       "886         0       3    0  32.0                        0   \n",
       "\n",
       "     Parents/Children Aboard     Fare  \n",
       "0                          0   7.2500  \n",
       "1                          0  71.2833  \n",
       "2                          0   7.9250  \n",
       "3                          0  53.1000  \n",
       "4                          0   8.0500  \n",
       "..                       ...      ...  \n",
       "882                        0  13.0000  \n",
       "883                        0  30.0000  \n",
       "884                        2  23.4500  \n",
       "885                        0  30.0000  \n",
       "886                        0   7.7500  \n",
       "\n",
       "[887 rows x 7 columns]"
      ]
     },
     "execution_count": 14,
     "metadata": {},
     "output_type": "execute_result"
    }
   ],
   "source": [
    "df_num"
   ]
  },
  {
   "cell_type": "code",
   "execution_count": 15,
   "id": "difficult-moisture",
   "metadata": {},
   "outputs": [
    {
     "data": {
      "text/html": [
       "<div>\n",
       "<style scoped>\n",
       "    .dataframe tbody tr th:only-of-type {\n",
       "        vertical-align: middle;\n",
       "    }\n",
       "\n",
       "    .dataframe tbody tr th {\n",
       "        vertical-align: top;\n",
       "    }\n",
       "\n",
       "    .dataframe thead th {\n",
       "        text-align: right;\n",
       "    }\n",
       "</style>\n",
       "<table border=\"1\" class=\"dataframe\">\n",
       "  <thead>\n",
       "    <tr style=\"text-align: right;\">\n",
       "      <th></th>\n",
       "      <th>Survived</th>\n",
       "      <th>Pclass</th>\n",
       "      <th>Sex</th>\n",
       "      <th>Age</th>\n",
       "      <th>Siblings/Spouses Aboard</th>\n",
       "      <th>Parents/Children Aboard</th>\n",
       "      <th>Fare</th>\n",
       "    </tr>\n",
       "  </thead>\n",
       "  <tbody>\n",
       "    <tr>\n",
       "      <th>Survived</th>\n",
       "      <td>1.000000</td>\n",
       "      <td>0.204180</td>\n",
       "      <td>0.749062</td>\n",
       "      <td>0.184272</td>\n",
       "      <td>0.174540</td>\n",
       "      <td>0.145587</td>\n",
       "      <td>0.264291</td>\n",
       "    </tr>\n",
       "    <tr>\n",
       "      <th>Pclass</th>\n",
       "      <td>0.204180</td>\n",
       "      <td>1.000000</td>\n",
       "      <td>0.076596</td>\n",
       "      <td>0.434572</td>\n",
       "      <td>0.215666</td>\n",
       "      <td>0.029891</td>\n",
       "      <td>0.587869</td>\n",
       "    </tr>\n",
       "    <tr>\n",
       "      <th>Sex</th>\n",
       "      <td>0.749062</td>\n",
       "      <td>0.076596</td>\n",
       "      <td>1.000000</td>\n",
       "      <td>0.155930</td>\n",
       "      <td>0.191275</td>\n",
       "      <td>0.230240</td>\n",
       "      <td>0.175547</td>\n",
       "    </tr>\n",
       "    <tr>\n",
       "      <th>Age</th>\n",
       "      <td>0.184272</td>\n",
       "      <td>0.434572</td>\n",
       "      <td>0.155930</td>\n",
       "      <td>1.000000</td>\n",
       "      <td>0.398488</td>\n",
       "      <td>0.421156</td>\n",
       "      <td>0.155193</td>\n",
       "    </tr>\n",
       "    <tr>\n",
       "      <th>Siblings/Spouses Aboard</th>\n",
       "      <td>0.174540</td>\n",
       "      <td>0.215666</td>\n",
       "      <td>0.191275</td>\n",
       "      <td>0.398488</td>\n",
       "      <td>1.000000</td>\n",
       "      <td>0.589348</td>\n",
       "      <td>0.497033</td>\n",
       "    </tr>\n",
       "    <tr>\n",
       "      <th>Parents/Children Aboard</th>\n",
       "      <td>0.145587</td>\n",
       "      <td>0.029891</td>\n",
       "      <td>0.230240</td>\n",
       "      <td>0.421156</td>\n",
       "      <td>0.589348</td>\n",
       "      <td>1.000000</td>\n",
       "      <td>0.336506</td>\n",
       "    </tr>\n",
       "    <tr>\n",
       "      <th>Fare</th>\n",
       "      <td>0.264291</td>\n",
       "      <td>0.587869</td>\n",
       "      <td>0.175547</td>\n",
       "      <td>0.155193</td>\n",
       "      <td>0.497033</td>\n",
       "      <td>0.336506</td>\n",
       "      <td>1.000000</td>\n",
       "    </tr>\n",
       "  </tbody>\n",
       "</table>\n",
       "</div>"
      ],
      "text/plain": [
       "                         Survived    Pclass       Sex       Age  \\\n",
       "Survived                 1.000000  0.204180  0.749062  0.184272   \n",
       "Pclass                   0.204180  1.000000  0.076596  0.434572   \n",
       "Sex                      0.749062  0.076596  1.000000  0.155930   \n",
       "Age                      0.184272  0.434572  0.155930  1.000000   \n",
       "Siblings/Spouses Aboard  0.174540  0.215666  0.191275  0.398488   \n",
       "Parents/Children Aboard  0.145587  0.029891  0.230240  0.421156   \n",
       "Fare                     0.264291  0.587869  0.175547  0.155193   \n",
       "\n",
       "                         Siblings/Spouses Aboard  Parents/Children Aboard  \\\n",
       "Survived                                0.174540                 0.145587   \n",
       "Pclass                                  0.215666                 0.029891   \n",
       "Sex                                     0.191275                 0.230240   \n",
       "Age                                     0.398488                 0.421156   \n",
       "Siblings/Spouses Aboard                 1.000000                 0.589348   \n",
       "Parents/Children Aboard                 0.589348                 1.000000   \n",
       "Fare                                    0.497033                 0.336506   \n",
       "\n",
       "                             Fare  \n",
       "Survived                 0.264291  \n",
       "Pclass                   0.587869  \n",
       "Sex                      0.175547  \n",
       "Age                      0.155193  \n",
       "Siblings/Spouses Aboard  0.497033  \n",
       "Parents/Children Aboard  0.336506  \n",
       "Fare                     1.000000  "
      ]
     },
     "execution_count": 15,
     "metadata": {},
     "output_type": "execute_result"
    }
   ],
   "source": [
    "df_num.phik_matrix(interval_cols=['Age', 'Fare'])"
   ]
  },
  {
   "cell_type": "markdown",
   "id": "8cb9429b-f97f-4906-a6af-ac5d8049dd29",
   "metadata": {},
   "source": [
    "## Fit"
   ]
  },
  {
   "cell_type": "code",
   "execution_count": 16,
   "id": "64e470bd-8902-4149-a86d-b70aaf873a55",
   "metadata": {},
   "outputs": [],
   "source": [
    "from synthsonic.models.kde_copula_nn_pdf import KDECopulaNNPdf\n",
    "from sklearn.neural_network import MLPClassifier\n",
    "import xgboost as xgb"
   ]
  },
  {
   "cell_type": "code",
   "execution_count": 17,
   "id": "71193d61-7e50-4ca3-9764-791243b11b14",
   "metadata": {},
   "outputs": [],
   "source": [
    "import logging \n",
    "logging.basicConfig(level=logging.INFO)"
   ]
  },
  {
   "cell_type": "code",
   "execution_count": 18,
   "id": "859418c9-c963-42f5-82c9-487305946d9c",
   "metadata": {},
   "outputs": [],
   "source": [
    "clf = xgb.XGBClassifier(\n",
    "    n_estimators=100,\n",
    "    reg_lambda=1,\n",
    "    gamma=0,\n",
    "    max_depth=5\n",
    ")"
   ]
  },
  {
   "cell_type": "code",
   "execution_count": 19,
   "id": "genetic-divorce",
   "metadata": {},
   "outputs": [],
   "source": [
    "cat_cols_idx = [0, 1, 2, 4, 5]\n",
    "num_cols_idx = [3, 6]"
   ]
  },
  {
   "cell_type": "code",
   "execution_count": 20,
   "id": "secondary-guyana",
   "metadata": {},
   "outputs": [],
   "source": [
    "from phik.phik import phik_from_binned_array"
   ]
  },
  {
   "cell_type": "code",
   "execution_count": 21,
   "id": "3896ec09-a15d-4c07-9cca-fbda9a3a2f3b",
   "metadata": {},
   "outputs": [],
   "source": [
    "kde = KDECopulaNNPdf(use_KDE=False, estimator_type='auto-tan', n_uniform_bins=10, numerical_columns=num_cols_idx, categorical_columns=cat_cols_idx, n_quantiles=100, n_calibration_bins=40)"
   ]
  },
  {
   "cell_type": "code",
   "execution_count": 22,
   "id": "3ec88a3c-7a9c-49b9-9a7a-4a30c195323d",
   "metadata": {},
   "outputs": [
    {
     "name": "stderr",
     "output_type": "stream",
     "text": [
      "INFO:KDECopulaNNPdf:Processing 2 numerical and 5 categorical columns\n",
      "INFO:KDECopulaNNPdf:Transforming numerical variables.\n",
      "INFO:KDECopulaNNPdf:Configuring Bayesian Network (cat+num).\n",
      "INFO:KDECopulaNNPdf:n_uniform_bins = 10\n",
      "Building tree: 100%|██████████| 21/21.0 [00:00<00:00, 2634.30it/s]\n",
      "INFO:KDECopulaNNPdf:Configuring classifier.\n",
      "INFO:KDECopulaNNPdf:Generating 250576 data points.\n",
      "Generating for node: 5: 100%|██████████| 7/7 [00:01<00:00,  5.61it/s]\n",
      "INFO:KDECopulaNNPdf:Fitting discriminative learner: selected 7 features.\n",
      "INFO:KDECopulaNNPdf:Calibrating classifier.\n",
      "INFO:KDECopulaNNPdf:N_bins = 40\n",
      "/Users/rurlus/.pyenv/versions/3.8.5/envs/SYNTHSONIC/lib/python3.8/site-packages/sklearn/isotonic.py:71: UserWarning: Confidence interval of the Spearman correlation coefficient spans zero. Determination of ``increasing`` may be suspect.\n",
      "  warnings.warn(\"Confidence interval of the Spearman \"\n",
      "INFO:KDECopulaNNPdf:Maximum weight found: 1.4010193002142814\n"
     ]
    }
   ],
   "source": [
    "kde = kde.fit(df_num.values)"
   ]
  },
  {
   "cell_type": "code",
   "execution_count": 23,
   "id": "connected-mountain",
   "metadata": {},
   "outputs": [
    {
     "data": {
      "image/png": "[encoded data removed]",
      "text/plain": [
       "<Figure size 864x504 with 1 Axes>"
      ]
     },
     "metadata": {
      "needs_background": "light"
     },
     "output_type": "display_data"
    },
    {
     "name": "stderr",
     "output_type": "stream",
     "text": [
      "/Users/rurlus/.pyenv/versions/3.8.5/envs/SYNTHSONIC/lib/python3.8/site-packages/sklearn/isotonic.py:71: UserWarning: Confidence interval of the Spearman correlation coefficient spans zero. Determination of ``increasing`` may be suspect.\n",
      "  warnings.warn(\"Confidence interval of the Spearman \"\n",
      "INFO:KDECopulaNNPdf:Maximum weight found: 1.4010193002142814\n"
     ]
    },
    {
     "data": {
      "image/png": "[encoded data removed]",
      "text/plain": [
       "<Figure size 864x504 with 1 Axes>"
      ]
     },
     "metadata": {
      "needs_background": "light"
     },
     "output_type": "display_data"
    }
   ],
   "source": [
    "kde._calibrate_classifier(kde.hist_p0_, kde.hist_p1_, kde.bin_edges_, validation_plots=True)"
   ]
  },
  {
   "cell_type": "markdown",
   "id": "73695db8-4b82-4de0-a990-aee1ff669650",
   "metadata": {},
   "source": [
    "## Check significance"
   ]
  },
  {
   "cell_type": "code",
   "execution_count": 24,
   "id": "12aa9956-de3d-476e-b940-fa93a49540ac",
   "metadata": {},
   "outputs": [],
   "source": [
    "from phik.report import plot_correlation_matrix as phi_plot_correlation_matrix"
   ]
  },
  {
   "cell_type": "code",
   "execution_count": 25,
   "id": "58493c66-a654-4c88-af92-399f1bf3d71a",
   "metadata": {},
   "outputs": [],
   "source": [
    "import scipy"
   ]
  },
  {
   "cell_type": "code",
   "execution_count": 26,
   "id": "91a50453-3dce-4324-b6e5-d16d473f1225",
   "metadata": {},
   "outputs": [],
   "source": [
    "from sklearn.utils import check_array\n",
    "from sklearn.utils.validation import FLOAT_DTYPES # check_is_fitted, _deprecate_positional_args"
   ]
  },
  {
   "cell_type": "markdown",
   "id": "e2e1c515-c247-415e-84e3-0d5a869ea074",
   "metadata": {},
   "source": [
    "## Weighted sample"
   ]
  },
  {
   "cell_type": "code",
   "execution_count": 27,
   "id": "enabling-radius",
   "metadata": {},
   "outputs": [],
   "source": [
    "from synthsonic.models.kde_copula_nn_pdf import KDECopulaNNPdf"
   ]
  },
  {
   "cell_type": "code",
   "execution_count": 28,
   "id": "seventh-orleans",
   "metadata": {},
   "outputs": [],
   "source": [
    "X = df_num.values"
   ]
  },
  {
   "cell_type": "code",
   "execution_count": 29,
   "id": "collected-produce",
   "metadata": {},
   "outputs": [
    {
     "data": {
      "text/plain": [
       "array([[ 0.    ,  3.    ,  0.    , ...,  1.    ,  0.    ,  7.25  ],\n",
       "       [ 1.    ,  1.    ,  1.    , ...,  1.    ,  0.    , 71.2833],\n",
       "       [ 1.    ,  3.    ,  1.    , ...,  0.    ,  0.    ,  7.925 ],\n",
       "       ...,\n",
       "       [ 0.    ,  3.    ,  1.    , ...,  1.    ,  2.    , 23.45  ],\n",
       "       [ 1.    ,  1.    ,  0.    , ...,  0.    ,  0.    , 30.    ],\n",
       "       [ 0.    ,  3.    ,  0.    , ...,  0.    ,  0.    ,  7.75  ]])"
      ]
     },
     "execution_count": 29,
     "metadata": {},
     "output_type": "execute_result"
    }
   ],
   "source": [
    "X"
   ]
  },
  {
   "cell_type": "code",
   "execution_count": 30,
   "id": "several-packet",
   "metadata": {},
   "outputs": [],
   "source": [
    "X_bn = kde._transform_and_slice(X, discretize=True)"
   ]
  },
  {
   "cell_type": "code",
   "execution_count": 31,
   "id": "northern-veteran",
   "metadata": {},
   "outputs": [
    {
     "data": {
      "text/plain": [
       "array([[0., 3., 0., ..., 1., 0., 2.],\n",
       "       [1., 1., 1., ..., 1., 0., 6.],\n",
       "       [1., 3., 1., ..., 0., 0., 3.],\n",
       "       ...,\n",
       "       [0., 3., 1., ..., 1., 2., 8.],\n",
       "       [1., 1., 0., ..., 0., 0., 7.],\n",
       "       [0., 3., 0., ..., 0., 0., 1.]])"
      ]
     },
     "execution_count": 31,
     "metadata": {},
     "output_type": "execute_result"
    }
   ],
   "source": [
    "X_bn"
   ]
  },
  {
   "cell_type": "code",
   "execution_count": 32,
   "id": "committed-brunei",
   "metadata": {},
   "outputs": [
    {
     "name": "stderr",
     "output_type": "stream",
     "text": [
      "INFO:KDECopulaNNPdf:Generating 88700 data points.\n",
      "Generating for node: 5: 100%|██████████| 7/7 [00:00<00:00, 15.22it/s]\n"
     ]
    }
   ],
   "source": [
    "X_noweight = kde._sample_bayesian_network(size=100*X.shape[0], add_uniform=False)"
   ]
  },
  {
   "cell_type": "code",
   "execution_count": 190,
   "id": "9dc0b812-043c-4353-a8a5-aeead3992f1d",
   "metadata": {},
   "outputs": [
    {
     "data": {
      "text/plain": [
       "[0, 1, 2, 3, 4, 5, 6]"
      ]
     },
     "execution_count": 190,
     "metadata": {},
     "output_type": "execute_result"
    }
   ],
   "source": [
    "kde.nonlinear_indices_"
   ]
  },
  {
   "cell_type": "code",
   "execution_count": 33,
   "id": "original-cliff",
   "metadata": {},
   "outputs": [
    {
     "name": "stdout",
     "output_type": "stream",
     "text": [
      "0 2\n",
      "1 3\n",
      "2 2\n",
      "3 10\n",
      "4 7\n",
      "5 7\n",
      "6 10\n"
     ]
    }
   ],
   "source": [
    "for i in range(X_noweight.shape[1]):\n",
    "    print (i, len(np.unique(X_bn[:, i])))"
   ]
  },
  {
   "cell_type": "code",
   "execution_count": 34,
   "id": "moving-equivalent",
   "metadata": {},
   "outputs": [
    {
     "name": "stdout",
     "output_type": "stream",
     "text": [
      "0 2\n",
      "1 3\n",
      "2 2\n",
      "3 10\n",
      "4 7\n",
      "5 7\n",
      "6 10\n"
     ]
    }
   ],
   "source": [
    "for i in range(X_noweight.shape[1]):\n",
    "    print (i, len(np.unique(X_noweight[:, i])))"
   ]
  },
  {
   "cell_type": "code",
   "execution_count": 35,
   "id": "accepted-cheese",
   "metadata": {},
   "outputs": [
    {
     "data": {
      "text/plain": [
       "array([[0., 3., 0., ..., 0., 0., 0.],\n",
       "       [0., 2., 1., ..., 0., 0., 1.],\n",
       "       [1., 2., 1., ..., 1., 1., 4.],\n",
       "       ...,\n",
       "       [0., 1., 0., ..., 1., 0., 2.],\n",
       "       [0., 2., 0., ..., 0., 0., 6.],\n",
       "       [0., 3., 0., ..., 0., 0., 0.]])"
      ]
     },
     "execution_count": 35,
     "metadata": {},
     "output_type": "execute_result"
    }
   ],
   "source": [
    "X_noweight"
   ]
  },
  {
   "cell_type": "code",
   "execution_count": 36,
   "id": "substantial-ceramic",
   "metadata": {},
   "outputs": [],
   "source": [
    "X_weighted = kde.sample_no_weights(n_samples=100*X.shape[0])"
   ]
  },
  {
   "cell_type": "code",
   "execution_count": 37,
   "id": "flying-workstation",
   "metadata": {},
   "outputs": [],
   "source": [
    "X_weighted = kde._transform_and_slice(X_weighted, discretize=True)"
   ]
  },
  {
   "cell_type": "code",
   "execution_count": 38,
   "id": "afraid-bibliography",
   "metadata": {},
   "outputs": [
    {
     "data": {
      "text/plain": [
       "((887, 7), (88700, 7), (88700, 7))"
      ]
     },
     "execution_count": 38,
     "metadata": {},
     "output_type": "execute_result"
    }
   ],
   "source": [
    "X_bn.shape, X_noweight.shape, X_weighted.shape"
   ]
  },
  {
   "cell_type": "code",
   "execution_count": 39,
   "id": "premium-forestry",
   "metadata": {},
   "outputs": [
    {
     "data": {
      "text/plain": [
       "(array([0.10899411, 0.1120005 , 0.11112364, 0.10628836, 0.11276462,\n",
       "        0.11061005, 0.11121132, 0.11648503, 0.11042215, 0.11121132]),\n",
       " array([0. , 0.9, 1.8, 2.7, 3.6, 4.5, 5.4, 6.3, 7.2, 8.1, 9. ]),\n",
       " <a list of 10 Patch objects>)"
      ]
     },
     "execution_count": 39,
     "metadata": {},
     "output_type": "execute_result"
    },
    {
     "data": {
      "image/png": "[encoded data removed]",
      "text/plain": [
       "<Figure size 432x288 with 1 Axes>"
      ]
     },
     "metadata": {
      "needs_background": "light"
     },
     "output_type": "display_data"
    }
   ],
   "source": [
    "i = 6\n",
    "plt.hist(X_bn[:, i], bins = 10, density=True, alpha=0.5)\n",
    "plt.hist(X_noweight[:, i], bins = 10, density=True, alpha=0.5)"
   ]
  },
  {
   "cell_type": "code",
   "execution_count": 40,
   "id": "swiss-hardware",
   "metadata": {},
   "outputs": [
    {
     "data": {
      "text/plain": [
       "array([[0., 3., 0., ..., 1., 0., 2.],\n",
       "       [1., 1., 1., ..., 1., 0., 6.],\n",
       "       [1., 3., 1., ..., 0., 0., 3.],\n",
       "       ...,\n",
       "       [0., 3., 1., ..., 1., 2., 8.],\n",
       "       [1., 1., 0., ..., 0., 0., 7.],\n",
       "       [0., 3., 0., ..., 0., 0., 1.]])"
      ]
     },
     "execution_count": 40,
     "metadata": {},
     "output_type": "execute_result"
    }
   ],
   "source": [
    "X_bn"
   ]
  },
  {
   "cell_type": "code",
   "execution_count": 41,
   "id": "atlantic-seeking",
   "metadata": {},
   "outputs": [
    {
     "data": {
      "text/plain": [
       "array([[0., 3., 0., ..., 0., 0., 0.],\n",
       "       [0., 2., 1., ..., 0., 0., 1.],\n",
       "       [1., 2., 1., ..., 1., 1., 4.],\n",
       "       ...,\n",
       "       [0., 1., 0., ..., 1., 0., 2.],\n",
       "       [0., 2., 0., ..., 0., 0., 6.],\n",
       "       [0., 3., 0., ..., 0., 0., 0.]])"
      ]
     },
     "execution_count": 41,
     "metadata": {},
     "output_type": "execute_result"
    }
   ],
   "source": [
    "X_noweight"
   ]
  },
  {
   "cell_type": "code",
   "execution_count": 42,
   "id": "caring-victoria",
   "metadata": {},
   "outputs": [
    {
     "data": {
      "text/plain": [
       "array([[0., 3., 0., ..., 4., 1., 9.],\n",
       "       [0., 1., 0., ..., 1., 1., 5.],\n",
       "       [0., 2., 0., ..., 0., 0., 6.],\n",
       "       ...,\n",
       "       [1., 3., 1., ..., 0., 0., 5.],\n",
       "       [0., 2., 1., ..., 0., 0., 4.],\n",
       "       [0., 3., 0., ..., 0., 0., 2.]])"
      ]
     },
     "execution_count": 42,
     "metadata": {},
     "output_type": "execute_result"
    }
   ],
   "source": [
    "X_weighted"
   ]
  },
  {
   "cell_type": "code",
   "execution_count": 43,
   "id": "split-ensemble",
   "metadata": {},
   "outputs": [],
   "source": [
    "from synthsonic.models.phik_utils import phik_matrix"
   ]
  },
  {
   "cell_type": "code",
   "execution_count": 44,
   "id": "german-sphere",
   "metadata": {},
   "outputs": [
    {
     "name": "stderr",
     "output_type": "stream",
     "text": [
      "28it [00:00, 109.51it/s]\n",
      "28it [00:00, 111.28it/s]\n"
     ]
    }
   ],
   "source": [
    "pku = phik_matrix(X_bn, X_noweight)\n",
    "pkw = phik_matrix(X_bn, X_weighted)\n"
   ]
  },
  {
   "cell_type": "code",
   "execution_count": 45,
   "id": "demographic-porter",
   "metadata": {},
   "outputs": [],
   "source": [
    "import phik"
   ]
  },
  {
   "cell_type": "code",
   "execution_count": 46,
   "id": "absolute-doctrine",
   "metadata": {},
   "outputs": [],
   "source": [
    "from phik.phik import phik_matrix"
   ]
  },
  {
   "cell_type": "code",
   "execution_count": 47,
   "id": "sought-reservoir",
   "metadata": {},
   "outputs": [],
   "source": [
    "from phik import phik"
   ]
  },
  {
   "cell_type": "code",
   "execution_count": 48,
   "id": "floral-journalism",
   "metadata": {},
   "outputs": [],
   "source": [
    "from phik import config"
   ]
  },
  {
   "cell_type": "code",
   "execution_count": 49,
   "id": "collectible-passing",
   "metadata": {},
   "outputs": [],
   "source": [
    "df_bn = pd.DataFrame(X_bn)"
   ]
  },
  {
   "cell_type": "code",
   "execution_count": 50,
   "id": "subtle-collectible",
   "metadata": {},
   "outputs": [],
   "source": [
    "pkd = df_bn.phik_matrix(interval_cols=[])"
   ]
  },
  {
   "cell_type": "code",
   "execution_count": 51,
   "id": "facial-webster",
   "metadata": {},
   "outputs": [
    {
     "data": {
      "text/html": [
       "<div>\n",
       "<style scoped>\n",
       "    .dataframe tbody tr th:only-of-type {\n",
       "        vertical-align: middle;\n",
       "    }\n",
       "\n",
       "    .dataframe tbody tr th {\n",
       "        vertical-align: top;\n",
       "    }\n",
       "\n",
       "    .dataframe thead th {\n",
       "        text-align: right;\n",
       "    }\n",
       "</style>\n",
       "<table border=\"1\" class=\"dataframe\">\n",
       "  <thead>\n",
       "    <tr style=\"text-align: right;\">\n",
       "      <th></th>\n",
       "      <th>0</th>\n",
       "      <th>1</th>\n",
       "      <th>2</th>\n",
       "      <th>3</th>\n",
       "      <th>4</th>\n",
       "      <th>5</th>\n",
       "      <th>6</th>\n",
       "    </tr>\n",
       "  </thead>\n",
       "  <tbody>\n",
       "    <tr>\n",
       "      <th>0</th>\n",
       "      <td>1.000000</td>\n",
       "      <td>0.204180</td>\n",
       "      <td>0.749062</td>\n",
       "      <td>0.283591</td>\n",
       "      <td>0.174540</td>\n",
       "      <td>0.145587</td>\n",
       "      <td>0.359746</td>\n",
       "    </tr>\n",
       "    <tr>\n",
       "      <th>1</th>\n",
       "      <td>0.204180</td>\n",
       "      <td>1.000000</td>\n",
       "      <td>0.076596</td>\n",
       "      <td>0.722619</td>\n",
       "      <td>0.215666</td>\n",
       "      <td>0.029891</td>\n",
       "      <td>0.219995</td>\n",
       "    </tr>\n",
       "    <tr>\n",
       "      <th>2</th>\n",
       "      <td>0.749062</td>\n",
       "      <td>0.076596</td>\n",
       "      <td>1.000000</td>\n",
       "      <td>0.139220</td>\n",
       "      <td>0.191275</td>\n",
       "      <td>0.230240</td>\n",
       "      <td>0.360321</td>\n",
       "    </tr>\n",
       "    <tr>\n",
       "      <th>3</th>\n",
       "      <td>0.283591</td>\n",
       "      <td>0.722619</td>\n",
       "      <td>0.139220</td>\n",
       "      <td>1.000000</td>\n",
       "      <td>0.290678</td>\n",
       "      <td>0.165355</td>\n",
       "      <td>0.211729</td>\n",
       "    </tr>\n",
       "    <tr>\n",
       "      <th>4</th>\n",
       "      <td>0.174540</td>\n",
       "      <td>0.215666</td>\n",
       "      <td>0.191275</td>\n",
       "      <td>0.290678</td>\n",
       "      <td>1.000000</td>\n",
       "      <td>0.589348</td>\n",
       "      <td>0.472898</td>\n",
       "    </tr>\n",
       "    <tr>\n",
       "      <th>5</th>\n",
       "      <td>0.145587</td>\n",
       "      <td>0.029891</td>\n",
       "      <td>0.230240</td>\n",
       "      <td>0.165355</td>\n",
       "      <td>0.589348</td>\n",
       "      <td>1.000000</td>\n",
       "      <td>0.460085</td>\n",
       "    </tr>\n",
       "    <tr>\n",
       "      <th>6</th>\n",
       "      <td>0.359746</td>\n",
       "      <td>0.219995</td>\n",
       "      <td>0.360321</td>\n",
       "      <td>0.211729</td>\n",
       "      <td>0.472898</td>\n",
       "      <td>0.460085</td>\n",
       "      <td>1.000000</td>\n",
       "    </tr>\n",
       "  </tbody>\n",
       "</table>\n",
       "</div>"
      ],
      "text/plain": [
       "          0         1         2         3         4         5         6\n",
       "0  1.000000  0.204180  0.749062  0.283591  0.174540  0.145587  0.359746\n",
       "1  0.204180  1.000000  0.076596  0.722619  0.215666  0.029891  0.219995\n",
       "2  0.749062  0.076596  1.000000  0.139220  0.191275  0.230240  0.360321\n",
       "3  0.283591  0.722619  0.139220  1.000000  0.290678  0.165355  0.211729\n",
       "4  0.174540  0.215666  0.191275  0.290678  1.000000  0.589348  0.472898\n",
       "5  0.145587  0.029891  0.230240  0.165355  0.589348  1.000000  0.460085\n",
       "6  0.359746  0.219995  0.360321  0.211729  0.472898  0.460085  1.000000"
      ]
     },
     "execution_count": 51,
     "metadata": {},
     "output_type": "execute_result"
    }
   ],
   "source": [
    "pkd"
   ]
  },
  {
   "cell_type": "code",
   "execution_count": 52,
   "id": "valid-hayes",
   "metadata": {},
   "outputs": [
    {
     "data": {
      "text/html": [
       "<div>\n",
       "<style scoped>\n",
       "    .dataframe tbody tr th:only-of-type {\n",
       "        vertical-align: middle;\n",
       "    }\n",
       "\n",
       "    .dataframe tbody tr th {\n",
       "        vertical-align: top;\n",
       "    }\n",
       "\n",
       "    .dataframe thead th {\n",
       "        text-align: right;\n",
       "    }\n",
       "</style>\n",
       "<table border=\"1\" class=\"dataframe\">\n",
       "  <thead>\n",
       "    <tr style=\"text-align: right;\">\n",
       "      <th></th>\n",
       "      <th>0</th>\n",
       "      <th>1</th>\n",
       "      <th>2</th>\n",
       "      <th>3</th>\n",
       "      <th>4</th>\n",
       "      <th>5</th>\n",
       "      <th>6</th>\n",
       "    </tr>\n",
       "  </thead>\n",
       "  <tbody>\n",
       "    <tr>\n",
       "      <th>0</th>\n",
       "      <td>1.000000</td>\n",
       "      <td>0.000000</td>\n",
       "      <td>0.000000</td>\n",
       "      <td>0.0</td>\n",
       "      <td>0.090573</td>\n",
       "      <td>0.069716</td>\n",
       "      <td>0.166475</td>\n",
       "    </tr>\n",
       "    <tr>\n",
       "      <th>1</th>\n",
       "      <td>0.000000</td>\n",
       "      <td>1.000000</td>\n",
       "      <td>0.018037</td>\n",
       "      <td>0.0</td>\n",
       "      <td>0.083981</td>\n",
       "      <td>0.223191</td>\n",
       "      <td>0.196880</td>\n",
       "    </tr>\n",
       "    <tr>\n",
       "      <th>2</th>\n",
       "      <td>0.000000</td>\n",
       "      <td>0.018037</td>\n",
       "      <td>1.000000</td>\n",
       "      <td>0.0</td>\n",
       "      <td>0.000000</td>\n",
       "      <td>0.098463</td>\n",
       "      <td>0.000000</td>\n",
       "    </tr>\n",
       "    <tr>\n",
       "      <th>3</th>\n",
       "      <td>0.000000</td>\n",
       "      <td>0.000000</td>\n",
       "      <td>0.000000</td>\n",
       "      <td>1.0</td>\n",
       "      <td>0.000000</td>\n",
       "      <td>0.000000</td>\n",
       "      <td>0.000000</td>\n",
       "    </tr>\n",
       "    <tr>\n",
       "      <th>4</th>\n",
       "      <td>0.090573</td>\n",
       "      <td>0.083981</td>\n",
       "      <td>0.000000</td>\n",
       "      <td>0.0</td>\n",
       "      <td>1.000000</td>\n",
       "      <td>0.000000</td>\n",
       "      <td>0.000000</td>\n",
       "    </tr>\n",
       "    <tr>\n",
       "      <th>5</th>\n",
       "      <td>0.069716</td>\n",
       "      <td>0.223191</td>\n",
       "      <td>0.098463</td>\n",
       "      <td>0.0</td>\n",
       "      <td>0.000000</td>\n",
       "      <td>1.000000</td>\n",
       "      <td>0.000000</td>\n",
       "    </tr>\n",
       "    <tr>\n",
       "      <th>6</th>\n",
       "      <td>0.166475</td>\n",
       "      <td>0.196880</td>\n",
       "      <td>0.000000</td>\n",
       "      <td>0.0</td>\n",
       "      <td>0.000000</td>\n",
       "      <td>0.000000</td>\n",
       "      <td>1.000000</td>\n",
       "    </tr>\n",
       "  </tbody>\n",
       "</table>\n",
       "</div>"
      ],
      "text/plain": [
       "          0         1         2    3         4         5         6\n",
       "0  1.000000  0.000000  0.000000  0.0  0.090573  0.069716  0.166475\n",
       "1  0.000000  1.000000  0.018037  0.0  0.083981  0.223191  0.196880\n",
       "2  0.000000  0.018037  1.000000  0.0  0.000000  0.098463  0.000000\n",
       "3  0.000000  0.000000  0.000000  1.0  0.000000  0.000000  0.000000\n",
       "4  0.090573  0.083981  0.000000  0.0  1.000000  0.000000  0.000000\n",
       "5  0.069716  0.223191  0.098463  0.0  0.000000  1.000000  0.000000\n",
       "6  0.166475  0.196880  0.000000  0.0  0.000000  0.000000  1.000000"
      ]
     },
     "execution_count": 52,
     "metadata": {},
     "output_type": "execute_result"
    }
   ],
   "source": [
    "pku"
   ]
  },
  {
   "cell_type": "code",
   "execution_count": 53,
   "id": "vanilla-massachusetts",
   "metadata": {},
   "outputs": [
    {
     "data": {
      "text/html": [
       "<div>\n",
       "<style scoped>\n",
       "    .dataframe tbody tr th:only-of-type {\n",
       "        vertical-align: middle;\n",
       "    }\n",
       "\n",
       "    .dataframe tbody tr th {\n",
       "        vertical-align: top;\n",
       "    }\n",
       "\n",
       "    .dataframe thead th {\n",
       "        text-align: right;\n",
       "    }\n",
       "</style>\n",
       "<table border=\"1\" class=\"dataframe\">\n",
       "  <thead>\n",
       "    <tr style=\"text-align: right;\">\n",
       "      <th></th>\n",
       "      <th>0</th>\n",
       "      <th>1</th>\n",
       "      <th>2</th>\n",
       "      <th>3</th>\n",
       "      <th>4</th>\n",
       "      <th>5</th>\n",
       "      <th>6</th>\n",
       "    </tr>\n",
       "  </thead>\n",
       "  <tbody>\n",
       "    <tr>\n",
       "      <th>0</th>\n",
       "      <td>1.000000</td>\n",
       "      <td>0.000000</td>\n",
       "      <td>0.000000</td>\n",
       "      <td>0.0</td>\n",
       "      <td>0.086012</td>\n",
       "      <td>0.048649</td>\n",
       "      <td>0.137116</td>\n",
       "    </tr>\n",
       "    <tr>\n",
       "      <th>1</th>\n",
       "      <td>0.000000</td>\n",
       "      <td>1.000000</td>\n",
       "      <td>0.030910</td>\n",
       "      <td>0.0</td>\n",
       "      <td>0.078507</td>\n",
       "      <td>0.180534</td>\n",
       "      <td>0.148642</td>\n",
       "    </tr>\n",
       "    <tr>\n",
       "      <th>2</th>\n",
       "      <td>0.000000</td>\n",
       "      <td>0.030910</td>\n",
       "      <td>1.000000</td>\n",
       "      <td>0.0</td>\n",
       "      <td>0.000000</td>\n",
       "      <td>0.106759</td>\n",
       "      <td>0.000000</td>\n",
       "    </tr>\n",
       "    <tr>\n",
       "      <th>3</th>\n",
       "      <td>0.000000</td>\n",
       "      <td>0.000000</td>\n",
       "      <td>0.000000</td>\n",
       "      <td>1.0</td>\n",
       "      <td>0.000000</td>\n",
       "      <td>0.000000</td>\n",
       "      <td>0.000000</td>\n",
       "    </tr>\n",
       "    <tr>\n",
       "      <th>4</th>\n",
       "      <td>0.086012</td>\n",
       "      <td>0.078507</td>\n",
       "      <td>0.000000</td>\n",
       "      <td>0.0</td>\n",
       "      <td>1.000000</td>\n",
       "      <td>0.000000</td>\n",
       "      <td>0.000000</td>\n",
       "    </tr>\n",
       "    <tr>\n",
       "      <th>5</th>\n",
       "      <td>0.048649</td>\n",
       "      <td>0.180534</td>\n",
       "      <td>0.106759</td>\n",
       "      <td>0.0</td>\n",
       "      <td>0.000000</td>\n",
       "      <td>1.000000</td>\n",
       "      <td>0.000000</td>\n",
       "    </tr>\n",
       "    <tr>\n",
       "      <th>6</th>\n",
       "      <td>0.137116</td>\n",
       "      <td>0.148642</td>\n",
       "      <td>0.000000</td>\n",
       "      <td>0.0</td>\n",
       "      <td>0.000000</td>\n",
       "      <td>0.000000</td>\n",
       "      <td>1.000000</td>\n",
       "    </tr>\n",
       "  </tbody>\n",
       "</table>\n",
       "</div>"
      ],
      "text/plain": [
       "          0         1         2    3         4         5         6\n",
       "0  1.000000  0.000000  0.000000  0.0  0.086012  0.048649  0.137116\n",
       "1  0.000000  1.000000  0.030910  0.0  0.078507  0.180534  0.148642\n",
       "2  0.000000  0.030910  1.000000  0.0  0.000000  0.106759  0.000000\n",
       "3  0.000000  0.000000  0.000000  1.0  0.000000  0.000000  0.000000\n",
       "4  0.086012  0.078507  0.000000  0.0  1.000000  0.000000  0.000000\n",
       "5  0.048649  0.180534  0.106759  0.0  0.000000  1.000000  0.000000\n",
       "6  0.137116  0.148642  0.000000  0.0  0.000000  0.000000  1.000000"
      ]
     },
     "execution_count": 53,
     "metadata": {},
     "output_type": "execute_result"
    }
   ],
   "source": [
    "pkw"
   ]
  },
  {
   "cell_type": "code",
   "execution_count": 170,
   "id": "be6c2db9-487a-446e-9ac2-2b6b5c957252",
   "metadata": {},
   "outputs": [],
   "source": [
    "df = df.rename(columns={'Siblings/Spouses Aboard': 'Sib...Aboard', 'Parents/Children Aboard': 'Par...Aboard'})"
   ]
  },
  {
   "cell_type": "code",
   "execution_count": 171,
   "id": "revolutionary-china",
   "metadata": {},
   "outputs": [
    {
     "data": {
      "text/plain": [
       "Index(['Survived', 'Pclass', 'Sex', 'Age', 'Sib...Aboard', 'Par...Aboard',\n",
       "       'Fare'],\n",
       "      dtype='object')"
      ]
     },
     "execution_count": 171,
     "metadata": {},
     "output_type": "execute_result"
    }
   ],
   "source": [
    "df.columns"
   ]
  },
  {
   "cell_type": "code",
   "execution_count": 172,
   "id": "elect-sugar",
   "metadata": {},
   "outputs": [],
   "source": [
    "columns = df.columns.to_list()\n",
    "columns[3] = '$X_{bn}[0]$'\n",
    "columns[6] = '$X_{bn}[1]$'"
   ]
  },
  {
   "cell_type": "code",
   "execution_count": 173,
   "id": "eba5fad7-fe3a-45c9-b2bb-c783ce30d4c7",
   "metadata": {},
   "outputs": [
    {
     "data": {
      "image/png": "[encoded data removed]",
      "text/plain": [
       "<Figure size 432x288 with 1 Axes>"
      ]
     },
     "metadata": {
      "needs_background": "light"
     },
     "output_type": "display_data"
    }
   ],
   "source": [
    "vmin = 0\n",
    "vmax = 1\n",
    "color_map = 'Blues'\n",
    "norm = plt_colors.Normalize(vmin=vmin, vmax=vmax)\n",
    "img = plt.pcolormesh(pkd.values, cmap=color_map, edgecolor='w', linewidth=1, norm=norm);"
   ]
  },
  {
   "cell_type": "code",
   "execution_count": 188,
   "id": "a56e5b26-870a-44bd-b920-36df2637a3b4",
   "metadata": {},
   "outputs": [],
   "source": [
    "pk_or = df.phik_matrix(interval_cols=['Fare', 'Age'])"
   ]
  },
  {
   "cell_type": "code",
   "execution_count": 194,
   "id": "b681c9f5-9c04-4f50-94d8-e4fe2134e237",
   "metadata": {},
   "outputs": [
    {
     "data": {
      "text/plain": [
       "5.06"
      ]
     },
     "execution_count": 194,
     "metadata": {},
     "output_type": "execute_result"
    }
   ],
   "source": [
    "4.6 * 1.1"
   ]
  },
  {
   "cell_type": "code",
   "execution_count": 189,
   "id": "e5bd57d6-5c23-438d-b4a8-f78542944bc6",
   "metadata": {},
   "outputs": [
    {
     "data": {
      "image/png": "[encoded data removed]",
      "text/plain": [
       "<Figure size 504x504 with 1 Axes>"
      ]
     },
     "metadata": {
      "needs_background": "light"
     },
     "output_type": "display_data"
    }
   ],
   "source": [
    "figsize = (7, 7)\n",
    "rect = [0.2, 0.2, 0.7, 0.7]\n",
    "\n",
    "fig = plt.figure(figsize=figsize)\n",
    "ax1 = fig.add_axes(rect)\n",
    "\n",
    "plot_correlation_matrix(\n",
    "    pk_or.values,\n",
    "    fig=fig,\n",
    "    ax=ax1,\n",
    "    x_labels=df.columns.to_list(),\n",
    "    y_labels=df.columns.to_list(), \n",
    "    vmin=vmin,\n",
    "    vmax=vmax,\n",
    "    color_map=color_map,\n",
    "    title=r'$\\phi_K$ Original',\n",
    "    fontsize_factor=1.5,\n",
    ")\n",
    "#ax1.set_yticklabels(ax1.get_yticklabels(), rotation=45)\n",
    "fig.savefig(f'{data_set}_phik_original.pdf', dpi=600)"
   ]
  },
  {
   "cell_type": "code",
   "execution_count": 175,
   "id": "84074cfb-c357-41e8-b056-d5cbfe3ddb69",
   "metadata": {},
   "outputs": [
    {
     "data": {
      "image/png": "[encoded data removed]",
      "text/plain": [
       "<Figure size 504x504 with 1 Axes>"
      ]
     },
     "metadata": {
      "needs_background": "light"
     },
     "output_type": "display_data"
    }
   ],
   "source": [
    "figsize = (7, 7)\n",
    "rect = [0.2, 0.2, 0.7, 0.7]\n",
    "\n",
    "fig = plt.figure(figsize=figsize)\n",
    "ax1 = fig.add_axes(rect)\n",
    "\n",
    "plot_correlation_matrix(\n",
    "    pku.values,\n",
    "    fig=fig,\n",
    "    ax=ax1,\n",
    "    x_labels=columns,\n",
    "    y_labels=columns, \n",
    "    vmin=vmin,\n",
    "    vmax=vmax,\n",
    "    color_map=color_map,\n",
    "    title=r'$\\phi_K$ Copula Bayesian Network',\n",
    "    fontsize_factor=1.5,\n",
    ")\n",
    "ax1.set_yticklabels([])\n",
    "fig.savefig(f'{data_set}_phik_copula_bn.pdf', dpi=600)"
   ]
  },
  {
   "cell_type": "code",
   "execution_count": 192,
   "id": "dbc099b4-7469-4c43-a278-8bd7694f93ea",
   "metadata": {
    "tags": []
   },
   "outputs": [
    {
     "data": {
      "image/png": "[encoded data removed]",
      "text/plain": [
       "<Figure size 554.4x504 with 2 Axes>"
      ]
     },
     "metadata": {
      "needs_background": "light"
     },
     "output_type": "display_data"
    }
   ],
   "source": [
    "figsize = (7, 7)\n",
    "rect = [0.2, 0.2, 0.7, 0.7]\n",
    "\n",
    "fig, ax1, ax2 = split_figure_vertical(figsize, 0.1, rect, [-0.4, 0.2, 0.7, 0.7])\n",
    "plot_correlation_matrix(\n",
    "    pkw.values,\n",
    "    fig=fig,\n",
    "    ax=ax1,\n",
    "    x_labels=columns,\n",
    "    y_labels=columns, \n",
    "    vmin=vmin,\n",
    "    vmax=vmax,\n",
    "    color_map=color_map,\n",
    "    title=r'$\\phi_K$ callibrated learner',\n",
    "    fontsize_factor=1.5,\n",
    ")\n",
    "ax1.set_yticklabels([])\n",
    "cb = plt.colorbar(img, cax=ax2, pad=0.01)\n",
    "cb.ax.tick_params(labelsize=15)\n",
    "fig.savefig(f'{data_set}_phik_calibrated_learner.pdf', dpi=600)"
   ]
  },
  {
   "cell_type": "code",
   "execution_count": null,
   "id": "95848cfc-e619-47f6-9041-9d5c28877278",
   "metadata": {},
   "outputs": [],
   "source": []
  }
 ],
 "metadata": {
  "kernelspec": {
   "display_name": "Python 3",
   "language": "python",
   "name": "python3"
  },
  "language_info": {
   "codemirror_mode": {
    "name": "ipython",
    "version": 3
   },
   "file_extension": ".py",
   "mimetype": "text/x-python",
   "name": "python",
   "nbconvert_exporter": "python",
   "pygments_lexer": "ipython3",
   "version": "3.8.5"
  }
 },
 "nbformat": 4,
 "nbformat_minor": 5
}
