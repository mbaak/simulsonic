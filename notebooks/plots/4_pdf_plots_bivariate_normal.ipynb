{
 "cells": [
  {
   "cell_type": "markdown",
   "metadata": {},
   "source": [
    "## PDF bi-variate normal plot\n",
    "\n",
    "This notebook generates the bivariate normal plot, Fig 4 (Appendix) in the paper -- Synthsonic: Fast, Probabilistic modeling and Synthesis of Tabular Data"
   ]
  },
  {
   "cell_type": "code",
   "execution_count": null,
   "metadata": {},
   "outputs": [],
   "source": [
    "import logging\n",
    "\n",
    "import pandas as pd\n",
    "import numpy as np\n",
    "import matplotlib\n",
    "import matplotlib.pyplot as plt\n",
    "import seaborn as sns\n",
    "import xgboost as xgb\n",
    "\n",
    "from scipy.stats import norm\n",
    "from scipy.stats import multivariate_normal\n",
    "from sklearn.neural_network import MLPClassifier\n",
    "\n",
    "from synthsonic.models.kde_copula_nn_pdf import KDECopulaNNPdf"
   ]
  },
  {
   "cell_type": "markdown",
   "metadata": {},
   "source": [
    "## Config"
   ]
  },
  {
   "cell_type": "code",
   "execution_count": null,
   "metadata": {},
   "outputs": [],
   "source": [
    "np.random.seed(42)"
   ]
  },
  {
   "cell_type": "code",
   "execution_count": null,
   "metadata": {},
   "outputs": [],
   "source": [
    "SAVE_PLOTS = True"
   ]
  },
  {
   "cell_type": "code",
   "execution_count": null,
   "metadata": {},
   "outputs": [],
   "source": [
    "dataset_name = 'bivariate_normal'"
   ]
  },
  {
   "cell_type": "code",
   "execution_count": null,
   "metadata": {},
   "outputs": [],
   "source": [
    "logging.basicConfig(level=logging.INFO)"
   ]
  },
  {
   "cell_type": "code",
   "execution_count": null,
   "metadata": {},
   "outputs": [],
   "source": [
    "matplotlib.rcParams['pdf.fonttype'] = 42\n",
    "matplotlib.rcParams['ps.fonttype'] = 42\n",
    "plt.rcParams['text.color'] = 'black'\n",
    "plt.rcParams['figure.max_open_warning'] = 0\n",
    "colors = [i['color'] for i in plt.rcParams['axes.prop_cycle']]\n",
    "markers = ['o', 's', 'p', 'x', '^', '+', '*', '<', 'D', 'h', '>']\n",
    "%matplotlib inline"
   ]
  },
  {
   "cell_type": "markdown",
   "metadata": {},
   "source": [
    "## Data"
   ]
  },
  {
   "cell_type": "code",
   "execution_count": null,
   "metadata": {},
   "outputs": [],
   "source": [
    "# generate bivariate gaussian with correlation\n",
    "mux = 0\n",
    "muy = 0\n",
    "sigmax = 1\n",
    "sigmay = 1\n",
    "rho = 0.7\n",
    "N = 100000\n",
    "\n",
    "X = np.random.multivariate_normal(\n",
    "    [mux, muy],\n",
    "    [\n",
    "        [sigmax * sigmax, rho * sigmax * sigmay],\n",
    "        [rho * sigmax * sigmay, sigmay * sigmay]\n",
    "    ],\n",
    "    size=N\n",
    ")"
   ]
  },
  {
   "cell_type": "markdown",
   "metadata": {},
   "source": [
    "## Fit"
   ]
  },
  {
   "cell_type": "code",
   "execution_count": null,
   "metadata": {},
   "outputs": [],
   "source": [
    "pdf = KDECopulaNNPdf(rho=0.4)\n",
    "pdf = pdf.fit(X)"
   ]
  },
  {
   "cell_type": "code",
   "execution_count": null,
   "metadata": {},
   "outputs": [],
   "source": [
    "pdf._calibrate_classifier(pdf.hist_p0_, pdf.hist_p1_, pdf.bin_edges_, validation_plots=True)"
   ]
  },
  {
   "cell_type": "code",
   "execution_count": null,
   "metadata": {},
   "outputs": [],
   "source": [
    "pdf.score(X)"
   ]
  },
  {
   "cell_type": "code",
   "execution_count": null,
   "metadata": {},
   "outputs": [],
   "source": [
    "p = pdf.pdf(X)\n",
    "logp = pdf.logpdf(X)"
   ]
  },
  {
   "cell_type": "code",
   "execution_count": null,
   "metadata": {},
   "outputs": [],
   "source": [
    "p[:10]"
   ]
  },
  {
   "cell_type": "code",
   "execution_count": null,
   "metadata": {},
   "outputs": [],
   "source": [
    "values = np.array([0.19397825, 0.05675388, 0.21877299, 0.04740699, 0.17337092,\n",
    "       0.1757445 , 0.0333854 , 0.04177411, 0.12712715, 0.05748896])"
   ]
  },
  {
   "cell_type": "code",
   "execution_count": null,
   "metadata": {},
   "outputs": [],
   "source": [
    "plt.scatter(values, p[:10])\n",
    "plt.plot(values, values)"
   ]
  },
  {
   "cell_type": "code",
   "execution_count": null,
   "metadata": {},
   "outputs": [],
   "source": [
    "# theoretical pdf values\n",
    "rv = multivariate_normal(\n",
    "    [mux, muy],\n",
    "    [\n",
    "        [sigmax * sigmax, rho * sigmax * sigmay],\n",
    "        [rho * sigmax * sigmay, sigmay * sigmay]\n",
    "    ]\n",
    ")\n",
    "p2 = rv.pdf(X)\n",
    "logp2 = np.log(p2)"
   ]
  },
  {
   "cell_type": "code",
   "execution_count": null,
   "metadata": {},
   "outputs": [],
   "source": [
    "X_gen = pdf.sample_no_weights(n_samples=X.shape[0] * 10, mode='cheap')\n",
    "\n",
    "s_cov = np.round(np.cov(X_gen.T), 3)[0, 1]\n",
    "s_mu = np.round(X_gen.mean(), 3)\n",
    "print('mu_hat: ', s_mu)\n",
    "print('cov_hat: ', s_cov)"
   ]
  },
  {
   "cell_type": "code",
   "execution_count": null,
   "metadata": {},
   "outputs": [],
   "source": [
    "# compare the two\n",
    "x = np.linspace(0, 0.223, 100)\n",
    "fig, ax = plt.subplots(figsize=(7, 4))\n",
    "ax.plot(x, x, lw=3, ls='--', zorder=10, color='black')\n",
    "ax.scatter(p2, p, s=0.005, color=colors[0], marker='x')\n",
    "ax.set_xlabel(r'$X$', fontsize=18)\n",
    "ax.set_ylabel(r'$X_{\\rm syn}$', fontsize=18)\n",
    "ax.set_ylim(-0.03, 0.35)\n",
    "ax.tick_params(labelsize=16)\n",
    "if SAVE_PLOTS:\n",
    "    fig.savefig(f'{dataset_name}_pdf_rv_vs_gen.pdf', dpi=600, bbox_inches='tight')"
   ]
  },
  {
   "cell_type": "code",
   "execution_count": null,
   "metadata": {},
   "outputs": [],
   "source": [
    "# compare the two\n",
    "x = np.linspace(-12.5, -1.47, 100)\n",
    "fig, ax = plt.subplots(figsize=(7, 4))\n",
    "ax.plot(x, x, lw=3, ls='--', zorder=10, color='black')\n",
    "ax.scatter(logp2, logp, s=2, color=colors[0])\n",
    "ax.set_xlabel(r'$X$', fontsize=18)\n",
    "ax.set_ylabel(r'$X_{\\rm syn}$', fontsize=18)\n",
    "ax.tick_params(labelsize=16)\n",
    "if SAVE_PLOTS:\n",
    "    fig.savefig(f'{dataset_name}_log_pdf_rv_vs_gen.pdf', dpi=600, bbox_inches='tight')"
   ]
  },
  {
   "cell_type": "code",
   "execution_count": null,
   "metadata": {},
   "outputs": [],
   "source": [
    "dp = p - p2\n",
    "np.mean(dp), np.std(dp, ddof=1)"
   ]
  },
  {
   "cell_type": "code",
   "execution_count": null,
   "metadata": {},
   "outputs": [],
   "source": [
    "fig, ax = plt.subplots(figsize=(12, 8))\n",
    "ax.hist(dp, bins='auto');"
   ]
  }
 ],
 "metadata": {
  "kernelspec": {
   "display_name": "Python 3",
   "language": "python",
   "name": "python3"
  },
  "language_info": {
   "codemirror_mode": {
    "name": "ipython",
    "version": 3
   },
   "file_extension": ".py",
   "mimetype": "text/x-python",
   "name": "python",
   "nbconvert_exporter": "python",
   "pygments_lexer": "ipython3",
   "version": "3.8.5"
  }
 },
 "nbformat": 4,
 "nbformat_minor": 4
}
