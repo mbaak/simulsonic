{
 "cells": [
  {
   "cell_type": "code",
   "execution_count": 1,
   "metadata": {},
   "outputs": [],
   "source": [
    "%load_ext autoreload\n",
    "%autoreload 2"
   ]
  },
  {
   "cell_type": "markdown",
   "metadata": {},
   "source": [
    "!pip install -q -U git+https://github.com/sbrugman/SDGym.git@v0.2.2-hw"
   ]
  },
  {
   "cell_type": "markdown",
   "metadata": {},
   "source": [
    "!pip install -q -U ../../"
   ]
  },
  {
   "cell_type": "code",
   "execution_count": 2,
   "metadata": {},
   "outputs": [],
   "source": [
    "from timeit import default_timer as timer\n",
    "from functools import partial\n",
    "from random import choices\n",
    "import logging"
   ]
  },
  {
   "cell_type": "code",
   "execution_count": 3,
   "metadata": {},
   "outputs": [],
   "source": [
    "import sdgym\n",
    "from sdgym import load_dataset\n",
    "from sdgym import benchmark\n",
    "from sdgym import load_dataset"
   ]
  },
  {
   "cell_type": "code",
   "execution_count": 4,
   "metadata": {},
   "outputs": [],
   "source": [
    "import numpy as np\n",
    "import pandas as pd\n",
    "import matplotlib.pyplot as plt\n",
    "import networkx as nx"
   ]
  },
  {
   "cell_type": "code",
   "execution_count": 5,
   "metadata": {},
   "outputs": [],
   "source": [
    "import pgmpy\n",
    "\n",
    "from pgmpy.models import BayesianModel\n",
    "from pgmpy.estimators import TreeSearch, HillClimbSearch, BicScore, ExhaustiveSearch, BayesianEstimator\n",
    "from pgmpy.sampling import BayesianModelSampling"
   ]
  },
  {
   "cell_type": "code",
   "execution_count": 6,
   "metadata": {},
   "outputs": [],
   "source": [
    "import xgboost as xgb\n",
    "from xgboost import XGBClassifier"
   ]
  },
  {
   "cell_type": "code",
   "execution_count": 7,
   "metadata": {},
   "outputs": [],
   "source": [
    "from sklearn.neural_network import MLPClassifier\n",
    "from sklearn.svm import SVC\n",
    "from sklearn.model_selection import train_test_split\n",
    "from sklearn.isotonic import IsotonicRegression"
   ]
  },
  {
   "cell_type": "code",
   "execution_count": 8,
   "metadata": {},
   "outputs": [],
   "source": [
    "from sklearn.metrics import (\n",
    "    mutual_info_score,\n",
    "    adjusted_mutual_info_score,\n",
    "    normalized_mutual_info_score,\n",
    ")"
   ]
  },
  {
   "cell_type": "code",
   "execution_count": 9,
   "metadata": {},
   "outputs": [],
   "source": [
    "from scipy import interpolate"
   ]
  },
  {
   "cell_type": "code",
   "execution_count": 10,
   "metadata": {},
   "outputs": [],
   "source": [
    "from phik.phik import phik_from_binned_array"
   ]
  },
  {
   "cell_type": "code",
   "execution_count": 11,
   "metadata": {},
   "outputs": [],
   "source": [
    "from synthsonic.models.kde_utils import kde_smooth_peaks_1dim, kde_smooth_peaks\n",
    "from synthsonic.models.kde_copula_nn_pdf import KDECopulaNNPdf"
   ]
  },
  {
   "cell_type": "code",
   "execution_count": 46,
   "metadata": {},
   "outputs": [],
   "source": [
    "import matplotlib.pyplot as plt\n",
    "plt.rcParams['text.color'] = 'black'\n",
    "plt.rcParams['figure.max_open_warning'] = 0\n",
    "colors = [i['color'] for i in plt.rcParams['axes.prop_cycle']]\n",
    "markers = ['o', 's', 'p', 'x', '^', '+', '*', '<', 'D', 'h', '>']\n",
    "%matplotlib inline"
   ]
  },
  {
   "cell_type": "code",
   "execution_count": 13,
   "metadata": {},
   "outputs": [],
   "source": [
    "logging.basicConfig(level=logging.INFO)"
   ]
  },
  {
   "cell_type": "code",
   "execution_count": 14,
   "metadata": {},
   "outputs": [],
   "source": [
    "dataset_name = 'adult'"
   ]
  },
  {
   "cell_type": "code",
   "execution_count": 15,
   "metadata": {},
   "outputs": [
    {
     "name": "stderr",
     "output_type": "stream",
     "text": [
      "INFO:sdgym.data:Loading dataset adult\n"
     ]
    }
   ],
   "source": [
    "data, categorical_columns, ordinal_columns = load_dataset(dataset_name)"
   ]
  },
  {
   "cell_type": "code",
   "execution_count": 16,
   "metadata": {},
   "outputs": [
    {
     "data": {
      "text/plain": [
       "(22561, 15)"
      ]
     },
     "execution_count": 16,
     "metadata": {},
     "output_type": "execute_result"
    }
   ],
   "source": [
    "data.shape"
   ]
  },
  {
   "cell_type": "code",
   "execution_count": 17,
   "metadata": {},
   "outputs": [
    {
     "data": {
      "text/plain": [
       "([1, 5, 6, 7, 8, 9, 13, 14], [3])"
      ]
     },
     "execution_count": 17,
     "metadata": {},
     "output_type": "execute_result"
    }
   ],
   "source": [
    "categorical_columns, ordinal_columns"
   ]
  },
  {
   "cell_type": "code",
   "execution_count": 18,
   "metadata": {},
   "outputs": [
    {
     "name": "stdout",
     "output_type": "stream",
     "text": [
      "0 72\n",
      "1 9\n",
      "2 16469\n",
      "3 16\n",
      "4 16\n",
      "5 7\n",
      "6 15\n",
      "7 6\n",
      "8 5\n",
      "9 2\n",
      "10 115\n",
      "11 87\n",
      "12 88\n",
      "13 41\n",
      "14 2\n"
     ]
    }
   ],
   "source": [
    "for i in range(data.shape[1]):\n",
    "    print (i, len(np.unique(data[:, i])))"
   ]
  },
  {
   "cell_type": "code",
   "execution_count": 19,
   "metadata": {},
   "outputs": [
    {
     "data": {
      "text/plain": [
       "(array([17088.,     0.,     0.,     0.,     0.,     0.,     0.,     0.,\n",
       "            0.,     0.,     0.,     0.,     0.,     0.,     0.,     0.,\n",
       "            0.,     0.,     0.,     0.,     0.,     0.,     0.,     0.,\n",
       "            0.,     0.,     0.,     0.,     0.,     0.,     0.,     0.,\n",
       "            0.,     0.,     0.,     0.,     0.,     0.,     0.,  5473.]),\n",
       " array([0.   , 0.025, 0.05 , 0.075, 0.1  , 0.125, 0.15 , 0.175, 0.2  ,\n",
       "        0.225, 0.25 , 0.275, 0.3  , 0.325, 0.35 , 0.375, 0.4  , 0.425,\n",
       "        0.45 , 0.475, 0.5  , 0.525, 0.55 , 0.575, 0.6  , 0.625, 0.65 ,\n",
       "        0.675, 0.7  , 0.725, 0.75 , 0.775, 0.8  , 0.825, 0.85 , 0.875,\n",
       "        0.9  , 0.925, 0.95 , 0.975, 1.   ], dtype=float32),\n",
       " <a list of 40 Patch objects>)"
      ]
     },
     "execution_count": 19,
     "metadata": {},
     "output_type": "execute_result"
    },
    {
     "data": {
      "image/png": "[encoded data removed]",
      "text/plain": [
       "<Figure size 432x288 with 1 Axes>"
      ]
     },
     "metadata": {
      "needs_background": "light"
     },
     "output_type": "display_data"
    }
   ],
   "source": [
    "plt.hist(data[:, 14], bins=40)"
   ]
  },
  {
   "cell_type": "code",
   "execution_count": 20,
   "metadata": {},
   "outputs": [
    {
     "data": {
      "text/plain": [
       "array([27., 27., 25., ..., 45., 51., 61.], dtype=float32)"
      ]
     },
     "execution_count": 20,
     "metadata": {},
     "output_type": "execute_result"
    }
   ],
   "source": [
    "data[:, 0]"
   ]
  },
  {
   "cell_type": "markdown",
   "metadata": {},
   "source": [
    "# run sdgym"
   ]
  },
  {
   "cell_type": "code",
   "execution_count": 22,
   "metadata": {},
   "outputs": [
    {
     "name": "stderr",
     "output_type": "stream",
     "text": [
      "INFO:KDECopulaNNPdf:Processing 6 numerical and 9 categorical columns\n",
      "INFO:KDECopulaNNPdf:Transforming numerical variables.\n",
      "INFO:KDECopulaNNPdf:Configuring Bayesian Network (cat+num).\n",
      "INFO:KDECopulaNNPdf:n_uniform_bins = 30\n",
      "Building tree: 100%|██████████| 91/91.0 [00:03<00:00, 27.88it/s]\n",
      "INFO:KDECopulaNNPdf:Configuring classifier.\n",
      "INFO:KDECopulaNNPdf:Generating 266920 data points.\n",
      "Generating for node: 6: 100%|██████████| 15/15 [00:03<00:00,  4.57it/s] \n",
      "INFO:KDECopulaNNPdf:Fitting discriminative learner: selected 15 features.\n",
      "INFO:KDECopulaNNPdf:Calibrating classifier.\n",
      "INFO:KDECopulaNNPdf:N_bins = 100\n",
      "INFO:KDECopulaNNPdf:Maximum weight found: 20.82072818930737\n",
      "INFO:KDECopulaNNPdf:Generating 525675 data points.\n",
      "Generating for node: 6: 100%|██████████| 15/15 [00:06<00:00,  2.22it/s] \n"
     ]
    }
   ],
   "source": [
    "all_features = list(range(data.shape[1]))\n",
    "numerical_features = list(set(all_features) - set(categorical_columns + ordinal_columns))\n",
    "data = np.float64(data)\n",
    "\n",
    "n_samples = data.shape[0]\n",
    "n_features = data.shape[1]\n",
    "\n",
    "clf = xgb.XGBClassifier(\n",
    "    n_estimators=250,\n",
    "    reg_lambda=1,\n",
    "    gamma=0,\n",
    "    max_depth=9\n",
    ")\n",
    "#     clf = MLPClassifier(alpha=0.1, random_state=0, max_iter=1000, early_stopping=True)\n",
    "\n",
    "kde = KDECopulaNNPdf(\n",
    "    use_KDE=False, \n",
    "    numerical_columns=numerical_features,\n",
    "    categorical_columns=categorical_columns+ordinal_columns,\n",
    "    distinct_threshold=-1,\n",
    "    n_uniform_bins=30,\n",
    "    n_calibration_bins=100,\n",
    "    test_size=0.25,\n",
    "    edge_weights_fn=phik_from_binned_array # normalized_mutual_info_score\n",
    "#        clf=clf,\n",
    "#         ordering='mi',\n",
    ")\n",
    "kde = kde.fit(data)\n",
    "\n",
    "#     X_gen, sample_weight = kde.sample(n_samples)\n",
    "X_gen = kde.sample_no_weights(n_samples, show_progress=True)"
   ]
  },
  {
   "cell_type": "code",
   "execution_count": 27,
   "metadata": {},
   "outputs": [],
   "source": [
    "from sklearn.isotonic import IsotonicRegression"
   ]
  },
  {
   "cell_type": "code",
   "execution_count": 135,
   "metadata": {},
   "outputs": [],
   "source": [
    "def _calibrate_classifier(hist_p0, hist_p1, bin_edges, use_sample_weights=True, validation_plots=False):\n",
    "    \"\"\" Calibrate classifier based on probability histograms\n",
    "\n",
    "    :param hist_p0:\n",
    "    :param hist_p1:\n",
    "    :param bin_edges:\n",
    "    :return:\n",
    "    \"\"\"\n",
    "    hist_p0 = hist_p0.astype(float)\n",
    "    hist_p1 = hist_p1.astype(float)\n",
    "    rest_p0 = np.sum(hist_p0) - hist_p0\n",
    "    rest_p1 = np.sum(hist_p1) - hist_p1\n",
    "    bin_centers = (bin_edges[:-1] + bin_edges[1:]) / 2.\n",
    "    bin_width = bin_edges[1] - bin_edges[0]\n",
    "\n",
    "    def poisson_uncertainty(n):\n",
    "        # return correct poisson counts (set to one for zero counts)\n",
    "        sigma_n = np.sqrt(n)\n",
    "        sigma_n[sigma_n == 0] = 1.\n",
    "        return sigma_n\n",
    "\n",
    "    sigma_bin0 = poisson_uncertainty(hist_p0)\n",
    "    sigma_rest0 = poisson_uncertainty(rest_p0)\n",
    "    sigma_bin1 = poisson_uncertainty(hist_p1)\n",
    "    sigma_rest1 = poisson_uncertainty(rest_p1)\n",
    "\n",
    "    def fraction_and_uncertainty(a, b, sigma_a, sigma_b):\n",
    "        # return fraction a/(a+b) and uncertainty on it, given uncertainties on a and b\n",
    "        sum_ab = a + b\n",
    "        frac_a = np.divide(a, sum_ab, out=np.zeros_like(a), where=sum_ab != 0)\n",
    "        frac_b = np.divide(b, sum_ab, out=np.zeros_like(b), where=sum_ab != 0)\n",
    "        sigma_p1 = np.divide(frac_b * sigma_a, sum_ab, out=np.zeros_like(frac_b), where=sum_ab != 0)\n",
    "        sigma_p2 = np.divide(frac_a * sigma_b, sum_ab, out=np.zeros_like(frac_a), where=sum_ab != 0)\n",
    "        sigma_fa2 = np.power(sigma_p1, 2) + np.power(sigma_p2, 2)\n",
    "        return frac_a, np.sqrt(sigma_fa2)\n",
    "\n",
    "    frac0, sigma_frac0 = fraction_and_uncertainty(hist_p0, rest_p0, sigma_bin0, sigma_rest0)\n",
    "    frac1, sigma_frac1 = fraction_and_uncertainty(hist_p1, rest_p1, sigma_bin1, sigma_rest1)\n",
    "    p1cb, sigma_p1cb = fraction_and_uncertainty(frac1, frac0, sigma_frac1, sigma_frac0)\n",
    "\n",
    "    # sample weight is set to zero in case both sigma_p1cb is zero\n",
    "    sample_weight = np.divide(1., sigma_p1cb * sigma_p1cb, out=np.zeros_like(sigma_p1cb), where=sigma_p1cb != 0)\n",
    "    sample_weight /= np.min(sample_weight[sample_weight > 0])\n",
    "    sample_weight = sample_weight if use_sample_weights else None\n",
    "\n",
    "    # make sure last entry is filled, from which max_weight is derived\n",
    "    if p1cb[-1] == 0:\n",
    "        filled = p1cb[(p1cb > 0) & (p1cb < 1)]\n",
    "        if len(filled) > 0:\n",
    "            p1cb[-1] = np.max(filled)\n",
    "            if use_sample_weights:\n",
    "                sample_weight[-1] = 1e-3\n",
    "\n",
    "    # use isotonic regression to smooth out potential fluctuations in the p1 values\n",
    "    # isotonic regression assumes that p1 can only be a rising function.\n",
    "    # (we're assuming that if a classifier predicts a higher probability, the calibrated probability\n",
    "    # will also be higher. This will generally be a safe assumption.)\n",
    "    iso_reg = IsotonicRegression(y_min=0, y_max=1, increasing='auto').fit(bin_centers, p1cb, sample_weight)\n",
    "    # iso_reg = IsotonicRegression(y_min=0, y_max=1).fit(bin_centers, p1cb)\n",
    "    p1pred = iso_reg.predict(bin_centers)\n",
    "    p1f_ = interpolate.interp1d(\n",
    "        bin_edges[:-1],\n",
    "        p1pred,\n",
    "        kind='previous',\n",
    "        bounds_error=False,\n",
    "        fill_value=\"extrapolate\"\n",
    "    )\n",
    "    max_p1f = np.max(p1pred)\n",
    "    max_weight = max_p1f / (1. - max_p1f)\n",
    "    return p1cb, sigma_p1cb, p1pred, p1f_, iso_reg, max_weight\n"
   ]
  },
  {
   "cell_type": "code",
   "execution_count": null,
   "metadata": {},
   "outputs": [],
   "source": [
    "( qchisq(0.025, 2*x)/2, chi2chisq(0.975, 2*(x+1))/2 )"
   ]
  },
  {
   "cell_type": "code",
   "execution_count": 169,
   "metadata": {},
   "outputs": [],
   "source": [
    "from scipy.stats import chi2"
   ]
  },
  {
   "cell_type": "code",
   "execution_count": 171,
   "metadata": {},
   "outputs": [
    {
     "data": {
      "text/plain": [
       "<scipy.stats._continuous_distns.chi2_gen at 0x137db9490>"
      ]
     },
     "execution_count": 171,
     "metadata": {},
     "output_type": "execute_result"
    }
   ],
   "source": []
  },
  {
   "cell_type": "code",
   "execution_count": 136,
   "metadata": {},
   "outputs": [],
   "source": [
    "bin_edges = kde.bin_edges_\n",
    "bin_width = bin_edges[1] - bin_edges[0]\n",
    "bin_centers = kde.bin_centers_\n",
    "hist_p0 = kde.hist_p0_\n",
    "hist_p1 = kde.hist_p1_"
   ]
  },
  {
   "cell_type": "code",
   "execution_count": 137,
   "metadata": {},
   "outputs": [],
   "source": [
    "p1cb, sigma_p1cb, p1pred, p1f_, iso_reg, max_weight = _calibrate_classifier(hist_p0, hist_p1, bin_edges, use_sample_weights=True)"
   ]
  },
  {
   "cell_type": "code",
   "execution_count": 138,
   "metadata": {},
   "outputs": [
    {
     "data": {
      "text/plain": [
       "20.82072818930737"
      ]
     },
     "execution_count": 138,
     "metadata": {},
     "output_type": "execute_result"
    }
   ],
   "source": [
    "max_weight"
   ]
  },
  {
   "cell_type": "code",
   "execution_count": 168,
   "metadata": {},
   "outputs": [
    {
     "data": {
      "image/png": "[encoded data removed]",
      "text/plain": [
       "<Figure size 864x504 with 1 Axes>"
      ]
     },
     "metadata": {
      "needs_background": "light"
     },
     "output_type": "display_data"
    }
   ],
   "source": [
    "fig, ax = plt.subplots(figsize=(12, 7))\n",
    "ax.bar(bin_centers, hist_p0 / np.sum(hist_p0), width=bin_width, alpha=0.5, label=r'$P(1|X_{\\rm syn})$', log=True, color=colors[0])\n",
    "ax.bar(bin_centers, hist_p1 / np.sum(hist_p1), width=bin_width, alpha=0.5, label=r'$P(1|X_{\\rm trans})$', log=True, color=colors[1])\n",
    "ax.legend(fontsize=16)\n",
    "ax.tick_params(labelsize=16)\n",
    "fig.savefig(f'{dataset_name}_callibration_clf_hists.pdf', dpi=600)"
   ]
  },
  {
   "cell_type": "code",
   "execution_count": 89,
   "metadata": {},
   "outputs": [],
   "source": [
    "sigma_p1cb_95 = sigma_p1cb * 1.96\n",
    "sigma_lb = p1cb - sigma_p1cb_95\n",
    "sigma_ub = p1cb + sigma_p1cb_95"
   ]
  },
  {
   "cell_type": "code",
   "execution_count": 167,
   "metadata": {},
   "outputs": [
    {
     "data": {
      "image/png": "[encoded data removed]",
      "text/plain": [
       "<Figure size 864x504 with 1 Axes>"
      ]
     },
     "metadata": {
      "needs_background": "light"
     },
     "output_type": "display_data"
    }
   ],
   "source": [
    "fig, ax = plt.subplots(figsize=(12, 7))\n",
    "pcb = ax.plot(bin_centers, p1cb, label=r'$P_{\\rm cb}(1~|~X_{\\rm trans})$', lw=3, color=colors[0])\n",
    "ci = ax.fill_between(bin_centers, sigma_lb, sigma_ub, label=r'$95\\%~CI~P_{cb}$', color=colors[0], alpha=0.15)\n",
    "piso = ax.plot(bin_centers, p1pred, label=r'$P_{\\rm isotonic}(1~|~X_{\\rm trans})$', lw=3, ls='--', color=colors[1])\n",
    "pline = ax.plot(bin_centers, bin_centers, label='perfect calibration', lw=3, ls=':', color='black')\n",
    "\n",
    "ax.tick_params(labelsize=16)\n",
    "handles, labels = ax.get_legend_handles_labels()\n",
    "handles_corr = [handles[0], handles[3], handles[1], handles[2]]\n",
    "labels_corr = [labels[0], labels[3], labels[1], labels[2]]\n",
    "ax.legend(handles_corr, labels_corr, fontsize=16)\n",
    "fig.savefig(f'{dataset_name}_callibration_pcb_plot.pdf', dpi=600)"
   ]
  },
  {
   "cell_type": "code",
   "execution_count": 26,
   "metadata": {},
   "outputs": [],
   "source": [
    "def KDECopulaNNPdf_Synthesizer(real_data, categorical_columns, ordinal_columns):\n",
    "    all_features = list(range(real_data.shape[1]))\n",
    "    numerical_features = list(set(all_features) - set(categorical_columns + ordinal_columns))\n",
    "    data = np.float64(real_data)\n",
    "    \n",
    "    n_samples = data.shape[0]\n",
    "    n_features = data.shape[1]\n",
    "    \n",
    "    clf = xgb.XGBClassifier(\n",
    "        n_estimators=250,\n",
    "        reg_lambda=1,\n",
    "        gamma=0,\n",
    "        max_depth=9\n",
    "    )\n",
    "#     clf = MLPClassifier(alpha=0.1, random_state=0, max_iter=1000, early_stopping=True)\n",
    "    \n",
    "    kde = KDECopulaNNPdf(\n",
    "        use_KDE=False, \n",
    "        categorical_columns=categorical_columns+ordinal_columns,\n",
    "        distinct_threshold=-1,\n",
    "        n_uniform_bins=30,\n",
    "        n_calibration_bins=100,\n",
    "        test_size=0.25,\n",
    "        edge_weights_fn=phik_from_binned_array # normalized_mutual_info_score\n",
    "#        clf=clf,\n",
    "#         ordering='mi',\n",
    "    )\n",
    "    kde = kde.fit(data)\n",
    "    \n",
    "#     X_gen, sample_weight = kde.sample(n_samples)\n",
    "    X_gen = kde.sample_no_weights(n_samples, show_progress=True)\n",
    "    \n",
    "    X_gen[:, categorical_columns+ordinal_columns] = np.round(X_gen[:, categorical_columns+ordinal_columns])\n",
    "    X_gen = np.float32(X_gen)\n",
    "    \n",
    "    print(X_gen[:, :5])\n",
    "\n",
    "    return X_gen"
   ]
  },
  {
   "cell_type": "code",
   "execution_count": 27,
   "metadata": {},
   "outputs": [],
   "source": [
    "def KDECopulaNNPdf_SynthesizerInteger(real_data, categorical_columns, ordinal_columns):\n",
    "    \"\"\"Census has integer only...\"\"\"\n",
    "    data = KDECopulaNNPdf_Synthesizer(real_data, categorical_columns, ordinal_columns)\n",
    "    data = np.round(data)\n",
    "    \n",
    "    print(data[:, :5])\n",
    "\n",
    "    return data"
   ]
  },
  {
   "cell_type": "code",
   "execution_count": 28,
   "metadata": {},
   "outputs": [],
   "source": [
    "from sdgym.synthesizers import (\n",
    "    CLBNSynthesizer, CTGANSynthesizer, IdentitySynthesizer, IndependentSynthesizer,\n",
    "    MedganSynthesizer, PrivBNSynthesizer, TableganSynthesizer, TVAESynthesizer,\n",
    "    UniformSynthesizer, VEEGANSynthesizer)\n",
    "\n",
    "all_synthesizers = [\n",
    "    #IdentitySynthesizer,\n",
    "    #IndependentSynthesizer,\n",
    "    #KDECopulaNNPdf_Synthesizer,\n",
    "    KDECopulaNNPdf_SynthesizerInteger,\n",
    "]"
   ]
  },
  {
   "cell_type": "code",
   "execution_count": 29,
   "metadata": {},
   "outputs": [
    {
     "name": "stderr",
     "output_type": "stream",
     "text": [
      "INFO:sdgym.benchmark:0%|          | 0/1 [00:00<?, ?it/s]\n",
      "INFO:sdgym.benchmark:Evaluating KDECopulaNNPdf_SynthesizerInteger on dataset adult; iteration 0; 334.19 MB\n",
      "INFO:sdgym.data:Loading dataset adult (all variables)\n",
      "INFO:sdgym.benchmark:Running KDECopulaNNPdf_SynthesizerInteger on dataset adult; iteration 0; 334.89 MB\n",
      "INFO:KDECopulaNNPdf:Processing 6 numerical and 9 categorical columns\n",
      "INFO:KDECopulaNNPdf:Transforming numerical variables.\n",
      "INFO:KDECopulaNNPdf:Configuring Bayesian Network (cat+num).\n",
      "\n",
      "  0%|          | 0/91.0 [00:00<?, ?it/s]\u001b[A\n",
      "Building tree:   0%|          | 0/91.0 [00:00<?, ?it/s]\u001b[A\n",
      "Building tree:  26%|██▋       | 24/91.0 [00:00<00:00, 68.10it/s]\u001b[A\n",
      "Building tree:  34%|███▍      | 31/91.0 [00:00<00:00, 63.14it/s]\u001b[A\n",
      "Building tree:  41%|████      | 37/91.0 [00:01<00:02, 25.14it/s]\u001b[A\n",
      "Building tree:  45%|████▌     | 41/91.0 [00:01<00:01, 26.20it/s]\u001b[A\n",
      "Building tree:  49%|████▉     | 45/91.0 [00:01<00:01, 24.70it/s]\u001b[A\n",
      "Building tree:  53%|█████▎    | 48/91.0 [00:01<00:02, 18.18it/s]\u001b[A\n",
      "Building tree:  56%|█████▌    | 51/91.0 [00:02<00:02, 15.36it/s]\u001b[A\n",
      "Building tree:  58%|█████▊    | 53/91.0 [00:02<00:02, 14.49it/s]\u001b[A\n",
      "Building tree:  66%|██████▌   | 60/91.0 [00:02<00:01, 22.65it/s]\u001b[A\n",
      "Building tree:  70%|███████   | 64/91.0 [00:02<00:01, 23.28it/s]\u001b[A\n",
      "Building tree:  74%|███████▎  | 67/91.0 [00:02<00:01, 20.64it/s]\u001b[A\n",
      "Building tree:  77%|███████▋  | 70/91.0 [00:03<00:01, 17.58it/s]\u001b[A\n",
      "Building tree:  92%|█████████▏| 84/91.0 [00:03<00:00, 23.46it/s]\u001b[A\n",
      "Building tree:  96%|█████████▌| 87/91.0 [00:03<00:00, 22.57it/s]\u001b[A\n",
      "Building tree: 100%|██████████| 91/91.0 [00:04<00:00, 22.40it/s]\u001b[A\n",
      "INFO:KDECopulaNNPdf:Configuring classifier.\n",
      "INFO:KDECopulaNNPdf:Generating 266920 data points.\n",
      "\n",
      "  0%|          | 0/15 [00:00<?, ?it/s]\u001b[A\n",
      "Generating for node: 1:   0%|          | 0/15 [00:00<?, ?it/s]\u001b[A\n",
      "Generating for node: 1:   7%|▋         | 1/15 [00:00<00:02,  6.51it/s]\u001b[A\n",
      "Generating for node: 0:   7%|▋         | 1/15 [00:00<00:02,  6.51it/s]\u001b[A\n",
      "Generating for node: 0:  13%|█▎        | 2/15 [00:00<00:01,  6.56it/s]\u001b[A\n",
      "Generating for node: 14:  13%|█▎        | 2/15 [00:00<00:01,  6.56it/s]\u001b[A\n",
      "Generating for node: 14:  20%|██        | 3/15 [00:00<00:03,  3.91it/s]\u001b[A\n",
      "Generating for node: 2:  20%|██        | 3/15 [00:00<00:03,  3.91it/s] \u001b[A\n",
      "Generating for node: 2:  27%|██▋       | 4/15 [00:00<00:02,  3.76it/s]\u001b[A\n",
      "Generating for node: 7:  27%|██▋       | 4/15 [00:00<00:02,  3.76it/s]\u001b[A\n",
      "Generating for node: 7:  33%|███▎      | 5/15 [00:01<00:02,  3.98it/s]\u001b[A\n",
      "Generating for node: 11:  33%|███▎      | 5/15 [00:01<00:02,  3.98it/s]\u001b[A\n",
      "Generating for node: 11:  40%|████      | 6/15 [00:01<00:02,  3.73it/s]\u001b[A\n",
      "Generating for node: 5:  40%|████      | 6/15 [00:01<00:02,  3.73it/s] \u001b[A\n",
      "Generating for node: 5:  47%|████▋     | 7/15 [00:01<00:02,  3.60it/s]\u001b[A\n",
      "Generating for node: 9:  47%|████▋     | 7/15 [00:01<00:02,  3.60it/s]\u001b[A\n",
      "Generating for node: 9:  53%|█████▎    | 8/15 [00:02<00:01,  3.52it/s]\u001b[A\n",
      "Generating for node: 3:  53%|█████▎    | 8/15 [00:02<00:01,  3.52it/s]\u001b[A\n",
      "Generating for node: 3:  60%|██████    | 9/15 [00:02<00:01,  3.46it/s]\u001b[A\n",
      "Generating for node: 4:  60%|██████    | 9/15 [00:02<00:01,  3.46it/s]\u001b[A\n",
      "Generating for node: 4:  67%|██████▋   | 10/15 [00:02<00:01,  3.54it/s]\u001b[A\n",
      "Generating for node: 13:  67%|██████▋   | 10/15 [00:02<00:01,  3.54it/s]\u001b[A\n",
      "Generating for node: 13:  73%|███████▎  | 11/15 [00:02<00:01,  3.40it/s]\u001b[A\n",
      "Generating for node: 8:  73%|███████▎  | 11/15 [00:02<00:01,  3.40it/s] \u001b[A\n",
      "Generating for node: 8:  80%|████████  | 12/15 [00:03<00:00,  3.35it/s]\u001b[A\n",
      "Generating for node: 12:  80%|████████  | 12/15 [00:03<00:00,  3.35it/s]\u001b[A\n",
      "Generating for node: 12:  87%|████████▋ | 13/15 [00:03<00:00,  3.34it/s]\u001b[A\n",
      "Generating for node: 10:  87%|████████▋ | 13/15 [00:03<00:00,  3.34it/s]\u001b[A\n",
      "Generating for node: 10:  93%|█████████▎| 14/15 [00:03<00:00,  3.53it/s]\u001b[A\n",
      "Generating for node: 6:  93%|█████████▎| 14/15 [00:03<00:00,  3.53it/s] \u001b[A\n",
      "Generating for node: 6: 100%|██████████| 15/15 [00:04<00:00,  3.68it/s]\u001b[A\n",
      "INFO:KDECopulaNNPdf:Fitting discriminative learner: selected 15 features.\n",
      "INFO:KDECopulaNNPdf:Calibrating classifier.\n",
      "INFO:KDECopulaNNPdf:Maximum weight found: 20.18158840298662\n",
      "INFO:KDECopulaNNPdf:Generating 525675 data points.\n",
      "\n",
      "  0%|          | 0/15 [00:00<?, ?it/s]\u001b[A\n",
      "Generating for node: 1:   0%|          | 0/15 [00:00<?, ?it/s]\u001b[A\n",
      "Generating for node: 1:   7%|▋         | 1/15 [00:00<00:03,  3.86it/s]\u001b[A\n",
      "Generating for node: 0:   7%|▋         | 1/15 [00:00<00:03,  3.86it/s]\u001b[A\n",
      "Generating for node: 0:  13%|█▎        | 2/15 [00:00<00:03,  3.41it/s]\u001b[A\n",
      "Generating for node: 14:  13%|█▎        | 2/15 [00:00<00:03,  3.41it/s]\u001b[A\n",
      "Generating for node: 14:  20%|██        | 3/15 [00:01<00:05,  2.29it/s]\u001b[A\n",
      "Generating for node: 2:  20%|██        | 3/15 [00:01<00:05,  2.29it/s] \u001b[A\n",
      "Generating for node: 2:  27%|██▋       | 4/15 [00:01<00:05,  2.20it/s]\u001b[A\n",
      "Generating for node: 7:  27%|██▋       | 4/15 [00:01<00:05,  2.20it/s]\u001b[A\n",
      "Generating for node: 7:  33%|███▎      | 5/15 [00:02<00:04,  2.17it/s]\u001b[A\n",
      "Generating for node: 11:  33%|███▎      | 5/15 [00:02<00:04,  2.17it/s]\u001b[A\n",
      "Generating for node: 11:  40%|████      | 6/15 [00:02<00:04,  2.10it/s]\u001b[A\n",
      "Generating for node: 5:  40%|████      | 6/15 [00:02<00:04,  2.10it/s] \u001b[A\n",
      "Generating for node: 5:  47%|████▋     | 7/15 [00:03<00:03,  2.02it/s]\u001b[A\n",
      "Generating for node: 9:  47%|████▋     | 7/15 [00:03<00:03,  2.02it/s]\u001b[A\n",
      "Generating for node: 9:  53%|█████▎    | 8/15 [00:03<00:03,  1.86it/s]\u001b[A\n",
      "Generating for node: 3:  53%|█████▎    | 8/15 [00:03<00:03,  1.86it/s]\u001b[A\n",
      "Generating for node: 3:  60%|██████    | 9/15 [00:04<00:03,  1.56it/s]\u001b[A\n",
      "Generating for node: 4:  60%|██████    | 9/15 [00:04<00:03,  1.56it/s]\u001b[A\n",
      "Generating for node: 4:  67%|██████▋   | 10/15 [00:05<00:03,  1.63it/s]\u001b[A\n",
      "Generating for node: 13:  67%|██████▋   | 10/15 [00:05<00:03,  1.63it/s]\u001b[A\n",
      "Generating for node: 13:  73%|███████▎  | 11/15 [00:05<00:02,  1.64it/s]\u001b[A\n",
      "Generating for node: 8:  73%|███████▎  | 11/15 [00:05<00:02,  1.64it/s] \u001b[A\n",
      "Generating for node: 8:  80%|████████  | 12/15 [00:06<00:01,  1.67it/s]\u001b[A\n",
      "Generating for node: 12:  80%|████████  | 12/15 [00:06<00:01,  1.67it/s]\u001b[A\n",
      "Generating for node: 12:  87%|████████▋ | 13/15 [00:06<00:01,  1.74it/s]\u001b[A\n",
      "Generating for node: 10:  87%|████████▋ | 13/15 [00:06<00:01,  1.74it/s]\u001b[A\n",
      "Generating for node: 10:  93%|█████████▎| 14/15 [00:07<00:00,  1.80it/s]\u001b[A\n",
      "Generating for node: 6:  93%|█████████▎| 14/15 [00:07<00:00,  1.80it/s] \u001b[A\n",
      "Generating for node: 6: 100%|██████████| 15/15 [00:07<00:00,  1.89it/s]\u001b[A\n",
      "INFO:sdgym.benchmark:Scoring KDECopulaNNPdf_SynthesizerInteger on dataset adult; iteration 0; 381.18 MB\n",
      "INFO:sdgym.evaluate:Evaluating using binary classifier DecisionTreeClassifier\n"
     ]
    },
    {
     "name": "stdout",
     "output_type": "stream",
     "text": [
      "[[5.6000305e+01 5.0000000e+00 1.8038445e+05 1.2000000e+01 1.0000123e+01]\n",
      " [2.8001459e+01 0.0000000e+00 2.1270702e+05 8.0000000e+00 9.9997616e+00]\n",
      " [4.9784565e+01 0.0000000e+00 4.9295398e+04 8.0000000e+00 9.0000715e+00]\n",
      " ...\n",
      " [2.5999985e+01 0.0000000e+00 4.8528000e+05 6.0000000e+00 4.9999895e+00]\n",
      " [2.7001322e+01 4.0000000e+00 2.5854428e+05 1.1000000e+01 1.1999876e+01]\n",
      " [6.7999565e+01 0.0000000e+00 1.2839530e+05 8.0000000e+00 8.9999418e+00]]\n",
      "[[5.60000e+01 5.00000e+00 1.80384e+05 1.20000e+01 1.00000e+01]\n",
      " [2.80000e+01 0.00000e+00 2.12707e+05 8.00000e+00 1.00000e+01]\n",
      " [5.00000e+01 0.00000e+00 4.92950e+04 8.00000e+00 9.00000e+00]\n",
      " ...\n",
      " [2.60000e+01 0.00000e+00 4.85280e+05 6.00000e+00 5.00000e+00]\n",
      " [2.70000e+01 4.00000e+00 2.58544e+05 1.10000e+01 1.20000e+01]\n",
      " [6.80000e+01 0.00000e+00 1.28395e+05 8.00000e+00 9.00000e+00]]\n"
     ]
    },
    {
     "name": "stderr",
     "output_type": "stream",
     "text": [
      "INFO:sdgym.evaluate:Evaluating using binary classifier AdaBoostClassifier\n",
      "INFO:sdgym.evaluate:Evaluating using binary classifier LogisticRegression\n",
      "INFO:sdgym.evaluate:Evaluating using binary classifier MLPClassifier\n",
      "/Users/maxbaak/opt/miniconda3/envs/synthsonic/lib/python3.8/site-packages/sklearn/neural_network/_multilayer_perceptron.py:582: ConvergenceWarning: Stochastic Optimizer: Maximum iterations (50) reached and the optimization hasn't converged yet.\n",
      "  warnings.warn(\n",
      "INFO:sdgym.benchmark:Finished KDECopulaNNPdf_SynthesizerInteger on dataset adult; iteration 0; 403.59 MB\n",
      "INFO:sdgym.benchmark:100%|##########| 1/1 [00:42<00:00, 42.21s/it]\n",
      "INFO:sdgym.benchmark:100%|##########| 1/1 [00:42<00:00, 42.21s/it]\n"
     ]
    }
   ],
   "source": [
    "scores = sdgym.run(synthesizers=all_synthesizers, datasets=[dataset_name], iterations=1)"
   ]
  },
  {
   "cell_type": "code",
   "execution_count": 30,
   "metadata": {},
   "outputs": [
    {
     "data": {
      "text/html": [
       "<div>\n",
       "<style scoped>\n",
       "    .dataframe tbody tr th:only-of-type {\n",
       "        vertical-align: middle;\n",
       "    }\n",
       "\n",
       "    .dataframe tbody tr th {\n",
       "        vertical-align: top;\n",
       "    }\n",
       "\n",
       "    .dataframe thead th {\n",
       "        text-align: right;\n",
       "    }\n",
       "</style>\n",
       "<table border=\"1\" class=\"dataframe\">\n",
       "  <thead>\n",
       "    <tr style=\"text-align: right;\">\n",
       "      <th></th>\n",
       "      <th>adult/accuracy</th>\n",
       "      <th>adult/f1</th>\n",
       "      <th>timestamp</th>\n",
       "    </tr>\n",
       "  </thead>\n",
       "  <tbody>\n",
       "    <tr>\n",
       "      <th>VEEGANSynthesizer</th>\n",
       "      <td>0.718792</td>\n",
       "      <td>0.162142</td>\n",
       "      <td>2020-04-12 09:41:35.096775</td>\n",
       "    </tr>\n",
       "    <tr>\n",
       "      <th>CLBNSynthesizer</th>\n",
       "      <td>0.769225</td>\n",
       "      <td>0.305083</td>\n",
       "      <td>2020-10-17 09:46:54.494331</td>\n",
       "    </tr>\n",
       "    <tr>\n",
       "      <th>CTGAN</th>\n",
       "      <td>0.793808</td>\n",
       "      <td>0.608179</td>\n",
       "      <td>2020-10-17 09:46:54.494331</td>\n",
       "    </tr>\n",
       "    <tr>\n",
       "      <th>CTGANSynthesizer</th>\n",
       "      <td>0.797583</td>\n",
       "      <td>0.602407</td>\n",
       "      <td>2020-10-17 09:46:54.494331</td>\n",
       "    </tr>\n",
       "    <tr>\n",
       "      <th>CopulaGAN</th>\n",
       "      <td>0.785250</td>\n",
       "      <td>0.606638</td>\n",
       "      <td>2020-10-17 09:46:54.494331</td>\n",
       "    </tr>\n",
       "    <tr>\n",
       "      <th>GaussianCopulaCategorical</th>\n",
       "      <td>NaN</td>\n",
       "      <td>NaN</td>\n",
       "      <td>2020-10-17 09:46:54.494331</td>\n",
       "    </tr>\n",
       "    <tr>\n",
       "      <th>GaussianCopulaCategoricalFuzzy</th>\n",
       "      <td>0.765658</td>\n",
       "      <td>0.257748</td>\n",
       "      <td>2020-10-17 09:46:54.494331</td>\n",
       "    </tr>\n",
       "    <tr>\n",
       "      <th>GaussianCopulaOneHot</th>\n",
       "      <td>0.779675</td>\n",
       "      <td>0.198042</td>\n",
       "      <td>2020-10-17 09:46:54.494331</td>\n",
       "    </tr>\n",
       "    <tr>\n",
       "      <th>IdentitySynthesizer</th>\n",
       "      <td>0.824425</td>\n",
       "      <td>0.663006</td>\n",
       "      <td>2020-10-17 09:46:54.494331</td>\n",
       "    </tr>\n",
       "    <tr>\n",
       "      <th>IndependentSynthesizer</th>\n",
       "      <td>0.638117</td>\n",
       "      <td>0.151106</td>\n",
       "      <td>2020-10-17 09:46:54.494331</td>\n",
       "    </tr>\n",
       "    <tr>\n",
       "      <th>MedganSynthesizer</th>\n",
       "      <td>0.618092</td>\n",
       "      <td>0.243345</td>\n",
       "      <td>2020-10-17 09:46:54.494331</td>\n",
       "    </tr>\n",
       "    <tr>\n",
       "      <th>PrivBNSynthesizer</th>\n",
       "      <td>0.795192</td>\n",
       "      <td>0.428732</td>\n",
       "      <td>2020-10-17 09:46:54.494331</td>\n",
       "    </tr>\n",
       "    <tr>\n",
       "      <th>TVAESynthesizer</th>\n",
       "      <td>0.803008</td>\n",
       "      <td>0.618866</td>\n",
       "      <td>2020-10-17 09:46:54.494331</td>\n",
       "    </tr>\n",
       "    <tr>\n",
       "      <th>TableganSynthesizer</th>\n",
       "      <td>0.791183</td>\n",
       "      <td>0.352537</td>\n",
       "      <td>2020-10-17 09:46:54.494331</td>\n",
       "    </tr>\n",
       "    <tr>\n",
       "      <th>UniformSynthesizer</th>\n",
       "      <td>0.494717</td>\n",
       "      <td>0.241641</td>\n",
       "      <td>2020-10-17 09:46:54.494331</td>\n",
       "    </tr>\n",
       "    <tr>\n",
       "      <th>KDECopulaNNPdf_SynthesizerInteger</th>\n",
       "      <td>0.807650</td>\n",
       "      <td>0.621500</td>\n",
       "      <td>2021-05-18 06:35:07.707098</td>\n",
       "    </tr>\n",
       "  </tbody>\n",
       "</table>\n",
       "</div>"
      ],
      "text/plain": [
       "                                   adult/accuracy  adult/f1  \\\n",
       "VEEGANSynthesizer                        0.718792  0.162142   \n",
       "CLBNSynthesizer                          0.769225  0.305083   \n",
       "CTGAN                                    0.793808  0.608179   \n",
       "CTGANSynthesizer                         0.797583  0.602407   \n",
       "CopulaGAN                                0.785250  0.606638   \n",
       "GaussianCopulaCategorical                     NaN       NaN   \n",
       "GaussianCopulaCategoricalFuzzy           0.765658  0.257748   \n",
       "GaussianCopulaOneHot                     0.779675  0.198042   \n",
       "IdentitySynthesizer                      0.824425  0.663006   \n",
       "IndependentSynthesizer                   0.638117  0.151106   \n",
       "MedganSynthesizer                        0.618092  0.243345   \n",
       "PrivBNSynthesizer                        0.795192  0.428732   \n",
       "TVAESynthesizer                          0.803008  0.618866   \n",
       "TableganSynthesizer                      0.791183  0.352537   \n",
       "UniformSynthesizer                       0.494717  0.241641   \n",
       "KDECopulaNNPdf_SynthesizerInteger        0.807650  0.621500   \n",
       "\n",
       "                                                   timestamp  \n",
       "VEEGANSynthesizer                 2020-04-12 09:41:35.096775  \n",
       "CLBNSynthesizer                   2020-10-17 09:46:54.494331  \n",
       "CTGAN                             2020-10-17 09:46:54.494331  \n",
       "CTGANSynthesizer                  2020-10-17 09:46:54.494331  \n",
       "CopulaGAN                         2020-10-17 09:46:54.494331  \n",
       "GaussianCopulaCategorical         2020-10-17 09:46:54.494331  \n",
       "GaussianCopulaCategoricalFuzzy    2020-10-17 09:46:54.494331  \n",
       "GaussianCopulaOneHot              2020-10-17 09:46:54.494331  \n",
       "IdentitySynthesizer               2020-10-17 09:46:54.494331  \n",
       "IndependentSynthesizer            2020-10-17 09:46:54.494331  \n",
       "MedganSynthesizer                 2020-10-17 09:46:54.494331  \n",
       "PrivBNSynthesizer                 2020-10-17 09:46:54.494331  \n",
       "TVAESynthesizer                   2020-10-17 09:46:54.494331  \n",
       "TableganSynthesizer               2020-10-17 09:46:54.494331  \n",
       "UniformSynthesizer                2020-10-17 09:46:54.494331  \n",
       "KDECopulaNNPdf_SynthesizerInteger 2021-05-18 06:35:07.707098  "
      ]
     },
     "execution_count": 30,
     "metadata": {},
     "output_type": "execute_result"
    }
   ],
   "source": [
    "scores"
   ]
  }
 ],
 "metadata": {
  "kernelspec": {
   "display_name": "Python 3",
   "language": "python",
   "name": "python3"
  },
  "language_info": {
   "codemirror_mode": {
    "name": "ipython",
    "version": 3
   },
   "file_extension": ".py",
   "mimetype": "text/x-python",
   "name": "python",
   "nbconvert_exporter": "python",
   "pygments_lexer": "ipython3",
   "version": "3.8.5"
  }
 },
 "nbformat": 4,
 "nbformat_minor": 4
}
