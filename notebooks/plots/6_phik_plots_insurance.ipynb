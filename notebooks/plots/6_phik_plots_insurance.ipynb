{
 "cells": [
  {
   "cell_type": "code",
   "execution_count": 2,
   "id": "wireless-internship",
   "metadata": {},
   "outputs": [],
   "source": [
    "import numpy as np\n",
    "import pandas as pd\n",
    "\n",
    "import matplotlib.pyplot as plt\n",
    "import matplotlib.transforms as transforms\n",
    "import seaborn as sns"
   ]
  },
  {
   "cell_type": "code",
   "execution_count": 3,
   "id": "a33bbd19-f11a-4778-aad6-38a38f721a67",
   "metadata": {},
   "outputs": [],
   "source": [
    "import matplotlib.colors as plt_colors"
   ]
  },
  {
   "cell_type": "code",
   "execution_count": 4,
   "id": "719e9fd2-2952-49d5-9a8b-97a8bff043a2",
   "metadata": {},
   "outputs": [],
   "source": [
    "import phik"
   ]
  },
  {
   "cell_type": "code",
   "execution_count": 5,
   "id": "756b86f7-d141-4086-807f-7b1d0b838bb8",
   "metadata": {},
   "outputs": [],
   "source": [
    "def plot_correlation_matrix(\n",
    "    matrix_colors:np.ndarray,\n",
    "    x_labels:list,\n",
    "    y_labels:list,\n",
    "    fig,\n",
    "    ax,\n",
    "    pdf_file_name:str='',\n",
    "    title:str='correlation',\n",
    "    vmin:float=-1,\n",
    "    vmax:float=1,\n",
    "    color_map:str='RdYlGn',\n",
    "    x_label:str='',\n",
    "    y_label:str='',\n",
    "    top:int=20,\n",
    "    matrix_numbers:np.ndarray=None,\n",
    "    print_both_numbers:bool=True,\n",
    "    usetex:bool=False,\n",
    "    identity_layout:bool=True,\n",
    "    fontsize_factor:float=1\n",
    ") -> None:\n",
    "    \"\"\"Create and plot correlation matrix.\n",
    "\n",
    "    Copied with permission from the eskapade package (pip install eskapade)\n",
    "\n",
    "    :param matrix_colors: input correlation matrix\n",
    "    :param list x_labels: Labels for histogram x-axis bins\n",
    "    :param list y_labels: Labels for histogram y-axis bins\n",
    "    :param str pdf_file_name: if set, will store the plot in a pdf file\n",
    "    :param str title: if set, title of the plot\n",
    "    :param float vmin: minimum value of color legend (default is -1)\n",
    "    :param float vmax: maximum value of color legend (default is +1)\n",
    "    :param str x_label: Label for histogram x-axis\n",
    "    :param str y_label: Label for histogram y-axis\n",
    "    :param str color_map: color map passed to matplotlib pcolormesh. (default is 'RdYlGn')\n",
    "    :param int top: only print the top 20 characters of x-labels and y-labels. (default is 20)\n",
    "    :param matrix_numbers: input matrix used for plotting numbers. (default it matrix_colors)\n",
    "    :param identity_layout: Plot diagonal from right top to bottom left (True) or bottom left to top right (False)\n",
    "    \"\"\"\n",
    "    if not isinstance(matrix_colors, np.ndarray):\n",
    "        raise TypeError('matrix_colors is not a numpy array.')\n",
    "    \n",
    "    # basic matrix checks\n",
    "    assert (matrix_colors.shape[0] == len(y_labels)) or (matrix_colors.shape[0] + 1 == len(y_labels)), \\\n",
    "        'matrix_colors shape inconsistent with number of y-labels'\n",
    "    assert (matrix_colors.shape[1] == len(x_labels)) or (matrix_colors.shape[1] + 1 == len(x_labels)), \\\n",
    "        'matrix_colors shape inconsistent with number of x-labels'\n",
    "    if matrix_numbers is None:\n",
    "        matrix_numbers = matrix_colors\n",
    "        print_both_numbers = False  # only one set of numbers possible\n",
    "    else:\n",
    "        assert matrix_numbers.shape[0] == len(y_labels), 'matrix_numbers shape inconsistent with number of y-labels'\n",
    "        assert matrix_numbers.shape[1] == len(x_labels), 'matrix_numbers shape inconsistent with number of x-labels'\n",
    "\n",
    "    if identity_layout:\n",
    "        matrix_colors = np.array([a[::-1] for a in matrix_colors])\n",
    "        x_labels = x_labels[::-1]\n",
    "        if matrix_numbers is not None:\n",
    "            matrix_numbers = np.array([a[::-1] for a in matrix_numbers])\n",
    "\n",
    "    plt.rc('text', usetex=usetex)\n",
    "\n",
    "    # cmap = 'RdYlGn' #'YlGn'\n",
    "    norm = plt_colors.Normalize(vmin=vmin, vmax=vmax)\n",
    "    img = ax.pcolormesh(matrix_colors, cmap=color_map, edgecolor='w', linewidth=1, norm=norm)\n",
    "\n",
    "    # set x-axis properties\n",
    "    def tick(lab):\n",
    "        \"\"\"Get tick.\"\"\"\n",
    "        if isinstance(lab, (float, int)):\n",
    "            lab = 'NaN' if np.isnan(lab) else '{0:.0f}'.format(lab)\n",
    "        lab = str(lab)\n",
    "        if len(lab) > top:\n",
    "            lab = lab[:17] + '...'\n",
    "        return lab\n",
    "\n",
    "    # reduce default fontsizes in case too many labels?\n",
    "    # nlabs = max(len(y_labels), len(x_labels))\n",
    "\n",
    "    # axis ticks and tick labels\n",
    "    if len(x_labels) == matrix_colors.shape[1] + 1:\n",
    "        ax.set_xticks(np.arange(len(x_labels)))\n",
    "    else:\n",
    "        ax.set_xticks(np.arange(len(x_labels)) + 0.5)\n",
    "    ax.set_xticklabels([tick(lab) for lab in x_labels], rotation='vertical', fontsize=10 * fontsize_factor)\n",
    "\n",
    "    if len(y_labels) == matrix_colors.shape[0] + 1:\n",
    "        ax.set_yticks(np.arange(len(y_labels)))\n",
    "    else:\n",
    "        ax.set_yticks(np.arange(len(y_labels)) + 0.5)\n",
    "    ax.set_yticklabels([tick(lab) for lab in y_labels], rotation='horizontal', fontsize=10 * fontsize_factor)\n",
    "\n",
    "    # Turn ticks off in case no labels are provided\n",
    "    if len(x_labels)==1 and len(x_labels[0]) == 0:\n",
    "        plt.tick_params(\n",
    "            axis='x',  # changes apply to the x-axis\n",
    "            which='both',  # both major and minor ticks are affected\n",
    "            bottom=False,  # ticks along the bottom edge are off\n",
    "            top=False,  # ticks along the top edge are off\n",
    "            labelbottom=False)\n",
    "    if len(y_labels)==1 and len(y_labels[0]) == 0:\n",
    "        plt.tick_params(\n",
    "            axis='y',  # changes apply to the x-axis\n",
    "            which='both',  # both major and minor ticks are affected\n",
    "            left=False,  # ticks along the bottom edge are off\n",
    "            right=False,  # ticks along the top edge are off\n",
    "            labelbottom=False)\n",
    "\n",
    "    # make plot look pretty\n",
    "    ax.set_title(title, fontsize=14 * fontsize_factor)\n",
    "    if x_label:\n",
    "        ax.set_xlabel(x_label, fontsize=12 * fontsize_factor)\n",
    "    if y_label:\n",
    "        ax.set_ylabel(y_label, fontsize=12 * fontsize_factor)\n",
    "\n",
    "    # annotate with correlation values\n",
    "    numbers_set = [matrix_numbers] if not print_both_numbers else [matrix_numbers, matrix_colors]\n",
    "    for i in range(matrix_numbers.shape[1]):\n",
    "        for j in range(matrix_numbers.shape[0]):\n",
    "            point_color = float(matrix_colors[j][i])\n",
    "            white_cond = (point_color < 0.7 * vmin) or (point_color >= 0.7 * vmax) or np.isnan(point_color)\n",
    "            y_offset = 0.5\n",
    "            for m, matrix in enumerate(numbers_set):\n",
    "                if print_both_numbers:\n",
    "                    if m == 0:\n",
    "                        y_offset = 0.7\n",
    "                    elif m == 1:\n",
    "                        y_offset = 0.25\n",
    "                point = float(matrix[j][i])\n",
    "                label = 'NaN' if np.isnan(point) else '{0:.2f}'.format(point)\n",
    "                color = 'w' if white_cond else 'k'\n",
    "                ax.annotate(label, xy=(i + 0.5, j + y_offset), color=color, horizontalalignment='center',\n",
    "                            verticalalignment='center', fontsize=10 * fontsize_factor)\n",
    "\n",
    "    plt.tight_layout()\n"
   ]
  },
  {
   "cell_type": "code",
   "execution_count": 6,
   "id": "vocal-liability",
   "metadata": {},
   "outputs": [],
   "source": [
    "#plt.style.use('seaborn')\n",
    "plt.rcParams['text.color'] = 'black'\n",
    "plt.rcParams['figure.max_open_warning'] = 0\n",
    "colors = [i['color'] for i in plt.rcParams['axes.prop_cycle']]\n",
    "markers = ['o', 's', 'p', 'x', '^', '+', '*', '<', 'D', 'h', '>']\n",
    "%matplotlib inline"
   ]
  },
  {
   "cell_type": "code",
   "execution_count": 7,
   "id": "bbe61016-b31b-4f57-83bd-09d803a89e93",
   "metadata": {},
   "outputs": [],
   "source": [
    "plt.style.use('seaborn')"
   ]
  },
  {
   "cell_type": "markdown",
   "id": "dated-native",
   "metadata": {},
   "source": [
    "## Data set -- Fake insurance set"
   ]
  },
  {
   "cell_type": "code",
   "execution_count": 8,
   "id": "59fcb768-5feb-493b-b907-e5d857b662e6",
   "metadata": {},
   "outputs": [],
   "source": [
    "data_set = 'insurance'"
   ]
  },
  {
   "cell_type": "code",
   "execution_count": 9,
   "id": "meaningful-patio",
   "metadata": {},
   "outputs": [
    {
     "name": "stdout",
     "output_type": "stream",
     "text": [
      "<class 'pandas.core.frame.DataFrame'>\n",
      "RangeIndex: 2000 entries, 0 to 1999\n",
      "Data columns (total 5 columns):\n",
      " #   Column      Non-Null Count  Dtype  \n",
      "---  ------      --------------  -----  \n",
      " 0   car_color   2000 non-null   object \n",
      " 1   driver_age  2000 non-null   float64\n",
      " 2   area        2000 non-null   object \n",
      " 3   mileage     2000 non-null   float64\n",
      " 4   car_size    2000 non-null   object \n",
      "dtypes: float64(2), object(3)\n",
      "memory usage: 78.2+ KB\n"
     ]
    }
   ],
   "source": [
    "df = pd.read_csv('fake_insurance_data.csv.gz')\n",
    "df.info()"
   ]
  },
  {
   "cell_type": "code",
   "execution_count": 10,
   "id": "sunrise-explorer",
   "metadata": {},
   "outputs": [
    {
     "data": {
      "text/html": [
       "<div>\n",
       "<style scoped>\n",
       "    .dataframe tbody tr th:only-of-type {\n",
       "        vertical-align: middle;\n",
       "    }\n",
       "\n",
       "    .dataframe tbody tr th {\n",
       "        vertical-align: top;\n",
       "    }\n",
       "\n",
       "    .dataframe thead th {\n",
       "        text-align: right;\n",
       "    }\n",
       "</style>\n",
       "<table border=\"1\" class=\"dataframe\">\n",
       "  <thead>\n",
       "    <tr style=\"text-align: right;\">\n",
       "      <th></th>\n",
       "      <th>car_color</th>\n",
       "      <th>driver_age</th>\n",
       "      <th>area</th>\n",
       "      <th>mileage</th>\n",
       "      <th>car_size</th>\n",
       "    </tr>\n",
       "  </thead>\n",
       "  <tbody>\n",
       "    <tr>\n",
       "      <th>0</th>\n",
       "      <td>black</td>\n",
       "      <td>26.377219</td>\n",
       "      <td>suburbs</td>\n",
       "      <td>156806.288398</td>\n",
       "      <td>XXL</td>\n",
       "    </tr>\n",
       "    <tr>\n",
       "      <th>1</th>\n",
       "      <td>black</td>\n",
       "      <td>58.976840</td>\n",
       "      <td>suburbs</td>\n",
       "      <td>74400.323559</td>\n",
       "      <td>XL</td>\n",
       "    </tr>\n",
       "    <tr>\n",
       "      <th>2</th>\n",
       "      <td>multicolor</td>\n",
       "      <td>55.744988</td>\n",
       "      <td>downtown</td>\n",
       "      <td>267856.748015</td>\n",
       "      <td>XXL</td>\n",
       "    </tr>\n",
       "    <tr>\n",
       "      <th>3</th>\n",
       "      <td>metalic</td>\n",
       "      <td>57.629139</td>\n",
       "      <td>downtown</td>\n",
       "      <td>259028.249060</td>\n",
       "      <td>XXL</td>\n",
       "    </tr>\n",
       "    <tr>\n",
       "      <th>4</th>\n",
       "      <td>green</td>\n",
       "      <td>21.490637</td>\n",
       "      <td>downtown</td>\n",
       "      <td>110712.216080</td>\n",
       "      <td>XL</td>\n",
       "    </tr>\n",
       "  </tbody>\n",
       "</table>\n",
       "</div>"
      ],
      "text/plain": [
       "    car_color  driver_age      area        mileage car_size\n",
       "0       black   26.377219   suburbs  156806.288398      XXL\n",
       "1       black   58.976840   suburbs   74400.323559       XL\n",
       "2  multicolor   55.744988  downtown  267856.748015      XXL\n",
       "3     metalic   57.629139  downtown  259028.249060      XXL\n",
       "4       green   21.490637  downtown  110712.216080       XL"
      ]
     },
     "execution_count": 10,
     "metadata": {},
     "output_type": "execute_result"
    }
   ],
   "source": [
    "df.head()"
   ]
  },
  {
   "cell_type": "code",
   "execution_count": 11,
   "id": "grateful-viking",
   "metadata": {},
   "outputs": [],
   "source": [
    "N, M = df.shape"
   ]
  },
  {
   "cell_type": "code",
   "execution_count": 12,
   "id": "e75c0a4a-de65-4f4c-b4e9-0ee943545a9c",
   "metadata": {},
   "outputs": [],
   "source": [
    "num_cols = ['driver_age', 'mileage']\n",
    "cat_cols = ['car_color', 'area', 'car_size']\n",
    "rot_labels = ['car_color', 'area']"
   ]
  },
  {
   "cell_type": "code",
   "execution_count": 13,
   "id": "eb3a0141-a967-4c38-a62d-14aa69572b68",
   "metadata": {},
   "outputs": [],
   "source": [
    "subset_cols = ['driver_age', 'mileage', 'car_size']"
   ]
  },
  {
   "cell_type": "code",
   "execution_count": 14,
   "id": "88f24e4f-88ff-41c7-a690-4231095250b5",
   "metadata": {},
   "outputs": [],
   "source": [
    "ss = df.loc[:, subset_cols]\n",
    "\n",
    "N, M = ss.shape"
   ]
  },
  {
   "cell_type": "markdown",
   "id": "925db1d9-ae5a-4027-ab57-db9c556b0732",
   "metadata": {},
   "source": [
    "## Process data"
   ]
  },
  {
   "cell_type": "code",
   "execution_count": 15,
   "id": "3de1310d-5f65-490c-bf0a-e4abe04124be",
   "metadata": {},
   "outputs": [],
   "source": [
    "data_types = {'severity': 'interval',\n",
    "             'driver_age':'interval',\n",
    "             'satisfaction':'ordinal',\n",
    "             'mileage':'interval',\n",
    "             'car_size':'ordinal',\n",
    "             'car_use':'ordinal',\n",
    "             'car_color':'categorical',\n",
    "             'area':'categorical'}\n",
    "\n",
    "interval_cols = [col for col, v in data_types.items() if v=='interval' and col in df.columns]\n",
    "interval_cols\n",
    "num_cols_idx = [i for i, col in enumerate(df.columns) if data_types[col] == 'interval']\n",
    "cat_cols_idx = [i for i, col in enumerate(df.columns) if data_types[col] != 'interval']\n",
    "# interval_cols is used below\n",
    "\n",
    "size_map = {\n",
    "    'XS': 0,\n",
    "    'S': 1,\n",
    "    'M': 2,\n",
    "    'L': 3,\n",
    "    'XL': 4,\n",
    "    'XXL': 5 \n",
    "}\n",
    "\n",
    "\n",
    "area_map = {v: i for i, v in enumerate(df['area'].unique())}\n",
    "car_color_map = {v: i for i, v in enumerate(df['car_color'].unique())}\n",
    "\n",
    "rev_size_map = {v: k for k, v in size_map.items()}\n",
    "rev_area_map = {v: k for k, v in area_map.items()}\n",
    "rev_car_color_map = {v: k for k, v in car_color_map.items()}"
   ]
  },
  {
   "cell_type": "code",
   "execution_count": 16,
   "id": "1d585287-a651-4a3f-82af-ceb0e33c4a00",
   "metadata": {},
   "outputs": [],
   "source": [
    "df_num = df.replace(size_map).replace(area_map).replace(car_color_map)"
   ]
  },
  {
   "cell_type": "markdown",
   "id": "8cb9429b-f97f-4906-a6af-ac5d8049dd29",
   "metadata": {},
   "source": [
    "## Fit"
   ]
  },
  {
   "cell_type": "code",
   "execution_count": 17,
   "id": "64e470bd-8902-4149-a86d-b70aaf873a55",
   "metadata": {},
   "outputs": [],
   "source": [
    "from synthsonic.models.kde_copula_nn_pdf import KDECopulaNNPdf\n",
    "from sklearn.neural_network import MLPClassifier\n",
    "import xgboost as xgb"
   ]
  },
  {
   "cell_type": "code",
   "execution_count": 18,
   "id": "71193d61-7e50-4ca3-9764-791243b11b14",
   "metadata": {},
   "outputs": [],
   "source": [
    "import logging \n",
    "logging.basicConfig(level=logging.INFO)"
   ]
  },
  {
   "cell_type": "code",
   "execution_count": 19,
   "id": "859418c9-c963-42f5-82c9-487305946d9c",
   "metadata": {},
   "outputs": [],
   "source": [
    "clf = xgb.XGBClassifier(\n",
    "    n_estimators=100,\n",
    "    reg_lambda=1,\n",
    "    gamma=0,\n",
    "    max_depth=5\n",
    ")"
   ]
  },
  {
   "cell_type": "code",
   "execution_count": 20,
   "id": "3896ec09-a15d-4c07-9cca-fbda9a3a2f3b",
   "metadata": {},
   "outputs": [],
   "source": [
    "kde = KDECopulaNNPdf(use_KDE=False, n_uniform_bins=50, numerical_columns=num_cols_idx, categorical_columns=cat_cols_idx, n_quantiles=200)"
   ]
  },
  {
   "cell_type": "code",
   "execution_count": 21,
   "id": "3ec88a3c-7a9c-49b9-9a7a-4a30c195323d",
   "metadata": {},
   "outputs": [
    {
     "name": "stderr",
     "output_type": "stream",
     "text": [
      "INFO:KDECopulaNNPdf:Processing 2 numerical and 3 categorical columns\n",
      "INFO:KDECopulaNNPdf:Transforming numerical variables.\n",
      "INFO:KDECopulaNNPdf:Configuring Bayesian Network (cat+num).\n",
      "INFO:KDECopulaNNPdf:n_uniform_bins = 50\n",
      "Building tree: 100%|██████████| 6/6.0 [00:00<00:00, 2422.12it/s]\n",
      "INFO:KDECopulaNNPdf:Configuring classifier.\n",
      "INFO:KDECopulaNNPdf:Generating 251300 data points.\n",
      "Generating for node: 2: 100%|██████████| 5/5 [00:12<00:00,  2.44s/it]\n",
      "INFO:KDECopulaNNPdf:Fitting discriminative learner: selected 5 features.\n",
      "INFO:KDECopulaNNPdf:Calibrating classifier.\n",
      "INFO:KDECopulaNNPdf:N_bins = 12\n",
      "INFO:KDECopulaNNPdf:Maximum weight found: 1.8290336016133901\n"
     ]
    }
   ],
   "source": [
    "kde = kde.fit(df_num.values)"
   ]
  },
  {
   "cell_type": "markdown",
   "id": "b9fcd13f-5ee3-4cce-a7f9-f5ee9551b588",
   "metadata": {},
   "source": [
    "## Generate weighted sample"
   ]
  },
  {
   "cell_type": "code",
   "execution_count": 22,
   "id": "f1d47d9c-d984-4ed1-b9e2-4f59dddf8df4",
   "metadata": {},
   "outputs": [],
   "source": [
    "X_gen = kde.sample_no_weights(n_samples=df_num.shape[0])\n",
    "df_gen = pd.DataFrame(X_gen, columns=df.columns)\n",
    "df_gen.loc[:, 'car_color'].replace(rev_car_color_map, inplace=True)\n",
    "df_gen.loc[:, 'car_size'].replace(rev_size_map, inplace=True)\n",
    "df_gen.loc[:, 'area'].replace(rev_area_map, inplace=True)\n",
    "\n",
    "# Phik\n",
    "phik_overview_gen = phik.phik_matrix(df_gen, interval_cols=interval_cols)"
   ]
  },
  {
   "cell_type": "markdown",
   "id": "246b4926-6af4-4239-bf1e-b5698bb0831b",
   "metadata": {},
   "source": [
    "## Sample without classifier"
   ]
  },
  {
   "cell_type": "code",
   "execution_count": 23,
   "id": "29e0a779-be95-4206-97dd-b1a8263f1882",
   "metadata": {},
   "outputs": [],
   "source": [
    "X_gen_unw, _ = kde.sample(n_samples=df_num.shape[0])"
   ]
  },
  {
   "cell_type": "code",
   "execution_count": 24,
   "id": "400aa488-df00-4861-b3c7-936255bffe19",
   "metadata": {},
   "outputs": [],
   "source": [
    "df_gen_unw = pd.DataFrame(X_gen_unw, columns=df.columns)\n",
    "df_gen_unw.loc[:, 'car_color'].replace(rev_car_color_map, inplace=True)\n",
    "df_gen_unw.loc[:, 'car_size'].replace(rev_size_map, inplace=True)\n",
    "df_gen_unw.loc[:, 'area'].replace(rev_area_map, inplace=True)\n",
    "\n",
    "phik_overview_gen_unw = phik.phik_matrix(df_gen_unw, interval_cols=interval_cols)"
   ]
  },
  {
   "cell_type": "markdown",
   "id": "1fbe82ef-3064-411a-84a4-eb83ec6cb670",
   "metadata": {},
   "source": [
    "## PhiK plots"
   ]
  },
  {
   "cell_type": "code",
   "execution_count": 25,
   "id": "0addce75-bceb-4432-a9d2-2cd4ee90ed89",
   "metadata": {},
   "outputs": [],
   "source": [
    "phik_overview = phik.phik_matrix(df, interval_cols=interval_cols)"
   ]
  },
  {
   "cell_type": "code",
   "execution_count": 26,
   "id": "0dbe0daa-ac67-4c97-b540-0f01dc49a997",
   "metadata": {},
   "outputs": [
    {
     "data": {
      "image/png": "[encoded data removed]",
      "text/plain": [
       "<Figure size 576x396 with 1 Axes>"
      ]
     },
     "metadata": {},
     "output_type": "display_data"
    },
    {
     "data": {
      "image/png": "[encoded data removed]",
      "text/plain": [
       "<Figure size 1512x396 with 4 Axes>"
      ]
     },
     "metadata": {},
     "output_type": "display_data"
    }
   ],
   "source": [
    "vmin = 0\n",
    "vmax = 1\n",
    "color_map = 'Blues'\n",
    "norm = plt_colors.Normalize(vmin=vmin, vmax=vmax)\n",
    "img = plt.pcolormesh(phik_overview.values, cmap=color_map, edgecolor='w', linewidth=1, norm=norm);\n",
    "\n",
    "fig, axs = plt.subplots(ncols=3, sharey=True, figsize=(21, 5.5))\n",
    "plot_correlation_matrix(\n",
    "    phik_overview.values,\n",
    "    fig=fig,\n",
    "    ax=axs[0],\n",
    "    x_labels=phik_overview.columns,\n",
    "    y_labels=phik_overview.index, \n",
    "    vmin=vmin,\n",
    "    vmax=vmax,\n",
    "    color_map=color_map,\n",
    "    title=r'$\\phi_K$ original data',\n",
    "    fontsize_factor=1.5,\n",
    ")\n",
    "\n",
    "plot_correlation_matrix(\n",
    "    phik_overview_gen_unw.values,\n",
    "    fig=fig,\n",
    "    ax=axs[1],\n",
    "    x_labels=phik_overview.columns,\n",
    "    y_labels=phik_overview.index, \n",
    "    vmin=vmin,\n",
    "    vmax=vmax,\n",
    "    color_map=color_map,\n",
    "    title=r'$\\phi_K$ unweighted sample',\n",
    "    fontsize_factor=1.5,\n",
    ")\n",
    "\n",
    "plot_correlation_matrix(\n",
    "    phik_overview_gen.values,\n",
    "    fig=fig,\n",
    "    ax=axs[2],\n",
    "    x_labels=phik_overview.columns,\n",
    "    y_labels=phik_overview.index, \n",
    "    vmin=vmin,\n",
    "    vmax=vmax,\n",
    "    color_map=color_map,\n",
    "    title=r'$\\phi_K$ weighted sample',\n",
    "    fontsize_factor=1.5,\n",
    ")\n",
    "cb = fig.colorbar(img)\n",
    "cb.ax.tick_params(labelsize=15)\n",
    "fig.savefig(f'{data_set}_phik_gen_sample.png', dpi=300)"
   ]
  },
  {
   "cell_type": "markdown",
   "id": "73695db8-4b82-4de0-a990-aee1ff669650",
   "metadata": {},
   "source": [
    "## Check significance"
   ]
  },
  {
   "cell_type": "code",
   "execution_count": 27,
   "id": "12aa9956-de3d-476e-b940-fa93a49540ac",
   "metadata": {},
   "outputs": [],
   "source": [
    "from phik.report import plot_correlation_matrix as phi_plot_correlation_matrix"
   ]
  },
  {
   "cell_type": "code",
   "execution_count": 28,
   "id": "58493c66-a654-4c88-af92-399f1bf3d71a",
   "metadata": {},
   "outputs": [],
   "source": [
    "import scipy"
   ]
  },
  {
   "cell_type": "code",
   "execution_count": 29,
   "id": "90f977f4-1a77-4b69-962e-ff1f49991d32",
   "metadata": {},
   "outputs": [],
   "source": [
    "phik_overview_gen_unw_corr = phik_overview_gen_unw.copy()\n",
    "sign_unw = phik.significance_matrix(df_gen_unw, interval_cols=interval_cols)\n",
    "phik_overview_gen_unw_corr.values[scipy.stats.norm.sf(np.abs(sign_unw.values)) * 2 > 0.05] = 0.0"
   ]
  },
  {
   "cell_type": "code",
   "execution_count": 30,
   "id": "0c9cf9dc-e41b-4688-99d0-f3946c1565d8",
   "metadata": {},
   "outputs": [],
   "source": [
    "phik_overview_gen_corr = phik_overview_gen.copy()\n",
    "sign = phik.significance_matrix(df_gen, interval_cols=interval_cols)\n",
    "phik_overview_gen_corr.values[scipy.stats.norm.sf(np.abs(sign.values)) * 2 > 0.05] = 0.0"
   ]
  },
  {
   "cell_type": "code",
   "execution_count": 31,
   "id": "e7ce52b5-b03d-4f3b-a037-925ec7b90c83",
   "metadata": {},
   "outputs": [
    {
     "data": {
      "image/png": "[encoded data removed]",
      "text/plain": [
       "<Figure size 576x396 with 1 Axes>"
      ]
     },
     "metadata": {},
     "output_type": "display_data"
    },
    {
     "data": {
      "image/png": "[encoded data removed]",
      "text/plain": [
       "<Figure size 1512x396 with 4 Axes>"
      ]
     },
     "metadata": {},
     "output_type": "display_data"
    }
   ],
   "source": [
    "vmin = 0\n",
    "vmax = 1\n",
    "color_map = 'Blues'\n",
    "norm = plt_colors.Normalize(vmin=vmin, vmax=vmax)\n",
    "img = plt.pcolormesh(phik_overview.values, cmap=color_map, edgecolor='w', linewidth=1, norm=norm);\n",
    "\n",
    "fig, axs = plt.subplots(ncols=3, sharey=True, figsize=(21, 5.5))\n",
    "plot_correlation_matrix(\n",
    "    phik_overview.values,\n",
    "    fig=fig,\n",
    "    ax=axs[0],\n",
    "    x_labels=phik_overview.columns,\n",
    "    y_labels=phik_overview.index, \n",
    "    vmin=vmin,\n",
    "    vmax=vmax,\n",
    "    color_map=color_map,\n",
    "    title=r'$\\phi_K$ original data',\n",
    "    fontsize_factor=1.5,\n",
    ")\n",
    "\n",
    "plot_correlation_matrix(\n",
    "    phik_overview_gen_unw_corr.values,\n",
    "    fig=fig,\n",
    "    ax=axs[1],\n",
    "    x_labels=phik_overview.columns,\n",
    "    y_labels=phik_overview.index, \n",
    "    vmin=vmin,\n",
    "    vmax=vmax,\n",
    "    color_map=color_map,\n",
    "    title=r'$\\phi_K$ unweighted sample',\n",
    "    fontsize_factor=1.5,\n",
    ")\n",
    "\n",
    "plot_correlation_matrix(\n",
    "    phik_overview_gen_corr.values,\n",
    "    fig=fig,\n",
    "    ax=axs[2],\n",
    "    x_labels=phik_overview.columns,\n",
    "    y_labels=phik_overview.index, \n",
    "    vmin=vmin,\n",
    "    vmax=vmax,\n",
    "    color_map=color_map,\n",
    "    title=r'$\\phi_K$ weighted sample',\n",
    "    fontsize_factor=1.5,\n",
    ")\n",
    "cb = fig.colorbar(img)\n",
    "cb.ax.tick_params(labelsize=15)"
   ]
  },
  {
   "cell_type": "markdown",
   "id": "8c998e65-9f46-4547-b217-db9da11d97f9",
   "metadata": {},
   "source": [
    "## Remaining structure per step"
   ]
  },
  {
   "cell_type": "code",
   "execution_count": 32,
   "id": "91a50453-3dce-4324-b6e5-d16d473f1225",
   "metadata": {},
   "outputs": [],
   "source": [
    "from sklearn.utils import check_array\n",
    "from sklearn.utils.validation import FLOAT_DTYPES # check_is_fitted, _deprecate_positional_args"
   ]
  },
  {
   "cell_type": "code",
   "execution_count": 33,
   "id": "1df35138-603f-4351-8071-a5d30fba2927",
   "metadata": {},
   "outputs": [],
   "source": [
    "X = df_num.values"
   ]
  },
  {
   "cell_type": "code",
   "execution_count": 34,
   "id": "d3508aa0-e1cd-47ec-912c-75365a287883",
   "metadata": {},
   "outputs": [],
   "source": [
    "X_cat = X[:, kde.categorical_columns]\n",
    "X_num = X[:, kde.numerical_columns]\n",
    "if len(kde.numerical_columns) > 0:\n",
    "    X_num = check_array(X_num, copy=False, dtype=FLOAT_DTYPES, force_all_finite=\"allow-nan\")\n",
    "\n",
    "# sample profiles\n",
    "n_samples, n_features = X_num.shape\n",
    "X_uniform = kde.pipe_.transform(X_num)\n",
    "\n",
    "# discretize continuous variables; use these as input to model bayesian network\n",
    "bin_width = 1. / kde.n_uniform_bins\n",
    "X_num_discrete = np.floor(X_uniform / bin_width)\n",
    "X_num_discrete[X_num_discrete >= kde.n_uniform_bins] = kde.n_uniform_bins - 1  # correct for values at 1.\n",
    "# joining cat and num-discrete, then reorder to original order\n",
    "X_discrete = kde._join_and_reorder(X_cat, X_num_discrete, kde.categorical_columns, kde.numerical_columns)"
   ]
  },
  {
   "cell_type": "code",
   "execution_count": 35,
   "id": "36040ea7-eca7-4135-af90-3ceea1d5b828",
   "metadata": {},
   "outputs": [],
   "source": [
    "rem_discrete = X.copy()\n",
    "rem_discrete[:, [1, 3]] = X_uniform.squeeze()"
   ]
  },
  {
   "cell_type": "code",
   "execution_count": 36,
   "id": "78a9a611-e5c5-40b9-9359-e2fe65af5f42",
   "metadata": {},
   "outputs": [],
   "source": [
    "df_discrete = pd.DataFrame(rem_discrete, columns=df.columns)\n",
    "df_discrete.loc[:, 'car_color'] = df_discrete.loc[:, 'car_color'].astype(np.int64).replace(rev_car_color_map)\n",
    "df_discrete.loc[:, 'car_size'] = df_discrete.loc[:, 'car_size'].astype(np.int64).replace(rev_size_map)\n",
    "df_discrete.loc[:, 'area'] = df_discrete.loc[:, 'area'].astype(np.int64).replace(rev_area_map)\n",
    "\n",
    "phik_discrete = phik.phik_matrix(df_discrete, interval_cols=interval_cols)"
   ]
  },
  {
   "cell_type": "markdown",
   "id": "604e994b-2013-457c-b044-7049cc485546",
   "metadata": {},
   "source": [
    "### Bayesian Network"
   ]
  },
  {
   "cell_type": "code",
   "execution_count": 37,
   "id": "64d8959d-2db6-4bc0-9d5e-ae70f92734f5",
   "metadata": {},
   "outputs": [
    {
     "name": "stderr",
     "output_type": "stream",
     "text": [
      "100%|██████████| 1859/1859 [00:19<00:00, 97.48it/s] \n",
      "100%|██████████| 1209/1209 [00:11<00:00, 108.27it/s]\n",
      "100%|██████████| 1919/1919 [00:17<00:00, 111.38it/s]\n",
      "100%|██████████| 1198/1198 [00:10<00:00, 108.95it/s]\n",
      "100%|██████████| 1942/1942 [00:16<00:00, 114.76it/s]\n"
     ]
    }
   ],
   "source": [
    "X_df_discrete = pd.DataFrame(X_discrete, columns=[str(i) for i in range(df.shape[1])])\n",
    "\n",
    "X_bn_pred = pd.DataFrame(columns=X_df_discrete.columns)\n",
    "for c in X_bn_pred.columns:\n",
    "    X_bn_pred[c] = kde.bn.predict(X_df_discrete.drop(c, axis=1), stochastic=False).values.flatten()"
   ]
  },
  {
   "cell_type": "code",
   "execution_count": 38,
   "id": "1d131af6-49b6-4701-9210-6f24d011a647",
   "metadata": {},
   "outputs": [],
   "source": [
    "X_bn_pred.columns = [int(i) for i in X_bn_pred.columns]\n",
    "\n",
    "bin_width = 1. / kde.n_uniform_bins\n",
    "X_rand = np.random.uniform(low=0., high=bin_width, size=(X_bn_pred.shape[0], len(kde.numerical_columns)))\n",
    "X_bn_pred.loc[:, kde.numerical_columns] = X_bn_pred.loc[:, kde.numerical_columns] * bin_width + X_rand\n",
    "X_bn_pred.loc[:, kde.numerical_columns] = kde.pipe_.inverse_transform(X_bn_pred.loc[:, kde.numerical_columns])\n",
    "X_bn_pred.columns = df_num.columns\n",
    "\n",
    "X_bn = X_bn_pred.copy()\n",
    "\n",
    "for i, c in enumerate(X_bn_pred.columns):\n",
    "    X_bn.loc[:, c] = X[:, i] - X_bn_pred.loc[:, c].values\n",
    "\n",
    "X_bn.columns = df.columns\n",
    "X_bn.loc[:, 'car_color'] = X_bn.loc[:, 'car_color'].astype(np.int64).replace(rev_car_color_map)\n",
    "X_bn.loc[:, 'car_size'] = X_bn.loc[:, 'car_size'].astype(np.int64).replace(rev_size_map)\n",
    "X_bn.loc[:, 'area'] = X_bn.loc[:, 'area'].astype(np.int64).replace(rev_area_map)\n",
    "\n",
    "phik_bn = phik.phik_matrix(X_bn, interval_cols=interval_cols)\n",
    "\n",
    "X_bn_pred.loc[:, 'car_color'] = X_bn_pred.loc[:, 'car_color'].astype(np.int64)\n",
    "X_bn_pred.loc[:, 'car_size'] = X_bn_pred.loc[:, 'car_size'].astype(np.int64)\n",
    "X_bn_pred.loc[:, 'area'] = X_bn_pred.loc[:, 'area'].astype(np.int64)"
   ]
  },
  {
   "cell_type": "markdown",
   "id": "e2e1c515-c247-415e-84e3-0d5a869ea074",
   "metadata": {},
   "source": [
    "## Weighted sample"
   ]
  },
  {
   "cell_type": "code",
   "execution_count": 39,
   "id": "d1a3fa70-bfd9-44ee-9020-2b4839bd4ab9",
   "metadata": {},
   "outputs": [],
   "source": [
    "sample_weights = kde._scale(X_bn_pred.values[:, kde.nonlinear_indices_])\n",
    "sample_weights /= np.sum(sample_weights)\n",
    "rand_ind = np.random.choice(np.arange(0, df.shape[0]), size=df.shape[0], replace=True, p=sample_weights)\n",
    "phik_wght = phik.phik_matrix(X_bn.loc[rand_ind], interval_cols=interval_cols)"
   ]
  },
  {
   "cell_type": "code",
   "execution_count": 40,
   "id": "7000a197-37e2-4483-ada4-43eb4535551a",
   "metadata": {},
   "outputs": [
    {
     "ename": "TypeError",
     "evalue": "'AxesSubplot' object is not subscriptable",
     "output_type": "error",
     "traceback": [
      "\u001b[0;31m---------------------------------------------------------------------------\u001b[0m",
      "\u001b[0;31mTypeError\u001b[0m                                 Traceback (most recent call last)",
      "\u001b[0;32m<ipython-input-40-1097780ba6ce>\u001b[0m in \u001b[0;36m<module>\u001b[0;34m\u001b[0m\n\u001b[1;32m      9\u001b[0m     \u001b[0mphik_overview\u001b[0m\u001b[0;34m.\u001b[0m\u001b[0mvalues\u001b[0m\u001b[0;34m,\u001b[0m\u001b[0;34m\u001b[0m\u001b[0;34m\u001b[0m\u001b[0m\n\u001b[1;32m     10\u001b[0m     \u001b[0mfig\u001b[0m\u001b[0;34m=\u001b[0m\u001b[0mfig\u001b[0m\u001b[0;34m,\u001b[0m\u001b[0;34m\u001b[0m\u001b[0;34m\u001b[0m\u001b[0m\n\u001b[0;32m---> 11\u001b[0;31m     \u001b[0max\u001b[0m\u001b[0;34m=\u001b[0m\u001b[0maxs\u001b[0m\u001b[0;34m[\u001b[0m\u001b[0;36m0\u001b[0m\u001b[0;34m]\u001b[0m\u001b[0;34m,\u001b[0m\u001b[0;34m\u001b[0m\u001b[0;34m\u001b[0m\u001b[0m\n\u001b[0m\u001b[1;32m     12\u001b[0m     \u001b[0mx_labels\u001b[0m\u001b[0;34m=\u001b[0m\u001b[0mphik_overview\u001b[0m\u001b[0;34m.\u001b[0m\u001b[0mcolumns\u001b[0m\u001b[0;34m,\u001b[0m\u001b[0;34m\u001b[0m\u001b[0;34m\u001b[0m\u001b[0m\n\u001b[1;32m     13\u001b[0m     \u001b[0my_labels\u001b[0m\u001b[0;34m=\u001b[0m\u001b[0mphik_overview\u001b[0m\u001b[0;34m.\u001b[0m\u001b[0mindex\u001b[0m\u001b[0;34m,\u001b[0m\u001b[0;34m\u001b[0m\u001b[0;34m\u001b[0m\u001b[0m\n",
      "\u001b[0;31mTypeError\u001b[0m: 'AxesSubplot' object is not subscriptable"
     ]
    },
    {
     "data": {
      "image/png": "[encoded data removed]",
      "text/plain": [
       "<Figure size 576x396 with 1 Axes>"
      ]
     },
     "metadata": {},
     "output_type": "display_data"
    },
    {
     "data": {
      "image/png": "[encoded data removed]",
      "text/plain": [
       "<Figure size 504x504 with 1 Axes>"
      ]
     },
     "metadata": {},
     "output_type": "display_data"
    }
   ],
   "source": [
    "vmin = 0\n",
    "vmax = 1\n",
    "color_map = 'Blues'\n",
    "norm = plt_colors.Normalize(vmin=vmin, vmax=vmax)\n",
    "img = plt.pcolormesh(phik_overview.values, cmap=color_map, edgecolor='w', linewidth=1, norm=norm);\n",
    "\n",
    "fig, axs = plt.subplots(figsize=(7, 7))\n",
    "plot_correlation_matrix(\n",
    "    phik_overview.values,\n",
    "    fig=fig,\n",
    "    ax=axs[0],\n",
    "    x_labels=phik_overview.columns,\n",
    "    y_labels=phik_overview.index, \n",
    "    vmin=vmin,\n",
    "    vmax=vmax,\n",
    "    color_map=color_map,\n",
    "    title=r'$\\phi_K$ original data',\n",
    "    fontsize_factor=1.5,\n",
    ")"
   ]
  },
  {
   "cell_type": "code",
   "execution_count": null,
   "id": "6b2f7006-f5d0-4d9f-bb88-ba20c7812dbd",
   "metadata": {},
   "outputs": [],
   "source": [
    "vmin = 0\n",
    "vmax = 1\n",
    "color_map = 'Blues'\n",
    "norm = plt_colors.Normalize(vmin=vmin, vmax=vmax)\n",
    "img = plt.pcolormesh(phik_overview.values, cmap=color_map, edgecolor='w', linewidth=1, norm=norm);\n",
    "\n",
    "fig, axs = plt.subplots(ncols=3, sharey=True, figsize=(21, 5.5))\n",
    "plot_correlation_matrix(\n",
    "    phik_overview.values,\n",
    "    fig=fig,\n",
    "    ax=axs[0],\n",
    "    x_labels=phik_overview.columns,\n",
    "    y_labels=phik_overview.index, \n",
    "    vmin=vmin,\n",
    "    vmax=vmax,\n",
    "    color_map=color_map,\n",
    "    title=r'$\\phi_K$ original data',\n",
    "    fontsize_factor=1.5,\n",
    ")\n",
    "\n",
    "plot_correlation_matrix(\n",
    "    phik_bn.values,\n",
    "    fig=fig,\n",
    "    ax=axs[1],\n",
    "    x_labels=phik_overview.columns,\n",
    "    y_labels=phik_overview.index, \n",
    "    vmin=vmin,\n",
    "    vmax=vmax,\n",
    "    color_map=color_map,\n",
    "    title=r'$\\phi_K$ post Bayesian Network',\n",
    "    fontsize_factor=1.5,\n",
    ")\n",
    "\n",
    "plot_correlation_matrix(\n",
    "    phik_wght.values,\n",
    "    fig=fig,\n",
    "    ax=axs[2],\n",
    "    x_labels=phik_overview.columns,\n",
    "    y_labels=phik_overview.index, \n",
    "    vmin=vmin,\n",
    "    vmax=vmax,\n",
    "    color_map=color_map,\n",
    "    title=r'$\\phi_K$ post callibrated learner',\n",
    "    fontsize_factor=1.5,\n",
    ")\n",
    "cb = fig.colorbar(img)\n",
    "cb.ax.tick_params(labelsize=15)\n",
    "fig.savefig(f'{data_set}_phik_remaining_structure.png', dpi=300)"
   ]
  },
  {
   "cell_type": "code",
   "execution_count": null,
   "id": "584109f5-11fe-4a42-a61f-622232ca09ff",
   "metadata": {},
   "outputs": [],
   "source": []
  }
 ],
 "metadata": {
  "kernelspec": {
   "display_name": "Python 3",
   "language": "python",
   "name": "python3"
  },
  "language_info": {
   "codemirror_mode": {
    "name": "ipython",
    "version": 3
   },
   "file_extension": ".py",
   "mimetype": "text/x-python",
   "name": "python",
   "nbconvert_exporter": "python",
   "pygments_lexer": "ipython3",
   "version": "3.8.5"
  }
 },
 "nbformat": 4,
 "nbformat_minor": 5
}
